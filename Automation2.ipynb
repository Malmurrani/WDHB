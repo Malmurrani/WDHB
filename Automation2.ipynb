{
 "cells": [
  {
   "cell_type": "code",
   "execution_count": null,
   "metadata": {},
   "outputs": [],
   "source": []
  },
  {
   "cell_type": "code",
   "execution_count": 10,
   "metadata": {
    "execution": {
     "iopub.execute_input": "2021-08-30T23:08:20.859949Z",
     "iopub.status.busy": "2021-08-30T23:08:20.858949Z",
     "iopub.status.idle": "2021-08-30T23:08:20.863949Z",
     "shell.execute_reply": "2021-08-30T23:08:20.862949Z"
    }
   },
   "outputs": [],
   "source": [
    "#import schedule\n",
    "#import time\n",
    "#schedule.every(2).minutes.do(show_name)\n",
    "#while 1:\n",
    "    #schedule.run_pending()\n",
    "    #time.sleep(1)"
   ]
  },
  {
   "cell_type": "markdown",
   "metadata": {},
   "source": [
    "# This report is daily for the Month of"
   ]
  },
  {
   "cell_type": "code",
   "execution_count": 2,
   "metadata": {
    "execution": {
     "iopub.execute_input": "2021-08-30T23:08:20.870949Z",
     "iopub.status.busy": "2021-08-30T23:08:20.869949Z",
     "iopub.status.idle": "2021-08-30T23:08:20.872949Z",
     "shell.execute_reply": "2021-08-30T23:08:20.873949Z"
    }
   },
   "outputs": [],
   "source": [
    "#def show_name():\n",
    "    #import pandas as pd\n",
    "    #df1=pd.read_excel('G:/Funding Team/Planning\\Health Information/HIAT/Mazin/Copy of Report August 27.xlsx', sheet_name = 'Overall', skiprows = 7,  nrows= 6, usecols = 'B:G')\n",
    "    #df2=df1.drop(columns=['At least one dose', 'Two doses'])\n",
    "    #df2['% At least one dose'] = pd.Series([\"{0:.1f}%\".format(val * 100) for val in df2['% At least one dose']], index = df2.index)\n",
    "    #df2['% Two doses'] = pd.Series([\"{0:.1f}%\".format(val * 100) for val in df2['% Two doses']], index = df2.index)\n",
    "    #df2=df2.rename(columns={'Unnamed: 1' : ''})\n",
    "#Table Title\n",
    "    #df2.to_html(open('F:/my_file.html', 'w'))\n",
    "#working very nice\n",
    "#schedule.every(2).minutes.do(show_name)\n",
    "#while 1:\n",
    "    #schedule.run_pending()\n",
    "    #time.sleep(1)"
   ]
  },
  {
   "cell_type": "code",
   "execution_count": 1,
   "metadata": {
    "execution": {
     "iopub.execute_input": "2021-08-30T23:08:20.877949Z",
     "iopub.status.busy": "2021-08-30T23:08:20.877949Z",
     "iopub.status.idle": "2021-08-30T23:08:21.475949Z",
     "shell.execute_reply": "2021-08-30T23:08:21.476949Z"
    }
   },
   "outputs": [
    {
     "data": {
      "text/html": [
       "<div>\n",
       "<style scoped>\n",
       "    .dataframe tbody tr th:only-of-type {\n",
       "        vertical-align: middle;\n",
       "    }\n",
       "\n",
       "    .dataframe tbody tr th {\n",
       "        vertical-align: top;\n",
       "    }\n",
       "\n",
       "    .dataframe thead th {\n",
       "        text-align: right;\n",
       "    }\n",
       "</style>\n",
       "<table border=\"1\" class=\"dataframe\">\n",
       "  <thead>\n",
       "    <tr style=\"text-align: right;\">\n",
       "      <th></th>\n",
       "      <th></th>\n",
       "      <th>Total enrolled (aged 12 and over)</th>\n",
       "      <th>% At least one dose</th>\n",
       "      <th>% Two doses</th>\n",
       "    </tr>\n",
       "  </thead>\n",
       "  <tbody>\n",
       "    <tr>\n",
       "      <th>0</th>\n",
       "      <td>Northern Region</td>\n",
       "      <td>1491419</td>\n",
       "      <td>47.0%</td>\n",
       "      <td>27.2%</td>\n",
       "    </tr>\n",
       "    <tr>\n",
       "      <th>1</th>\n",
       "      <td>Metro Auckland</td>\n",
       "      <td>1339037</td>\n",
       "      <td>47.3%</td>\n",
       "      <td>27.1%</td>\n",
       "    </tr>\n",
       "    <tr>\n",
       "      <th>2</th>\n",
       "      <td>Northland</td>\n",
       "      <td>152382</td>\n",
       "      <td>44.3%</td>\n",
       "      <td>28.1%</td>\n",
       "    </tr>\n",
       "    <tr>\n",
       "      <th>3</th>\n",
       "      <td>Auckland</td>\n",
       "      <td>392592</td>\n",
       "      <td>49.5%</td>\n",
       "      <td>27.9%</td>\n",
       "    </tr>\n",
       "    <tr>\n",
       "      <th>4</th>\n",
       "      <td>Waitemata</td>\n",
       "      <td>497264</td>\n",
       "      <td>44.0%</td>\n",
       "      <td>23.1%</td>\n",
       "    </tr>\n",
       "    <tr>\n",
       "      <th>5</th>\n",
       "      <td>Counties Manukau</td>\n",
       "      <td>449181</td>\n",
       "      <td>49.1%</td>\n",
       "      <td>30.7%</td>\n",
       "    </tr>\n",
       "  </tbody>\n",
       "</table>\n",
       "</div>"
      ],
      "text/plain": [
       "                     Total enrolled (aged 12 and over) % At least one dose  \\\n",
       "0   Northern Region                            1491419               47.0%   \n",
       "1    Metro Auckland                            1339037               47.3%   \n",
       "2         Northland                             152382               44.3%   \n",
       "3          Auckland                             392592               49.5%   \n",
       "4         Waitemata                             497264               44.0%   \n",
       "5  Counties Manukau                             449181               49.1%   \n",
       "\n",
       "  % Two doses  \n",
       "0       27.2%  \n",
       "1       27.1%  \n",
       "2       28.1%  \n",
       "3       27.9%  \n",
       "4       23.1%  \n",
       "5       30.7%  "
      ]
     },
     "execution_count": 1,
     "metadata": {},
     "output_type": "execute_result"
    }
   ],
   "source": [
    "import pandas as pd\n",
    "df1=pd.read_excel('G:/Funding Team/Planning\\Health Information/HIAT/Mazin/Copy of Report August 27.xlsx', sheet_name = 'Overall', skiprows = 7,  nrows= 6, usecols = 'B:G')\n",
    "df2=df1.drop(columns=['At least one dose', 'Two doses'])\n",
    "df2['% At least one dose'] = pd.Series([\"{0:.1f}%\".format(val * 100) for val in df2['% At least one dose']], index = df2.index)\n",
    "df2['% Two doses'] = pd.Series([\"{0:.1f}%\".format(val * 100) for val in df2['% Two doses']], index = df2.index)\n",
    "df2=df2.rename(columns={'Unnamed: 1' : ''})\n",
    "#Table Title\n",
    "#df2.to_html(open('F:/my_file2.html', 'w'))\n",
    "df2\n"
   ]
  },
  {
   "cell_type": "code",
   "execution_count": 2,
   "metadata": {},
   "outputs": [
    {
     "data": {
      "text/html": [
       "<script>\n",
       "code_show=true; \n",
       "function code_toggle() {\n",
       " if (code_show){\n",
       " $('div.input').hide();\n",
       " } else {\n",
       " $('div.input').show();\n",
       " }\n",
       " code_show = !code_show\n",
       "} \n",
       "$( document ).ready(code_toggle);\n",
       "</script>\n",
       "The raw code for this IPython notebook is by default hidden for easier reading.\n",
       "To toggle on/off the raw code, click <a href=\"javascript:code_toggle()\">here</a>."
      ],
      "text/plain": [
       "<IPython.core.display.HTML object>"
      ]
     },
     "execution_count": 2,
     "metadata": {},
     "output_type": "execute_result"
    }
   ],
   "source": [
    "from IPython.display import HTML\n",
    "HTML('''<script>\n",
    "code_show=true; \n",
    "function code_toggle() {\n",
    " if (code_show){\n",
    " $('div.input').hide();\n",
    " } else {\n",
    " $('div.input').show();\n",
    " }\n",
    " code_show = !code_show\n",
    "} \n",
    "$( document ).ready(code_toggle);\n",
    "</script>\n",
    "The raw code for this IPython notebook is by default hidden for easier reading.\n",
    "To toggle on/off the raw code, click <a href=\"javascript:code_toggle()\">here</a>.''')\n"
   ]
  },
  {
   "cell_type": "code",
   "execution_count": 6,
   "metadata": {},
   "outputs": [],
   "source": [
    "#the two codes will save as html\n",
    "\n",
    "from IPython.display import Javascript\n",
    "\n",
    "from nbconvert import HTMLExporter\n",
    "\n",
    "def save_notebook():\n",
    "    display(Javascript(\"IPython.notebook.save_notebook()\"),include=['application/javascript'])\n",
    "\n",
    "def output_HTML(read_file, output_file):\n",
    "    import codecs\n",
    "    import nbformat\n",
    "\n",
    "    exporter = HTMLExporter()\n",
    "\n",
    "# read_file is '.ipynb', output_file is '.html'\n",
    "\n",
    "    output_notebook = nbformat.read(read_file, as_version=4)\n",
    "\n",
    "    output, resources = exporter.from_notebook_node(output_notebook)\n",
    "\n",
    "    codecs.open(output_file, 'w', encoding='utf-8').write(output)\n"
   ]
  },
  {
   "cell_type": "code",
   "execution_count": 7,
   "metadata": {},
   "outputs": [
    {
     "data": {
      "application/javascript": [
       "IPython.notebook.save_notebook()"
      ]
     },
     "metadata": {},
     "output_type": "display_data"
    }
   ],
   "source": [
    "import time\n",
    "\n",
    "save_notebook()\n",
    "\n",
    "time.sleep(3)\n",
    "\n",
    "current_file = 'Automation2.ipynb'\n",
    "\n",
    "output_file = 'F:/output_file2.html'\n",
    "\n",
    "output_HTML(current_file, output_file)"
   ]
  },
  {
   "cell_type": "code",
   "execution_count": 40,
   "metadata": {
    "code_folding": []
   },
   "outputs": [],
   "source": [
    "##import papermill as pm\n",
    "\n",
    "#pm.execute_notebook(\n",
    "   #'Automation2.ipynb',\n",
    "   #'F:/output2.ipynb',\n",
    "  #parameters = dict(01))\n",
    "\n"
   ]
  },
  {
   "cell_type": "code",
   "execution_count": 39,
   "metadata": {},
   "outputs": [],
   "source": [
    "#import papermill as pm\n",
    "#pm.execute_notebook('Automation2.ipynb', 'F:/output2.ipynb')\n"
   ]
  },
  {
   "cell_type": "code",
   "execution_count": null,
   "metadata": {},
   "outputs": [],
   "source": []
  },
  {
   "cell_type": "code",
   "execution_count": null,
   "metadata": {},
   "outputs": [],
   "source": []
  }
 ],
 "metadata": {
  "celltoolbar": "Tags",
  "hide_input": false,
  "kernelspec": {
   "display_name": "Python 3",
   "language": "python",
   "name": "python3"
  },
  "language_info": {
   "codemirror_mode": {
    "name": "ipython",
    "version": 3
   },
   "file_extension": ".py",
   "mimetype": "text/x-python",
   "name": "python",
   "nbconvert_exporter": "python",
   "pygments_lexer": "ipython3",
   "version": "3.7.3"
  },
  "latex_envs": {
   "LaTeX_envs_menu_present": true,
   "autoclose": false,
   "autocomplete": true,
   "bibliofile": "biblio.bib",
   "cite_by": "apalike",
   "current_citInitial": 1,
   "eqLabelWithNumbers": true,
   "eqNumInitial": 1,
   "hotkeys": {
    "equation": "Ctrl-E",
    "itemize": "Ctrl-I"
   },
   "labels_anchors": false,
   "latex_user_defs": false,
   "report_style_numbering": false,
   "user_envs_cfg": false
  }
 },
 "nbformat": 4,
 "nbformat_minor": 2
}
