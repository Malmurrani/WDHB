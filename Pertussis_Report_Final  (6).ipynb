{
 "cells": [
  {
   "cell_type": "markdown",
   "metadata": {},
   "source": [
    "# <center>Pertussis Vaccination in Pregnancy</center>"
   ]
  },
  {
   "cell_type": "code",
   "execution_count": 176,
   "metadata": {},
   "outputs": [
    {
     "data": {
      "text/markdown": [
       "Coverage report to 31st of March 2020"
      ],
      "text/plain": [
       "<IPython.core.display.Markdown object>"
      ]
     },
     "metadata": {},
     "output_type": "display_data"
    }
   ],
   "source": [
    "import pandas as pd\n",
    "import matplotlib.pyplot as plt\n",
    "import plotly.graph_objects as go\n",
    "import numpy as np\n",
    "from openpyxl import load_workbook\n",
    "#workbook = load_workbook(filename=\"F:\\Seagate Backup Plus Drive/Test1.xlsx\")\n",
    "workbook = load_workbook(filename=\"G:\\Funding Team\\Planning\\Health Information\\HIAT\\Michael Files\\Antinatal Vaccination\\April 2019 to March 2020\\For Python.xlsx\")\n",
    "#sheet.active = 1\n",
    "sheet3 = workbook[\"Text\"]\n",
    "#sheet3['A1'].value\n",
    "from IPython.display import Markdown, display\n",
    "def printmd(string):\n",
    "    display(Markdown(string))\n",
    "printmd(sheet3['A1'].value)\n"
   ]
  },
  {
   "cell_type": "code",
   "execution_count": 177,
   "metadata": {},
   "outputs": [],
   "source": [
    "from IPython.display import HTML\n",
    "import json\n",
    "import pandas as pd"
   ]
  },
  {
   "cell_type": "code",
   "execution_count": 178,
   "metadata": {
    "scrolled": true
   },
   "outputs": [],
   "source": [
    "#sheet3['A3'].value"
   ]
  },
  {
   "cell_type": "markdown",
   "metadata": {},
   "source": [
    "This following summary assesses pertussis vaccination coverage in women giving birth in the \n",
    "12 months to the 31st of March 2020 with DHB level trends from January 2016.  National Health \n",
    "Index Numbers (NHI) of women giving birth in Auckland District Health Board (DHB), \n",
    "Counties Manukau DHB or Waitematā DHB hospitals were matched to completed vaccination \n",
    "data held on the National Immunisation Register (NIR).  A pertussis vaccination is \n",
    "counted as being received if the vaccination was given within 28 weeks prior to giving birth. \n",
    "Vaccinations that were given but not entered into the NIR will not be included also \n",
    "vaccinations given overseas or by providers outside of the Auckland Metro Region may also not be included."
   ]
  },
  {
   "cell_type": "markdown",
   "metadata": {},
   "source": [
    "## Coverage by District Health Board"
   ]
  },
  {
   "cell_type": "code",
   "execution_count": 179,
   "metadata": {},
   "outputs": [],
   "source": [
    "#sheet3['A5'].value"
   ]
  },
  {
   "cell_type": "markdown",
   "metadata": {},
   "source": [
    "The highest vaccination coverage rates (12 month period) are seen among Women domiciled in \n",
    "Auckland DHB (60.9%), followed by Waitematā DHB (54.8%) and Counties Manukau DHB (42.8%). \n",
    "The below graph is coverage by month of birth."
   ]
  },
  {
   "cell_type": "code",
   "execution_count": 180,
   "metadata": {},
   "outputs": [
    {
     "data": {
      "text/html": [
       "        <script type=\"text/javascript\">\n",
       "        window.PlotlyConfig = {MathJaxConfig: 'local'};\n",
       "        if (window.MathJax) {MathJax.Hub.Config({SVG: {font: \"STIX-Web\"}});}\n",
       "        if (typeof require !== 'undefined') {\n",
       "        require.undef(\"plotly\");\n",
       "        requirejs.config({\n",
       "            paths: {\n",
       "                'plotly': ['https://cdn.plot.ly/plotly-latest.min']\n",
       "            }\n",
       "        });\n",
       "        require(['plotly'], function(Plotly) {\n",
       "            window._Plotly = Plotly;\n",
       "        });\n",
       "        }\n",
       "        </script>\n",
       "        "
      ]
     },
     "metadata": {},
     "output_type": "display_data"
    },
    {
     "data": {
      "application/vnd.plotly.v1+json": {
       "config": {
        "plotlyServerURL": "https://plotly.your-company.com"
       },
       "data": [
        {
         "mode": "lines+markers",
         "name": "Counties_Manukau",
         "type": "scatter",
         "x": [
          "Jan_16",
          "Feb_16",
          "Mar_16",
          "Apr_16",
          "May_16",
          "Jun_16",
          "Jul_16",
          "Aug_16",
          "Sep_16",
          "Oct_16",
          "Nov_16",
          "Dec_16",
          "Jan_17",
          "Feb_17",
          "Mar_17",
          "Apr_17",
          "May_17",
          "Jun_17",
          "Jul_17",
          "Aug_17",
          "Sep_17",
          "Oct_17",
          "Nov_17",
          "Dec_17",
          "Jan_18",
          "Feb_18",
          "Mar_18",
          "Apr_18",
          "May_18",
          "Jun_18",
          "Jul_18",
          "Aug_18",
          "Sep_18",
          "Oct_18",
          "Nov_18",
          "Dec_18",
          "Jan_19",
          "Feb_19",
          "Mar_19",
          "Apr_19",
          "May_19",
          "Jun_19",
          "Jul_19",
          "Aug_19",
          "Sep_19",
          "Oct_19",
          "Nov_19",
          "Dec_19",
          "Jan_20",
          "Feb_20",
          "Mar_20"
         ],
         "y": [
          0.117,
          0.109,
          0.123,
          0.142,
          0.18,
          0.193,
          0.186,
          0.24,
          0.229,
          0.252,
          0.226,
          0.188,
          0.206,
          0.168,
          0.231,
          0.253,
          0.308,
          0.313,
          0.344,
          0.311,
          0.313,
          0.27,
          0.292,
          0.253,
          0.315,
          0.329,
          0.343,
          0.395,
          0.395,
          0.375,
          0.415,
          0.363,
          0.383,
          0.418,
          0.399,
          0.399,
          0.393,
          0.366,
          0.395,
          0.475,
          0.418,
          0.422,
          0.415,
          0.435,
          0.475,
          0.43,
          0.43,
          0.393,
          0.396,
          0.396,
          0.445
         ]
        },
        {
         "mode": "lines+markers",
         "name": "Auckland",
         "type": "scatter",
         "x": [
          "Jan_16",
          "Feb_16",
          "Mar_16",
          "Apr_16",
          "May_16",
          "Jun_16",
          "Jul_16",
          "Aug_16",
          "Sep_16",
          "Oct_16",
          "Nov_16",
          "Dec_16",
          "Jan_17",
          "Feb_17",
          "Mar_17",
          "Apr_17",
          "May_17",
          "Jun_17",
          "Jul_17",
          "Aug_17",
          "Sep_17",
          "Oct_17",
          "Nov_17",
          "Dec_17",
          "Jan_18",
          "Feb_18",
          "Mar_18",
          "Apr_18",
          "May_18",
          "Jun_18",
          "Jul_18",
          "Aug_18",
          "Sep_18",
          "Oct_18",
          "Nov_18",
          "Dec_18",
          "Jan_19",
          "Feb_19",
          "Mar_19",
          "Apr_19",
          "May_19",
          "Jun_19",
          "Jul_19",
          "Aug_19",
          "Sep_19",
          "Oct_19",
          "Nov_19",
          "Dec_19",
          "Jan_20",
          "Feb_20",
          "Mar_20"
         ],
         "y": [
          0.231,
          0.259,
          0.286,
          0.331,
          0.355,
          0.36,
          0.391,
          0.393,
          0.44,
          0.443,
          0.436,
          0.425,
          0.462,
          0.376,
          0.415,
          0.416,
          0.487,
          0.501,
          0.493,
          0.508,
          0.456,
          0.499,
          0.529,
          0.519,
          0.491,
          0.523,
          0.489,
          0.511,
          0.545,
          0.587,
          0.555,
          0.545,
          0.54,
          0.535,
          0.538,
          0.529,
          0.533,
          0.519,
          0.564,
          0.615,
          0.644,
          0.623,
          0.605,
          0.622,
          0.63,
          0.582,
          0.59,
          0.606,
          0.598,
          0.607,
          0.59
         ]
        },
        {
         "mode": "lines+markers",
         "name": "Waitemata",
         "type": "scatter",
         "x": [
          "Jan_16",
          "Feb_16",
          "Mar_16",
          "Apr_16",
          "May_16",
          "Jun_16",
          "Jul_16",
          "Aug_16",
          "Sep_16",
          "Oct_16",
          "Nov_16",
          "Dec_16",
          "Jan_17",
          "Feb_17",
          "Mar_17",
          "Apr_17",
          "May_17",
          "Jun_17",
          "Jul_17",
          "Aug_17",
          "Sep_17",
          "Oct_17",
          "Nov_17",
          "Dec_17",
          "Jan_18",
          "Feb_18",
          "Mar_18",
          "Apr_18",
          "May_18",
          "Jun_18",
          "Jul_18",
          "Aug_18",
          "Sep_18",
          "Oct_18",
          "Nov_18",
          "Dec_18",
          "Jan_19",
          "Feb_19",
          "Mar_19",
          "Apr_19",
          "May_19",
          "Jun_19",
          "Jul_19",
          "Aug_19",
          "Sep_19",
          "Oct_19",
          "Nov_19",
          "Dec_19",
          "Jan_20",
          "Feb_20",
          "Mar_20"
         ],
         "y": [
          0.192,
          0.19,
          0.153,
          0.237,
          0.254,
          0.259,
          0.299,
          0.331,
          0.329,
          0.318,
          0.324,
          0.365,
          0.34,
          0.313,
          0.339,
          0.357,
          0.421,
          0.473,
          0.411,
          0.423,
          0.403,
          0.428,
          0.447,
          0.393,
          0.435,
          0.471,
          0.482,
          0.488,
          0.521,
          0.479,
          0.555,
          0.481,
          0.511,
          0.504,
          0.546,
          0.527,
          0.476,
          0.486,
          0.509,
          0.564,
          0.569,
          0.53,
          0.577,
          0.524,
          0.586,
          0.554,
          0.538,
          0.536,
          0.52,
          0.533,
          0.543
         ]
        }
       ],
       "layout": {
        "autosize": false,
        "height": 400,
        "showlegend": true,
        "template": {
         "data": {
          "bar": [
           {
            "error_x": {
             "color": "#2a3f5f"
            },
            "error_y": {
             "color": "#2a3f5f"
            },
            "marker": {
             "line": {
              "color": "#E5ECF6",
              "width": 0.5
             }
            },
            "type": "bar"
           }
          ],
          "barpolar": [
           {
            "marker": {
             "line": {
              "color": "#E5ECF6",
              "width": 0.5
             }
            },
            "type": "barpolar"
           }
          ],
          "carpet": [
           {
            "aaxis": {
             "endlinecolor": "#2a3f5f",
             "gridcolor": "white",
             "linecolor": "white",
             "minorgridcolor": "white",
             "startlinecolor": "#2a3f5f"
            },
            "baxis": {
             "endlinecolor": "#2a3f5f",
             "gridcolor": "white",
             "linecolor": "white",
             "minorgridcolor": "white",
             "startlinecolor": "#2a3f5f"
            },
            "type": "carpet"
           }
          ],
          "choropleth": [
           {
            "colorbar": {
             "outlinewidth": 0,
             "ticks": ""
            },
            "type": "choropleth"
           }
          ],
          "contour": [
           {
            "colorbar": {
             "outlinewidth": 0,
             "ticks": ""
            },
            "colorscale": [
             [
              0,
              "#0d0887"
             ],
             [
              0.1111111111111111,
              "#46039f"
             ],
             [
              0.2222222222222222,
              "#7201a8"
             ],
             [
              0.3333333333333333,
              "#9c179e"
             ],
             [
              0.4444444444444444,
              "#bd3786"
             ],
             [
              0.5555555555555556,
              "#d8576b"
             ],
             [
              0.6666666666666666,
              "#ed7953"
             ],
             [
              0.7777777777777778,
              "#fb9f3a"
             ],
             [
              0.8888888888888888,
              "#fdca26"
             ],
             [
              1,
              "#f0f921"
             ]
            ],
            "type": "contour"
           }
          ],
          "contourcarpet": [
           {
            "colorbar": {
             "outlinewidth": 0,
             "ticks": ""
            },
            "type": "contourcarpet"
           }
          ],
          "heatmap": [
           {
            "colorbar": {
             "outlinewidth": 0,
             "ticks": ""
            },
            "colorscale": [
             [
              0,
              "#0d0887"
             ],
             [
              0.1111111111111111,
              "#46039f"
             ],
             [
              0.2222222222222222,
              "#7201a8"
             ],
             [
              0.3333333333333333,
              "#9c179e"
             ],
             [
              0.4444444444444444,
              "#bd3786"
             ],
             [
              0.5555555555555556,
              "#d8576b"
             ],
             [
              0.6666666666666666,
              "#ed7953"
             ],
             [
              0.7777777777777778,
              "#fb9f3a"
             ],
             [
              0.8888888888888888,
              "#fdca26"
             ],
             [
              1,
              "#f0f921"
             ]
            ],
            "type": "heatmap"
           }
          ],
          "heatmapgl": [
           {
            "colorbar": {
             "outlinewidth": 0,
             "ticks": ""
            },
            "colorscale": [
             [
              0,
              "#0d0887"
             ],
             [
              0.1111111111111111,
              "#46039f"
             ],
             [
              0.2222222222222222,
              "#7201a8"
             ],
             [
              0.3333333333333333,
              "#9c179e"
             ],
             [
              0.4444444444444444,
              "#bd3786"
             ],
             [
              0.5555555555555556,
              "#d8576b"
             ],
             [
              0.6666666666666666,
              "#ed7953"
             ],
             [
              0.7777777777777778,
              "#fb9f3a"
             ],
             [
              0.8888888888888888,
              "#fdca26"
             ],
             [
              1,
              "#f0f921"
             ]
            ],
            "type": "heatmapgl"
           }
          ],
          "histogram": [
           {
            "marker": {
             "colorbar": {
              "outlinewidth": 0,
              "ticks": ""
             }
            },
            "type": "histogram"
           }
          ],
          "histogram2d": [
           {
            "colorbar": {
             "outlinewidth": 0,
             "ticks": ""
            },
            "colorscale": [
             [
              0,
              "#0d0887"
             ],
             [
              0.1111111111111111,
              "#46039f"
             ],
             [
              0.2222222222222222,
              "#7201a8"
             ],
             [
              0.3333333333333333,
              "#9c179e"
             ],
             [
              0.4444444444444444,
              "#bd3786"
             ],
             [
              0.5555555555555556,
              "#d8576b"
             ],
             [
              0.6666666666666666,
              "#ed7953"
             ],
             [
              0.7777777777777778,
              "#fb9f3a"
             ],
             [
              0.8888888888888888,
              "#fdca26"
             ],
             [
              1,
              "#f0f921"
             ]
            ],
            "type": "histogram2d"
           }
          ],
          "histogram2dcontour": [
           {
            "colorbar": {
             "outlinewidth": 0,
             "ticks": ""
            },
            "colorscale": [
             [
              0,
              "#0d0887"
             ],
             [
              0.1111111111111111,
              "#46039f"
             ],
             [
              0.2222222222222222,
              "#7201a8"
             ],
             [
              0.3333333333333333,
              "#9c179e"
             ],
             [
              0.4444444444444444,
              "#bd3786"
             ],
             [
              0.5555555555555556,
              "#d8576b"
             ],
             [
              0.6666666666666666,
              "#ed7953"
             ],
             [
              0.7777777777777778,
              "#fb9f3a"
             ],
             [
              0.8888888888888888,
              "#fdca26"
             ],
             [
              1,
              "#f0f921"
             ]
            ],
            "type": "histogram2dcontour"
           }
          ],
          "mesh3d": [
           {
            "colorbar": {
             "outlinewidth": 0,
             "ticks": ""
            },
            "type": "mesh3d"
           }
          ],
          "parcoords": [
           {
            "line": {
             "colorbar": {
              "outlinewidth": 0,
              "ticks": ""
             }
            },
            "type": "parcoords"
           }
          ],
          "pie": [
           {
            "automargin": true,
            "type": "pie"
           }
          ],
          "scatter": [
           {
            "marker": {
             "colorbar": {
              "outlinewidth": 0,
              "ticks": ""
             }
            },
            "type": "scatter"
           }
          ],
          "scatter3d": [
           {
            "line": {
             "colorbar": {
              "outlinewidth": 0,
              "ticks": ""
             }
            },
            "marker": {
             "colorbar": {
              "outlinewidth": 0,
              "ticks": ""
             }
            },
            "type": "scatter3d"
           }
          ],
          "scattercarpet": [
           {
            "marker": {
             "colorbar": {
              "outlinewidth": 0,
              "ticks": ""
             }
            },
            "type": "scattercarpet"
           }
          ],
          "scattergeo": [
           {
            "marker": {
             "colorbar": {
              "outlinewidth": 0,
              "ticks": ""
             }
            },
            "type": "scattergeo"
           }
          ],
          "scattergl": [
           {
            "marker": {
             "colorbar": {
              "outlinewidth": 0,
              "ticks": ""
             }
            },
            "type": "scattergl"
           }
          ],
          "scattermapbox": [
           {
            "marker": {
             "colorbar": {
              "outlinewidth": 0,
              "ticks": ""
             }
            },
            "type": "scattermapbox"
           }
          ],
          "scatterpolar": [
           {
            "marker": {
             "colorbar": {
              "outlinewidth": 0,
              "ticks": ""
             }
            },
            "type": "scatterpolar"
           }
          ],
          "scatterpolargl": [
           {
            "marker": {
             "colorbar": {
              "outlinewidth": 0,
              "ticks": ""
             }
            },
            "type": "scatterpolargl"
           }
          ],
          "scatterternary": [
           {
            "marker": {
             "colorbar": {
              "outlinewidth": 0,
              "ticks": ""
             }
            },
            "type": "scatterternary"
           }
          ],
          "surface": [
           {
            "colorbar": {
             "outlinewidth": 0,
             "ticks": ""
            },
            "colorscale": [
             [
              0,
              "#0d0887"
             ],
             [
              0.1111111111111111,
              "#46039f"
             ],
             [
              0.2222222222222222,
              "#7201a8"
             ],
             [
              0.3333333333333333,
              "#9c179e"
             ],
             [
              0.4444444444444444,
              "#bd3786"
             ],
             [
              0.5555555555555556,
              "#d8576b"
             ],
             [
              0.6666666666666666,
              "#ed7953"
             ],
             [
              0.7777777777777778,
              "#fb9f3a"
             ],
             [
              0.8888888888888888,
              "#fdca26"
             ],
             [
              1,
              "#f0f921"
             ]
            ],
            "type": "surface"
           }
          ],
          "table": [
           {
            "cells": {
             "fill": {
              "color": "#EBF0F8"
             },
             "line": {
              "color": "white"
             }
            },
            "header": {
             "fill": {
              "color": "#C8D4E3"
             },
             "line": {
              "color": "white"
             }
            },
            "type": "table"
           }
          ]
         },
         "layout": {
          "annotationdefaults": {
           "arrowcolor": "#2a3f5f",
           "arrowhead": 0,
           "arrowwidth": 1
          },
          "coloraxis": {
           "colorbar": {
            "outlinewidth": 0,
            "ticks": ""
           }
          },
          "colorscale": {
           "diverging": [
            [
             0,
             "#8e0152"
            ],
            [
             0.1,
             "#c51b7d"
            ],
            [
             0.2,
             "#de77ae"
            ],
            [
             0.3,
             "#f1b6da"
            ],
            [
             0.4,
             "#fde0ef"
            ],
            [
             0.5,
             "#f7f7f7"
            ],
            [
             0.6,
             "#e6f5d0"
            ],
            [
             0.7,
             "#b8e186"
            ],
            [
             0.8,
             "#7fbc41"
            ],
            [
             0.9,
             "#4d9221"
            ],
            [
             1,
             "#276419"
            ]
           ],
           "sequential": [
            [
             0,
             "#0d0887"
            ],
            [
             0.1111111111111111,
             "#46039f"
            ],
            [
             0.2222222222222222,
             "#7201a8"
            ],
            [
             0.3333333333333333,
             "#9c179e"
            ],
            [
             0.4444444444444444,
             "#bd3786"
            ],
            [
             0.5555555555555556,
             "#d8576b"
            ],
            [
             0.6666666666666666,
             "#ed7953"
            ],
            [
             0.7777777777777778,
             "#fb9f3a"
            ],
            [
             0.8888888888888888,
             "#fdca26"
            ],
            [
             1,
             "#f0f921"
            ]
           ],
           "sequentialminus": [
            [
             0,
             "#0d0887"
            ],
            [
             0.1111111111111111,
             "#46039f"
            ],
            [
             0.2222222222222222,
             "#7201a8"
            ],
            [
             0.3333333333333333,
             "#9c179e"
            ],
            [
             0.4444444444444444,
             "#bd3786"
            ],
            [
             0.5555555555555556,
             "#d8576b"
            ],
            [
             0.6666666666666666,
             "#ed7953"
            ],
            [
             0.7777777777777778,
             "#fb9f3a"
            ],
            [
             0.8888888888888888,
             "#fdca26"
            ],
            [
             1,
             "#f0f921"
            ]
           ]
          },
          "colorway": [
           "#636efa",
           "#EF553B",
           "#00cc96",
           "#ab63fa",
           "#FFA15A",
           "#19d3f3",
           "#FF6692",
           "#B6E880",
           "#FF97FF",
           "#FECB52"
          ],
          "font": {
           "color": "#2a3f5f"
          },
          "geo": {
           "bgcolor": "white",
           "lakecolor": "white",
           "landcolor": "#E5ECF6",
           "showlakes": true,
           "showland": true,
           "subunitcolor": "white"
          },
          "hoverlabel": {
           "align": "left"
          },
          "hovermode": "closest",
          "mapbox": {
           "style": "light"
          },
          "paper_bgcolor": "white",
          "plot_bgcolor": "#E5ECF6",
          "polar": {
           "angularaxis": {
            "gridcolor": "white",
            "linecolor": "white",
            "ticks": ""
           },
           "bgcolor": "#E5ECF6",
           "radialaxis": {
            "gridcolor": "white",
            "linecolor": "white",
            "ticks": ""
           }
          },
          "scene": {
           "xaxis": {
            "backgroundcolor": "#E5ECF6",
            "gridcolor": "white",
            "gridwidth": 2,
            "linecolor": "white",
            "showbackground": true,
            "ticks": "",
            "zerolinecolor": "white"
           },
           "yaxis": {
            "backgroundcolor": "#E5ECF6",
            "gridcolor": "white",
            "gridwidth": 2,
            "linecolor": "white",
            "showbackground": true,
            "ticks": "",
            "zerolinecolor": "white"
           },
           "zaxis": {
            "backgroundcolor": "#E5ECF6",
            "gridcolor": "white",
            "gridwidth": 2,
            "linecolor": "white",
            "showbackground": true,
            "ticks": "",
            "zerolinecolor": "white"
           }
          },
          "shapedefaults": {
           "line": {
            "color": "#2a3f5f"
           }
          },
          "ternary": {
           "aaxis": {
            "gridcolor": "white",
            "linecolor": "white",
            "ticks": ""
           },
           "baxis": {
            "gridcolor": "white",
            "linecolor": "white",
            "ticks": ""
           },
           "bgcolor": "#E5ECF6",
           "caxis": {
            "gridcolor": "white",
            "linecolor": "white",
            "ticks": ""
           }
          },
          "title": {
           "x": 0.05
          },
          "xaxis": {
           "automargin": true,
           "gridcolor": "white",
           "linecolor": "white",
           "ticks": "",
           "title": {
            "standoff": 15
           },
           "zerolinecolor": "white",
           "zerolinewidth": 2
          },
          "yaxis": {
           "automargin": true,
           "gridcolor": "white",
           "linecolor": "white",
           "ticks": "",
           "title": {
            "standoff": 15
           },
           "zerolinecolor": "white",
           "zerolinewidth": 2
          }
         }
        },
        "title": {
         "text": "Pertusiss by DHB"
        },
        "width": 670,
        "xaxis": {
         "tickangle": 45,
         "title": {
          "text": "Monthly"
         },
         "type": "category"
        },
        "yaxis": {
         "tickformat": "%",
         "title": {
          "text": "% Vaccinated"
         }
        }
       }
      },
      "text/html": [
       "<div>\n",
       "        \n",
       "        \n",
       "            <div id=\"def693dc-64f8-4c65-9e95-18afe0051c64\" class=\"plotly-graph-div\" style=\"height:400px; width:670px;\"></div>\n",
       "            <script type=\"text/javascript\">\n",
       "                require([\"plotly\"], function(Plotly) {\n",
       "                    window.PLOTLYENV=window.PLOTLYENV || {};\n",
       "                    \n",
       "                if (document.getElementById(\"def693dc-64f8-4c65-9e95-18afe0051c64\")) {\n",
       "                    Plotly.newPlot(\n",
       "                        'def693dc-64f8-4c65-9e95-18afe0051c64',\n",
       "                        [{\"mode\": \"lines+markers\", \"name\": \"Counties_Manukau\", \"type\": \"scatter\", \"x\": [\"Jan_16\", \"Feb_16\", \"Mar_16\", \"Apr_16\", \"May_16\", \"Jun_16\", \"Jul_16\", \"Aug_16\", \"Sep_16\", \"Oct_16\", \"Nov_16\", \"Dec_16\", \"Jan_17\", \"Feb_17\", \"Mar_17\", \"Apr_17\", \"May_17\", \"Jun_17\", \"Jul_17\", \"Aug_17\", \"Sep_17\", \"Oct_17\", \"Nov_17\", \"Dec_17\", \"Jan_18\", \"Feb_18\", \"Mar_18\", \"Apr_18\", \"May_18\", \"Jun_18\", \"Jul_18\", \"Aug_18\", \"Sep_18\", \"Oct_18\", \"Nov_18\", \"Dec_18\", \"Jan_19\", \"Feb_19\", \"Mar_19\", \"Apr_19\", \"May_19\", \"Jun_19\", \"Jul_19\", \"Aug_19\", \"Sep_19\", \"Oct_19\", \"Nov_19\", \"Dec_19\", \"Jan_20\", \"Feb_20\", \"Mar_20\"], \"y\": [0.117, 0.109, 0.123, 0.142, 0.18, 0.193, 0.186, 0.24, 0.229, 0.252, 0.226, 0.188, 0.206, 0.168, 0.231, 0.253, 0.308, 0.313, 0.344, 0.311, 0.313, 0.27, 0.292, 0.253, 0.315, 0.329, 0.343, 0.395, 0.395, 0.375, 0.415, 0.363, 0.383, 0.418, 0.399, 0.399, 0.393, 0.366, 0.395, 0.475, 0.418, 0.422, 0.415, 0.435, 0.475, 0.43, 0.43, 0.393, 0.396, 0.396, 0.445]}, {\"mode\": \"lines+markers\", \"name\": \"Auckland\", \"type\": \"scatter\", \"x\": [\"Jan_16\", \"Feb_16\", \"Mar_16\", \"Apr_16\", \"May_16\", \"Jun_16\", \"Jul_16\", \"Aug_16\", \"Sep_16\", \"Oct_16\", \"Nov_16\", \"Dec_16\", \"Jan_17\", \"Feb_17\", \"Mar_17\", \"Apr_17\", \"May_17\", \"Jun_17\", \"Jul_17\", \"Aug_17\", \"Sep_17\", \"Oct_17\", \"Nov_17\", \"Dec_17\", \"Jan_18\", \"Feb_18\", \"Mar_18\", \"Apr_18\", \"May_18\", \"Jun_18\", \"Jul_18\", \"Aug_18\", \"Sep_18\", \"Oct_18\", \"Nov_18\", \"Dec_18\", \"Jan_19\", \"Feb_19\", \"Mar_19\", \"Apr_19\", \"May_19\", \"Jun_19\", \"Jul_19\", \"Aug_19\", \"Sep_19\", \"Oct_19\", \"Nov_19\", \"Dec_19\", \"Jan_20\", \"Feb_20\", \"Mar_20\"], \"y\": [0.231, 0.259, 0.286, 0.331, 0.355, 0.36, 0.391, 0.393, 0.44, 0.443, 0.436, 0.425, 0.462, 0.376, 0.415, 0.416, 0.487, 0.501, 0.493, 0.508, 0.456, 0.499, 0.529, 0.519, 0.491, 0.523, 0.489, 0.511, 0.545, 0.587, 0.555, 0.545, 0.54, 0.535, 0.538, 0.529, 0.533, 0.519, 0.564, 0.615, 0.644, 0.623, 0.605, 0.622, 0.63, 0.582, 0.59, 0.606, 0.598, 0.607, 0.59]}, {\"mode\": \"lines+markers\", \"name\": \"Waitemata\", \"type\": \"scatter\", \"x\": [\"Jan_16\", \"Feb_16\", \"Mar_16\", \"Apr_16\", \"May_16\", \"Jun_16\", \"Jul_16\", \"Aug_16\", \"Sep_16\", \"Oct_16\", \"Nov_16\", \"Dec_16\", \"Jan_17\", \"Feb_17\", \"Mar_17\", \"Apr_17\", \"May_17\", \"Jun_17\", \"Jul_17\", \"Aug_17\", \"Sep_17\", \"Oct_17\", \"Nov_17\", \"Dec_17\", \"Jan_18\", \"Feb_18\", \"Mar_18\", \"Apr_18\", \"May_18\", \"Jun_18\", \"Jul_18\", \"Aug_18\", \"Sep_18\", \"Oct_18\", \"Nov_18\", \"Dec_18\", \"Jan_19\", \"Feb_19\", \"Mar_19\", \"Apr_19\", \"May_19\", \"Jun_19\", \"Jul_19\", \"Aug_19\", \"Sep_19\", \"Oct_19\", \"Nov_19\", \"Dec_19\", \"Jan_20\", \"Feb_20\", \"Mar_20\"], \"y\": [0.192, 0.19, 0.153, 0.237, 0.254, 0.259, 0.299, 0.331, 0.329, 0.318, 0.324, 0.365, 0.34, 0.313, 0.339, 0.357, 0.421, 0.473, 0.411, 0.423, 0.403, 0.428, 0.447, 0.393, 0.435, 0.471, 0.482, 0.488, 0.521, 0.479, 0.555, 0.481, 0.511, 0.504, 0.546, 0.527, 0.476, 0.486, 0.509, 0.564, 0.569, 0.53, 0.577, 0.524, 0.586, 0.554, 0.538, 0.536, 0.52, 0.533, 0.543]}],\n",
       "                        {\"autosize\": false, \"height\": 400, \"showlegend\": true, \"template\": {\"data\": {\"bar\": [{\"error_x\": {\"color\": \"#2a3f5f\"}, \"error_y\": {\"color\": \"#2a3f5f\"}, \"marker\": {\"line\": {\"color\": \"#E5ECF6\", \"width\": 0.5}}, \"type\": \"bar\"}], \"barpolar\": [{\"marker\": {\"line\": {\"color\": \"#E5ECF6\", \"width\": 0.5}}, \"type\": \"barpolar\"}], \"carpet\": [{\"aaxis\": {\"endlinecolor\": \"#2a3f5f\", \"gridcolor\": \"white\", \"linecolor\": \"white\", \"minorgridcolor\": \"white\", \"startlinecolor\": \"#2a3f5f\"}, \"baxis\": {\"endlinecolor\": \"#2a3f5f\", \"gridcolor\": \"white\", \"linecolor\": \"white\", \"minorgridcolor\": \"white\", \"startlinecolor\": \"#2a3f5f\"}, \"type\": \"carpet\"}], \"choropleth\": [{\"colorbar\": {\"outlinewidth\": 0, \"ticks\": \"\"}, \"type\": \"choropleth\"}], \"contour\": [{\"colorbar\": {\"outlinewidth\": 0, \"ticks\": \"\"}, \"colorscale\": [[0.0, \"#0d0887\"], [0.1111111111111111, \"#46039f\"], [0.2222222222222222, \"#7201a8\"], [0.3333333333333333, \"#9c179e\"], [0.4444444444444444, \"#bd3786\"], [0.5555555555555556, \"#d8576b\"], [0.6666666666666666, \"#ed7953\"], [0.7777777777777778, \"#fb9f3a\"], [0.8888888888888888, \"#fdca26\"], [1.0, \"#f0f921\"]], \"type\": \"contour\"}], \"contourcarpet\": [{\"colorbar\": {\"outlinewidth\": 0, \"ticks\": \"\"}, \"type\": \"contourcarpet\"}], \"heatmap\": [{\"colorbar\": {\"outlinewidth\": 0, \"ticks\": \"\"}, \"colorscale\": [[0.0, \"#0d0887\"], [0.1111111111111111, \"#46039f\"], [0.2222222222222222, \"#7201a8\"], [0.3333333333333333, \"#9c179e\"], [0.4444444444444444, \"#bd3786\"], [0.5555555555555556, \"#d8576b\"], [0.6666666666666666, \"#ed7953\"], [0.7777777777777778, \"#fb9f3a\"], [0.8888888888888888, \"#fdca26\"], [1.0, \"#f0f921\"]], \"type\": \"heatmap\"}], \"heatmapgl\": [{\"colorbar\": {\"outlinewidth\": 0, \"ticks\": \"\"}, \"colorscale\": [[0.0, \"#0d0887\"], [0.1111111111111111, \"#46039f\"], [0.2222222222222222, \"#7201a8\"], [0.3333333333333333, \"#9c179e\"], [0.4444444444444444, \"#bd3786\"], [0.5555555555555556, \"#d8576b\"], [0.6666666666666666, \"#ed7953\"], [0.7777777777777778, \"#fb9f3a\"], [0.8888888888888888, \"#fdca26\"], [1.0, \"#f0f921\"]], \"type\": \"heatmapgl\"}], \"histogram\": [{\"marker\": {\"colorbar\": {\"outlinewidth\": 0, \"ticks\": \"\"}}, \"type\": \"histogram\"}], \"histogram2d\": [{\"colorbar\": {\"outlinewidth\": 0, \"ticks\": \"\"}, \"colorscale\": [[0.0, \"#0d0887\"], [0.1111111111111111, \"#46039f\"], [0.2222222222222222, \"#7201a8\"], [0.3333333333333333, \"#9c179e\"], [0.4444444444444444, \"#bd3786\"], [0.5555555555555556, \"#d8576b\"], [0.6666666666666666, \"#ed7953\"], [0.7777777777777778, \"#fb9f3a\"], [0.8888888888888888, \"#fdca26\"], [1.0, \"#f0f921\"]], \"type\": \"histogram2d\"}], \"histogram2dcontour\": [{\"colorbar\": {\"outlinewidth\": 0, \"ticks\": \"\"}, \"colorscale\": [[0.0, \"#0d0887\"], [0.1111111111111111, \"#46039f\"], [0.2222222222222222, \"#7201a8\"], [0.3333333333333333, \"#9c179e\"], [0.4444444444444444, \"#bd3786\"], [0.5555555555555556, \"#d8576b\"], [0.6666666666666666, \"#ed7953\"], [0.7777777777777778, \"#fb9f3a\"], [0.8888888888888888, \"#fdca26\"], [1.0, \"#f0f921\"]], \"type\": \"histogram2dcontour\"}], \"mesh3d\": [{\"colorbar\": {\"outlinewidth\": 0, \"ticks\": \"\"}, \"type\": \"mesh3d\"}], \"parcoords\": [{\"line\": {\"colorbar\": {\"outlinewidth\": 0, \"ticks\": \"\"}}, \"type\": \"parcoords\"}], \"pie\": [{\"automargin\": true, \"type\": \"pie\"}], \"scatter\": [{\"marker\": {\"colorbar\": {\"outlinewidth\": 0, \"ticks\": \"\"}}, \"type\": \"scatter\"}], \"scatter3d\": [{\"line\": {\"colorbar\": {\"outlinewidth\": 0, \"ticks\": \"\"}}, \"marker\": {\"colorbar\": {\"outlinewidth\": 0, \"ticks\": \"\"}}, \"type\": \"scatter3d\"}], \"scattercarpet\": [{\"marker\": {\"colorbar\": {\"outlinewidth\": 0, \"ticks\": \"\"}}, \"type\": \"scattercarpet\"}], \"scattergeo\": [{\"marker\": {\"colorbar\": {\"outlinewidth\": 0, \"ticks\": \"\"}}, \"type\": \"scattergeo\"}], \"scattergl\": [{\"marker\": {\"colorbar\": {\"outlinewidth\": 0, \"ticks\": \"\"}}, \"type\": \"scattergl\"}], \"scattermapbox\": [{\"marker\": {\"colorbar\": {\"outlinewidth\": 0, \"ticks\": \"\"}}, \"type\": \"scattermapbox\"}], \"scatterpolar\": [{\"marker\": {\"colorbar\": {\"outlinewidth\": 0, \"ticks\": \"\"}}, \"type\": \"scatterpolar\"}], \"scatterpolargl\": [{\"marker\": {\"colorbar\": {\"outlinewidth\": 0, \"ticks\": \"\"}}, \"type\": \"scatterpolargl\"}], \"scatterternary\": [{\"marker\": {\"colorbar\": {\"outlinewidth\": 0, \"ticks\": \"\"}}, \"type\": \"scatterternary\"}], \"surface\": [{\"colorbar\": {\"outlinewidth\": 0, \"ticks\": \"\"}, \"colorscale\": [[0.0, \"#0d0887\"], [0.1111111111111111, \"#46039f\"], [0.2222222222222222, \"#7201a8\"], [0.3333333333333333, \"#9c179e\"], [0.4444444444444444, \"#bd3786\"], [0.5555555555555556, \"#d8576b\"], [0.6666666666666666, \"#ed7953\"], [0.7777777777777778, \"#fb9f3a\"], [0.8888888888888888, \"#fdca26\"], [1.0, \"#f0f921\"]], \"type\": \"surface\"}], \"table\": [{\"cells\": {\"fill\": {\"color\": \"#EBF0F8\"}, \"line\": {\"color\": \"white\"}}, \"header\": {\"fill\": {\"color\": \"#C8D4E3\"}, \"line\": {\"color\": \"white\"}}, \"type\": \"table\"}]}, \"layout\": {\"annotationdefaults\": {\"arrowcolor\": \"#2a3f5f\", \"arrowhead\": 0, \"arrowwidth\": 1}, \"coloraxis\": {\"colorbar\": {\"outlinewidth\": 0, \"ticks\": \"\"}}, \"colorscale\": {\"diverging\": [[0, \"#8e0152\"], [0.1, \"#c51b7d\"], [0.2, \"#de77ae\"], [0.3, \"#f1b6da\"], [0.4, \"#fde0ef\"], [0.5, \"#f7f7f7\"], [0.6, \"#e6f5d0\"], [0.7, \"#b8e186\"], [0.8, \"#7fbc41\"], [0.9, \"#4d9221\"], [1, \"#276419\"]], \"sequential\": [[0.0, \"#0d0887\"], [0.1111111111111111, \"#46039f\"], [0.2222222222222222, \"#7201a8\"], [0.3333333333333333, \"#9c179e\"], [0.4444444444444444, \"#bd3786\"], [0.5555555555555556, \"#d8576b\"], [0.6666666666666666, \"#ed7953\"], [0.7777777777777778, \"#fb9f3a\"], [0.8888888888888888, \"#fdca26\"], [1.0, \"#f0f921\"]], \"sequentialminus\": [[0.0, \"#0d0887\"], [0.1111111111111111, \"#46039f\"], [0.2222222222222222, \"#7201a8\"], [0.3333333333333333, \"#9c179e\"], [0.4444444444444444, \"#bd3786\"], [0.5555555555555556, \"#d8576b\"], [0.6666666666666666, \"#ed7953\"], [0.7777777777777778, \"#fb9f3a\"], [0.8888888888888888, \"#fdca26\"], [1.0, \"#f0f921\"]]}, \"colorway\": [\"#636efa\", \"#EF553B\", \"#00cc96\", \"#ab63fa\", \"#FFA15A\", \"#19d3f3\", \"#FF6692\", \"#B6E880\", \"#FF97FF\", \"#FECB52\"], \"font\": {\"color\": \"#2a3f5f\"}, \"geo\": {\"bgcolor\": \"white\", \"lakecolor\": \"white\", \"landcolor\": \"#E5ECF6\", \"showlakes\": true, \"showland\": true, \"subunitcolor\": \"white\"}, \"hoverlabel\": {\"align\": \"left\"}, \"hovermode\": \"closest\", \"mapbox\": {\"style\": \"light\"}, \"paper_bgcolor\": \"white\", \"plot_bgcolor\": \"#E5ECF6\", \"polar\": {\"angularaxis\": {\"gridcolor\": \"white\", \"linecolor\": \"white\", \"ticks\": \"\"}, \"bgcolor\": \"#E5ECF6\", \"radialaxis\": {\"gridcolor\": \"white\", \"linecolor\": \"white\", \"ticks\": \"\"}}, \"scene\": {\"xaxis\": {\"backgroundcolor\": \"#E5ECF6\", \"gridcolor\": \"white\", \"gridwidth\": 2, \"linecolor\": \"white\", \"showbackground\": true, \"ticks\": \"\", \"zerolinecolor\": \"white\"}, \"yaxis\": {\"backgroundcolor\": \"#E5ECF6\", \"gridcolor\": \"white\", \"gridwidth\": 2, \"linecolor\": \"white\", \"showbackground\": true, \"ticks\": \"\", \"zerolinecolor\": \"white\"}, \"zaxis\": {\"backgroundcolor\": \"#E5ECF6\", \"gridcolor\": \"white\", \"gridwidth\": 2, \"linecolor\": \"white\", \"showbackground\": true, \"ticks\": \"\", \"zerolinecolor\": \"white\"}}, \"shapedefaults\": {\"line\": {\"color\": \"#2a3f5f\"}}, \"ternary\": {\"aaxis\": {\"gridcolor\": \"white\", \"linecolor\": \"white\", \"ticks\": \"\"}, \"baxis\": {\"gridcolor\": \"white\", \"linecolor\": \"white\", \"ticks\": \"\"}, \"bgcolor\": \"#E5ECF6\", \"caxis\": {\"gridcolor\": \"white\", \"linecolor\": \"white\", \"ticks\": \"\"}}, \"title\": {\"x\": 0.05}, \"xaxis\": {\"automargin\": true, \"gridcolor\": \"white\", \"linecolor\": \"white\", \"ticks\": \"\", \"title\": {\"standoff\": 15}, \"zerolinecolor\": \"white\", \"zerolinewidth\": 2}, \"yaxis\": {\"automargin\": true, \"gridcolor\": \"white\", \"linecolor\": \"white\", \"ticks\": \"\", \"title\": {\"standoff\": 15}, \"zerolinecolor\": \"white\", \"zerolinewidth\": 2}}}, \"title\": {\"text\": \"Pertusiss by DHB\"}, \"width\": 670, \"xaxis\": {\"tickangle\": 45, \"title\": {\"text\": \"Monthly\"}, \"type\": \"category\"}, \"yaxis\": {\"tickformat\": \"%\", \"title\": {\"text\": \"% Vaccinated\"}}},\n",
       "                        {\"responsive\": true}\n",
       "                    ).then(function(){\n",
       "                            \n",
       "var gd = document.getElementById('def693dc-64f8-4c65-9e95-18afe0051c64');\n",
       "var x = new MutationObserver(function (mutations, observer) {{\n",
       "        var display = window.getComputedStyle(gd).display;\n",
       "        if (!display || display === 'none') {{\n",
       "            console.log([gd, 'removed!']);\n",
       "            Plotly.purge(gd);\n",
       "            observer.disconnect();\n",
       "        }}\n",
       "}});\n",
       "\n",
       "// Listen for the removal of the full notebook cells\n",
       "var notebookContainer = gd.closest('#notebook-container');\n",
       "if (notebookContainer) {{\n",
       "    x.observe(notebookContainer, {childList: true});\n",
       "}}\n",
       "\n",
       "// Listen for the clearing of the current output cell\n",
       "var outputEl = gd.closest('.output');\n",
       "if (outputEl) {{\n",
       "    x.observe(outputEl, {childList: true});\n",
       "}}\n",
       "\n",
       "                        })\n",
       "                };\n",
       "                });\n",
       "            </script>\n",
       "        </div>"
      ]
     },
     "metadata": {},
     "output_type": "display_data"
    }
   ],
   "source": [
    "import pandas as pd\n",
    "import matplotlib.pyplot as plt\n",
    "import plotly.graph_objects as go\n",
    "import numpy as np\n",
    "%matplotlib inline\n",
    "from plotly.offline import download_plotlyjs, init_notebook_mode, plot, iplot\n",
    "init_notebook_mode(connected=True)\n",
    "#Pertussis Tables\n",
    "#DHBAll = pd.read_excel('G:/Funding Team/Planning/Health Information/HIAT/Michael Files/Antinatal Vaccination/April 2019 to March 2020/For Python.xlsx', \n",
    "                     #header=None, skiprows=7)\n",
    "DHBAll = pd.ExcelFile('G:/Funding Team/Planning/Health Information/HIAT/Michael Files/Antinatal Vaccination/April 2019 to March 2020/For Python.xlsx')\n",
    "DHBPert = pd.read_excel(DHBAll, 'Pertussis Graphs', skiprows=5)\n",
    "DHB3 = DHBPert[['Counties_Manukau','Auckland','Waitemata']]\n",
    "\n",
    "DHB3=DHB3.round(3)\n",
    "# Declare a list that is to be converted into a column \n",
    "Monthly = ['Jan_16', 'Feb_16', 'Mar_16', 'Apr_16','May_16', 'Jun_16', 'Jul_16', 'Aug_16','Sep_16', 'Oct_16', 'Nov_16', 'Dec_16',\n",
    "           'Jan_17', 'Feb_17', 'Mar_17', 'Apr_17','May_17', 'Jun_17', 'Jul_17', 'Aug_17','Sep_17', 'Oct_17', 'Nov_17', 'Dec_17',\n",
    "           'Jan_18', 'Feb_18', 'Mar_18', 'Apr_18','May_18', 'Jun_18', 'Jul_18', 'Aug_18','Sep_18', 'Oct_18', 'Nov_18', 'Dec_18',\n",
    "           'Jan_19', 'Feb_19', 'Mar_19', 'Apr_19','May_19', 'Jun_19', 'Jul_19', 'Aug_19','Sep_19', 'Oct_19', 'Nov_19', 'Dec_19',\n",
    "           'Jan_20', 'Feb_20', 'Mar_20', 'Apr_20','May_20', 'Jun_20', 'Jul_20', 'Aug_20','Sep_20', 'Oct_20', 'Nov_20', 'Dec_20'] \n",
    "\n",
    "# Using 'Address' as the column name \n",
    "# and equating it to the list \n",
    "DHB3['Monthly'] = Monthly \n",
    "DHB3=DHB3.dropna()\n",
    "random_x = DHB3[\"Monthly\"].tolist()\n",
    "# using to_numpy() \n",
    "random_y0 = DHB3['Counties_Manukau'].tolist()   \n",
    "\n",
    "random_y1 = DHB3['Auckland'].tolist()  \n",
    "\n",
    "random_y2 = DHB3['Waitemata'].tolist()   \n",
    "\n",
    "\n",
    "#import numpy as np\n",
    "\n",
    "# Create traces\n",
    "fig = go.Figure()\n",
    "fig.add_trace(go.Scatter(x=random_x, y=random_y0,\n",
    "                    mode='lines+markers',\n",
    "                    name='Counties_Manukau'))\n",
    "fig.add_trace(go.Scatter(x=random_x, y=random_y1,\n",
    "                    mode='lines+markers',\n",
    "                    name='Auckland'))\n",
    "fig.add_trace(go.Scatter(x=random_x, y=random_y2,\n",
    "                   mode='lines+markers',\n",
    "                    name='Waitemata'))\n",
    "\n",
    "# Edit the layout\n",
    "#fig.update_layout(title='Pertusiss by Ethnicity',\n",
    "                   #xaxis_title='Quarter',\n",
    "                   #yaxis_title='Percentage')\n",
    "\n",
    "fig.update_layout(xaxis_type='category',\n",
    "                  title_text='Pertusiss by DHB',\n",
    "                  xaxis_title='Monthly',\n",
    "                  yaxis_title='% Vaccinated')\n",
    "fig.update_xaxes(tickangle=45)\n",
    "fig.update_yaxes(tickformat=\"%\")\n",
    "#fig.update_layout(legend_orientation=\"h\")\n",
    "fig.update_layout(showlegend=True)\n",
    "fig.update_layout(autosize=False,\n",
    "                 width=670,\n",
    "                 height=400,)\n",
    "fig.show()\n",
    "plt.show()\n"
   ]
  },
  {
   "cell_type": "markdown",
   "metadata": {},
   "source": [
    "### Coverage by DHB and Ethnicity (12 month period)"
   ]
  },
  {
   "cell_type": "code",
   "execution_count": 181,
   "metadata": {},
   "outputs": [],
   "source": [
    "#sheet3[\"A7\"].value"
   ]
  },
  {
   "cell_type": "markdown",
   "metadata": {},
   "source": [
    "In the twelve months to March 2020 vaccination coverage continued to vary by ethnicity. \n",
    "Coverage rates in Asian and European/Other are higher than those of Pacific and Māori. \n",
    "Auckland DHB has the highest coverage across all ethnicities, followed by Waitematā DHB and \n",
    "Counties Manukau DHB. Across all DHBs, Asian women in Auckland DHB had the highest \n",
    "coverage rate at 72.1%."
   ]
  },
  {
   "cell_type": "code",
   "execution_count": 182,
   "metadata": {},
   "outputs": [
    {
     "data": {
      "text/html": [
       "<style  type=\"text/css\" >\n",
       "    #T_0e8ecf48_f7aa_11ea_9da6_ecb1d74ca0c9 tr:hover {\n",
       "          background-color: #ffff99;\n",
       "    }    #T_0e8ecf48_f7aa_11ea_9da6_ecb1d74ca0c9 th {\n",
       "          font-size: 70%;\n",
       "          text-align: center;\n",
       "    }    #T_0e8ecf48_f7aa_11ea_9da6_ecb1d74ca0c9 caption {\n",
       "          caption-side: bottom;\n",
       "    }</style><table id=\"T_0e8ecf48_f7aa_11ea_9da6_ecb1d74ca0c9\" ><caption>Hover to highlight.</caption><thead>    <tr>        <th class=\"index_name level0\" >0</th>        <th class=\"col_heading level0 col0\" >DHB_Domicile</th>        <th class=\"col_heading level0 col1\" >Maori_(Prev)</th>        <th class=\"col_heading level0 col2\" >Māori_(Curr)</th>        <th class=\"col_heading level0 col3\" >Pacific_(Prev)</th>        <th class=\"col_heading level0 col4\" >Pacific_(Curr)</th>        <th class=\"col_heading level0 col5\" >Asian_(Prev)</th>        <th class=\"col_heading level0 col6\" >Asian_(Curr)</th>        <th class=\"col_heading level0 col7\" >Other_(Prev)</th>        <th class=\"col_heading level0 col8\" >Other_(Curr)</th>        <th class=\"col_heading level0 col9\" >Overall_(Prev)</th>        <th class=\"col_heading level0 col10\" >Overall_(Curr)</th>    </tr></thead><tbody>\n",
       "                <tr>\n",
       "                        <th id=\"T_0e8ecf48_f7aa_11ea_9da6_ecb1d74ca0c9level0_row0\" class=\"row_heading level0 row0\" >1</th>\n",
       "                        <td id=\"T_0e8ecf48_f7aa_11ea_9da6_ecb1d74ca0c9row0_col0\" class=\"data row0 col0\" >Auckland</td>\n",
       "                        <td id=\"T_0e8ecf48_f7aa_11ea_9da6_ecb1d74ca0c9row0_col1\" class=\"data row0 col1\" >32.2</td>\n",
       "                        <td id=\"T_0e8ecf48_f7aa_11ea_9da6_ecb1d74ca0c9row0_col2\" class=\"data row0 col2\" >33.9</td>\n",
       "                        <td id=\"T_0e8ecf48_f7aa_11ea_9da6_ecb1d74ca0c9row0_col3\" class=\"data row0 col3\" >42.7</td>\n",
       "                        <td id=\"T_0e8ecf48_f7aa_11ea_9da6_ecb1d74ca0c9row0_col4\" class=\"data row0 col4\" >44</td>\n",
       "                        <td id=\"T_0e8ecf48_f7aa_11ea_9da6_ecb1d74ca0c9row0_col5\" class=\"data row0 col5\" >70.8</td>\n",
       "                        <td id=\"T_0e8ecf48_f7aa_11ea_9da6_ecb1d74ca0c9row0_col6\" class=\"data row0 col6\" >72.1</td>\n",
       "                        <td id=\"T_0e8ecf48_f7aa_11ea_9da6_ecb1d74ca0c9row0_col7\" class=\"data row0 col7\" >62.6</td>\n",
       "                        <td id=\"T_0e8ecf48_f7aa_11ea_9da6_ecb1d74ca0c9row0_col8\" class=\"data row0 col8\" >63.7</td>\n",
       "                        <td id=\"T_0e8ecf48_f7aa_11ea_9da6_ecb1d74ca0c9row0_col9\" class=\"data row0 col9\" >59.6</td>\n",
       "                        <td id=\"T_0e8ecf48_f7aa_11ea_9da6_ecb1d74ca0c9row0_col10\" class=\"data row0 col10\" >60.9</td>\n",
       "            </tr>\n",
       "            <tr>\n",
       "                        <th id=\"T_0e8ecf48_f7aa_11ea_9da6_ecb1d74ca0c9level0_row1\" class=\"row_heading level0 row1\" >2</th>\n",
       "                        <td id=\"T_0e8ecf48_f7aa_11ea_9da6_ecb1d74ca0c9row1_col0\" class=\"data row1 col0\" >Counties_Manukau</td>\n",
       "                        <td id=\"T_0e8ecf48_f7aa_11ea_9da6_ecb1d74ca0c9row1_col1\" class=\"data row1 col1\" >23.1</td>\n",
       "                        <td id=\"T_0e8ecf48_f7aa_11ea_9da6_ecb1d74ca0c9row1_col2\" class=\"data row1 col2\" >24.1</td>\n",
       "                        <td id=\"T_0e8ecf48_f7aa_11ea_9da6_ecb1d74ca0c9row1_col3\" class=\"data row1 col3\" >34.2</td>\n",
       "                        <td id=\"T_0e8ecf48_f7aa_11ea_9da6_ecb1d74ca0c9row1_col4\" class=\"data row1 col4\" >35.3</td>\n",
       "                        <td id=\"T_0e8ecf48_f7aa_11ea_9da6_ecb1d74ca0c9row1_col5\" class=\"data row1 col5\" >57</td>\n",
       "                        <td id=\"T_0e8ecf48_f7aa_11ea_9da6_ecb1d74ca0c9row1_col6\" class=\"data row1 col6\" >58.9</td>\n",
       "                        <td id=\"T_0e8ecf48_f7aa_11ea_9da6_ecb1d74ca0c9row1_col7\" class=\"data row1 col7\" >47.6</td>\n",
       "                        <td id=\"T_0e8ecf48_f7aa_11ea_9da6_ecb1d74ca0c9row1_col8\" class=\"data row1 col8\" >48.5</td>\n",
       "                        <td id=\"T_0e8ecf48_f7aa_11ea_9da6_ecb1d74ca0c9row1_col9\" class=\"data row1 col9\" >41.5</td>\n",
       "                        <td id=\"T_0e8ecf48_f7aa_11ea_9da6_ecb1d74ca0c9row1_col10\" class=\"data row1 col10\" >42.8</td>\n",
       "            </tr>\n",
       "            <tr>\n",
       "                        <th id=\"T_0e8ecf48_f7aa_11ea_9da6_ecb1d74ca0c9level0_row2\" class=\"row_heading level0 row2\" >3</th>\n",
       "                        <td id=\"T_0e8ecf48_f7aa_11ea_9da6_ecb1d74ca0c9row2_col0\" class=\"data row2 col0\" >Waitematā</td>\n",
       "                        <td id=\"T_0e8ecf48_f7aa_11ea_9da6_ecb1d74ca0c9row2_col1\" class=\"data row2 col1\" >32.2</td>\n",
       "                        <td id=\"T_0e8ecf48_f7aa_11ea_9da6_ecb1d74ca0c9row2_col2\" class=\"data row2 col2\" >34.9</td>\n",
       "                        <td id=\"T_0e8ecf48_f7aa_11ea_9da6_ecb1d74ca0c9row2_col3\" class=\"data row2 col3\" >36</td>\n",
       "                        <td id=\"T_0e8ecf48_f7aa_11ea_9da6_ecb1d74ca0c9row2_col4\" class=\"data row2 col4\" >37.2</td>\n",
       "                        <td id=\"T_0e8ecf48_f7aa_11ea_9da6_ecb1d74ca0c9row2_col5\" class=\"data row2 col5\" >64.6</td>\n",
       "                        <td id=\"T_0e8ecf48_f7aa_11ea_9da6_ecb1d74ca0c9row2_col6\" class=\"data row2 col6\" >66.8</td>\n",
       "                        <td id=\"T_0e8ecf48_f7aa_11ea_9da6_ecb1d74ca0c9row2_col7\" class=\"data row2 col7\" >53</td>\n",
       "                        <td id=\"T_0e8ecf48_f7aa_11ea_9da6_ecb1d74ca0c9row2_col8\" class=\"data row2 col8\" >54.5</td>\n",
       "                        <td id=\"T_0e8ecf48_f7aa_11ea_9da6_ecb1d74ca0c9row2_col9\" class=\"data row2 col9\" >52.9</td>\n",
       "                        <td id=\"T_0e8ecf48_f7aa_11ea_9da6_ecb1d74ca0c9row2_col10\" class=\"data row2 col10\" >54.8</td>\n",
       "            </tr>\n",
       "            <tr>\n",
       "                        <th id=\"T_0e8ecf48_f7aa_11ea_9da6_ecb1d74ca0c9level0_row3\" class=\"row_heading level0 row3\" >4</th>\n",
       "                        <td id=\"T_0e8ecf48_f7aa_11ea_9da6_ecb1d74ca0c9row3_col0\" class=\"data row3 col0\" >Auckland Metro</td>\n",
       "                        <td id=\"T_0e8ecf48_f7aa_11ea_9da6_ecb1d74ca0c9row3_col1\" class=\"data row3 col1\" >27</td>\n",
       "                        <td id=\"T_0e8ecf48_f7aa_11ea_9da6_ecb1d74ca0c9row3_col2\" class=\"data row3 col2\" >28.8</td>\n",
       "                        <td id=\"T_0e8ecf48_f7aa_11ea_9da6_ecb1d74ca0c9row3_col3\" class=\"data row3 col3\" >36.2</td>\n",
       "                        <td id=\"T_0e8ecf48_f7aa_11ea_9da6_ecb1d74ca0c9row3_col4\" class=\"data row3 col4\" >37.4</td>\n",
       "                        <td id=\"T_0e8ecf48_f7aa_11ea_9da6_ecb1d74ca0c9row3_col5\" class=\"data row3 col5\" >63.6</td>\n",
       "                        <td id=\"T_0e8ecf48_f7aa_11ea_9da6_ecb1d74ca0c9row3_col6\" class=\"data row3 col6\" >65.5</td>\n",
       "                        <td id=\"T_0e8ecf48_f7aa_11ea_9da6_ecb1d74ca0c9row3_col7\" class=\"data row3 col7\" >54.3</td>\n",
       "                        <td id=\"T_0e8ecf48_f7aa_11ea_9da6_ecb1d74ca0c9row3_col8\" class=\"data row3 col8\" >55.6</td>\n",
       "                        <td id=\"T_0e8ecf48_f7aa_11ea_9da6_ecb1d74ca0c9row3_col9\" class=\"data row3 col9\" >50</td>\n",
       "                        <td id=\"T_0e8ecf48_f7aa_11ea_9da6_ecb1d74ca0c9row3_col10\" class=\"data row3 col10\" >51.6</td>\n",
       "            </tr>\n",
       "    </tbody></table>"
      ],
      "text/plain": [
       "<pandas.io.formats.style.Styler at 0x56f5710>"
      ]
     },
     "execution_count": 182,
     "metadata": {},
     "output_type": "execute_result"
    }
   ],
   "source": [
    "DHBTab = pd.read_excel(DHBAll, 'Pertussis Tables', skiprows=5)\n",
    "DHBTabDHB=DHBTab.iloc[0:5, 1:12]\n",
    "DHBTabDHB.columns = DHBTabDHB.iloc[0]\n",
    "DHBTabDHB=DHBTabDHB.drop(DHBTabDHB.index[0])\n",
    "#DHBTabDHB.rename(columns=DHBTabDHB.iloc[0]).drop(DHBTabDHB.index[1])\n",
    "DHBTabDHB = DHBTabDHB.astype({\"Maori_(Prev)\": float, \"Māori_(Curr)\": float, \"Pacific_(Prev)\": float,\n",
    "                             \"Pacific_(Curr)\": float, \"Asian_(Prev)\": float, \"Asian_(Curr)\": float,\n",
    "                             \"Other_(Prev)\": float, \"Other_(Curr)\": float, \"Overall_(Prev)\": float,\n",
    "                             \"Overall_(Curr)\": float})\n",
    "#DHBTabDHB.dtypes\n",
    "DHBTabDHB.iloc[:,1:] = DHBTabDHB.iloc[:,1:] * 100\n",
    "DHBTabDHB.style.hide_index()\n",
    "from IPython.display import HTML\n",
    "#DHBTabDHB.set_index('DHB_Domicile')\n",
    "def hover(hover_color=\"#ffff99\"):\n",
    "    return dict(selector=\"tr:hover\",\n",
    "                props=[(\"background-color\", \"%s\" % hover_color)])\n",
    "\n",
    "styles = [\n",
    "    hover(),\n",
    "    dict(selector=\"th\", props=[(\"font-size\", \"70%\"),\n",
    "                               (\"text-align\", \"center\")]),\n",
    "    dict(selector=\"caption\", props=[(\"caption-side\", \"bottom\")])\n",
    "]\n",
    "html = (DHBTabDHB.style.set_table_styles(styles)\n",
    "          .set_caption(\"Hover to highlight.\"))\n",
    "html\n",
    "#DHBTabDHB.set_index('DHB_Domicile')\n",
    "#DHBTabDHB.head()\n",
    "#DHBTab.head()"
   ]
  },
  {
   "cell_type": "code",
   "execution_count": 183,
   "metadata": {
    "code_folding": []
   },
   "outputs": [],
   "source": [
    "#sheet3[\"A9\"].value"
   ]
  },
  {
   "cell_type": "code",
   "execution_count": 184,
   "metadata": {},
   "outputs": [],
   "source": [
    "#sheet3[\"A10\"].value"
   ]
  },
  {
   "cell_type": "code",
   "execution_count": 185,
   "metadata": {},
   "outputs": [],
   "source": [
    "#sheet3[\"A11\"].value"
   ]
  },
  {
   "cell_type": "code",
   "execution_count": 186,
   "metadata": {},
   "outputs": [],
   "source": [
    "#sheet3[\"A12\"].value"
   ]
  },
  {
   "cell_type": "markdown",
   "metadata": {},
   "source": [
    "- Includes births in the 12 months to 31 March 202\n",
    "- Current performance includes only PHO enrolled individuals as at March 2020\n",
    "- Ethnicity is prioritised and is that recorded on the PHO register\n",
    "- Domicile is as per that on March 2020 PHO register and might be different to that of the mother when the birth took place"
   ]
  },
  {
   "cell_type": "markdown",
   "metadata": {},
   "source": [
    "# Coverage by DHB and Ethnicity (Quarterly Trends)"
   ]
  },
  {
   "cell_type": "code",
   "execution_count": 187,
   "metadata": {},
   "outputs": [
    {
     "data": {
      "application/vnd.plotly.v1+json": {
       "config": {
        "plotlyServerURL": "https://plotly.your-company.com"
       },
       "data": [
        {
         "mode": "lines",
         "name": "Maori",
         "type": "scatter",
         "x": [
          "Q1_16",
          "Q2_16",
          "Q3_16",
          "Q4_16",
          "Q1_17",
          "Q2_17",
          "Q3_17",
          "Q4_17",
          "Q1_18",
          "Q2_18",
          "Q3_18",
          "Q4_18",
          "Q1_19",
          "Q2_19",
          "Q3_19",
          "Q4_19",
          "Q1_20"
         ],
         "y": [
          0.085,
          0.117,
          0.115,
          0.195,
          0.114,
          0.2,
          0.247,
          0.193,
          0.285,
          0.246,
          0.337,
          0.297,
          0.246,
          0.436,
          0.351,
          0.284,
          0.315
         ]
        },
        {
         "mode": "lines+markers",
         "name": "Pacific",
         "type": "scatter",
         "x": [
          "Q1_16",
          "Q2_16",
          "Q3_16",
          "Q4_16",
          "Q1_17",
          "Q2_17",
          "Q3_17",
          "Q4_17",
          "Q1_18",
          "Q2_18",
          "Q3_18",
          "Q4_18",
          "Q1_19",
          "Q2_19",
          "Q3_19",
          "Q4_19",
          "Q1_20"
         ],
         "y": [
          0.061,
          0.104,
          0.22,
          0.153,
          0.1,
          0.283,
          0.206,
          0.19,
          0.283,
          0.26,
          0.353,
          0.306,
          0.274,
          0.386,
          0.408,
          0.363,
          0.322
         ]
        },
        {
         "mode": "lines+markers",
         "name": "Asian",
         "type": "scatter",
         "x": [
          "Q1_16",
          "Q2_16",
          "Q3_16",
          "Q4_16",
          "Q1_17",
          "Q2_17",
          "Q3_17",
          "Q4_17",
          "Q1_18",
          "Q2_18",
          "Q3_18",
          "Q4_18",
          "Q1_19",
          "Q2_19",
          "Q3_19",
          "Q4_19",
          "Q1_20"
         ],
         "y": [
          0.2,
          0.264,
          0.333,
          0.398,
          0.428,
          0.514,
          0.491,
          0.521,
          0.514,
          0.603,
          0.61,
          0.653,
          0.613,
          0.69,
          0.69,
          0.637,
          0.643
         ]
        },
        {
         "mode": "lines+markers",
         "name": "Others",
         "type": "scatter",
         "x": [
          "Q1_16",
          "Q2_16",
          "Q3_16",
          "Q4_16",
          "Q1_17",
          "Q2_17",
          "Q3_17",
          "Q4_17",
          "Q1_18",
          "Q2_18",
          "Q3_18",
          "Q4_18",
          "Q1_19",
          "Q2_19",
          "Q3_19",
          "Q4_19",
          "Q1_20"
         ],
         "y": [
          0.209,
          0.298,
          0.366,
          0.364,
          0.349,
          0.435,
          0.444,
          0.464,
          0.513,
          0.536,
          0.531,
          0.533,
          0.495,
          0.55,
          0.536,
          0.529,
          0.541
         ]
        },
        {
         "mode": "lines+markers",
         "name": "Total",
         "type": "scatter",
         "x": [
          "Q1_16",
          "Q2_16",
          "Q3_16",
          "Q4_16",
          "Q1_17",
          "Q2_17",
          "Q3_17",
          "Q4_17",
          "Q1_18",
          "Q2_18",
          "Q3_18",
          "Q4_18",
          "Q1_19",
          "Q2_19",
          "Q3_19",
          "Q4_19",
          "Q1_20"
         ],
         "y": [
          0.182,
          0.255,
          0.325,
          0.344,
          0.331,
          0.416,
          0.412,
          0.424,
          0.463,
          0.496,
          0.515,
          0.525,
          0.491,
          0.57,
          0.558,
          0.527,
          0.531
         ]
        }
       ],
       "layout": {
        "autosize": true,
        "height": 400,
        "showlegend": true,
        "template": {
         "data": {
          "bar": [
           {
            "error_x": {
             "color": "#2a3f5f"
            },
            "error_y": {
             "color": "#2a3f5f"
            },
            "marker": {
             "line": {
              "color": "#E5ECF6",
              "width": 0.5
             }
            },
            "type": "bar"
           }
          ],
          "barpolar": [
           {
            "marker": {
             "line": {
              "color": "#E5ECF6",
              "width": 0.5
             }
            },
            "type": "barpolar"
           }
          ],
          "carpet": [
           {
            "aaxis": {
             "endlinecolor": "#2a3f5f",
             "gridcolor": "white",
             "linecolor": "white",
             "minorgridcolor": "white",
             "startlinecolor": "#2a3f5f"
            },
            "baxis": {
             "endlinecolor": "#2a3f5f",
             "gridcolor": "white",
             "linecolor": "white",
             "minorgridcolor": "white",
             "startlinecolor": "#2a3f5f"
            },
            "type": "carpet"
           }
          ],
          "choropleth": [
           {
            "colorbar": {
             "outlinewidth": 0,
             "ticks": ""
            },
            "type": "choropleth"
           }
          ],
          "contour": [
           {
            "colorbar": {
             "outlinewidth": 0,
             "ticks": ""
            },
            "colorscale": [
             [
              0,
              "#0d0887"
             ],
             [
              0.1111111111111111,
              "#46039f"
             ],
             [
              0.2222222222222222,
              "#7201a8"
             ],
             [
              0.3333333333333333,
              "#9c179e"
             ],
             [
              0.4444444444444444,
              "#bd3786"
             ],
             [
              0.5555555555555556,
              "#d8576b"
             ],
             [
              0.6666666666666666,
              "#ed7953"
             ],
             [
              0.7777777777777778,
              "#fb9f3a"
             ],
             [
              0.8888888888888888,
              "#fdca26"
             ],
             [
              1,
              "#f0f921"
             ]
            ],
            "type": "contour"
           }
          ],
          "contourcarpet": [
           {
            "colorbar": {
             "outlinewidth": 0,
             "ticks": ""
            },
            "type": "contourcarpet"
           }
          ],
          "heatmap": [
           {
            "colorbar": {
             "outlinewidth": 0,
             "ticks": ""
            },
            "colorscale": [
             [
              0,
              "#0d0887"
             ],
             [
              0.1111111111111111,
              "#46039f"
             ],
             [
              0.2222222222222222,
              "#7201a8"
             ],
             [
              0.3333333333333333,
              "#9c179e"
             ],
             [
              0.4444444444444444,
              "#bd3786"
             ],
             [
              0.5555555555555556,
              "#d8576b"
             ],
             [
              0.6666666666666666,
              "#ed7953"
             ],
             [
              0.7777777777777778,
              "#fb9f3a"
             ],
             [
              0.8888888888888888,
              "#fdca26"
             ],
             [
              1,
              "#f0f921"
             ]
            ],
            "type": "heatmap"
           }
          ],
          "heatmapgl": [
           {
            "colorbar": {
             "outlinewidth": 0,
             "ticks": ""
            },
            "colorscale": [
             [
              0,
              "#0d0887"
             ],
             [
              0.1111111111111111,
              "#46039f"
             ],
             [
              0.2222222222222222,
              "#7201a8"
             ],
             [
              0.3333333333333333,
              "#9c179e"
             ],
             [
              0.4444444444444444,
              "#bd3786"
             ],
             [
              0.5555555555555556,
              "#d8576b"
             ],
             [
              0.6666666666666666,
              "#ed7953"
             ],
             [
              0.7777777777777778,
              "#fb9f3a"
             ],
             [
              0.8888888888888888,
              "#fdca26"
             ],
             [
              1,
              "#f0f921"
             ]
            ],
            "type": "heatmapgl"
           }
          ],
          "histogram": [
           {
            "marker": {
             "colorbar": {
              "outlinewidth": 0,
              "ticks": ""
             }
            },
            "type": "histogram"
           }
          ],
          "histogram2d": [
           {
            "colorbar": {
             "outlinewidth": 0,
             "ticks": ""
            },
            "colorscale": [
             [
              0,
              "#0d0887"
             ],
             [
              0.1111111111111111,
              "#46039f"
             ],
             [
              0.2222222222222222,
              "#7201a8"
             ],
             [
              0.3333333333333333,
              "#9c179e"
             ],
             [
              0.4444444444444444,
              "#bd3786"
             ],
             [
              0.5555555555555556,
              "#d8576b"
             ],
             [
              0.6666666666666666,
              "#ed7953"
             ],
             [
              0.7777777777777778,
              "#fb9f3a"
             ],
             [
              0.8888888888888888,
              "#fdca26"
             ],
             [
              1,
              "#f0f921"
             ]
            ],
            "type": "histogram2d"
           }
          ],
          "histogram2dcontour": [
           {
            "colorbar": {
             "outlinewidth": 0,
             "ticks": ""
            },
            "colorscale": [
             [
              0,
              "#0d0887"
             ],
             [
              0.1111111111111111,
              "#46039f"
             ],
             [
              0.2222222222222222,
              "#7201a8"
             ],
             [
              0.3333333333333333,
              "#9c179e"
             ],
             [
              0.4444444444444444,
              "#bd3786"
             ],
             [
              0.5555555555555556,
              "#d8576b"
             ],
             [
              0.6666666666666666,
              "#ed7953"
             ],
             [
              0.7777777777777778,
              "#fb9f3a"
             ],
             [
              0.8888888888888888,
              "#fdca26"
             ],
             [
              1,
              "#f0f921"
             ]
            ],
            "type": "histogram2dcontour"
           }
          ],
          "mesh3d": [
           {
            "colorbar": {
             "outlinewidth": 0,
             "ticks": ""
            },
            "type": "mesh3d"
           }
          ],
          "parcoords": [
           {
            "line": {
             "colorbar": {
              "outlinewidth": 0,
              "ticks": ""
             }
            },
            "type": "parcoords"
           }
          ],
          "pie": [
           {
            "automargin": true,
            "type": "pie"
           }
          ],
          "scatter": [
           {
            "marker": {
             "colorbar": {
              "outlinewidth": 0,
              "ticks": ""
             }
            },
            "type": "scatter"
           }
          ],
          "scatter3d": [
           {
            "line": {
             "colorbar": {
              "outlinewidth": 0,
              "ticks": ""
             }
            },
            "marker": {
             "colorbar": {
              "outlinewidth": 0,
              "ticks": ""
             }
            },
            "type": "scatter3d"
           }
          ],
          "scattercarpet": [
           {
            "marker": {
             "colorbar": {
              "outlinewidth": 0,
              "ticks": ""
             }
            },
            "type": "scattercarpet"
           }
          ],
          "scattergeo": [
           {
            "marker": {
             "colorbar": {
              "outlinewidth": 0,
              "ticks": ""
             }
            },
            "type": "scattergeo"
           }
          ],
          "scattergl": [
           {
            "marker": {
             "colorbar": {
              "outlinewidth": 0,
              "ticks": ""
             }
            },
            "type": "scattergl"
           }
          ],
          "scattermapbox": [
           {
            "marker": {
             "colorbar": {
              "outlinewidth": 0,
              "ticks": ""
             }
            },
            "type": "scattermapbox"
           }
          ],
          "scatterpolar": [
           {
            "marker": {
             "colorbar": {
              "outlinewidth": 0,
              "ticks": ""
             }
            },
            "type": "scatterpolar"
           }
          ],
          "scatterpolargl": [
           {
            "marker": {
             "colorbar": {
              "outlinewidth": 0,
              "ticks": ""
             }
            },
            "type": "scatterpolargl"
           }
          ],
          "scatterternary": [
           {
            "marker": {
             "colorbar": {
              "outlinewidth": 0,
              "ticks": ""
             }
            },
            "type": "scatterternary"
           }
          ],
          "surface": [
           {
            "colorbar": {
             "outlinewidth": 0,
             "ticks": ""
            },
            "colorscale": [
             [
              0,
              "#0d0887"
             ],
             [
              0.1111111111111111,
              "#46039f"
             ],
             [
              0.2222222222222222,
              "#7201a8"
             ],
             [
              0.3333333333333333,
              "#9c179e"
             ],
             [
              0.4444444444444444,
              "#bd3786"
             ],
             [
              0.5555555555555556,
              "#d8576b"
             ],
             [
              0.6666666666666666,
              "#ed7953"
             ],
             [
              0.7777777777777778,
              "#fb9f3a"
             ],
             [
              0.8888888888888888,
              "#fdca26"
             ],
             [
              1,
              "#f0f921"
             ]
            ],
            "type": "surface"
           }
          ],
          "table": [
           {
            "cells": {
             "fill": {
              "color": "#EBF0F8"
             },
             "line": {
              "color": "white"
             }
            },
            "header": {
             "fill": {
              "color": "#C8D4E3"
             },
             "line": {
              "color": "white"
             }
            },
            "type": "table"
           }
          ]
         },
         "layout": {
          "annotationdefaults": {
           "arrowcolor": "#2a3f5f",
           "arrowhead": 0,
           "arrowwidth": 1
          },
          "coloraxis": {
           "colorbar": {
            "outlinewidth": 0,
            "ticks": ""
           }
          },
          "colorscale": {
           "diverging": [
            [
             0,
             "#8e0152"
            ],
            [
             0.1,
             "#c51b7d"
            ],
            [
             0.2,
             "#de77ae"
            ],
            [
             0.3,
             "#f1b6da"
            ],
            [
             0.4,
             "#fde0ef"
            ],
            [
             0.5,
             "#f7f7f7"
            ],
            [
             0.6,
             "#e6f5d0"
            ],
            [
             0.7,
             "#b8e186"
            ],
            [
             0.8,
             "#7fbc41"
            ],
            [
             0.9,
             "#4d9221"
            ],
            [
             1,
             "#276419"
            ]
           ],
           "sequential": [
            [
             0,
             "#0d0887"
            ],
            [
             0.1111111111111111,
             "#46039f"
            ],
            [
             0.2222222222222222,
             "#7201a8"
            ],
            [
             0.3333333333333333,
             "#9c179e"
            ],
            [
             0.4444444444444444,
             "#bd3786"
            ],
            [
             0.5555555555555556,
             "#d8576b"
            ],
            [
             0.6666666666666666,
             "#ed7953"
            ],
            [
             0.7777777777777778,
             "#fb9f3a"
            ],
            [
             0.8888888888888888,
             "#fdca26"
            ],
            [
             1,
             "#f0f921"
            ]
           ],
           "sequentialminus": [
            [
             0,
             "#0d0887"
            ],
            [
             0.1111111111111111,
             "#46039f"
            ],
            [
             0.2222222222222222,
             "#7201a8"
            ],
            [
             0.3333333333333333,
             "#9c179e"
            ],
            [
             0.4444444444444444,
             "#bd3786"
            ],
            [
             0.5555555555555556,
             "#d8576b"
            ],
            [
             0.6666666666666666,
             "#ed7953"
            ],
            [
             0.7777777777777778,
             "#fb9f3a"
            ],
            [
             0.8888888888888888,
             "#fdca26"
            ],
            [
             1,
             "#f0f921"
            ]
           ]
          },
          "colorway": [
           "#636efa",
           "#EF553B",
           "#00cc96",
           "#ab63fa",
           "#FFA15A",
           "#19d3f3",
           "#FF6692",
           "#B6E880",
           "#FF97FF",
           "#FECB52"
          ],
          "font": {
           "color": "#2a3f5f"
          },
          "geo": {
           "bgcolor": "white",
           "lakecolor": "white",
           "landcolor": "#E5ECF6",
           "showlakes": true,
           "showland": true,
           "subunitcolor": "white"
          },
          "hoverlabel": {
           "align": "left"
          },
          "hovermode": "closest",
          "mapbox": {
           "style": "light"
          },
          "paper_bgcolor": "white",
          "plot_bgcolor": "#E5ECF6",
          "polar": {
           "angularaxis": {
            "gridcolor": "white",
            "linecolor": "white",
            "ticks": ""
           },
           "bgcolor": "#E5ECF6",
           "radialaxis": {
            "gridcolor": "white",
            "linecolor": "white",
            "ticks": ""
           }
          },
          "scene": {
           "xaxis": {
            "backgroundcolor": "#E5ECF6",
            "gridcolor": "white",
            "gridwidth": 2,
            "linecolor": "white",
            "showbackground": true,
            "ticks": "",
            "zerolinecolor": "white"
           },
           "yaxis": {
            "backgroundcolor": "#E5ECF6",
            "gridcolor": "white",
            "gridwidth": 2,
            "linecolor": "white",
            "showbackground": true,
            "ticks": "",
            "zerolinecolor": "white"
           },
           "zaxis": {
            "backgroundcolor": "#E5ECF6",
            "gridcolor": "white",
            "gridwidth": 2,
            "linecolor": "white",
            "showbackground": true,
            "ticks": "",
            "zerolinecolor": "white"
           }
          },
          "shapedefaults": {
           "line": {
            "color": "#2a3f5f"
           }
          },
          "ternary": {
           "aaxis": {
            "gridcolor": "white",
            "linecolor": "white",
            "ticks": ""
           },
           "baxis": {
            "gridcolor": "white",
            "linecolor": "white",
            "ticks": ""
           },
           "bgcolor": "#E5ECF6",
           "caxis": {
            "gridcolor": "white",
            "linecolor": "white",
            "ticks": ""
           }
          },
          "title": {
           "x": 0.05
          },
          "xaxis": {
           "automargin": true,
           "gridcolor": "white",
           "linecolor": "white",
           "ticks": "",
           "title": {
            "standoff": 15
           },
           "zerolinecolor": "white",
           "zerolinewidth": 2
          },
          "yaxis": {
           "automargin": true,
           "gridcolor": "white",
           "linecolor": "white",
           "ticks": "",
           "title": {
            "standoff": 15
           },
           "zerolinecolor": "white",
           "zerolinewidth": 2
          }
         }
        },
        "title": {
         "text": "Pertusiss WDHB by Ethnicity"
        },
        "width": 600,
        "xaxis": {
         "tickangle": 45,
         "title": {
          "text": "Quarterly"
         },
         "type": "category"
        },
        "yaxis": {
         "tickformat": "%",
         "title": {
          "text": "Percentage"
         }
        }
       }
      },
      "text/html": [
       "<div>\n",
       "        \n",
       "        \n",
       "            <div id=\"382ca8fb-4d93-463b-8fa1-85a9a14620a9\" class=\"plotly-graph-div\" style=\"height:400px; width:600px;\"></div>\n",
       "            <script type=\"text/javascript\">\n",
       "                require([\"plotly\"], function(Plotly) {\n",
       "                    window.PLOTLYENV=window.PLOTLYENV || {};\n",
       "                    \n",
       "                if (document.getElementById(\"382ca8fb-4d93-463b-8fa1-85a9a14620a9\")) {\n",
       "                    Plotly.newPlot(\n",
       "                        '382ca8fb-4d93-463b-8fa1-85a9a14620a9',\n",
       "                        [{\"mode\": \"lines\", \"name\": \"Maori\", \"type\": \"scatter\", \"x\": [\"Q1_16\", \"Q2_16\", \"Q3_16\", \"Q4_16\", \"Q1_17\", \"Q2_17\", \"Q3_17\", \"Q4_17\", \"Q1_18\", \"Q2_18\", \"Q3_18\", \"Q4_18\", \"Q1_19\", \"Q2_19\", \"Q3_19\", \"Q4_19\", \"Q1_20\"], \"y\": [0.085, 0.117, 0.115, 0.195, 0.114, 0.2, 0.247, 0.193, 0.285, 0.246, 0.337, 0.297, 0.246, 0.436, 0.351, 0.284, 0.315]}, {\"mode\": \"lines+markers\", \"name\": \"Pacific\", \"type\": \"scatter\", \"x\": [\"Q1_16\", \"Q2_16\", \"Q3_16\", \"Q4_16\", \"Q1_17\", \"Q2_17\", \"Q3_17\", \"Q4_17\", \"Q1_18\", \"Q2_18\", \"Q3_18\", \"Q4_18\", \"Q1_19\", \"Q2_19\", \"Q3_19\", \"Q4_19\", \"Q1_20\"], \"y\": [0.061, 0.104, 0.22, 0.153, 0.1, 0.283, 0.206, 0.19, 0.283, 0.26, 0.353, 0.306, 0.274, 0.386, 0.408, 0.363, 0.322]}, {\"mode\": \"lines+markers\", \"name\": \"Asian\", \"type\": \"scatter\", \"x\": [\"Q1_16\", \"Q2_16\", \"Q3_16\", \"Q4_16\", \"Q1_17\", \"Q2_17\", \"Q3_17\", \"Q4_17\", \"Q1_18\", \"Q2_18\", \"Q3_18\", \"Q4_18\", \"Q1_19\", \"Q2_19\", \"Q3_19\", \"Q4_19\", \"Q1_20\"], \"y\": [0.2, 0.264, 0.333, 0.398, 0.428, 0.514, 0.491, 0.521, 0.514, 0.603, 0.61, 0.653, 0.613, 0.69, 0.69, 0.637, 0.643]}, {\"mode\": \"lines+markers\", \"name\": \"Others\", \"type\": \"scatter\", \"x\": [\"Q1_16\", \"Q2_16\", \"Q3_16\", \"Q4_16\", \"Q1_17\", \"Q2_17\", \"Q3_17\", \"Q4_17\", \"Q1_18\", \"Q2_18\", \"Q3_18\", \"Q4_18\", \"Q1_19\", \"Q2_19\", \"Q3_19\", \"Q4_19\", \"Q1_20\"], \"y\": [0.209, 0.298, 0.366, 0.364, 0.349, 0.435, 0.444, 0.464, 0.513, 0.536, 0.531, 0.533, 0.495, 0.55, 0.536, 0.529, 0.541]}, {\"mode\": \"lines+markers\", \"name\": \"Total\", \"type\": \"scatter\", \"x\": [\"Q1_16\", \"Q2_16\", \"Q3_16\", \"Q4_16\", \"Q1_17\", \"Q2_17\", \"Q3_17\", \"Q4_17\", \"Q1_18\", \"Q2_18\", \"Q3_18\", \"Q4_18\", \"Q1_19\", \"Q2_19\", \"Q3_19\", \"Q4_19\", \"Q1_20\"], \"y\": [0.182, 0.255, 0.325, 0.344, 0.331, 0.416, 0.412, 0.424, 0.463, 0.496, 0.515, 0.525, 0.491, 0.57, 0.558, 0.527, 0.531]}],\n",
       "                        {\"autosize\": true, \"height\": 400, \"showlegend\": true, \"template\": {\"data\": {\"bar\": [{\"error_x\": {\"color\": \"#2a3f5f\"}, \"error_y\": {\"color\": \"#2a3f5f\"}, \"marker\": {\"line\": {\"color\": \"#E5ECF6\", \"width\": 0.5}}, \"type\": \"bar\"}], \"barpolar\": [{\"marker\": {\"line\": {\"color\": \"#E5ECF6\", \"width\": 0.5}}, \"type\": \"barpolar\"}], \"carpet\": [{\"aaxis\": {\"endlinecolor\": \"#2a3f5f\", \"gridcolor\": \"white\", \"linecolor\": \"white\", \"minorgridcolor\": \"white\", \"startlinecolor\": \"#2a3f5f\"}, \"baxis\": {\"endlinecolor\": \"#2a3f5f\", \"gridcolor\": \"white\", \"linecolor\": \"white\", \"minorgridcolor\": \"white\", \"startlinecolor\": \"#2a3f5f\"}, \"type\": \"carpet\"}], \"choropleth\": [{\"colorbar\": {\"outlinewidth\": 0, \"ticks\": \"\"}, \"type\": \"choropleth\"}], \"contour\": [{\"colorbar\": {\"outlinewidth\": 0, \"ticks\": \"\"}, \"colorscale\": [[0.0, \"#0d0887\"], [0.1111111111111111, \"#46039f\"], [0.2222222222222222, \"#7201a8\"], [0.3333333333333333, \"#9c179e\"], [0.4444444444444444, \"#bd3786\"], [0.5555555555555556, \"#d8576b\"], [0.6666666666666666, \"#ed7953\"], [0.7777777777777778, \"#fb9f3a\"], [0.8888888888888888, \"#fdca26\"], [1.0, \"#f0f921\"]], \"type\": \"contour\"}], \"contourcarpet\": [{\"colorbar\": {\"outlinewidth\": 0, \"ticks\": \"\"}, \"type\": \"contourcarpet\"}], \"heatmap\": [{\"colorbar\": {\"outlinewidth\": 0, \"ticks\": \"\"}, \"colorscale\": [[0.0, \"#0d0887\"], [0.1111111111111111, \"#46039f\"], [0.2222222222222222, \"#7201a8\"], [0.3333333333333333, \"#9c179e\"], [0.4444444444444444, \"#bd3786\"], [0.5555555555555556, \"#d8576b\"], [0.6666666666666666, \"#ed7953\"], [0.7777777777777778, \"#fb9f3a\"], [0.8888888888888888, \"#fdca26\"], [1.0, \"#f0f921\"]], \"type\": \"heatmap\"}], \"heatmapgl\": [{\"colorbar\": {\"outlinewidth\": 0, \"ticks\": \"\"}, \"colorscale\": [[0.0, \"#0d0887\"], [0.1111111111111111, \"#46039f\"], [0.2222222222222222, \"#7201a8\"], [0.3333333333333333, \"#9c179e\"], [0.4444444444444444, \"#bd3786\"], [0.5555555555555556, \"#d8576b\"], [0.6666666666666666, \"#ed7953\"], [0.7777777777777778, \"#fb9f3a\"], [0.8888888888888888, \"#fdca26\"], [1.0, \"#f0f921\"]], \"type\": \"heatmapgl\"}], \"histogram\": [{\"marker\": {\"colorbar\": {\"outlinewidth\": 0, \"ticks\": \"\"}}, \"type\": \"histogram\"}], \"histogram2d\": [{\"colorbar\": {\"outlinewidth\": 0, \"ticks\": \"\"}, \"colorscale\": [[0.0, \"#0d0887\"], [0.1111111111111111, \"#46039f\"], [0.2222222222222222, \"#7201a8\"], [0.3333333333333333, \"#9c179e\"], [0.4444444444444444, \"#bd3786\"], [0.5555555555555556, \"#d8576b\"], [0.6666666666666666, \"#ed7953\"], [0.7777777777777778, \"#fb9f3a\"], [0.8888888888888888, \"#fdca26\"], [1.0, \"#f0f921\"]], \"type\": \"histogram2d\"}], \"histogram2dcontour\": [{\"colorbar\": {\"outlinewidth\": 0, \"ticks\": \"\"}, \"colorscale\": [[0.0, \"#0d0887\"], [0.1111111111111111, \"#46039f\"], [0.2222222222222222, \"#7201a8\"], [0.3333333333333333, \"#9c179e\"], [0.4444444444444444, \"#bd3786\"], [0.5555555555555556, \"#d8576b\"], [0.6666666666666666, \"#ed7953\"], [0.7777777777777778, \"#fb9f3a\"], [0.8888888888888888, \"#fdca26\"], [1.0, \"#f0f921\"]], \"type\": \"histogram2dcontour\"}], \"mesh3d\": [{\"colorbar\": {\"outlinewidth\": 0, \"ticks\": \"\"}, \"type\": \"mesh3d\"}], \"parcoords\": [{\"line\": {\"colorbar\": {\"outlinewidth\": 0, \"ticks\": \"\"}}, \"type\": \"parcoords\"}], \"pie\": [{\"automargin\": true, \"type\": \"pie\"}], \"scatter\": [{\"marker\": {\"colorbar\": {\"outlinewidth\": 0, \"ticks\": \"\"}}, \"type\": \"scatter\"}], \"scatter3d\": [{\"line\": {\"colorbar\": {\"outlinewidth\": 0, \"ticks\": \"\"}}, \"marker\": {\"colorbar\": {\"outlinewidth\": 0, \"ticks\": \"\"}}, \"type\": \"scatter3d\"}], \"scattercarpet\": [{\"marker\": {\"colorbar\": {\"outlinewidth\": 0, \"ticks\": \"\"}}, \"type\": \"scattercarpet\"}], \"scattergeo\": [{\"marker\": {\"colorbar\": {\"outlinewidth\": 0, \"ticks\": \"\"}}, \"type\": \"scattergeo\"}], \"scattergl\": [{\"marker\": {\"colorbar\": {\"outlinewidth\": 0, \"ticks\": \"\"}}, \"type\": \"scattergl\"}], \"scattermapbox\": [{\"marker\": {\"colorbar\": {\"outlinewidth\": 0, \"ticks\": \"\"}}, \"type\": \"scattermapbox\"}], \"scatterpolar\": [{\"marker\": {\"colorbar\": {\"outlinewidth\": 0, \"ticks\": \"\"}}, \"type\": \"scatterpolar\"}], \"scatterpolargl\": [{\"marker\": {\"colorbar\": {\"outlinewidth\": 0, \"ticks\": \"\"}}, \"type\": \"scatterpolargl\"}], \"scatterternary\": [{\"marker\": {\"colorbar\": {\"outlinewidth\": 0, \"ticks\": \"\"}}, \"type\": \"scatterternary\"}], \"surface\": [{\"colorbar\": {\"outlinewidth\": 0, \"ticks\": \"\"}, \"colorscale\": [[0.0, \"#0d0887\"], [0.1111111111111111, \"#46039f\"], [0.2222222222222222, \"#7201a8\"], [0.3333333333333333, \"#9c179e\"], [0.4444444444444444, \"#bd3786\"], [0.5555555555555556, \"#d8576b\"], [0.6666666666666666, \"#ed7953\"], [0.7777777777777778, \"#fb9f3a\"], [0.8888888888888888, \"#fdca26\"], [1.0, \"#f0f921\"]], \"type\": \"surface\"}], \"table\": [{\"cells\": {\"fill\": {\"color\": \"#EBF0F8\"}, \"line\": {\"color\": \"white\"}}, \"header\": {\"fill\": {\"color\": \"#C8D4E3\"}, \"line\": {\"color\": \"white\"}}, \"type\": \"table\"}]}, \"layout\": {\"annotationdefaults\": {\"arrowcolor\": \"#2a3f5f\", \"arrowhead\": 0, \"arrowwidth\": 1}, \"coloraxis\": {\"colorbar\": {\"outlinewidth\": 0, \"ticks\": \"\"}}, \"colorscale\": {\"diverging\": [[0, \"#8e0152\"], [0.1, \"#c51b7d\"], [0.2, \"#de77ae\"], [0.3, \"#f1b6da\"], [0.4, \"#fde0ef\"], [0.5, \"#f7f7f7\"], [0.6, \"#e6f5d0\"], [0.7, \"#b8e186\"], [0.8, \"#7fbc41\"], [0.9, \"#4d9221\"], [1, \"#276419\"]], \"sequential\": [[0.0, \"#0d0887\"], [0.1111111111111111, \"#46039f\"], [0.2222222222222222, \"#7201a8\"], [0.3333333333333333, \"#9c179e\"], [0.4444444444444444, \"#bd3786\"], [0.5555555555555556, \"#d8576b\"], [0.6666666666666666, \"#ed7953\"], [0.7777777777777778, \"#fb9f3a\"], [0.8888888888888888, \"#fdca26\"], [1.0, \"#f0f921\"]], \"sequentialminus\": [[0.0, \"#0d0887\"], [0.1111111111111111, \"#46039f\"], [0.2222222222222222, \"#7201a8\"], [0.3333333333333333, \"#9c179e\"], [0.4444444444444444, \"#bd3786\"], [0.5555555555555556, \"#d8576b\"], [0.6666666666666666, \"#ed7953\"], [0.7777777777777778, \"#fb9f3a\"], [0.8888888888888888, \"#fdca26\"], [1.0, \"#f0f921\"]]}, \"colorway\": [\"#636efa\", \"#EF553B\", \"#00cc96\", \"#ab63fa\", \"#FFA15A\", \"#19d3f3\", \"#FF6692\", \"#B6E880\", \"#FF97FF\", \"#FECB52\"], \"font\": {\"color\": \"#2a3f5f\"}, \"geo\": {\"bgcolor\": \"white\", \"lakecolor\": \"white\", \"landcolor\": \"#E5ECF6\", \"showlakes\": true, \"showland\": true, \"subunitcolor\": \"white\"}, \"hoverlabel\": {\"align\": \"left\"}, \"hovermode\": \"closest\", \"mapbox\": {\"style\": \"light\"}, \"paper_bgcolor\": \"white\", \"plot_bgcolor\": \"#E5ECF6\", \"polar\": {\"angularaxis\": {\"gridcolor\": \"white\", \"linecolor\": \"white\", \"ticks\": \"\"}, \"bgcolor\": \"#E5ECF6\", \"radialaxis\": {\"gridcolor\": \"white\", \"linecolor\": \"white\", \"ticks\": \"\"}}, \"scene\": {\"xaxis\": {\"backgroundcolor\": \"#E5ECF6\", \"gridcolor\": \"white\", \"gridwidth\": 2, \"linecolor\": \"white\", \"showbackground\": true, \"ticks\": \"\", \"zerolinecolor\": \"white\"}, \"yaxis\": {\"backgroundcolor\": \"#E5ECF6\", \"gridcolor\": \"white\", \"gridwidth\": 2, \"linecolor\": \"white\", \"showbackground\": true, \"ticks\": \"\", \"zerolinecolor\": \"white\"}, \"zaxis\": {\"backgroundcolor\": \"#E5ECF6\", \"gridcolor\": \"white\", \"gridwidth\": 2, \"linecolor\": \"white\", \"showbackground\": true, \"ticks\": \"\", \"zerolinecolor\": \"white\"}}, \"shapedefaults\": {\"line\": {\"color\": \"#2a3f5f\"}}, \"ternary\": {\"aaxis\": {\"gridcolor\": \"white\", \"linecolor\": \"white\", \"ticks\": \"\"}, \"baxis\": {\"gridcolor\": \"white\", \"linecolor\": \"white\", \"ticks\": \"\"}, \"bgcolor\": \"#E5ECF6\", \"caxis\": {\"gridcolor\": \"white\", \"linecolor\": \"white\", \"ticks\": \"\"}}, \"title\": {\"x\": 0.05}, \"xaxis\": {\"automargin\": true, \"gridcolor\": \"white\", \"linecolor\": \"white\", \"ticks\": \"\", \"title\": {\"standoff\": 15}, \"zerolinecolor\": \"white\", \"zerolinewidth\": 2}, \"yaxis\": {\"automargin\": true, \"gridcolor\": \"white\", \"linecolor\": \"white\", \"ticks\": \"\", \"title\": {\"standoff\": 15}, \"zerolinecolor\": \"white\", \"zerolinewidth\": 2}}}, \"title\": {\"text\": \"Pertusiss WDHB by Ethnicity\"}, \"width\": 600, \"xaxis\": {\"tickangle\": 45, \"title\": {\"text\": \"Quarterly\"}, \"type\": \"category\"}, \"yaxis\": {\"tickformat\": \"%\", \"title\": {\"text\": \"Percentage\"}}},\n",
       "                        {\"responsive\": true}\n",
       "                    ).then(function(){\n",
       "                            \n",
       "var gd = document.getElementById('382ca8fb-4d93-463b-8fa1-85a9a14620a9');\n",
       "var x = new MutationObserver(function (mutations, observer) {{\n",
       "        var display = window.getComputedStyle(gd).display;\n",
       "        if (!display || display === 'none') {{\n",
       "            console.log([gd, 'removed!']);\n",
       "            Plotly.purge(gd);\n",
       "            observer.disconnect();\n",
       "        }}\n",
       "}});\n",
       "\n",
       "// Listen for the removal of the full notebook cells\n",
       "var notebookContainer = gd.closest('#notebook-container');\n",
       "if (notebookContainer) {{\n",
       "    x.observe(notebookContainer, {childList: true});\n",
       "}}\n",
       "\n",
       "// Listen for the clearing of the current output cell\n",
       "var outputEl = gd.closest('.output');\n",
       "if (outputEl) {{\n",
       "    x.observe(outputEl, {childList: true});\n",
       "}}\n",
       "\n",
       "                        })\n",
       "                };\n",
       "                });\n",
       "            </script>\n",
       "        </div>"
      ]
     },
     "metadata": {},
     "output_type": "display_data"
    }
   ],
   "source": [
    "import pandas as pd\n",
    "import matplotlib.pyplot as plt\n",
    "import plotly.graph_objects as go\n",
    "import numpy as np\n",
    "#DHBAll = pd.ExcelFile('G:/Funding Team/Planning/Health Information/HIAT/Michael Files/Antinatal Vaccination/April 2019 to March 2020/For Python.xlsx')\n",
    "#DHBPert = pd.read_excel(DHBAll, 'Pertussis Graphs', skiprows=5)\n",
    "WDHBEthnic = DHBPert[['Maori','Pacific','Asian', 'European_Other', 'Total']]\n",
    "WDHBEthnic=WDHBEthnic.round(3)\n",
    "WDHBEthnic=WDHBEthnic[:29]\n",
    "\n",
    "# Declare a list that is to be converted into a column \n",
    "Quarter = ['Q1_16', 'Q2_16', 'Q3_16', 'Q4_16','Q1_17', 'Q2_17', 'Q3_17', 'Q4_17','Q1_18', 'Q2_18', 'Q3_18', 'Q4_18','Q1_19', \n",
    "           'Q2_19', 'Q3_19', 'Q4_19','Q1_20', 'Q2_20', 'Q3_20', 'Q4_20',\n",
    "           'Q1_21', 'Q2_21', 'Q3_21', 'Q4_21','Q1_22', 'Q2_22', 'Q3_22', 'Q4_22', 'Q1_23'] \n",
    "# Using 'Address' as the column name \n",
    "# and equating it to the list \n",
    "WDHBEthnic['Quarter'] = Quarter \n",
    "WDHBEthnic=WDHBEthnic.dropna()\n",
    "random_x = WDHBEthnic[\"Quarter\"].tolist()\n",
    "# using to_numpy() \n",
    "random_y0 = WDHBEthnic['Maori'].tolist()   \n",
    "\n",
    "random_y1 = WDHBEthnic['Pacific'].tolist()  \n",
    "\n",
    "random_y2 = WDHBEthnic['Asian'].tolist()   \n",
    "random_y3 = WDHBEthnic['European_Other'].tolist() \n",
    "random_y4 = WDHBEthnic['Total'].tolist() \n",
    "\n",
    "import numpy as np\n",
    "\n",
    "# Create traces\n",
    "fig = go.Figure()\n",
    "fig.add_trace(go.Scatter(x=random_x, y=random_y0,\n",
    "                    mode='lines',\n",
    "                    name='Maori'))\n",
    "fig.add_trace(go.Scatter(x=random_x, y=random_y1,\n",
    "                    mode='lines+markers',\n",
    "                    name='Pacific'))\n",
    "fig.add_trace(go.Scatter(x=random_x, y=random_y2,\n",
    "                    mode='lines+markers',\n",
    "                    name='Asian'))\n",
    "fig.add_trace(go.Scatter(x=random_x, y=random_y3,\n",
    "                    mode='lines+markers',\n",
    "                    name='Others'))\n",
    "fig.add_trace(go.Scatter(x=random_x, y=random_y4,\n",
    "                    mode='lines+markers',\n",
    "                    name='Total'))\n",
    "# Edit the layout\n",
    "fig.update_layout(title='Pertusiss by Ethnicity',\n",
    "                   xaxis_title='Quarter',\n",
    "                   yaxis_title='Percentage')\n",
    "\n",
    "fig.update_layout(xaxis_type='category',\n",
    "                  title_text='Pertusiss WDHB by Ethnicity',\n",
    "                  xaxis_title='Quarterly',\n",
    "                  yaxis_title='Percentage')\n",
    "fig.update_xaxes(tickangle=45)\n",
    "fig.update_yaxes(tickformat=\"%\")\n",
    "fig.update_layout(showlegend=True)\n",
    "#fig.update_layout(legend_orientation=\"h\")\n",
    "fig.update_layout(\n",
    "    autosize=True,\n",
    "    width=600,\n",
    "    height=400,)\n",
    "fig.show()"
   ]
  },
  {
   "cell_type": "code",
   "execution_count": 188,
   "metadata": {
    "scrolled": false
   },
   "outputs": [
    {
     "data": {
      "application/vnd.plotly.v1+json": {
       "config": {
        "plotlyServerURL": "https://plotly.your-company.com"
       },
       "data": [
        {
         "mode": "lines",
         "name": "Maori",
         "type": "scatter",
         "x": [
          "Q1_16",
          "Q2_16",
          "Q3_16",
          "Q4_16",
          "Q1_17",
          "Q2_17",
          "Q3_17",
          "Q4_17",
          "Q1_18",
          "Q2_18",
          "Q3_18",
          "Q4_18",
          "Q1_19",
          "Q2_19",
          "Q3_19",
          "Q4_19",
          "Q1_20"
         ],
         "y": [
          0.057,
          0.09,
          0.136,
          0.092,
          0.091,
          0.126,
          0.182,
          0.161,
          0.171,
          0.207,
          0.212,
          0.2,
          0.176,
          0.246,
          0.233,
          0.229,
          0.191
         ]
        },
        {
         "mode": "lines+markers",
         "name": "Pacific",
         "type": "scatter",
         "x": [
          "Q1_16",
          "Q2_16",
          "Q3_16",
          "Q4_16",
          "Q1_17",
          "Q2_17",
          "Q3_17",
          "Q4_17",
          "Q1_18",
          "Q2_18",
          "Q3_18",
          "Q4_18",
          "Q1_19",
          "Q2_19",
          "Q3_19",
          "Q4_19",
          "Q1_20"
         ],
         "y": [
          0.063,
          0.119,
          0.167,
          0.154,
          0.111,
          0.21,
          0.195,
          0.167,
          0.244,
          0.292,
          0.294,
          0.286,
          0.336,
          0.383,
          0.359,
          0.317,
          0.348
         ]
        },
        {
         "mode": "lines+markers",
         "name": "Asian",
         "type": "scatter",
         "x": [
          "Q1_16",
          "Q2_16",
          "Q3_16",
          "Q4_16",
          "Q1_17",
          "Q2_17",
          "Q3_17",
          "Q4_17",
          "Q1_18",
          "Q2_18",
          "Q3_18",
          "Q4_18",
          "Q1_19",
          "Q2_19",
          "Q3_19",
          "Q4_19",
          "Q1_20"
         ],
         "y": [
          0.144,
          0.245,
          0.287,
          0.316,
          0.312,
          0.429,
          0.486,
          0.404,
          0.466,
          0.566,
          0.568,
          0.598,
          0.54,
          0.581,
          0.587,
          0.582,
          0.587
         ]
        },
        {
         "mode": "lines+markers",
         "name": "Others",
         "type": "scatter",
         "x": [
          "Q1_16",
          "Q2_16",
          "Q3_16",
          "Q4_16",
          "Q1_17",
          "Q2_17",
          "Q3_17",
          "Q4_17",
          "Q1_18",
          "Q2_18",
          "Q3_18",
          "Q4_18",
          "Q1_19",
          "Q2_19",
          "Q3_19",
          "Q4_19",
          "Q1_20"
         ],
         "y": [
          0.185,
          0.228,
          0.284,
          0.288,
          0.281,
          0.391,
          0.421,
          0.349,
          0.427,
          0.489,
          0.458,
          0.449,
          0.431,
          0.482,
          0.482,
          0.459,
          0.475
         ]
        },
        {
         "mode": "lines+markers",
         "name": "Total",
         "type": "scatter",
         "x": [
          "Q1_16",
          "Q2_16",
          "Q3_16",
          "Q4_16",
          "Q1_17",
          "Q2_17",
          "Q3_17",
          "Q4_17",
          "Q1_18",
          "Q2_18",
          "Q3_18",
          "Q4_18",
          "Q1_19",
          "Q2_19",
          "Q3_19",
          "Q4_19",
          "Q1_20"
         ],
         "y": [
          0.118,
          0.178,
          0.225,
          0.228,
          0.202,
          0.291,
          0.323,
          0.272,
          0.329,
          0.389,
          0.387,
          0.405,
          0.385,
          0.433,
          0.432,
          0.41,
          0.413
         ]
        }
       ],
       "layout": {
        "autosize": true,
        "height": 400,
        "showlegend": true,
        "template": {
         "data": {
          "bar": [
           {
            "error_x": {
             "color": "#2a3f5f"
            },
            "error_y": {
             "color": "#2a3f5f"
            },
            "marker": {
             "line": {
              "color": "#E5ECF6",
              "width": 0.5
             }
            },
            "type": "bar"
           }
          ],
          "barpolar": [
           {
            "marker": {
             "line": {
              "color": "#E5ECF6",
              "width": 0.5
             }
            },
            "type": "barpolar"
           }
          ],
          "carpet": [
           {
            "aaxis": {
             "endlinecolor": "#2a3f5f",
             "gridcolor": "white",
             "linecolor": "white",
             "minorgridcolor": "white",
             "startlinecolor": "#2a3f5f"
            },
            "baxis": {
             "endlinecolor": "#2a3f5f",
             "gridcolor": "white",
             "linecolor": "white",
             "minorgridcolor": "white",
             "startlinecolor": "#2a3f5f"
            },
            "type": "carpet"
           }
          ],
          "choropleth": [
           {
            "colorbar": {
             "outlinewidth": 0,
             "ticks": ""
            },
            "type": "choropleth"
           }
          ],
          "contour": [
           {
            "colorbar": {
             "outlinewidth": 0,
             "ticks": ""
            },
            "colorscale": [
             [
              0,
              "#0d0887"
             ],
             [
              0.1111111111111111,
              "#46039f"
             ],
             [
              0.2222222222222222,
              "#7201a8"
             ],
             [
              0.3333333333333333,
              "#9c179e"
             ],
             [
              0.4444444444444444,
              "#bd3786"
             ],
             [
              0.5555555555555556,
              "#d8576b"
             ],
             [
              0.6666666666666666,
              "#ed7953"
             ],
             [
              0.7777777777777778,
              "#fb9f3a"
             ],
             [
              0.8888888888888888,
              "#fdca26"
             ],
             [
              1,
              "#f0f921"
             ]
            ],
            "type": "contour"
           }
          ],
          "contourcarpet": [
           {
            "colorbar": {
             "outlinewidth": 0,
             "ticks": ""
            },
            "type": "contourcarpet"
           }
          ],
          "heatmap": [
           {
            "colorbar": {
             "outlinewidth": 0,
             "ticks": ""
            },
            "colorscale": [
             [
              0,
              "#0d0887"
             ],
             [
              0.1111111111111111,
              "#46039f"
             ],
             [
              0.2222222222222222,
              "#7201a8"
             ],
             [
              0.3333333333333333,
              "#9c179e"
             ],
             [
              0.4444444444444444,
              "#bd3786"
             ],
             [
              0.5555555555555556,
              "#d8576b"
             ],
             [
              0.6666666666666666,
              "#ed7953"
             ],
             [
              0.7777777777777778,
              "#fb9f3a"
             ],
             [
              0.8888888888888888,
              "#fdca26"
             ],
             [
              1,
              "#f0f921"
             ]
            ],
            "type": "heatmap"
           }
          ],
          "heatmapgl": [
           {
            "colorbar": {
             "outlinewidth": 0,
             "ticks": ""
            },
            "colorscale": [
             [
              0,
              "#0d0887"
             ],
             [
              0.1111111111111111,
              "#46039f"
             ],
             [
              0.2222222222222222,
              "#7201a8"
             ],
             [
              0.3333333333333333,
              "#9c179e"
             ],
             [
              0.4444444444444444,
              "#bd3786"
             ],
             [
              0.5555555555555556,
              "#d8576b"
             ],
             [
              0.6666666666666666,
              "#ed7953"
             ],
             [
              0.7777777777777778,
              "#fb9f3a"
             ],
             [
              0.8888888888888888,
              "#fdca26"
             ],
             [
              1,
              "#f0f921"
             ]
            ],
            "type": "heatmapgl"
           }
          ],
          "histogram": [
           {
            "marker": {
             "colorbar": {
              "outlinewidth": 0,
              "ticks": ""
             }
            },
            "type": "histogram"
           }
          ],
          "histogram2d": [
           {
            "colorbar": {
             "outlinewidth": 0,
             "ticks": ""
            },
            "colorscale": [
             [
              0,
              "#0d0887"
             ],
             [
              0.1111111111111111,
              "#46039f"
             ],
             [
              0.2222222222222222,
              "#7201a8"
             ],
             [
              0.3333333333333333,
              "#9c179e"
             ],
             [
              0.4444444444444444,
              "#bd3786"
             ],
             [
              0.5555555555555556,
              "#d8576b"
             ],
             [
              0.6666666666666666,
              "#ed7953"
             ],
             [
              0.7777777777777778,
              "#fb9f3a"
             ],
             [
              0.8888888888888888,
              "#fdca26"
             ],
             [
              1,
              "#f0f921"
             ]
            ],
            "type": "histogram2d"
           }
          ],
          "histogram2dcontour": [
           {
            "colorbar": {
             "outlinewidth": 0,
             "ticks": ""
            },
            "colorscale": [
             [
              0,
              "#0d0887"
             ],
             [
              0.1111111111111111,
              "#46039f"
             ],
             [
              0.2222222222222222,
              "#7201a8"
             ],
             [
              0.3333333333333333,
              "#9c179e"
             ],
             [
              0.4444444444444444,
              "#bd3786"
             ],
             [
              0.5555555555555556,
              "#d8576b"
             ],
             [
              0.6666666666666666,
              "#ed7953"
             ],
             [
              0.7777777777777778,
              "#fb9f3a"
             ],
             [
              0.8888888888888888,
              "#fdca26"
             ],
             [
              1,
              "#f0f921"
             ]
            ],
            "type": "histogram2dcontour"
           }
          ],
          "mesh3d": [
           {
            "colorbar": {
             "outlinewidth": 0,
             "ticks": ""
            },
            "type": "mesh3d"
           }
          ],
          "parcoords": [
           {
            "line": {
             "colorbar": {
              "outlinewidth": 0,
              "ticks": ""
             }
            },
            "type": "parcoords"
           }
          ],
          "pie": [
           {
            "automargin": true,
            "type": "pie"
           }
          ],
          "scatter": [
           {
            "marker": {
             "colorbar": {
              "outlinewidth": 0,
              "ticks": ""
             }
            },
            "type": "scatter"
           }
          ],
          "scatter3d": [
           {
            "line": {
             "colorbar": {
              "outlinewidth": 0,
              "ticks": ""
             }
            },
            "marker": {
             "colorbar": {
              "outlinewidth": 0,
              "ticks": ""
             }
            },
            "type": "scatter3d"
           }
          ],
          "scattercarpet": [
           {
            "marker": {
             "colorbar": {
              "outlinewidth": 0,
              "ticks": ""
             }
            },
            "type": "scattercarpet"
           }
          ],
          "scattergeo": [
           {
            "marker": {
             "colorbar": {
              "outlinewidth": 0,
              "ticks": ""
             }
            },
            "type": "scattergeo"
           }
          ],
          "scattergl": [
           {
            "marker": {
             "colorbar": {
              "outlinewidth": 0,
              "ticks": ""
             }
            },
            "type": "scattergl"
           }
          ],
          "scattermapbox": [
           {
            "marker": {
             "colorbar": {
              "outlinewidth": 0,
              "ticks": ""
             }
            },
            "type": "scattermapbox"
           }
          ],
          "scatterpolar": [
           {
            "marker": {
             "colorbar": {
              "outlinewidth": 0,
              "ticks": ""
             }
            },
            "type": "scatterpolar"
           }
          ],
          "scatterpolargl": [
           {
            "marker": {
             "colorbar": {
              "outlinewidth": 0,
              "ticks": ""
             }
            },
            "type": "scatterpolargl"
           }
          ],
          "scatterternary": [
           {
            "marker": {
             "colorbar": {
              "outlinewidth": 0,
              "ticks": ""
             }
            },
            "type": "scatterternary"
           }
          ],
          "surface": [
           {
            "colorbar": {
             "outlinewidth": 0,
             "ticks": ""
            },
            "colorscale": [
             [
              0,
              "#0d0887"
             ],
             [
              0.1111111111111111,
              "#46039f"
             ],
             [
              0.2222222222222222,
              "#7201a8"
             ],
             [
              0.3333333333333333,
              "#9c179e"
             ],
             [
              0.4444444444444444,
              "#bd3786"
             ],
             [
              0.5555555555555556,
              "#d8576b"
             ],
             [
              0.6666666666666666,
              "#ed7953"
             ],
             [
              0.7777777777777778,
              "#fb9f3a"
             ],
             [
              0.8888888888888888,
              "#fdca26"
             ],
             [
              1,
              "#f0f921"
             ]
            ],
            "type": "surface"
           }
          ],
          "table": [
           {
            "cells": {
             "fill": {
              "color": "#EBF0F8"
             },
             "line": {
              "color": "white"
             }
            },
            "header": {
             "fill": {
              "color": "#C8D4E3"
             },
             "line": {
              "color": "white"
             }
            },
            "type": "table"
           }
          ]
         },
         "layout": {
          "annotationdefaults": {
           "arrowcolor": "#2a3f5f",
           "arrowhead": 0,
           "arrowwidth": 1
          },
          "coloraxis": {
           "colorbar": {
            "outlinewidth": 0,
            "ticks": ""
           }
          },
          "colorscale": {
           "diverging": [
            [
             0,
             "#8e0152"
            ],
            [
             0.1,
             "#c51b7d"
            ],
            [
             0.2,
             "#de77ae"
            ],
            [
             0.3,
             "#f1b6da"
            ],
            [
             0.4,
             "#fde0ef"
            ],
            [
             0.5,
             "#f7f7f7"
            ],
            [
             0.6,
             "#e6f5d0"
            ],
            [
             0.7,
             "#b8e186"
            ],
            [
             0.8,
             "#7fbc41"
            ],
            [
             0.9,
             "#4d9221"
            ],
            [
             1,
             "#276419"
            ]
           ],
           "sequential": [
            [
             0,
             "#0d0887"
            ],
            [
             0.1111111111111111,
             "#46039f"
            ],
            [
             0.2222222222222222,
             "#7201a8"
            ],
            [
             0.3333333333333333,
             "#9c179e"
            ],
            [
             0.4444444444444444,
             "#bd3786"
            ],
            [
             0.5555555555555556,
             "#d8576b"
            ],
            [
             0.6666666666666666,
             "#ed7953"
            ],
            [
             0.7777777777777778,
             "#fb9f3a"
            ],
            [
             0.8888888888888888,
             "#fdca26"
            ],
            [
             1,
             "#f0f921"
            ]
           ],
           "sequentialminus": [
            [
             0,
             "#0d0887"
            ],
            [
             0.1111111111111111,
             "#46039f"
            ],
            [
             0.2222222222222222,
             "#7201a8"
            ],
            [
             0.3333333333333333,
             "#9c179e"
            ],
            [
             0.4444444444444444,
             "#bd3786"
            ],
            [
             0.5555555555555556,
             "#d8576b"
            ],
            [
             0.6666666666666666,
             "#ed7953"
            ],
            [
             0.7777777777777778,
             "#fb9f3a"
            ],
            [
             0.8888888888888888,
             "#fdca26"
            ],
            [
             1,
             "#f0f921"
            ]
           ]
          },
          "colorway": [
           "#636efa",
           "#EF553B",
           "#00cc96",
           "#ab63fa",
           "#FFA15A",
           "#19d3f3",
           "#FF6692",
           "#B6E880",
           "#FF97FF",
           "#FECB52"
          ],
          "font": {
           "color": "#2a3f5f"
          },
          "geo": {
           "bgcolor": "white",
           "lakecolor": "white",
           "landcolor": "#E5ECF6",
           "showlakes": true,
           "showland": true,
           "subunitcolor": "white"
          },
          "hoverlabel": {
           "align": "left"
          },
          "hovermode": "closest",
          "mapbox": {
           "style": "light"
          },
          "paper_bgcolor": "white",
          "plot_bgcolor": "#E5ECF6",
          "polar": {
           "angularaxis": {
            "gridcolor": "white",
            "linecolor": "white",
            "ticks": ""
           },
           "bgcolor": "#E5ECF6",
           "radialaxis": {
            "gridcolor": "white",
            "linecolor": "white",
            "ticks": ""
           }
          },
          "scene": {
           "xaxis": {
            "backgroundcolor": "#E5ECF6",
            "gridcolor": "white",
            "gridwidth": 2,
            "linecolor": "white",
            "showbackground": true,
            "ticks": "",
            "zerolinecolor": "white"
           },
           "yaxis": {
            "backgroundcolor": "#E5ECF6",
            "gridcolor": "white",
            "gridwidth": 2,
            "linecolor": "white",
            "showbackground": true,
            "ticks": "",
            "zerolinecolor": "white"
           },
           "zaxis": {
            "backgroundcolor": "#E5ECF6",
            "gridcolor": "white",
            "gridwidth": 2,
            "linecolor": "white",
            "showbackground": true,
            "ticks": "",
            "zerolinecolor": "white"
           }
          },
          "shapedefaults": {
           "line": {
            "color": "#2a3f5f"
           }
          },
          "ternary": {
           "aaxis": {
            "gridcolor": "white",
            "linecolor": "white",
            "ticks": ""
           },
           "baxis": {
            "gridcolor": "white",
            "linecolor": "white",
            "ticks": ""
           },
           "bgcolor": "#E5ECF6",
           "caxis": {
            "gridcolor": "white",
            "linecolor": "white",
            "ticks": ""
           }
          },
          "title": {
           "x": 0.05
          },
          "xaxis": {
           "automargin": true,
           "gridcolor": "white",
           "linecolor": "white",
           "ticks": "",
           "title": {
            "standoff": 15
           },
           "zerolinecolor": "white",
           "zerolinewidth": 2
          },
          "yaxis": {
           "automargin": true,
           "gridcolor": "white",
           "linecolor": "white",
           "ticks": "",
           "title": {
            "standoff": 15
           },
           "zerolinecolor": "white",
           "zerolinewidth": 2
          }
         }
        },
        "title": {
         "text": "Pertusiss CMDHB by Ethnicity"
        },
        "width": 600,
        "xaxis": {
         "tickangle": 45,
         "title": {
          "text": "Quarterly"
         },
         "type": "category"
        },
        "yaxis": {
         "tickformat": "%",
         "title": {
          "text": "% Vaccinated"
         }
        }
       }
      },
      "text/html": [
       "<div>\n",
       "        \n",
       "        \n",
       "            <div id=\"a683ee77-93da-4dd5-af4b-3ea2c88f996a\" class=\"plotly-graph-div\" style=\"height:400px; width:600px;\"></div>\n",
       "            <script type=\"text/javascript\">\n",
       "                require([\"plotly\"], function(Plotly) {\n",
       "                    window.PLOTLYENV=window.PLOTLYENV || {};\n",
       "                    \n",
       "                if (document.getElementById(\"a683ee77-93da-4dd5-af4b-3ea2c88f996a\")) {\n",
       "                    Plotly.newPlot(\n",
       "                        'a683ee77-93da-4dd5-af4b-3ea2c88f996a',\n",
       "                        [{\"mode\": \"lines\", \"name\": \"Maori\", \"type\": \"scatter\", \"x\": [\"Q1_16\", \"Q2_16\", \"Q3_16\", \"Q4_16\", \"Q1_17\", \"Q2_17\", \"Q3_17\", \"Q4_17\", \"Q1_18\", \"Q2_18\", \"Q3_18\", \"Q4_18\", \"Q1_19\", \"Q2_19\", \"Q3_19\", \"Q4_19\", \"Q1_20\"], \"y\": [0.057, 0.09, 0.136, 0.092, 0.091, 0.126, 0.182, 0.161, 0.171, 0.207, 0.212, 0.2, 0.176, 0.246, 0.233, 0.229, 0.191]}, {\"mode\": \"lines+markers\", \"name\": \"Pacific\", \"type\": \"scatter\", \"x\": [\"Q1_16\", \"Q2_16\", \"Q3_16\", \"Q4_16\", \"Q1_17\", \"Q2_17\", \"Q3_17\", \"Q4_17\", \"Q1_18\", \"Q2_18\", \"Q3_18\", \"Q4_18\", \"Q1_19\", \"Q2_19\", \"Q3_19\", \"Q4_19\", \"Q1_20\"], \"y\": [0.063, 0.119, 0.167, 0.154, 0.111, 0.21, 0.195, 0.167, 0.244, 0.292, 0.294, 0.286, 0.336, 0.383, 0.359, 0.317, 0.348]}, {\"mode\": \"lines+markers\", \"name\": \"Asian\", \"type\": \"scatter\", \"x\": [\"Q1_16\", \"Q2_16\", \"Q3_16\", \"Q4_16\", \"Q1_17\", \"Q2_17\", \"Q3_17\", \"Q4_17\", \"Q1_18\", \"Q2_18\", \"Q3_18\", \"Q4_18\", \"Q1_19\", \"Q2_19\", \"Q3_19\", \"Q4_19\", \"Q1_20\"], \"y\": [0.144, 0.245, 0.287, 0.316, 0.312, 0.429, 0.486, 0.404, 0.466, 0.566, 0.568, 0.598, 0.54, 0.581, 0.587, 0.582, 0.587]}, {\"mode\": \"lines+markers\", \"name\": \"Others\", \"type\": \"scatter\", \"x\": [\"Q1_16\", \"Q2_16\", \"Q3_16\", \"Q4_16\", \"Q1_17\", \"Q2_17\", \"Q3_17\", \"Q4_17\", \"Q1_18\", \"Q2_18\", \"Q3_18\", \"Q4_18\", \"Q1_19\", \"Q2_19\", \"Q3_19\", \"Q4_19\", \"Q1_20\"], \"y\": [0.185, 0.228, 0.284, 0.288, 0.281, 0.391, 0.421, 0.349, 0.427, 0.489, 0.458, 0.449, 0.431, 0.482, 0.482, 0.459, 0.475]}, {\"mode\": \"lines+markers\", \"name\": \"Total\", \"type\": \"scatter\", \"x\": [\"Q1_16\", \"Q2_16\", \"Q3_16\", \"Q4_16\", \"Q1_17\", \"Q2_17\", \"Q3_17\", \"Q4_17\", \"Q1_18\", \"Q2_18\", \"Q3_18\", \"Q4_18\", \"Q1_19\", \"Q2_19\", \"Q3_19\", \"Q4_19\", \"Q1_20\"], \"y\": [0.118, 0.178, 0.225, 0.228, 0.202, 0.291, 0.323, 0.272, 0.329, 0.389, 0.387, 0.405, 0.385, 0.433, 0.432, 0.41, 0.413]}],\n",
       "                        {\"autosize\": true, \"height\": 400, \"showlegend\": true, \"template\": {\"data\": {\"bar\": [{\"error_x\": {\"color\": \"#2a3f5f\"}, \"error_y\": {\"color\": \"#2a3f5f\"}, \"marker\": {\"line\": {\"color\": \"#E5ECF6\", \"width\": 0.5}}, \"type\": \"bar\"}], \"barpolar\": [{\"marker\": {\"line\": {\"color\": \"#E5ECF6\", \"width\": 0.5}}, \"type\": \"barpolar\"}], \"carpet\": [{\"aaxis\": {\"endlinecolor\": \"#2a3f5f\", \"gridcolor\": \"white\", \"linecolor\": \"white\", \"minorgridcolor\": \"white\", \"startlinecolor\": \"#2a3f5f\"}, \"baxis\": {\"endlinecolor\": \"#2a3f5f\", \"gridcolor\": \"white\", \"linecolor\": \"white\", \"minorgridcolor\": \"white\", \"startlinecolor\": \"#2a3f5f\"}, \"type\": \"carpet\"}], \"choropleth\": [{\"colorbar\": {\"outlinewidth\": 0, \"ticks\": \"\"}, \"type\": \"choropleth\"}], \"contour\": [{\"colorbar\": {\"outlinewidth\": 0, \"ticks\": \"\"}, \"colorscale\": [[0.0, \"#0d0887\"], [0.1111111111111111, \"#46039f\"], [0.2222222222222222, \"#7201a8\"], [0.3333333333333333, \"#9c179e\"], [0.4444444444444444, \"#bd3786\"], [0.5555555555555556, \"#d8576b\"], [0.6666666666666666, \"#ed7953\"], [0.7777777777777778, \"#fb9f3a\"], [0.8888888888888888, \"#fdca26\"], [1.0, \"#f0f921\"]], \"type\": \"contour\"}], \"contourcarpet\": [{\"colorbar\": {\"outlinewidth\": 0, \"ticks\": \"\"}, \"type\": \"contourcarpet\"}], \"heatmap\": [{\"colorbar\": {\"outlinewidth\": 0, \"ticks\": \"\"}, \"colorscale\": [[0.0, \"#0d0887\"], [0.1111111111111111, \"#46039f\"], [0.2222222222222222, \"#7201a8\"], [0.3333333333333333, \"#9c179e\"], [0.4444444444444444, \"#bd3786\"], [0.5555555555555556, \"#d8576b\"], [0.6666666666666666, \"#ed7953\"], [0.7777777777777778, \"#fb9f3a\"], [0.8888888888888888, \"#fdca26\"], [1.0, \"#f0f921\"]], \"type\": \"heatmap\"}], \"heatmapgl\": [{\"colorbar\": {\"outlinewidth\": 0, \"ticks\": \"\"}, \"colorscale\": [[0.0, \"#0d0887\"], [0.1111111111111111, \"#46039f\"], [0.2222222222222222, \"#7201a8\"], [0.3333333333333333, \"#9c179e\"], [0.4444444444444444, \"#bd3786\"], [0.5555555555555556, \"#d8576b\"], [0.6666666666666666, \"#ed7953\"], [0.7777777777777778, \"#fb9f3a\"], [0.8888888888888888, \"#fdca26\"], [1.0, \"#f0f921\"]], \"type\": \"heatmapgl\"}], \"histogram\": [{\"marker\": {\"colorbar\": {\"outlinewidth\": 0, \"ticks\": \"\"}}, \"type\": \"histogram\"}], \"histogram2d\": [{\"colorbar\": {\"outlinewidth\": 0, \"ticks\": \"\"}, \"colorscale\": [[0.0, \"#0d0887\"], [0.1111111111111111, \"#46039f\"], [0.2222222222222222, \"#7201a8\"], [0.3333333333333333, \"#9c179e\"], [0.4444444444444444, \"#bd3786\"], [0.5555555555555556, \"#d8576b\"], [0.6666666666666666, \"#ed7953\"], [0.7777777777777778, \"#fb9f3a\"], [0.8888888888888888, \"#fdca26\"], [1.0, \"#f0f921\"]], \"type\": \"histogram2d\"}], \"histogram2dcontour\": [{\"colorbar\": {\"outlinewidth\": 0, \"ticks\": \"\"}, \"colorscale\": [[0.0, \"#0d0887\"], [0.1111111111111111, \"#46039f\"], [0.2222222222222222, \"#7201a8\"], [0.3333333333333333, \"#9c179e\"], [0.4444444444444444, \"#bd3786\"], [0.5555555555555556, \"#d8576b\"], [0.6666666666666666, \"#ed7953\"], [0.7777777777777778, \"#fb9f3a\"], [0.8888888888888888, \"#fdca26\"], [1.0, \"#f0f921\"]], \"type\": \"histogram2dcontour\"}], \"mesh3d\": [{\"colorbar\": {\"outlinewidth\": 0, \"ticks\": \"\"}, \"type\": \"mesh3d\"}], \"parcoords\": [{\"line\": {\"colorbar\": {\"outlinewidth\": 0, \"ticks\": \"\"}}, \"type\": \"parcoords\"}], \"pie\": [{\"automargin\": true, \"type\": \"pie\"}], \"scatter\": [{\"marker\": {\"colorbar\": {\"outlinewidth\": 0, \"ticks\": \"\"}}, \"type\": \"scatter\"}], \"scatter3d\": [{\"line\": {\"colorbar\": {\"outlinewidth\": 0, \"ticks\": \"\"}}, \"marker\": {\"colorbar\": {\"outlinewidth\": 0, \"ticks\": \"\"}}, \"type\": \"scatter3d\"}], \"scattercarpet\": [{\"marker\": {\"colorbar\": {\"outlinewidth\": 0, \"ticks\": \"\"}}, \"type\": \"scattercarpet\"}], \"scattergeo\": [{\"marker\": {\"colorbar\": {\"outlinewidth\": 0, \"ticks\": \"\"}}, \"type\": \"scattergeo\"}], \"scattergl\": [{\"marker\": {\"colorbar\": {\"outlinewidth\": 0, \"ticks\": \"\"}}, \"type\": \"scattergl\"}], \"scattermapbox\": [{\"marker\": {\"colorbar\": {\"outlinewidth\": 0, \"ticks\": \"\"}}, \"type\": \"scattermapbox\"}], \"scatterpolar\": [{\"marker\": {\"colorbar\": {\"outlinewidth\": 0, \"ticks\": \"\"}}, \"type\": \"scatterpolar\"}], \"scatterpolargl\": [{\"marker\": {\"colorbar\": {\"outlinewidth\": 0, \"ticks\": \"\"}}, \"type\": \"scatterpolargl\"}], \"scatterternary\": [{\"marker\": {\"colorbar\": {\"outlinewidth\": 0, \"ticks\": \"\"}}, \"type\": \"scatterternary\"}], \"surface\": [{\"colorbar\": {\"outlinewidth\": 0, \"ticks\": \"\"}, \"colorscale\": [[0.0, \"#0d0887\"], [0.1111111111111111, \"#46039f\"], [0.2222222222222222, \"#7201a8\"], [0.3333333333333333, \"#9c179e\"], [0.4444444444444444, \"#bd3786\"], [0.5555555555555556, \"#d8576b\"], [0.6666666666666666, \"#ed7953\"], [0.7777777777777778, \"#fb9f3a\"], [0.8888888888888888, \"#fdca26\"], [1.0, \"#f0f921\"]], \"type\": \"surface\"}], \"table\": [{\"cells\": {\"fill\": {\"color\": \"#EBF0F8\"}, \"line\": {\"color\": \"white\"}}, \"header\": {\"fill\": {\"color\": \"#C8D4E3\"}, \"line\": {\"color\": \"white\"}}, \"type\": \"table\"}]}, \"layout\": {\"annotationdefaults\": {\"arrowcolor\": \"#2a3f5f\", \"arrowhead\": 0, \"arrowwidth\": 1}, \"coloraxis\": {\"colorbar\": {\"outlinewidth\": 0, \"ticks\": \"\"}}, \"colorscale\": {\"diverging\": [[0, \"#8e0152\"], [0.1, \"#c51b7d\"], [0.2, \"#de77ae\"], [0.3, \"#f1b6da\"], [0.4, \"#fde0ef\"], [0.5, \"#f7f7f7\"], [0.6, \"#e6f5d0\"], [0.7, \"#b8e186\"], [0.8, \"#7fbc41\"], [0.9, \"#4d9221\"], [1, \"#276419\"]], \"sequential\": [[0.0, \"#0d0887\"], [0.1111111111111111, \"#46039f\"], [0.2222222222222222, \"#7201a8\"], [0.3333333333333333, \"#9c179e\"], [0.4444444444444444, \"#bd3786\"], [0.5555555555555556, \"#d8576b\"], [0.6666666666666666, \"#ed7953\"], [0.7777777777777778, \"#fb9f3a\"], [0.8888888888888888, \"#fdca26\"], [1.0, \"#f0f921\"]], \"sequentialminus\": [[0.0, \"#0d0887\"], [0.1111111111111111, \"#46039f\"], [0.2222222222222222, \"#7201a8\"], [0.3333333333333333, \"#9c179e\"], [0.4444444444444444, \"#bd3786\"], [0.5555555555555556, \"#d8576b\"], [0.6666666666666666, \"#ed7953\"], [0.7777777777777778, \"#fb9f3a\"], [0.8888888888888888, \"#fdca26\"], [1.0, \"#f0f921\"]]}, \"colorway\": [\"#636efa\", \"#EF553B\", \"#00cc96\", \"#ab63fa\", \"#FFA15A\", \"#19d3f3\", \"#FF6692\", \"#B6E880\", \"#FF97FF\", \"#FECB52\"], \"font\": {\"color\": \"#2a3f5f\"}, \"geo\": {\"bgcolor\": \"white\", \"lakecolor\": \"white\", \"landcolor\": \"#E5ECF6\", \"showlakes\": true, \"showland\": true, \"subunitcolor\": \"white\"}, \"hoverlabel\": {\"align\": \"left\"}, \"hovermode\": \"closest\", \"mapbox\": {\"style\": \"light\"}, \"paper_bgcolor\": \"white\", \"plot_bgcolor\": \"#E5ECF6\", \"polar\": {\"angularaxis\": {\"gridcolor\": \"white\", \"linecolor\": \"white\", \"ticks\": \"\"}, \"bgcolor\": \"#E5ECF6\", \"radialaxis\": {\"gridcolor\": \"white\", \"linecolor\": \"white\", \"ticks\": \"\"}}, \"scene\": {\"xaxis\": {\"backgroundcolor\": \"#E5ECF6\", \"gridcolor\": \"white\", \"gridwidth\": 2, \"linecolor\": \"white\", \"showbackground\": true, \"ticks\": \"\", \"zerolinecolor\": \"white\"}, \"yaxis\": {\"backgroundcolor\": \"#E5ECF6\", \"gridcolor\": \"white\", \"gridwidth\": 2, \"linecolor\": \"white\", \"showbackground\": true, \"ticks\": \"\", \"zerolinecolor\": \"white\"}, \"zaxis\": {\"backgroundcolor\": \"#E5ECF6\", \"gridcolor\": \"white\", \"gridwidth\": 2, \"linecolor\": \"white\", \"showbackground\": true, \"ticks\": \"\", \"zerolinecolor\": \"white\"}}, \"shapedefaults\": {\"line\": {\"color\": \"#2a3f5f\"}}, \"ternary\": {\"aaxis\": {\"gridcolor\": \"white\", \"linecolor\": \"white\", \"ticks\": \"\"}, \"baxis\": {\"gridcolor\": \"white\", \"linecolor\": \"white\", \"ticks\": \"\"}, \"bgcolor\": \"#E5ECF6\", \"caxis\": {\"gridcolor\": \"white\", \"linecolor\": \"white\", \"ticks\": \"\"}}, \"title\": {\"x\": 0.05}, \"xaxis\": {\"automargin\": true, \"gridcolor\": \"white\", \"linecolor\": \"white\", \"ticks\": \"\", \"title\": {\"standoff\": 15}, \"zerolinecolor\": \"white\", \"zerolinewidth\": 2}, \"yaxis\": {\"automargin\": true, \"gridcolor\": \"white\", \"linecolor\": \"white\", \"ticks\": \"\", \"title\": {\"standoff\": 15}, \"zerolinecolor\": \"white\", \"zerolinewidth\": 2}}}, \"title\": {\"text\": \"Pertusiss CMDHB by Ethnicity\"}, \"width\": 600, \"xaxis\": {\"tickangle\": 45, \"title\": {\"text\": \"Quarterly\"}, \"type\": \"category\"}, \"yaxis\": {\"tickformat\": \"%\", \"title\": {\"text\": \"% Vaccinated\"}}},\n",
       "                        {\"responsive\": true}\n",
       "                    ).then(function(){\n",
       "                            \n",
       "var gd = document.getElementById('a683ee77-93da-4dd5-af4b-3ea2c88f996a');\n",
       "var x = new MutationObserver(function (mutations, observer) {{\n",
       "        var display = window.getComputedStyle(gd).display;\n",
       "        if (!display || display === 'none') {{\n",
       "            console.log([gd, 'removed!']);\n",
       "            Plotly.purge(gd);\n",
       "            observer.disconnect();\n",
       "        }}\n",
       "}});\n",
       "\n",
       "// Listen for the removal of the full notebook cells\n",
       "var notebookContainer = gd.closest('#notebook-container');\n",
       "if (notebookContainer) {{\n",
       "    x.observe(notebookContainer, {childList: true});\n",
       "}}\n",
       "\n",
       "// Listen for the clearing of the current output cell\n",
       "var outputEl = gd.closest('.output');\n",
       "if (outputEl) {{\n",
       "    x.observe(outputEl, {childList: true});\n",
       "}}\n",
       "\n",
       "                        })\n",
       "                };\n",
       "                });\n",
       "            </script>\n",
       "        </div>"
      ]
     },
     "metadata": {},
     "output_type": "display_data"
    }
   ],
   "source": [
    "import pandas as pd\n",
    "import matplotlib.pyplot as plt\n",
    "import plotly.graph_objects as go\n",
    "import numpy as np\n",
    "#DHBAll = pd.ExcelFile('G:/Funding Team/Planning/Health Information/HIAT/Michael Files/Antinatal Vaccination/April 2019 to March 2020/For Python.xlsx')\n",
    "#DHBPert = pd.read_excel(DHBAll, 'Pertussis Graphs', skiprows=5)\n",
    "CMDHBEthnic = DHBPert[['Maori_CM','Pacific_CM','Asian_CM', 'European_Other_CM', 'Total_CM']]\n",
    "CMDHBEthnic=CMDHBEthnic.round(3)\n",
    "CMDHBEthnic=CMDHBEthnic[:29]\n",
    "\n",
    "# Declare a list that is to be converted into a column \n",
    "Quarter = ['Q1_16', 'Q2_16', 'Q3_16', 'Q4_16','Q1_17', 'Q2_17', 'Q3_17', 'Q4_17','Q1_18', 'Q2_18', 'Q3_18', 'Q4_18','Q1_19', \n",
    "           'Q2_19', 'Q3_19', 'Q4_19','Q1_20', 'Q2_20', 'Q3_20', 'Q4_20',\n",
    "           'Q1_21', 'Q2_21', 'Q3_21', 'Q4_21','Q1_22', 'Q2_22', 'Q3_22', 'Q4_22', 'Q1_23'] \n",
    "# Using 'Address' as the column name \n",
    "# and equating it to the list \n",
    "CMDHBEthnic['Quarter'] = Quarter \n",
    "CMDHBEthnic=CMDHBEthnic.dropna()\n",
    "random_x = CMDHBEthnic[\"Quarter\"].tolist()\n",
    "# using to_numpy() \n",
    "random_y0 = CMDHBEthnic['Maori_CM'].tolist()   \n",
    "\n",
    "random_y1 = CMDHBEthnic['Pacific_CM'].tolist()  \n",
    "\n",
    "random_y2 = CMDHBEthnic['Asian_CM'].tolist()   \n",
    "random_y3 = CMDHBEthnic['European_Other_CM'].tolist() \n",
    "random_y4 = CMDHBEthnic['Total_CM'].tolist() \n",
    "\n",
    "import numpy as np\n",
    "\n",
    "# Create traces\n",
    "fig = go.Figure()\n",
    "fig.add_trace(go.Scatter(x=random_x, y=random_y0,\n",
    "                    mode='lines',\n",
    "                    name='Maori'))\n",
    "fig.add_trace(go.Scatter(x=random_x, y=random_y1,\n",
    "                    mode='lines+markers',\n",
    "                    name='Pacific'))\n",
    "fig.add_trace(go.Scatter(x=random_x, y=random_y2,\n",
    "                    mode='lines+markers',\n",
    "                    name='Asian'))\n",
    "fig.add_trace(go.Scatter(x=random_x, y=random_y3,\n",
    "                    mode='lines+markers',\n",
    "                    name='Others'))\n",
    "fig.add_trace(go.Scatter(x=random_x, y=random_y4,\n",
    "                    mode='lines+markers',\n",
    "                    name='Total'))\n",
    "# Edit the layout\n",
    "fig.update_layout(title='Pertusiss by Ethnicity',\n",
    "                   xaxis_title='Quarter',\n",
    "                   yaxis_title='Percentage')\n",
    "\n",
    "fig.update_layout(xaxis_type='category',\n",
    "                  title_text='Pertusiss CMDHB by Ethnicity',\n",
    "                  xaxis_title='Quarterly',\n",
    "                  yaxis_title='% Vaccinated')\n",
    "fig.update_xaxes(tickangle=45)\n",
    "fig.update_yaxes(tickformat=\"%\")\n",
    "fig.update_layout(showlegend=True)\n",
    "#fig.update_layout(legend_orientation=\"h\")\n",
    "fig.update_layout(\n",
    "    autosize=True,\n",
    "    width=600,\n",
    "    height=400,)\n",
    "fig.show()"
   ]
  },
  {
   "cell_type": "code",
   "execution_count": 189,
   "metadata": {},
   "outputs": [
    {
     "data": {
      "application/vnd.plotly.v1+json": {
       "config": {
        "plotlyServerURL": "https://plotly.your-company.com"
       },
       "data": [
        {
         "mode": "lines",
         "name": "Maori",
         "type": "scatter",
         "x": [
          "Q1_16",
          "Q2_16",
          "Q3_16",
          "Q4_16",
          "Q1_17",
          "Q2_17",
          "Q3_17",
          "Q4_17",
          "Q1_18",
          "Q2_18",
          "Q3_18",
          "Q4_18",
          "Q1_19",
          "Q2_19",
          "Q3_19",
          "Q4_19",
          "Q1_20"
         ],
         "y": [
          0.056,
          0.121,
          0.159,
          0.169,
          0.209,
          0.226,
          0.244,
          0.277,
          0.273,
          0.374,
          0.402,
          0.264,
          0.313,
          0.348,
          0.371,
          0.315,
          0.337
         ]
        },
        {
         "mode": "lines+markers",
         "name": "Pacific",
         "type": "scatter",
         "x": [
          "Q1_16",
          "Q2_16",
          "Q3_16",
          "Q4_16",
          "Q1_17",
          "Q2_17",
          "Q3_17",
          "Q4_17",
          "Q1_18",
          "Q2_18",
          "Q3_18",
          "Q4_18",
          "Q1_19",
          "Q2_19",
          "Q3_19",
          "Q4_19",
          "Q1_20"
         ],
         "y": [
          0.089,
          0.128,
          0.257,
          0.196,
          0.228,
          0.256,
          0.274,
          0.299,
          0.277,
          0.313,
          0.312,
          0.279,
          0.388,
          0.487,
          0.412,
          0.415,
          0.442
         ]
        },
        {
         "mode": "lines+markers",
         "name": "Asian",
         "type": "scatter",
         "x": [
          "Q1_16",
          "Q2_16",
          "Q3_16",
          "Q4_16",
          "Q1_17",
          "Q2_17",
          "Q3_17",
          "Q4_17",
          "Q1_18",
          "Q2_18",
          "Q3_18",
          "Q4_18",
          "Q1_19",
          "Q2_19",
          "Q3_19",
          "Q4_19",
          "Q1_20"
         ],
         "y": [
          0.248,
          0.396,
          0.443,
          0.499,
          0.444,
          0.542,
          0.529,
          0.582,
          0.568,
          0.628,
          0.644,
          0.633,
          0.633,
          0.706,
          0.75,
          0.69,
          0.692
         ]
        },
        {
         "mode": "lines+markers",
         "name": "Others",
         "type": "scatter",
         "x": [
          "Q1_16",
          "Q2_16",
          "Q3_16",
          "Q4_16",
          "Q1_17",
          "Q2_17",
          "Q3_17",
          "Q4_17",
          "Q1_18",
          "Q2_18",
          "Q3_18",
          "Q4_18",
          "Q1_19",
          "Q2_19",
          "Q3_19",
          "Q4_19",
          "Q1_20"
         ],
         "y": [
          0.367,
          0.445,
          0.478,
          0.5,
          0.511,
          0.538,
          0.583,
          0.599,
          0.571,
          0.62,
          0.589,
          0.576,
          0.569,
          0.659,
          0.62,
          0.598,
          0.641
         ]
        },
        {
         "mode": "lines+markers",
         "name": "Total",
         "type": "scatter",
         "x": [
          "Q1_16",
          "Q2_16",
          "Q3_16",
          "Q4_16",
          "Q1_17",
          "Q2_17",
          "Q3_17",
          "Q4_17",
          "Q1_18",
          "Q2_18",
          "Q3_18",
          "Q4_18",
          "Q1_19",
          "Q2_19",
          "Q3_19",
          "Q4_19",
          "Q1_20"
         ],
         "y": [
          0.264,
          0.362,
          0.41,
          0.442,
          0.419,
          0.467,
          0.485,
          0.515,
          0.501,
          0.549,
          0.547,
          0.534,
          0.539,
          0.624,
          0.617,
          0.58,
          0.598
         ]
        }
       ],
       "layout": {
        "autosize": true,
        "height": 400,
        "showlegend": true,
        "template": {
         "data": {
          "bar": [
           {
            "error_x": {
             "color": "#2a3f5f"
            },
            "error_y": {
             "color": "#2a3f5f"
            },
            "marker": {
             "line": {
              "color": "#E5ECF6",
              "width": 0.5
             }
            },
            "type": "bar"
           }
          ],
          "barpolar": [
           {
            "marker": {
             "line": {
              "color": "#E5ECF6",
              "width": 0.5
             }
            },
            "type": "barpolar"
           }
          ],
          "carpet": [
           {
            "aaxis": {
             "endlinecolor": "#2a3f5f",
             "gridcolor": "white",
             "linecolor": "white",
             "minorgridcolor": "white",
             "startlinecolor": "#2a3f5f"
            },
            "baxis": {
             "endlinecolor": "#2a3f5f",
             "gridcolor": "white",
             "linecolor": "white",
             "minorgridcolor": "white",
             "startlinecolor": "#2a3f5f"
            },
            "type": "carpet"
           }
          ],
          "choropleth": [
           {
            "colorbar": {
             "outlinewidth": 0,
             "ticks": ""
            },
            "type": "choropleth"
           }
          ],
          "contour": [
           {
            "colorbar": {
             "outlinewidth": 0,
             "ticks": ""
            },
            "colorscale": [
             [
              0,
              "#0d0887"
             ],
             [
              0.1111111111111111,
              "#46039f"
             ],
             [
              0.2222222222222222,
              "#7201a8"
             ],
             [
              0.3333333333333333,
              "#9c179e"
             ],
             [
              0.4444444444444444,
              "#bd3786"
             ],
             [
              0.5555555555555556,
              "#d8576b"
             ],
             [
              0.6666666666666666,
              "#ed7953"
             ],
             [
              0.7777777777777778,
              "#fb9f3a"
             ],
             [
              0.8888888888888888,
              "#fdca26"
             ],
             [
              1,
              "#f0f921"
             ]
            ],
            "type": "contour"
           }
          ],
          "contourcarpet": [
           {
            "colorbar": {
             "outlinewidth": 0,
             "ticks": ""
            },
            "type": "contourcarpet"
           }
          ],
          "heatmap": [
           {
            "colorbar": {
             "outlinewidth": 0,
             "ticks": ""
            },
            "colorscale": [
             [
              0,
              "#0d0887"
             ],
             [
              0.1111111111111111,
              "#46039f"
             ],
             [
              0.2222222222222222,
              "#7201a8"
             ],
             [
              0.3333333333333333,
              "#9c179e"
             ],
             [
              0.4444444444444444,
              "#bd3786"
             ],
             [
              0.5555555555555556,
              "#d8576b"
             ],
             [
              0.6666666666666666,
              "#ed7953"
             ],
             [
              0.7777777777777778,
              "#fb9f3a"
             ],
             [
              0.8888888888888888,
              "#fdca26"
             ],
             [
              1,
              "#f0f921"
             ]
            ],
            "type": "heatmap"
           }
          ],
          "heatmapgl": [
           {
            "colorbar": {
             "outlinewidth": 0,
             "ticks": ""
            },
            "colorscale": [
             [
              0,
              "#0d0887"
             ],
             [
              0.1111111111111111,
              "#46039f"
             ],
             [
              0.2222222222222222,
              "#7201a8"
             ],
             [
              0.3333333333333333,
              "#9c179e"
             ],
             [
              0.4444444444444444,
              "#bd3786"
             ],
             [
              0.5555555555555556,
              "#d8576b"
             ],
             [
              0.6666666666666666,
              "#ed7953"
             ],
             [
              0.7777777777777778,
              "#fb9f3a"
             ],
             [
              0.8888888888888888,
              "#fdca26"
             ],
             [
              1,
              "#f0f921"
             ]
            ],
            "type": "heatmapgl"
           }
          ],
          "histogram": [
           {
            "marker": {
             "colorbar": {
              "outlinewidth": 0,
              "ticks": ""
             }
            },
            "type": "histogram"
           }
          ],
          "histogram2d": [
           {
            "colorbar": {
             "outlinewidth": 0,
             "ticks": ""
            },
            "colorscale": [
             [
              0,
              "#0d0887"
             ],
             [
              0.1111111111111111,
              "#46039f"
             ],
             [
              0.2222222222222222,
              "#7201a8"
             ],
             [
              0.3333333333333333,
              "#9c179e"
             ],
             [
              0.4444444444444444,
              "#bd3786"
             ],
             [
              0.5555555555555556,
              "#d8576b"
             ],
             [
              0.6666666666666666,
              "#ed7953"
             ],
             [
              0.7777777777777778,
              "#fb9f3a"
             ],
             [
              0.8888888888888888,
              "#fdca26"
             ],
             [
              1,
              "#f0f921"
             ]
            ],
            "type": "histogram2d"
           }
          ],
          "histogram2dcontour": [
           {
            "colorbar": {
             "outlinewidth": 0,
             "ticks": ""
            },
            "colorscale": [
             [
              0,
              "#0d0887"
             ],
             [
              0.1111111111111111,
              "#46039f"
             ],
             [
              0.2222222222222222,
              "#7201a8"
             ],
             [
              0.3333333333333333,
              "#9c179e"
             ],
             [
              0.4444444444444444,
              "#bd3786"
             ],
             [
              0.5555555555555556,
              "#d8576b"
             ],
             [
              0.6666666666666666,
              "#ed7953"
             ],
             [
              0.7777777777777778,
              "#fb9f3a"
             ],
             [
              0.8888888888888888,
              "#fdca26"
             ],
             [
              1,
              "#f0f921"
             ]
            ],
            "type": "histogram2dcontour"
           }
          ],
          "mesh3d": [
           {
            "colorbar": {
             "outlinewidth": 0,
             "ticks": ""
            },
            "type": "mesh3d"
           }
          ],
          "parcoords": [
           {
            "line": {
             "colorbar": {
              "outlinewidth": 0,
              "ticks": ""
             }
            },
            "type": "parcoords"
           }
          ],
          "pie": [
           {
            "automargin": true,
            "type": "pie"
           }
          ],
          "scatter": [
           {
            "marker": {
             "colorbar": {
              "outlinewidth": 0,
              "ticks": ""
             }
            },
            "type": "scatter"
           }
          ],
          "scatter3d": [
           {
            "line": {
             "colorbar": {
              "outlinewidth": 0,
              "ticks": ""
             }
            },
            "marker": {
             "colorbar": {
              "outlinewidth": 0,
              "ticks": ""
             }
            },
            "type": "scatter3d"
           }
          ],
          "scattercarpet": [
           {
            "marker": {
             "colorbar": {
              "outlinewidth": 0,
              "ticks": ""
             }
            },
            "type": "scattercarpet"
           }
          ],
          "scattergeo": [
           {
            "marker": {
             "colorbar": {
              "outlinewidth": 0,
              "ticks": ""
             }
            },
            "type": "scattergeo"
           }
          ],
          "scattergl": [
           {
            "marker": {
             "colorbar": {
              "outlinewidth": 0,
              "ticks": ""
             }
            },
            "type": "scattergl"
           }
          ],
          "scattermapbox": [
           {
            "marker": {
             "colorbar": {
              "outlinewidth": 0,
              "ticks": ""
             }
            },
            "type": "scattermapbox"
           }
          ],
          "scatterpolar": [
           {
            "marker": {
             "colorbar": {
              "outlinewidth": 0,
              "ticks": ""
             }
            },
            "type": "scatterpolar"
           }
          ],
          "scatterpolargl": [
           {
            "marker": {
             "colorbar": {
              "outlinewidth": 0,
              "ticks": ""
             }
            },
            "type": "scatterpolargl"
           }
          ],
          "scatterternary": [
           {
            "marker": {
             "colorbar": {
              "outlinewidth": 0,
              "ticks": ""
             }
            },
            "type": "scatterternary"
           }
          ],
          "surface": [
           {
            "colorbar": {
             "outlinewidth": 0,
             "ticks": ""
            },
            "colorscale": [
             [
              0,
              "#0d0887"
             ],
             [
              0.1111111111111111,
              "#46039f"
             ],
             [
              0.2222222222222222,
              "#7201a8"
             ],
             [
              0.3333333333333333,
              "#9c179e"
             ],
             [
              0.4444444444444444,
              "#bd3786"
             ],
             [
              0.5555555555555556,
              "#d8576b"
             ],
             [
              0.6666666666666666,
              "#ed7953"
             ],
             [
              0.7777777777777778,
              "#fb9f3a"
             ],
             [
              0.8888888888888888,
              "#fdca26"
             ],
             [
              1,
              "#f0f921"
             ]
            ],
            "type": "surface"
           }
          ],
          "table": [
           {
            "cells": {
             "fill": {
              "color": "#EBF0F8"
             },
             "line": {
              "color": "white"
             }
            },
            "header": {
             "fill": {
              "color": "#C8D4E3"
             },
             "line": {
              "color": "white"
             }
            },
            "type": "table"
           }
          ]
         },
         "layout": {
          "annotationdefaults": {
           "arrowcolor": "#2a3f5f",
           "arrowhead": 0,
           "arrowwidth": 1
          },
          "coloraxis": {
           "colorbar": {
            "outlinewidth": 0,
            "ticks": ""
           }
          },
          "colorscale": {
           "diverging": [
            [
             0,
             "#8e0152"
            ],
            [
             0.1,
             "#c51b7d"
            ],
            [
             0.2,
             "#de77ae"
            ],
            [
             0.3,
             "#f1b6da"
            ],
            [
             0.4,
             "#fde0ef"
            ],
            [
             0.5,
             "#f7f7f7"
            ],
            [
             0.6,
             "#e6f5d0"
            ],
            [
             0.7,
             "#b8e186"
            ],
            [
             0.8,
             "#7fbc41"
            ],
            [
             0.9,
             "#4d9221"
            ],
            [
             1,
             "#276419"
            ]
           ],
           "sequential": [
            [
             0,
             "#0d0887"
            ],
            [
             0.1111111111111111,
             "#46039f"
            ],
            [
             0.2222222222222222,
             "#7201a8"
            ],
            [
             0.3333333333333333,
             "#9c179e"
            ],
            [
             0.4444444444444444,
             "#bd3786"
            ],
            [
             0.5555555555555556,
             "#d8576b"
            ],
            [
             0.6666666666666666,
             "#ed7953"
            ],
            [
             0.7777777777777778,
             "#fb9f3a"
            ],
            [
             0.8888888888888888,
             "#fdca26"
            ],
            [
             1,
             "#f0f921"
            ]
           ],
           "sequentialminus": [
            [
             0,
             "#0d0887"
            ],
            [
             0.1111111111111111,
             "#46039f"
            ],
            [
             0.2222222222222222,
             "#7201a8"
            ],
            [
             0.3333333333333333,
             "#9c179e"
            ],
            [
             0.4444444444444444,
             "#bd3786"
            ],
            [
             0.5555555555555556,
             "#d8576b"
            ],
            [
             0.6666666666666666,
             "#ed7953"
            ],
            [
             0.7777777777777778,
             "#fb9f3a"
            ],
            [
             0.8888888888888888,
             "#fdca26"
            ],
            [
             1,
             "#f0f921"
            ]
           ]
          },
          "colorway": [
           "#636efa",
           "#EF553B",
           "#00cc96",
           "#ab63fa",
           "#FFA15A",
           "#19d3f3",
           "#FF6692",
           "#B6E880",
           "#FF97FF",
           "#FECB52"
          ],
          "font": {
           "color": "#2a3f5f"
          },
          "geo": {
           "bgcolor": "white",
           "lakecolor": "white",
           "landcolor": "#E5ECF6",
           "showlakes": true,
           "showland": true,
           "subunitcolor": "white"
          },
          "hoverlabel": {
           "align": "left"
          },
          "hovermode": "closest",
          "mapbox": {
           "style": "light"
          },
          "paper_bgcolor": "white",
          "plot_bgcolor": "#E5ECF6",
          "polar": {
           "angularaxis": {
            "gridcolor": "white",
            "linecolor": "white",
            "ticks": ""
           },
           "bgcolor": "#E5ECF6",
           "radialaxis": {
            "gridcolor": "white",
            "linecolor": "white",
            "ticks": ""
           }
          },
          "scene": {
           "xaxis": {
            "backgroundcolor": "#E5ECF6",
            "gridcolor": "white",
            "gridwidth": 2,
            "linecolor": "white",
            "showbackground": true,
            "ticks": "",
            "zerolinecolor": "white"
           },
           "yaxis": {
            "backgroundcolor": "#E5ECF6",
            "gridcolor": "white",
            "gridwidth": 2,
            "linecolor": "white",
            "showbackground": true,
            "ticks": "",
            "zerolinecolor": "white"
           },
           "zaxis": {
            "backgroundcolor": "#E5ECF6",
            "gridcolor": "white",
            "gridwidth": 2,
            "linecolor": "white",
            "showbackground": true,
            "ticks": "",
            "zerolinecolor": "white"
           }
          },
          "shapedefaults": {
           "line": {
            "color": "#2a3f5f"
           }
          },
          "ternary": {
           "aaxis": {
            "gridcolor": "white",
            "linecolor": "white",
            "ticks": ""
           },
           "baxis": {
            "gridcolor": "white",
            "linecolor": "white",
            "ticks": ""
           },
           "bgcolor": "#E5ECF6",
           "caxis": {
            "gridcolor": "white",
            "linecolor": "white",
            "ticks": ""
           }
          },
          "title": {
           "x": 0.05
          },
          "xaxis": {
           "automargin": true,
           "gridcolor": "white",
           "linecolor": "white",
           "ticks": "",
           "title": {
            "standoff": 15
           },
           "zerolinecolor": "white",
           "zerolinewidth": 2
          },
          "yaxis": {
           "automargin": true,
           "gridcolor": "white",
           "linecolor": "white",
           "ticks": "",
           "title": {
            "standoff": 15
           },
           "zerolinecolor": "white",
           "zerolinewidth": 2
          }
         }
        },
        "title": {
         "text": "Pertusiss ADHB by Ethnicity"
        },
        "width": 600,
        "xaxis": {
         "tickangle": 45,
         "title": {
          "text": "Quarterly"
         },
         "type": "category"
        },
        "yaxis": {
         "tickformat": "%",
         "title": {
          "text": "% Vaccinated"
         }
        }
       }
      },
      "text/html": [
       "<div>\n",
       "        \n",
       "        \n",
       "            <div id=\"a8bc4abc-d46b-42a5-a792-cddebbafcc5c\" class=\"plotly-graph-div\" style=\"height:400px; width:600px;\"></div>\n",
       "            <script type=\"text/javascript\">\n",
       "                require([\"plotly\"], function(Plotly) {\n",
       "                    window.PLOTLYENV=window.PLOTLYENV || {};\n",
       "                    \n",
       "                if (document.getElementById(\"a8bc4abc-d46b-42a5-a792-cddebbafcc5c\")) {\n",
       "                    Plotly.newPlot(\n",
       "                        'a8bc4abc-d46b-42a5-a792-cddebbafcc5c',\n",
       "                        [{\"mode\": \"lines\", \"name\": \"Maori\", \"type\": \"scatter\", \"x\": [\"Q1_16\", \"Q2_16\", \"Q3_16\", \"Q4_16\", \"Q1_17\", \"Q2_17\", \"Q3_17\", \"Q4_17\", \"Q1_18\", \"Q2_18\", \"Q3_18\", \"Q4_18\", \"Q1_19\", \"Q2_19\", \"Q3_19\", \"Q4_19\", \"Q1_20\"], \"y\": [0.056, 0.121, 0.159, 0.169, 0.209, 0.226, 0.244, 0.277, 0.273, 0.374, 0.402, 0.264, 0.313, 0.348, 0.371, 0.315, 0.337]}, {\"mode\": \"lines+markers\", \"name\": \"Pacific\", \"type\": \"scatter\", \"x\": [\"Q1_16\", \"Q2_16\", \"Q3_16\", \"Q4_16\", \"Q1_17\", \"Q2_17\", \"Q3_17\", \"Q4_17\", \"Q1_18\", \"Q2_18\", \"Q3_18\", \"Q4_18\", \"Q1_19\", \"Q2_19\", \"Q3_19\", \"Q4_19\", \"Q1_20\"], \"y\": [0.089, 0.128, 0.257, 0.196, 0.228, 0.256, 0.274, 0.299, 0.277, 0.313, 0.312, 0.279, 0.388, 0.487, 0.412, 0.415, 0.442]}, {\"mode\": \"lines+markers\", \"name\": \"Asian\", \"type\": \"scatter\", \"x\": [\"Q1_16\", \"Q2_16\", \"Q3_16\", \"Q4_16\", \"Q1_17\", \"Q2_17\", \"Q3_17\", \"Q4_17\", \"Q1_18\", \"Q2_18\", \"Q3_18\", \"Q4_18\", \"Q1_19\", \"Q2_19\", \"Q3_19\", \"Q4_19\", \"Q1_20\"], \"y\": [0.248, 0.396, 0.443, 0.499, 0.444, 0.542, 0.529, 0.582, 0.568, 0.628, 0.644, 0.633, 0.633, 0.706, 0.75, 0.69, 0.692]}, {\"mode\": \"lines+markers\", \"name\": \"Others\", \"type\": \"scatter\", \"x\": [\"Q1_16\", \"Q2_16\", \"Q3_16\", \"Q4_16\", \"Q1_17\", \"Q2_17\", \"Q3_17\", \"Q4_17\", \"Q1_18\", \"Q2_18\", \"Q3_18\", \"Q4_18\", \"Q1_19\", \"Q2_19\", \"Q3_19\", \"Q4_19\", \"Q1_20\"], \"y\": [0.367, 0.445, 0.478, 0.5, 0.511, 0.538, 0.583, 0.599, 0.571, 0.62, 0.589, 0.576, 0.569, 0.659, 0.62, 0.598, 0.641]}, {\"mode\": \"lines+markers\", \"name\": \"Total\", \"type\": \"scatter\", \"x\": [\"Q1_16\", \"Q2_16\", \"Q3_16\", \"Q4_16\", \"Q1_17\", \"Q2_17\", \"Q3_17\", \"Q4_17\", \"Q1_18\", \"Q2_18\", \"Q3_18\", \"Q4_18\", \"Q1_19\", \"Q2_19\", \"Q3_19\", \"Q4_19\", \"Q1_20\"], \"y\": [0.264, 0.362, 0.41, 0.442, 0.419, 0.467, 0.485, 0.515, 0.501, 0.549, 0.547, 0.534, 0.539, 0.624, 0.617, 0.58, 0.598]}],\n",
       "                        {\"autosize\": true, \"height\": 400, \"showlegend\": true, \"template\": {\"data\": {\"bar\": [{\"error_x\": {\"color\": \"#2a3f5f\"}, \"error_y\": {\"color\": \"#2a3f5f\"}, \"marker\": {\"line\": {\"color\": \"#E5ECF6\", \"width\": 0.5}}, \"type\": \"bar\"}], \"barpolar\": [{\"marker\": {\"line\": {\"color\": \"#E5ECF6\", \"width\": 0.5}}, \"type\": \"barpolar\"}], \"carpet\": [{\"aaxis\": {\"endlinecolor\": \"#2a3f5f\", \"gridcolor\": \"white\", \"linecolor\": \"white\", \"minorgridcolor\": \"white\", \"startlinecolor\": \"#2a3f5f\"}, \"baxis\": {\"endlinecolor\": \"#2a3f5f\", \"gridcolor\": \"white\", \"linecolor\": \"white\", \"minorgridcolor\": \"white\", \"startlinecolor\": \"#2a3f5f\"}, \"type\": \"carpet\"}], \"choropleth\": [{\"colorbar\": {\"outlinewidth\": 0, \"ticks\": \"\"}, \"type\": \"choropleth\"}], \"contour\": [{\"colorbar\": {\"outlinewidth\": 0, \"ticks\": \"\"}, \"colorscale\": [[0.0, \"#0d0887\"], [0.1111111111111111, \"#46039f\"], [0.2222222222222222, \"#7201a8\"], [0.3333333333333333, \"#9c179e\"], [0.4444444444444444, \"#bd3786\"], [0.5555555555555556, \"#d8576b\"], [0.6666666666666666, \"#ed7953\"], [0.7777777777777778, \"#fb9f3a\"], [0.8888888888888888, \"#fdca26\"], [1.0, \"#f0f921\"]], \"type\": \"contour\"}], \"contourcarpet\": [{\"colorbar\": {\"outlinewidth\": 0, \"ticks\": \"\"}, \"type\": \"contourcarpet\"}], \"heatmap\": [{\"colorbar\": {\"outlinewidth\": 0, \"ticks\": \"\"}, \"colorscale\": [[0.0, \"#0d0887\"], [0.1111111111111111, \"#46039f\"], [0.2222222222222222, \"#7201a8\"], [0.3333333333333333, \"#9c179e\"], [0.4444444444444444, \"#bd3786\"], [0.5555555555555556, \"#d8576b\"], [0.6666666666666666, \"#ed7953\"], [0.7777777777777778, \"#fb9f3a\"], [0.8888888888888888, \"#fdca26\"], [1.0, \"#f0f921\"]], \"type\": \"heatmap\"}], \"heatmapgl\": [{\"colorbar\": {\"outlinewidth\": 0, \"ticks\": \"\"}, \"colorscale\": [[0.0, \"#0d0887\"], [0.1111111111111111, \"#46039f\"], [0.2222222222222222, \"#7201a8\"], [0.3333333333333333, \"#9c179e\"], [0.4444444444444444, \"#bd3786\"], [0.5555555555555556, \"#d8576b\"], [0.6666666666666666, \"#ed7953\"], [0.7777777777777778, \"#fb9f3a\"], [0.8888888888888888, \"#fdca26\"], [1.0, \"#f0f921\"]], \"type\": \"heatmapgl\"}], \"histogram\": [{\"marker\": {\"colorbar\": {\"outlinewidth\": 0, \"ticks\": \"\"}}, \"type\": \"histogram\"}], \"histogram2d\": [{\"colorbar\": {\"outlinewidth\": 0, \"ticks\": \"\"}, \"colorscale\": [[0.0, \"#0d0887\"], [0.1111111111111111, \"#46039f\"], [0.2222222222222222, \"#7201a8\"], [0.3333333333333333, \"#9c179e\"], [0.4444444444444444, \"#bd3786\"], [0.5555555555555556, \"#d8576b\"], [0.6666666666666666, \"#ed7953\"], [0.7777777777777778, \"#fb9f3a\"], [0.8888888888888888, \"#fdca26\"], [1.0, \"#f0f921\"]], \"type\": \"histogram2d\"}], \"histogram2dcontour\": [{\"colorbar\": {\"outlinewidth\": 0, \"ticks\": \"\"}, \"colorscale\": [[0.0, \"#0d0887\"], [0.1111111111111111, \"#46039f\"], [0.2222222222222222, \"#7201a8\"], [0.3333333333333333, \"#9c179e\"], [0.4444444444444444, \"#bd3786\"], [0.5555555555555556, \"#d8576b\"], [0.6666666666666666, \"#ed7953\"], [0.7777777777777778, \"#fb9f3a\"], [0.8888888888888888, \"#fdca26\"], [1.0, \"#f0f921\"]], \"type\": \"histogram2dcontour\"}], \"mesh3d\": [{\"colorbar\": {\"outlinewidth\": 0, \"ticks\": \"\"}, \"type\": \"mesh3d\"}], \"parcoords\": [{\"line\": {\"colorbar\": {\"outlinewidth\": 0, \"ticks\": \"\"}}, \"type\": \"parcoords\"}], \"pie\": [{\"automargin\": true, \"type\": \"pie\"}], \"scatter\": [{\"marker\": {\"colorbar\": {\"outlinewidth\": 0, \"ticks\": \"\"}}, \"type\": \"scatter\"}], \"scatter3d\": [{\"line\": {\"colorbar\": {\"outlinewidth\": 0, \"ticks\": \"\"}}, \"marker\": {\"colorbar\": {\"outlinewidth\": 0, \"ticks\": \"\"}}, \"type\": \"scatter3d\"}], \"scattercarpet\": [{\"marker\": {\"colorbar\": {\"outlinewidth\": 0, \"ticks\": \"\"}}, \"type\": \"scattercarpet\"}], \"scattergeo\": [{\"marker\": {\"colorbar\": {\"outlinewidth\": 0, \"ticks\": \"\"}}, \"type\": \"scattergeo\"}], \"scattergl\": [{\"marker\": {\"colorbar\": {\"outlinewidth\": 0, \"ticks\": \"\"}}, \"type\": \"scattergl\"}], \"scattermapbox\": [{\"marker\": {\"colorbar\": {\"outlinewidth\": 0, \"ticks\": \"\"}}, \"type\": \"scattermapbox\"}], \"scatterpolar\": [{\"marker\": {\"colorbar\": {\"outlinewidth\": 0, \"ticks\": \"\"}}, \"type\": \"scatterpolar\"}], \"scatterpolargl\": [{\"marker\": {\"colorbar\": {\"outlinewidth\": 0, \"ticks\": \"\"}}, \"type\": \"scatterpolargl\"}], \"scatterternary\": [{\"marker\": {\"colorbar\": {\"outlinewidth\": 0, \"ticks\": \"\"}}, \"type\": \"scatterternary\"}], \"surface\": [{\"colorbar\": {\"outlinewidth\": 0, \"ticks\": \"\"}, \"colorscale\": [[0.0, \"#0d0887\"], [0.1111111111111111, \"#46039f\"], [0.2222222222222222, \"#7201a8\"], [0.3333333333333333, \"#9c179e\"], [0.4444444444444444, \"#bd3786\"], [0.5555555555555556, \"#d8576b\"], [0.6666666666666666, \"#ed7953\"], [0.7777777777777778, \"#fb9f3a\"], [0.8888888888888888, \"#fdca26\"], [1.0, \"#f0f921\"]], \"type\": \"surface\"}], \"table\": [{\"cells\": {\"fill\": {\"color\": \"#EBF0F8\"}, \"line\": {\"color\": \"white\"}}, \"header\": {\"fill\": {\"color\": \"#C8D4E3\"}, \"line\": {\"color\": \"white\"}}, \"type\": \"table\"}]}, \"layout\": {\"annotationdefaults\": {\"arrowcolor\": \"#2a3f5f\", \"arrowhead\": 0, \"arrowwidth\": 1}, \"coloraxis\": {\"colorbar\": {\"outlinewidth\": 0, \"ticks\": \"\"}}, \"colorscale\": {\"diverging\": [[0, \"#8e0152\"], [0.1, \"#c51b7d\"], [0.2, \"#de77ae\"], [0.3, \"#f1b6da\"], [0.4, \"#fde0ef\"], [0.5, \"#f7f7f7\"], [0.6, \"#e6f5d0\"], [0.7, \"#b8e186\"], [0.8, \"#7fbc41\"], [0.9, \"#4d9221\"], [1, \"#276419\"]], \"sequential\": [[0.0, \"#0d0887\"], [0.1111111111111111, \"#46039f\"], [0.2222222222222222, \"#7201a8\"], [0.3333333333333333, \"#9c179e\"], [0.4444444444444444, \"#bd3786\"], [0.5555555555555556, \"#d8576b\"], [0.6666666666666666, \"#ed7953\"], [0.7777777777777778, \"#fb9f3a\"], [0.8888888888888888, \"#fdca26\"], [1.0, \"#f0f921\"]], \"sequentialminus\": [[0.0, \"#0d0887\"], [0.1111111111111111, \"#46039f\"], [0.2222222222222222, \"#7201a8\"], [0.3333333333333333, \"#9c179e\"], [0.4444444444444444, \"#bd3786\"], [0.5555555555555556, \"#d8576b\"], [0.6666666666666666, \"#ed7953\"], [0.7777777777777778, \"#fb9f3a\"], [0.8888888888888888, \"#fdca26\"], [1.0, \"#f0f921\"]]}, \"colorway\": [\"#636efa\", \"#EF553B\", \"#00cc96\", \"#ab63fa\", \"#FFA15A\", \"#19d3f3\", \"#FF6692\", \"#B6E880\", \"#FF97FF\", \"#FECB52\"], \"font\": {\"color\": \"#2a3f5f\"}, \"geo\": {\"bgcolor\": \"white\", \"lakecolor\": \"white\", \"landcolor\": \"#E5ECF6\", \"showlakes\": true, \"showland\": true, \"subunitcolor\": \"white\"}, \"hoverlabel\": {\"align\": \"left\"}, \"hovermode\": \"closest\", \"mapbox\": {\"style\": \"light\"}, \"paper_bgcolor\": \"white\", \"plot_bgcolor\": \"#E5ECF6\", \"polar\": {\"angularaxis\": {\"gridcolor\": \"white\", \"linecolor\": \"white\", \"ticks\": \"\"}, \"bgcolor\": \"#E5ECF6\", \"radialaxis\": {\"gridcolor\": \"white\", \"linecolor\": \"white\", \"ticks\": \"\"}}, \"scene\": {\"xaxis\": {\"backgroundcolor\": \"#E5ECF6\", \"gridcolor\": \"white\", \"gridwidth\": 2, \"linecolor\": \"white\", \"showbackground\": true, \"ticks\": \"\", \"zerolinecolor\": \"white\"}, \"yaxis\": {\"backgroundcolor\": \"#E5ECF6\", \"gridcolor\": \"white\", \"gridwidth\": 2, \"linecolor\": \"white\", \"showbackground\": true, \"ticks\": \"\", \"zerolinecolor\": \"white\"}, \"zaxis\": {\"backgroundcolor\": \"#E5ECF6\", \"gridcolor\": \"white\", \"gridwidth\": 2, \"linecolor\": \"white\", \"showbackground\": true, \"ticks\": \"\", \"zerolinecolor\": \"white\"}}, \"shapedefaults\": {\"line\": {\"color\": \"#2a3f5f\"}}, \"ternary\": {\"aaxis\": {\"gridcolor\": \"white\", \"linecolor\": \"white\", \"ticks\": \"\"}, \"baxis\": {\"gridcolor\": \"white\", \"linecolor\": \"white\", \"ticks\": \"\"}, \"bgcolor\": \"#E5ECF6\", \"caxis\": {\"gridcolor\": \"white\", \"linecolor\": \"white\", \"ticks\": \"\"}}, \"title\": {\"x\": 0.05}, \"xaxis\": {\"automargin\": true, \"gridcolor\": \"white\", \"linecolor\": \"white\", \"ticks\": \"\", \"title\": {\"standoff\": 15}, \"zerolinecolor\": \"white\", \"zerolinewidth\": 2}, \"yaxis\": {\"automargin\": true, \"gridcolor\": \"white\", \"linecolor\": \"white\", \"ticks\": \"\", \"title\": {\"standoff\": 15}, \"zerolinecolor\": \"white\", \"zerolinewidth\": 2}}}, \"title\": {\"text\": \"Pertusiss ADHB by Ethnicity\"}, \"width\": 600, \"xaxis\": {\"tickangle\": 45, \"title\": {\"text\": \"Quarterly\"}, \"type\": \"category\"}, \"yaxis\": {\"tickformat\": \"%\", \"title\": {\"text\": \"% Vaccinated\"}}},\n",
       "                        {\"responsive\": true}\n",
       "                    ).then(function(){\n",
       "                            \n",
       "var gd = document.getElementById('a8bc4abc-d46b-42a5-a792-cddebbafcc5c');\n",
       "var x = new MutationObserver(function (mutations, observer) {{\n",
       "        var display = window.getComputedStyle(gd).display;\n",
       "        if (!display || display === 'none') {{\n",
       "            console.log([gd, 'removed!']);\n",
       "            Plotly.purge(gd);\n",
       "            observer.disconnect();\n",
       "        }}\n",
       "}});\n",
       "\n",
       "// Listen for the removal of the full notebook cells\n",
       "var notebookContainer = gd.closest('#notebook-container');\n",
       "if (notebookContainer) {{\n",
       "    x.observe(notebookContainer, {childList: true});\n",
       "}}\n",
       "\n",
       "// Listen for the clearing of the current output cell\n",
       "var outputEl = gd.closest('.output');\n",
       "if (outputEl) {{\n",
       "    x.observe(outputEl, {childList: true});\n",
       "}}\n",
       "\n",
       "                        })\n",
       "                };\n",
       "                });\n",
       "            </script>\n",
       "        </div>"
      ]
     },
     "metadata": {},
     "output_type": "display_data"
    }
   ],
   "source": [
    "import pandas as pd\n",
    "import matplotlib.pyplot as plt\n",
    "import plotly.graph_objects as go\n",
    "import numpy as np\n",
    "#DHBAll = pd.ExcelFile('G:/Funding Team/Planning/Health Information/HIAT/Michael Files/Antinatal Vaccination/April 2019 to March 2020/For Python.xlsx')\n",
    "#DHBPert = pd.read_excel(DHBAll, 'Pertussis Graphs', skiprows=5)\n",
    "ADHBEthnic = DHBPert[['Maori_A','Pacific_A','Asian_A', 'European_Other_A', 'Total_A']]\n",
    "ADHBEthnic=ADHBEthnic.round(3)\n",
    "ADHBEthnic=ADHBEthnic[:29]\n",
    "\n",
    "# Declare a list that is to be converted into a column \n",
    "Quarter = ['Q1_16', 'Q2_16', 'Q3_16', 'Q4_16','Q1_17', 'Q2_17', 'Q3_17', 'Q4_17','Q1_18', 'Q2_18', 'Q3_18', 'Q4_18','Q1_19', \n",
    "           'Q2_19', 'Q3_19', 'Q4_19','Q1_20', 'Q2_20', 'Q3_20', 'Q4_20',\n",
    "           'Q1_21', 'Q2_21', 'Q3_21', 'Q4_21','Q1_22', 'Q2_22', 'Q3_22', 'Q4_22', 'Q1_23'] \n",
    "# Using 'Address' as the column name \n",
    "# and equating it to the list \n",
    "ADHBEthnic['Quarter'] = Quarter \n",
    "ADHBEthnic=ADHBEthnic.dropna()\n",
    "random_x = ADHBEthnic[\"Quarter\"].tolist()\n",
    "# using to_numpy() \n",
    "random_y0 = ADHBEthnic['Maori_A'].tolist()   \n",
    "\n",
    "random_y1 = ADHBEthnic['Pacific_A'].tolist()  \n",
    "\n",
    "random_y2 = ADHBEthnic['Asian_A'].tolist()   \n",
    "random_y3 = ADHBEthnic['European_Other_A'].tolist() \n",
    "random_y4 = ADHBEthnic['Total_A'].tolist() \n",
    "\n",
    "import numpy as np\n",
    "\n",
    "# Create traces\n",
    "fig = go.Figure()\n",
    "fig.add_trace(go.Scatter(x=random_x, y=random_y0,\n",
    "                    mode='lines',\n",
    "                    name='Maori'))\n",
    "fig.add_trace(go.Scatter(x=random_x, y=random_y1,\n",
    "                    mode='lines+markers',\n",
    "                    name='Pacific'))\n",
    "fig.add_trace(go.Scatter(x=random_x, y=random_y2,\n",
    "                    mode='lines+markers',\n",
    "                    name='Asian'))\n",
    "fig.add_trace(go.Scatter(x=random_x, y=random_y3,\n",
    "                    mode='lines+markers',\n",
    "                    name='Others'))\n",
    "fig.add_trace(go.Scatter(x=random_x, y=random_y4,\n",
    "                    mode='lines+markers',\n",
    "                    name='Total'))\n",
    "# Edit the layout\n",
    "fig.update_layout(title='Pertusiss by Ethnicity',\n",
    "                   xaxis_title='Quarter',\n",
    "                   yaxis_title='Percentage')\n",
    "\n",
    "fig.update_layout(xaxis_type='category',\n",
    "                  title_text='Pertusiss ADHB by Ethnicity',\n",
    "                  xaxis_title='Quarterly',\n",
    "                  yaxis_title='% Vaccinated')\n",
    "fig.update_xaxes(tickangle=45)\n",
    "fig.update_yaxes(tickformat=\"%\")\n",
    "fig.update_layout(showlegend=True)\n",
    "#fig.update_layout(legend_orientation=\"h\")\n",
    "fig.update_layout(\n",
    "    autosize=True,\n",
    "    width=600,\n",
    "    height=400,)\n",
    "fig.show()"
   ]
  },
  {
   "cell_type": "markdown",
   "metadata": {},
   "source": [
    "## Coverage by Primary Health Organisation (PHO)"
   ]
  },
  {
   "cell_type": "code",
   "execution_count": 190,
   "metadata": {},
   "outputs": [],
   "source": [
    "#sheet3[\"A22\"].value"
   ]
  },
  {
   "cell_type": "markdown",
   "metadata": {},
   "source": [
    "At a PHO level, Auckland PHO (68.0%) and Comprehensive Care (60.6%) had the highest coverage rates. \n",
    "All PHO’s had an increase in coverage compared to the previous 12 months period to December 2019."
   ]
  },
  {
   "cell_type": "code",
   "execution_count": 191,
   "metadata": {},
   "outputs": [
    {
     "data": {
      "text/html": [
       "<style  type=\"text/css\" >\n",
       "    #T_0f4133e8_f7aa_11ea_abfd_ecb1d74ca0c9 tr:hover {\n",
       "          background-color: #ffff99;\n",
       "    }    #T_0f4133e8_f7aa_11ea_abfd_ecb1d74ca0c9 th {\n",
       "          font-size: 70%;\n",
       "          text-align: center;\n",
       "    }    #T_0f4133e8_f7aa_11ea_abfd_ecb1d74ca0c9 caption {\n",
       "          caption-side: bottom;\n",
       "    }</style><table id=\"T_0f4133e8_f7aa_11ea_abfd_ecb1d74ca0c9\" ><caption>Hover to highlight.</caption><thead>    <tr>        <th class=\"index_name level0\" >0</th>        <th class=\"col_heading level0 col0\" >PHO</th>        <th class=\"col_heading level0 col1\" >Overall_(Previous)</th>        <th class=\"col_heading level0 col2\" >Overall_(Current)</th>        <th class=\"col_heading level0 col3\" >ADHB_(Practices)</th>        <th class=\"col_heading level0 col4\" >CMDHB_(Practices)</th>        <th class=\"col_heading level0 col5\" >WDHB_(Practices)</th>    </tr></thead><tbody>\n",
       "                <tr>\n",
       "                        <th id=\"T_0f4133e8_f7aa_11ea_abfd_ecb1d74ca0c9level0_row0\" class=\"row_heading level0 row0\" >1</th>\n",
       "                        <td id=\"T_0f4133e8_f7aa_11ea_abfd_ecb1d74ca0c9row0_col0\" class=\"data row0 col0\" >Alliance_Health_Plus_Trust</td>\n",
       "                        <td id=\"T_0f4133e8_f7aa_11ea_abfd_ecb1d74ca0c9row0_col1\" class=\"data row0 col1\" >41.7</td>\n",
       "                        <td id=\"T_0f4133e8_f7aa_11ea_abfd_ecb1d74ca0c9row0_col2\" class=\"data row0 col2\" >43.6</td>\n",
       "                        <td id=\"T_0f4133e8_f7aa_11ea_abfd_ecb1d74ca0c9row0_col3\" class=\"data row0 col3\" >53.5</td>\n",
       "                        <td id=\"T_0f4133e8_f7aa_11ea_abfd_ecb1d74ca0c9row0_col4\" class=\"data row0 col4\" >39.3</td>\n",
       "                        <td id=\"T_0f4133e8_f7aa_11ea_abfd_ecb1d74ca0c9row0_col5\" class=\"data row0 col5\" >41.8</td>\n",
       "            </tr>\n",
       "            <tr>\n",
       "                        <th id=\"T_0f4133e8_f7aa_11ea_abfd_ecb1d74ca0c9level0_row1\" class=\"row_heading level0 row1\" >2</th>\n",
       "                        <td id=\"T_0f4133e8_f7aa_11ea_abfd_ecb1d74ca0c9row1_col0\" class=\"data row1 col0\" >Auckland_PHO_Limited</td>\n",
       "                        <td id=\"T_0f4133e8_f7aa_11ea_abfd_ecb1d74ca0c9row1_col1\" class=\"data row1 col1\" >66.1</td>\n",
       "                        <td id=\"T_0f4133e8_f7aa_11ea_abfd_ecb1d74ca0c9row1_col2\" class=\"data row1 col2\" >68</td>\n",
       "                        <td id=\"T_0f4133e8_f7aa_11ea_abfd_ecb1d74ca0c9row1_col3\" class=\"data row1 col3\" >68</td>\n",
       "                        <td id=\"T_0f4133e8_f7aa_11ea_abfd_ecb1d74ca0c9row1_col4\" class=\"data row1 col4\" >nan</td>\n",
       "                        <td id=\"T_0f4133e8_f7aa_11ea_abfd_ecb1d74ca0c9row1_col5\" class=\"data row1 col5\" >nan</td>\n",
       "            </tr>\n",
       "            <tr>\n",
       "                        <th id=\"T_0f4133e8_f7aa_11ea_abfd_ecb1d74ca0c9level0_row2\" class=\"row_heading level0 row2\" >3</th>\n",
       "                        <td id=\"T_0f4133e8_f7aa_11ea_abfd_ecb1d74ca0c9row2_col0\" class=\"data row2 col0\" >Comprehensive_Care</td>\n",
       "                        <td id=\"T_0f4133e8_f7aa_11ea_abfd_ecb1d74ca0c9row2_col1\" class=\"data row2 col1\" >58.5</td>\n",
       "                        <td id=\"T_0f4133e8_f7aa_11ea_abfd_ecb1d74ca0c9row2_col2\" class=\"data row2 col2\" >60.6</td>\n",
       "                        <td id=\"T_0f4133e8_f7aa_11ea_abfd_ecb1d74ca0c9row2_col3\" class=\"data row2 col3\" >nan</td>\n",
       "                        <td id=\"T_0f4133e8_f7aa_11ea_abfd_ecb1d74ca0c9row2_col4\" class=\"data row2 col4\" >nan</td>\n",
       "                        <td id=\"T_0f4133e8_f7aa_11ea_abfd_ecb1d74ca0c9row2_col5\" class=\"data row2 col5\" >60.6</td>\n",
       "            </tr>\n",
       "            <tr>\n",
       "                        <th id=\"T_0f4133e8_f7aa_11ea_abfd_ecb1d74ca0c9level0_row3\" class=\"row_heading level0 row3\" >4</th>\n",
       "                        <td id=\"T_0f4133e8_f7aa_11ea_abfd_ecb1d74ca0c9row3_col0\" class=\"data row3 col0\" >East_Health_Trust</td>\n",
       "                        <td id=\"T_0f4133e8_f7aa_11ea_abfd_ecb1d74ca0c9row3_col1\" class=\"data row3 col1\" >55.9</td>\n",
       "                        <td id=\"T_0f4133e8_f7aa_11ea_abfd_ecb1d74ca0c9row3_col2\" class=\"data row3 col2\" >58.8</td>\n",
       "                        <td id=\"T_0f4133e8_f7aa_11ea_abfd_ecb1d74ca0c9row3_col3\" class=\"data row3 col3\" >nan</td>\n",
       "                        <td id=\"T_0f4133e8_f7aa_11ea_abfd_ecb1d74ca0c9row3_col4\" class=\"data row3 col4\" >58.8</td>\n",
       "                        <td id=\"T_0f4133e8_f7aa_11ea_abfd_ecb1d74ca0c9row3_col5\" class=\"data row3 col5\" >nan</td>\n",
       "            </tr>\n",
       "            <tr>\n",
       "                        <th id=\"T_0f4133e8_f7aa_11ea_abfd_ecb1d74ca0c9level0_row4\" class=\"row_heading level0 row4\" >5</th>\n",
       "                        <td id=\"T_0f4133e8_f7aa_11ea_abfd_ecb1d74ca0c9row4_col0\" class=\"data row4 col0\" >National_Hauora_Coalition_Limited</td>\n",
       "                        <td id=\"T_0f4133e8_f7aa_11ea_abfd_ecb1d74ca0c9row4_col1\" class=\"data row4 col1\" >50.3</td>\n",
       "                        <td id=\"T_0f4133e8_f7aa_11ea_abfd_ecb1d74ca0c9row4_col2\" class=\"data row4 col2\" >52.1</td>\n",
       "                        <td id=\"T_0f4133e8_f7aa_11ea_abfd_ecb1d74ca0c9row4_col3\" class=\"data row4 col3\" >56.5</td>\n",
       "                        <td id=\"T_0f4133e8_f7aa_11ea_abfd_ecb1d74ca0c9row4_col4\" class=\"data row4 col4\" >37.6</td>\n",
       "                        <td id=\"T_0f4133e8_f7aa_11ea_abfd_ecb1d74ca0c9row4_col5\" class=\"data row4 col5\" >54.4</td>\n",
       "            </tr>\n",
       "            <tr>\n",
       "                        <th id=\"T_0f4133e8_f7aa_11ea_abfd_ecb1d74ca0c9level0_row5\" class=\"row_heading level0 row5\" >6</th>\n",
       "                        <td id=\"T_0f4133e8_f7aa_11ea_abfd_ecb1d74ca0c9row5_col0\" class=\"data row5 col0\" >Procare_Networks_Limited</td>\n",
       "                        <td id=\"T_0f4133e8_f7aa_11ea_abfd_ecb1d74ca0c9row5_col1\" class=\"data row5 col1\" >50.8</td>\n",
       "                        <td id=\"T_0f4133e8_f7aa_11ea_abfd_ecb1d74ca0c9row5_col2\" class=\"data row5 col2\" >52.1</td>\n",
       "                        <td id=\"T_0f4133e8_f7aa_11ea_abfd_ecb1d74ca0c9row5_col3\" class=\"data row5 col3\" >61.5</td>\n",
       "                        <td id=\"T_0f4133e8_f7aa_11ea_abfd_ecb1d74ca0c9row5_col4\" class=\"data row5 col4\" >40.6</td>\n",
       "                        <td id=\"T_0f4133e8_f7aa_11ea_abfd_ecb1d74ca0c9row5_col5\" class=\"data row5 col5\" >51.2</td>\n",
       "            </tr>\n",
       "            <tr>\n",
       "                        <th id=\"T_0f4133e8_f7aa_11ea_abfd_ecb1d74ca0c9level0_row6\" class=\"row_heading level0 row6\" >7</th>\n",
       "                        <td id=\"T_0f4133e8_f7aa_11ea_abfd_ecb1d74ca0c9row6_col0\" class=\"data row6 col0\" >Total_Healthcare_Charitable_Trust</td>\n",
       "                        <td id=\"T_0f4133e8_f7aa_11ea_abfd_ecb1d74ca0c9row6_col1\" class=\"data row6 col1\" >42.7</td>\n",
       "                        <td id=\"T_0f4133e8_f7aa_11ea_abfd_ecb1d74ca0c9row6_col2\" class=\"data row6 col2\" >44</td>\n",
       "                        <td id=\"T_0f4133e8_f7aa_11ea_abfd_ecb1d74ca0c9row6_col3\" class=\"data row6 col3\" >58</td>\n",
       "                        <td id=\"T_0f4133e8_f7aa_11ea_abfd_ecb1d74ca0c9row6_col4\" class=\"data row6 col4\" >37.2</td>\n",
       "                        <td id=\"T_0f4133e8_f7aa_11ea_abfd_ecb1d74ca0c9row6_col5\" class=\"data row6 col5\" >43.5</td>\n",
       "            </tr>\n",
       "    </tbody></table>"
      ],
      "text/plain": [
       "<pandas.io.formats.style.Styler at 0x94e42e8>"
      ]
     },
     "execution_count": 191,
     "metadata": {},
     "output_type": "execute_result"
    }
   ],
   "source": [
    "PHOTab = pd.read_excel(DHBAll, 'Pertussis Tables', skiprows=18)\n",
    "PHOTabPHO=PHOTab.iloc[0:8, 1:7]\n",
    "PHOTabPHO.columns = PHOTabPHO.iloc[0]\n",
    "PHOTabPHO=PHOTabPHO.drop(PHOTabPHO.index[0])\n",
    "#DHBTabDHB.rename(columns=DHBTabDHB.iloc[0]).drop(DHBTabDHB.index[1])\n",
    "PHOTabPHO = PHOTabPHO.astype({\"Overall_(Previous)\": float, \"Overall_(Current)\": float, \"ADHB_(Practices)\": float,\n",
    "                             \"CMDHB_(Practices)\": float, \"WDHB_(Practices)\": float})\n",
    "#DHBTabDHB.dtypes\n",
    "PHOTabPHO.iloc[:,1:] = PHOTabPHO.iloc[:,1:] * 100\n",
    "PHOTabPHO.style.hide_index()\n",
    "from IPython.display import HTML\n",
    "#DHBTabDHB.set_index('DHB_Domicile')\n",
    "def hover(hover_color=\"#ffff99\"):\n",
    "    return dict(selector=\"tr:hover\",\n",
    "                props=[(\"background-color\", \"%s\" % hover_color)])\n",
    "\n",
    "styles = [\n",
    "    hover(),\n",
    "    dict(selector=\"th\", props=[(\"font-size\", \"70%\"),\n",
    "                               (\"text-align\", \"center\")]),\n",
    "    dict(selector=\"caption\", props=[(\"caption-side\", \"bottom\")])\n",
    "]\n",
    "html = (PHOTabPHO.style.set_table_styles(styles)\n",
    "          .set_caption(\"Hover to highlight.\"))\n",
    "html\n",
    "#DHBTabDHB.set_index('DHB_Domicile')\n",
    "#DHBTabDHB.head()\n",
    "#DHBTab.head()"
   ]
  },
  {
   "cell_type": "code",
   "execution_count": 192,
   "metadata": {
    "scrolled": false
   },
   "outputs": [],
   "source": [
    "#sheet3[\"A23\"].value"
   ]
  },
  {
   "cell_type": "code",
   "execution_count": 193,
   "metadata": {},
   "outputs": [],
   "source": [
    "#sheet3[\"A24\"].value"
   ]
  },
  {
   "cell_type": "code",
   "execution_count": 194,
   "metadata": {},
   "outputs": [],
   "source": [
    "#sheet3[\"A25\"].value"
   ]
  },
  {
   "cell_type": "code",
   "execution_count": 195,
   "metadata": {},
   "outputs": [],
   "source": [
    "#sheet3[\"A26\"].value"
   ]
  },
  {
   "cell_type": "markdown",
   "metadata": {},
   "source": [
    "- Includes births in the 12 months to 31 March 2020\n",
    "- Current performance includes only PHO enrolled individuals as at March 2020\n",
    "- Ethnicity is prioritised and is that recorded on the PHO register\n",
    "- Domicile is as per that on March 2020 PHO register and might be different to that of the mother when the birth took place"
   ]
  },
  {
   "cell_type": "markdown",
   "metadata": {},
   "source": [
    "# Coverage by Primary Health Organisation (Quarterly Trends)"
   ]
  },
  {
   "cell_type": "code",
   "execution_count": 196,
   "metadata": {},
   "outputs": [
    {
     "data": {
      "text/plain": [
       "'Comparing the most recent coverage in Q1 2020 with coverage from Q2 2016, coverage by PHO has steadily increased.'"
      ]
     },
     "execution_count": 196,
     "metadata": {},
     "output_type": "execute_result"
    }
   ],
   "source": [
    "sheet3[\"A27\"].value"
   ]
  },
  {
   "cell_type": "markdown",
   "metadata": {},
   "source": [
    "### Quarterly pertussis coverage trends by PHO"
   ]
  },
  {
   "cell_type": "code",
   "execution_count": 197,
   "metadata": {},
   "outputs": [
    {
     "data": {
      "application/vnd.plotly.v1+json": {
       "config": {
        "plotlyServerURL": "https://plotly.your-company.com"
       },
       "data": [
        {
         "mode": "lines",
         "name": "Alliance_Health_Plus_Trust",
         "type": "scatter",
         "x": [
          "Q1_16",
          "Q2_16",
          "Q3_16",
          "Q4_16",
          "Q1_17",
          "Q2_17",
          "Q3_17",
          "Q4_17",
          "Q1_18",
          "Q2_18",
          "Q3_18",
          "Q4_18",
          "Q1_19",
          "Q2_19",
          "Q3_19",
          "Q4_19",
          "Q1_20"
         ],
         "y": [
          0.093,
          0.144,
          0.208,
          0.218,
          0.217,
          0.287,
          0.333,
          0.277,
          0.315,
          0.391,
          0.385,
          0.42,
          0.402,
          0.43,
          0.443,
          0.424,
          0.439
         ]
        },
        {
         "mode": "lines+markers",
         "name": "Auckland_PHO_Limited",
         "type": "scatter",
         "x": [
          "Q1_16",
          "Q2_16",
          "Q3_16",
          "Q4_16",
          "Q1_17",
          "Q2_17",
          "Q3_17",
          "Q4_17",
          "Q1_18",
          "Q2_18",
          "Q3_18",
          "Q4_18",
          "Q1_19",
          "Q2_19",
          "Q3_19",
          "Q4_19",
          "Q1_20"
         ],
         "y": [
          0.194,
          0.311,
          0.309,
          0.314,
          0.386,
          0.34,
          0.437,
          0.415,
          0.449,
          0.489,
          0.534,
          0.503,
          0.605,
          0.637,
          0.743,
          0.673,
          0.671
         ]
        },
        {
         "mode": "lines+markers",
         "name": "Comprehensive_Care",
         "type": "scatter",
         "x": [
          "Q1_16",
          "Q2_16",
          "Q3_16",
          "Q4_16",
          "Q1_17",
          "Q2_17",
          "Q3_17",
          "Q4_17",
          "Q1_18",
          "Q2_18",
          "Q3_18",
          "Q4_18",
          "Q1_19",
          "Q2_19",
          "Q3_19",
          "Q4_19",
          "Q1_20"
         ],
         "y": [
          0.204,
          0.302,
          0.343,
          0.405,
          0.388,
          0.452,
          0.447,
          0.475,
          0.475,
          0.547,
          0.569,
          0.564,
          0.543,
          0.613,
          0.596,
          0.562,
          0.601
         ]
        },
        {
         "mode": "lines+markers",
         "name": "East_Health_Trust",
         "type": "scatter",
         "x": [
          "Q1_16",
          "Q2_16",
          "Q3_16",
          "Q4_16",
          "Q1_17",
          "Q2_17",
          "Q3_17",
          "Q4_17",
          "Q1_18",
          "Q2_18",
          "Q3_18",
          "Q4_18",
          "Q1_19",
          "Q2_19",
          "Q3_19",
          "Q4_19",
          "Q1_20"
         ],
         "y": [
          0.197,
          0.282,
          0.384,
          0.279,
          0.298,
          0.443,
          0.488,
          0.458,
          0.494,
          0.569,
          0.584,
          0.519,
          0.56,
          0.586,
          0.533,
          0.615,
          0.593
         ]
        },
        {
         "mode": "lines+markers",
         "name": "National_Hauora_Coalition_Limited",
         "type": "scatter",
         "x": [
          "Q1_16",
          "Q2_16",
          "Q3_16",
          "Q4_16",
          "Q1_17",
          "Q2_17",
          "Q3_17",
          "Q4_17",
          "Q1_18",
          "Q2_18",
          "Q3_18",
          "Q4_18",
          "Q1_19",
          "Q2_19",
          "Q3_19",
          "Q4_19",
          "Q1_20"
         ],
         "y": [
          0.162,
          0.271,
          0.261,
          0.304,
          0.278,
          0.411,
          0.414,
          0.414,
          0.455,
          0.458,
          0.492,
          0.467,
          0.448,
          0.528,
          0.513,
          0.506,
          0.512
         ]
        },
        {
         "mode": "lines+markers",
         "name": "Procare_Networks_Limited",
         "type": "scatter",
         "x": [
          "Q1_16",
          "Q2_16",
          "Q3_16",
          "Q4_16",
          "Q1_17",
          "Q2_17",
          "Q3_17",
          "Q4_17",
          "Q1_18",
          "Q2_18",
          "Q3_18",
          "Q4_18",
          "Q1_19",
          "Q2_19",
          "Q3_19",
          "Q4_19",
          "Q1_20"
         ],
         "y": [
          0.223,
          0.277,
          0.343,
          0.353,
          0.333,
          0.387,
          0.422,
          0.425,
          0.443,
          0.495,
          0.476,
          0.479,
          0.458,
          0.54,
          0.538,
          0.497,
          0.499
         ]
        },
        {
         "mode": "lines+markers",
         "name": "Total_Healthcare_Charitable_Trust",
         "type": "scatter",
         "x": [
          "Q1_16",
          "Q2_16",
          "Q3_16",
          "Q4_16",
          "Q1_17",
          "Q2_17",
          "Q3_17",
          "Q4_17",
          "Q1_18",
          "Q2_18",
          "Q3_18",
          "Q4_18",
          "Q1_19",
          "Q2_19",
          "Q3_19",
          "Q4_19",
          "Q1_20"
         ],
         "y": [
          0.08,
          0.16,
          0.236,
          0.286,
          0.195,
          0.295,
          0.273,
          0.249,
          0.295,
          0.345,
          0.392,
          0.415,
          0.4,
          0.468,
          0.445,
          0.415,
          0.422
         ]
        }
       ],
       "layout": {
        "autosize": true,
        "height": 400,
        "showlegend": true,
        "template": {
         "data": {
          "bar": [
           {
            "error_x": {
             "color": "#2a3f5f"
            },
            "error_y": {
             "color": "#2a3f5f"
            },
            "marker": {
             "line": {
              "color": "#E5ECF6",
              "width": 0.5
             }
            },
            "type": "bar"
           }
          ],
          "barpolar": [
           {
            "marker": {
             "line": {
              "color": "#E5ECF6",
              "width": 0.5
             }
            },
            "type": "barpolar"
           }
          ],
          "carpet": [
           {
            "aaxis": {
             "endlinecolor": "#2a3f5f",
             "gridcolor": "white",
             "linecolor": "white",
             "minorgridcolor": "white",
             "startlinecolor": "#2a3f5f"
            },
            "baxis": {
             "endlinecolor": "#2a3f5f",
             "gridcolor": "white",
             "linecolor": "white",
             "minorgridcolor": "white",
             "startlinecolor": "#2a3f5f"
            },
            "type": "carpet"
           }
          ],
          "choropleth": [
           {
            "colorbar": {
             "outlinewidth": 0,
             "ticks": ""
            },
            "type": "choropleth"
           }
          ],
          "contour": [
           {
            "colorbar": {
             "outlinewidth": 0,
             "ticks": ""
            },
            "colorscale": [
             [
              0,
              "#0d0887"
             ],
             [
              0.1111111111111111,
              "#46039f"
             ],
             [
              0.2222222222222222,
              "#7201a8"
             ],
             [
              0.3333333333333333,
              "#9c179e"
             ],
             [
              0.4444444444444444,
              "#bd3786"
             ],
             [
              0.5555555555555556,
              "#d8576b"
             ],
             [
              0.6666666666666666,
              "#ed7953"
             ],
             [
              0.7777777777777778,
              "#fb9f3a"
             ],
             [
              0.8888888888888888,
              "#fdca26"
             ],
             [
              1,
              "#f0f921"
             ]
            ],
            "type": "contour"
           }
          ],
          "contourcarpet": [
           {
            "colorbar": {
             "outlinewidth": 0,
             "ticks": ""
            },
            "type": "contourcarpet"
           }
          ],
          "heatmap": [
           {
            "colorbar": {
             "outlinewidth": 0,
             "ticks": ""
            },
            "colorscale": [
             [
              0,
              "#0d0887"
             ],
             [
              0.1111111111111111,
              "#46039f"
             ],
             [
              0.2222222222222222,
              "#7201a8"
             ],
             [
              0.3333333333333333,
              "#9c179e"
             ],
             [
              0.4444444444444444,
              "#bd3786"
             ],
             [
              0.5555555555555556,
              "#d8576b"
             ],
             [
              0.6666666666666666,
              "#ed7953"
             ],
             [
              0.7777777777777778,
              "#fb9f3a"
             ],
             [
              0.8888888888888888,
              "#fdca26"
             ],
             [
              1,
              "#f0f921"
             ]
            ],
            "type": "heatmap"
           }
          ],
          "heatmapgl": [
           {
            "colorbar": {
             "outlinewidth": 0,
             "ticks": ""
            },
            "colorscale": [
             [
              0,
              "#0d0887"
             ],
             [
              0.1111111111111111,
              "#46039f"
             ],
             [
              0.2222222222222222,
              "#7201a8"
             ],
             [
              0.3333333333333333,
              "#9c179e"
             ],
             [
              0.4444444444444444,
              "#bd3786"
             ],
             [
              0.5555555555555556,
              "#d8576b"
             ],
             [
              0.6666666666666666,
              "#ed7953"
             ],
             [
              0.7777777777777778,
              "#fb9f3a"
             ],
             [
              0.8888888888888888,
              "#fdca26"
             ],
             [
              1,
              "#f0f921"
             ]
            ],
            "type": "heatmapgl"
           }
          ],
          "histogram": [
           {
            "marker": {
             "colorbar": {
              "outlinewidth": 0,
              "ticks": ""
             }
            },
            "type": "histogram"
           }
          ],
          "histogram2d": [
           {
            "colorbar": {
             "outlinewidth": 0,
             "ticks": ""
            },
            "colorscale": [
             [
              0,
              "#0d0887"
             ],
             [
              0.1111111111111111,
              "#46039f"
             ],
             [
              0.2222222222222222,
              "#7201a8"
             ],
             [
              0.3333333333333333,
              "#9c179e"
             ],
             [
              0.4444444444444444,
              "#bd3786"
             ],
             [
              0.5555555555555556,
              "#d8576b"
             ],
             [
              0.6666666666666666,
              "#ed7953"
             ],
             [
              0.7777777777777778,
              "#fb9f3a"
             ],
             [
              0.8888888888888888,
              "#fdca26"
             ],
             [
              1,
              "#f0f921"
             ]
            ],
            "type": "histogram2d"
           }
          ],
          "histogram2dcontour": [
           {
            "colorbar": {
             "outlinewidth": 0,
             "ticks": ""
            },
            "colorscale": [
             [
              0,
              "#0d0887"
             ],
             [
              0.1111111111111111,
              "#46039f"
             ],
             [
              0.2222222222222222,
              "#7201a8"
             ],
             [
              0.3333333333333333,
              "#9c179e"
             ],
             [
              0.4444444444444444,
              "#bd3786"
             ],
             [
              0.5555555555555556,
              "#d8576b"
             ],
             [
              0.6666666666666666,
              "#ed7953"
             ],
             [
              0.7777777777777778,
              "#fb9f3a"
             ],
             [
              0.8888888888888888,
              "#fdca26"
             ],
             [
              1,
              "#f0f921"
             ]
            ],
            "type": "histogram2dcontour"
           }
          ],
          "mesh3d": [
           {
            "colorbar": {
             "outlinewidth": 0,
             "ticks": ""
            },
            "type": "mesh3d"
           }
          ],
          "parcoords": [
           {
            "line": {
             "colorbar": {
              "outlinewidth": 0,
              "ticks": ""
             }
            },
            "type": "parcoords"
           }
          ],
          "pie": [
           {
            "automargin": true,
            "type": "pie"
           }
          ],
          "scatter": [
           {
            "marker": {
             "colorbar": {
              "outlinewidth": 0,
              "ticks": ""
             }
            },
            "type": "scatter"
           }
          ],
          "scatter3d": [
           {
            "line": {
             "colorbar": {
              "outlinewidth": 0,
              "ticks": ""
             }
            },
            "marker": {
             "colorbar": {
              "outlinewidth": 0,
              "ticks": ""
             }
            },
            "type": "scatter3d"
           }
          ],
          "scattercarpet": [
           {
            "marker": {
             "colorbar": {
              "outlinewidth": 0,
              "ticks": ""
             }
            },
            "type": "scattercarpet"
           }
          ],
          "scattergeo": [
           {
            "marker": {
             "colorbar": {
              "outlinewidth": 0,
              "ticks": ""
             }
            },
            "type": "scattergeo"
           }
          ],
          "scattergl": [
           {
            "marker": {
             "colorbar": {
              "outlinewidth": 0,
              "ticks": ""
             }
            },
            "type": "scattergl"
           }
          ],
          "scattermapbox": [
           {
            "marker": {
             "colorbar": {
              "outlinewidth": 0,
              "ticks": ""
             }
            },
            "type": "scattermapbox"
           }
          ],
          "scatterpolar": [
           {
            "marker": {
             "colorbar": {
              "outlinewidth": 0,
              "ticks": ""
             }
            },
            "type": "scatterpolar"
           }
          ],
          "scatterpolargl": [
           {
            "marker": {
             "colorbar": {
              "outlinewidth": 0,
              "ticks": ""
             }
            },
            "type": "scatterpolargl"
           }
          ],
          "scatterternary": [
           {
            "marker": {
             "colorbar": {
              "outlinewidth": 0,
              "ticks": ""
             }
            },
            "type": "scatterternary"
           }
          ],
          "surface": [
           {
            "colorbar": {
             "outlinewidth": 0,
             "ticks": ""
            },
            "colorscale": [
             [
              0,
              "#0d0887"
             ],
             [
              0.1111111111111111,
              "#46039f"
             ],
             [
              0.2222222222222222,
              "#7201a8"
             ],
             [
              0.3333333333333333,
              "#9c179e"
             ],
             [
              0.4444444444444444,
              "#bd3786"
             ],
             [
              0.5555555555555556,
              "#d8576b"
             ],
             [
              0.6666666666666666,
              "#ed7953"
             ],
             [
              0.7777777777777778,
              "#fb9f3a"
             ],
             [
              0.8888888888888888,
              "#fdca26"
             ],
             [
              1,
              "#f0f921"
             ]
            ],
            "type": "surface"
           }
          ],
          "table": [
           {
            "cells": {
             "fill": {
              "color": "#EBF0F8"
             },
             "line": {
              "color": "white"
             }
            },
            "header": {
             "fill": {
              "color": "#C8D4E3"
             },
             "line": {
              "color": "white"
             }
            },
            "type": "table"
           }
          ]
         },
         "layout": {
          "annotationdefaults": {
           "arrowcolor": "#2a3f5f",
           "arrowhead": 0,
           "arrowwidth": 1
          },
          "coloraxis": {
           "colorbar": {
            "outlinewidth": 0,
            "ticks": ""
           }
          },
          "colorscale": {
           "diverging": [
            [
             0,
             "#8e0152"
            ],
            [
             0.1,
             "#c51b7d"
            ],
            [
             0.2,
             "#de77ae"
            ],
            [
             0.3,
             "#f1b6da"
            ],
            [
             0.4,
             "#fde0ef"
            ],
            [
             0.5,
             "#f7f7f7"
            ],
            [
             0.6,
             "#e6f5d0"
            ],
            [
             0.7,
             "#b8e186"
            ],
            [
             0.8,
             "#7fbc41"
            ],
            [
             0.9,
             "#4d9221"
            ],
            [
             1,
             "#276419"
            ]
           ],
           "sequential": [
            [
             0,
             "#0d0887"
            ],
            [
             0.1111111111111111,
             "#46039f"
            ],
            [
             0.2222222222222222,
             "#7201a8"
            ],
            [
             0.3333333333333333,
             "#9c179e"
            ],
            [
             0.4444444444444444,
             "#bd3786"
            ],
            [
             0.5555555555555556,
             "#d8576b"
            ],
            [
             0.6666666666666666,
             "#ed7953"
            ],
            [
             0.7777777777777778,
             "#fb9f3a"
            ],
            [
             0.8888888888888888,
             "#fdca26"
            ],
            [
             1,
             "#f0f921"
            ]
           ],
           "sequentialminus": [
            [
             0,
             "#0d0887"
            ],
            [
             0.1111111111111111,
             "#46039f"
            ],
            [
             0.2222222222222222,
             "#7201a8"
            ],
            [
             0.3333333333333333,
             "#9c179e"
            ],
            [
             0.4444444444444444,
             "#bd3786"
            ],
            [
             0.5555555555555556,
             "#d8576b"
            ],
            [
             0.6666666666666666,
             "#ed7953"
            ],
            [
             0.7777777777777778,
             "#fb9f3a"
            ],
            [
             0.8888888888888888,
             "#fdca26"
            ],
            [
             1,
             "#f0f921"
            ]
           ]
          },
          "colorway": [
           "#636efa",
           "#EF553B",
           "#00cc96",
           "#ab63fa",
           "#FFA15A",
           "#19d3f3",
           "#FF6692",
           "#B6E880",
           "#FF97FF",
           "#FECB52"
          ],
          "font": {
           "color": "#2a3f5f"
          },
          "geo": {
           "bgcolor": "white",
           "lakecolor": "white",
           "landcolor": "#E5ECF6",
           "showlakes": true,
           "showland": true,
           "subunitcolor": "white"
          },
          "hoverlabel": {
           "align": "left"
          },
          "hovermode": "closest",
          "mapbox": {
           "style": "light"
          },
          "paper_bgcolor": "white",
          "plot_bgcolor": "#E5ECF6",
          "polar": {
           "angularaxis": {
            "gridcolor": "white",
            "linecolor": "white",
            "ticks": ""
           },
           "bgcolor": "#E5ECF6",
           "radialaxis": {
            "gridcolor": "white",
            "linecolor": "white",
            "ticks": ""
           }
          },
          "scene": {
           "xaxis": {
            "backgroundcolor": "#E5ECF6",
            "gridcolor": "white",
            "gridwidth": 2,
            "linecolor": "white",
            "showbackground": true,
            "ticks": "",
            "zerolinecolor": "white"
           },
           "yaxis": {
            "backgroundcolor": "#E5ECF6",
            "gridcolor": "white",
            "gridwidth": 2,
            "linecolor": "white",
            "showbackground": true,
            "ticks": "",
            "zerolinecolor": "white"
           },
           "zaxis": {
            "backgroundcolor": "#E5ECF6",
            "gridcolor": "white",
            "gridwidth": 2,
            "linecolor": "white",
            "showbackground": true,
            "ticks": "",
            "zerolinecolor": "white"
           }
          },
          "shapedefaults": {
           "line": {
            "color": "#2a3f5f"
           }
          },
          "ternary": {
           "aaxis": {
            "gridcolor": "white",
            "linecolor": "white",
            "ticks": ""
           },
           "baxis": {
            "gridcolor": "white",
            "linecolor": "white",
            "ticks": ""
           },
           "bgcolor": "#E5ECF6",
           "caxis": {
            "gridcolor": "white",
            "linecolor": "white",
            "ticks": ""
           }
          },
          "title": {
           "x": 0.05
          },
          "xaxis": {
           "automargin": true,
           "gridcolor": "white",
           "linecolor": "white",
           "ticks": "",
           "title": {
            "standoff": 15
           },
           "zerolinecolor": "white",
           "zerolinewidth": 2
          },
          "yaxis": {
           "automargin": true,
           "gridcolor": "white",
           "linecolor": "white",
           "ticks": "",
           "title": {
            "standoff": 15
           },
           "zerolinecolor": "white",
           "zerolinewidth": 2
          }
         }
        },
        "title": {
         "text": "Quarterly pertussis coverage trends by PHO"
        },
        "width": 800,
        "xaxis": {
         "tickangle": 45,
         "title": {
          "text": "Quarterly"
         },
         "type": "category"
        },
        "yaxis": {
         "tickformat": "%",
         "title": {
          "text": "% Vaccinated"
         }
        }
       }
      },
      "text/html": [
       "<div>\n",
       "        \n",
       "        \n",
       "            <div id=\"6238d333-1c28-4695-9cde-661529a0df5a\" class=\"plotly-graph-div\" style=\"height:400px; width:800px;\"></div>\n",
       "            <script type=\"text/javascript\">\n",
       "                require([\"plotly\"], function(Plotly) {\n",
       "                    window.PLOTLYENV=window.PLOTLYENV || {};\n",
       "                    \n",
       "                if (document.getElementById(\"6238d333-1c28-4695-9cde-661529a0df5a\")) {\n",
       "                    Plotly.newPlot(\n",
       "                        '6238d333-1c28-4695-9cde-661529a0df5a',\n",
       "                        [{\"mode\": \"lines\", \"name\": \"Alliance_Health_Plus_Trust\", \"type\": \"scatter\", \"x\": [\"Q1_16\", \"Q2_16\", \"Q3_16\", \"Q4_16\", \"Q1_17\", \"Q2_17\", \"Q3_17\", \"Q4_17\", \"Q1_18\", \"Q2_18\", \"Q3_18\", \"Q4_18\", \"Q1_19\", \"Q2_19\", \"Q3_19\", \"Q4_19\", \"Q1_20\"], \"y\": [0.093, 0.144, 0.208, 0.218, 0.217, 0.287, 0.333, 0.277, 0.315, 0.391, 0.385, 0.42, 0.402, 0.43, 0.443, 0.424, 0.439]}, {\"mode\": \"lines+markers\", \"name\": \"Auckland_PHO_Limited\", \"type\": \"scatter\", \"x\": [\"Q1_16\", \"Q2_16\", \"Q3_16\", \"Q4_16\", \"Q1_17\", \"Q2_17\", \"Q3_17\", \"Q4_17\", \"Q1_18\", \"Q2_18\", \"Q3_18\", \"Q4_18\", \"Q1_19\", \"Q2_19\", \"Q3_19\", \"Q4_19\", \"Q1_20\"], \"y\": [0.194, 0.311, 0.309, 0.314, 0.386, 0.34, 0.437, 0.415, 0.449, 0.489, 0.534, 0.503, 0.605, 0.637, 0.743, 0.673, 0.671]}, {\"mode\": \"lines+markers\", \"name\": \"Comprehensive_Care\", \"type\": \"scatter\", \"x\": [\"Q1_16\", \"Q2_16\", \"Q3_16\", \"Q4_16\", \"Q1_17\", \"Q2_17\", \"Q3_17\", \"Q4_17\", \"Q1_18\", \"Q2_18\", \"Q3_18\", \"Q4_18\", \"Q1_19\", \"Q2_19\", \"Q3_19\", \"Q4_19\", \"Q1_20\"], \"y\": [0.204, 0.302, 0.343, 0.405, 0.388, 0.452, 0.447, 0.475, 0.475, 0.547, 0.569, 0.564, 0.543, 0.613, 0.596, 0.562, 0.601]}, {\"mode\": \"lines+markers\", \"name\": \"East_Health_Trust\", \"type\": \"scatter\", \"x\": [\"Q1_16\", \"Q2_16\", \"Q3_16\", \"Q4_16\", \"Q1_17\", \"Q2_17\", \"Q3_17\", \"Q4_17\", \"Q1_18\", \"Q2_18\", \"Q3_18\", \"Q4_18\", \"Q1_19\", \"Q2_19\", \"Q3_19\", \"Q4_19\", \"Q1_20\"], \"y\": [0.197, 0.282, 0.384, 0.279, 0.298, 0.443, 0.488, 0.458, 0.494, 0.569, 0.584, 0.519, 0.56, 0.586, 0.533, 0.615, 0.593]}, {\"mode\": \"lines+markers\", \"name\": \"National_Hauora_Coalition_Limited\", \"type\": \"scatter\", \"x\": [\"Q1_16\", \"Q2_16\", \"Q3_16\", \"Q4_16\", \"Q1_17\", \"Q2_17\", \"Q3_17\", \"Q4_17\", \"Q1_18\", \"Q2_18\", \"Q3_18\", \"Q4_18\", \"Q1_19\", \"Q2_19\", \"Q3_19\", \"Q4_19\", \"Q1_20\"], \"y\": [0.162, 0.271, 0.261, 0.304, 0.278, 0.411, 0.414, 0.414, 0.455, 0.458, 0.492, 0.467, 0.448, 0.528, 0.513, 0.506, 0.512]}, {\"mode\": \"lines+markers\", \"name\": \"Procare_Networks_Limited\", \"type\": \"scatter\", \"x\": [\"Q1_16\", \"Q2_16\", \"Q3_16\", \"Q4_16\", \"Q1_17\", \"Q2_17\", \"Q3_17\", \"Q4_17\", \"Q1_18\", \"Q2_18\", \"Q3_18\", \"Q4_18\", \"Q1_19\", \"Q2_19\", \"Q3_19\", \"Q4_19\", \"Q1_20\"], \"y\": [0.223, 0.277, 0.343, 0.353, 0.333, 0.387, 0.422, 0.425, 0.443, 0.495, 0.476, 0.479, 0.458, 0.54, 0.538, 0.497, 0.499]}, {\"mode\": \"lines+markers\", \"name\": \"Total_Healthcare_Charitable_Trust\", \"type\": \"scatter\", \"x\": [\"Q1_16\", \"Q2_16\", \"Q3_16\", \"Q4_16\", \"Q1_17\", \"Q2_17\", \"Q3_17\", \"Q4_17\", \"Q1_18\", \"Q2_18\", \"Q3_18\", \"Q4_18\", \"Q1_19\", \"Q2_19\", \"Q3_19\", \"Q4_19\", \"Q1_20\"], \"y\": [0.08, 0.16, 0.236, 0.286, 0.195, 0.295, 0.273, 0.249, 0.295, 0.345, 0.392, 0.415, 0.4, 0.468, 0.445, 0.415, 0.422]}],\n",
       "                        {\"autosize\": true, \"height\": 400, \"showlegend\": true, \"template\": {\"data\": {\"bar\": [{\"error_x\": {\"color\": \"#2a3f5f\"}, \"error_y\": {\"color\": \"#2a3f5f\"}, \"marker\": {\"line\": {\"color\": \"#E5ECF6\", \"width\": 0.5}}, \"type\": \"bar\"}], \"barpolar\": [{\"marker\": {\"line\": {\"color\": \"#E5ECF6\", \"width\": 0.5}}, \"type\": \"barpolar\"}], \"carpet\": [{\"aaxis\": {\"endlinecolor\": \"#2a3f5f\", \"gridcolor\": \"white\", \"linecolor\": \"white\", \"minorgridcolor\": \"white\", \"startlinecolor\": \"#2a3f5f\"}, \"baxis\": {\"endlinecolor\": \"#2a3f5f\", \"gridcolor\": \"white\", \"linecolor\": \"white\", \"minorgridcolor\": \"white\", \"startlinecolor\": \"#2a3f5f\"}, \"type\": \"carpet\"}], \"choropleth\": [{\"colorbar\": {\"outlinewidth\": 0, \"ticks\": \"\"}, \"type\": \"choropleth\"}], \"contour\": [{\"colorbar\": {\"outlinewidth\": 0, \"ticks\": \"\"}, \"colorscale\": [[0.0, \"#0d0887\"], [0.1111111111111111, \"#46039f\"], [0.2222222222222222, \"#7201a8\"], [0.3333333333333333, \"#9c179e\"], [0.4444444444444444, \"#bd3786\"], [0.5555555555555556, \"#d8576b\"], [0.6666666666666666, \"#ed7953\"], [0.7777777777777778, \"#fb9f3a\"], [0.8888888888888888, \"#fdca26\"], [1.0, \"#f0f921\"]], \"type\": \"contour\"}], \"contourcarpet\": [{\"colorbar\": {\"outlinewidth\": 0, \"ticks\": \"\"}, \"type\": \"contourcarpet\"}], \"heatmap\": [{\"colorbar\": {\"outlinewidth\": 0, \"ticks\": \"\"}, \"colorscale\": [[0.0, \"#0d0887\"], [0.1111111111111111, \"#46039f\"], [0.2222222222222222, \"#7201a8\"], [0.3333333333333333, \"#9c179e\"], [0.4444444444444444, \"#bd3786\"], [0.5555555555555556, \"#d8576b\"], [0.6666666666666666, \"#ed7953\"], [0.7777777777777778, \"#fb9f3a\"], [0.8888888888888888, \"#fdca26\"], [1.0, \"#f0f921\"]], \"type\": \"heatmap\"}], \"heatmapgl\": [{\"colorbar\": {\"outlinewidth\": 0, \"ticks\": \"\"}, \"colorscale\": [[0.0, \"#0d0887\"], [0.1111111111111111, \"#46039f\"], [0.2222222222222222, \"#7201a8\"], [0.3333333333333333, \"#9c179e\"], [0.4444444444444444, \"#bd3786\"], [0.5555555555555556, \"#d8576b\"], [0.6666666666666666, \"#ed7953\"], [0.7777777777777778, \"#fb9f3a\"], [0.8888888888888888, \"#fdca26\"], [1.0, \"#f0f921\"]], \"type\": \"heatmapgl\"}], \"histogram\": [{\"marker\": {\"colorbar\": {\"outlinewidth\": 0, \"ticks\": \"\"}}, \"type\": \"histogram\"}], \"histogram2d\": [{\"colorbar\": {\"outlinewidth\": 0, \"ticks\": \"\"}, \"colorscale\": [[0.0, \"#0d0887\"], [0.1111111111111111, \"#46039f\"], [0.2222222222222222, \"#7201a8\"], [0.3333333333333333, \"#9c179e\"], [0.4444444444444444, \"#bd3786\"], [0.5555555555555556, \"#d8576b\"], [0.6666666666666666, \"#ed7953\"], [0.7777777777777778, \"#fb9f3a\"], [0.8888888888888888, \"#fdca26\"], [1.0, \"#f0f921\"]], \"type\": \"histogram2d\"}], \"histogram2dcontour\": [{\"colorbar\": {\"outlinewidth\": 0, \"ticks\": \"\"}, \"colorscale\": [[0.0, \"#0d0887\"], [0.1111111111111111, \"#46039f\"], [0.2222222222222222, \"#7201a8\"], [0.3333333333333333, \"#9c179e\"], [0.4444444444444444, \"#bd3786\"], [0.5555555555555556, \"#d8576b\"], [0.6666666666666666, \"#ed7953\"], [0.7777777777777778, \"#fb9f3a\"], [0.8888888888888888, \"#fdca26\"], [1.0, \"#f0f921\"]], \"type\": \"histogram2dcontour\"}], \"mesh3d\": [{\"colorbar\": {\"outlinewidth\": 0, \"ticks\": \"\"}, \"type\": \"mesh3d\"}], \"parcoords\": [{\"line\": {\"colorbar\": {\"outlinewidth\": 0, \"ticks\": \"\"}}, \"type\": \"parcoords\"}], \"pie\": [{\"automargin\": true, \"type\": \"pie\"}], \"scatter\": [{\"marker\": {\"colorbar\": {\"outlinewidth\": 0, \"ticks\": \"\"}}, \"type\": \"scatter\"}], \"scatter3d\": [{\"line\": {\"colorbar\": {\"outlinewidth\": 0, \"ticks\": \"\"}}, \"marker\": {\"colorbar\": {\"outlinewidth\": 0, \"ticks\": \"\"}}, \"type\": \"scatter3d\"}], \"scattercarpet\": [{\"marker\": {\"colorbar\": {\"outlinewidth\": 0, \"ticks\": \"\"}}, \"type\": \"scattercarpet\"}], \"scattergeo\": [{\"marker\": {\"colorbar\": {\"outlinewidth\": 0, \"ticks\": \"\"}}, \"type\": \"scattergeo\"}], \"scattergl\": [{\"marker\": {\"colorbar\": {\"outlinewidth\": 0, \"ticks\": \"\"}}, \"type\": \"scattergl\"}], \"scattermapbox\": [{\"marker\": {\"colorbar\": {\"outlinewidth\": 0, \"ticks\": \"\"}}, \"type\": \"scattermapbox\"}], \"scatterpolar\": [{\"marker\": {\"colorbar\": {\"outlinewidth\": 0, \"ticks\": \"\"}}, \"type\": \"scatterpolar\"}], \"scatterpolargl\": [{\"marker\": {\"colorbar\": {\"outlinewidth\": 0, \"ticks\": \"\"}}, \"type\": \"scatterpolargl\"}], \"scatterternary\": [{\"marker\": {\"colorbar\": {\"outlinewidth\": 0, \"ticks\": \"\"}}, \"type\": \"scatterternary\"}], \"surface\": [{\"colorbar\": {\"outlinewidth\": 0, \"ticks\": \"\"}, \"colorscale\": [[0.0, \"#0d0887\"], [0.1111111111111111, \"#46039f\"], [0.2222222222222222, \"#7201a8\"], [0.3333333333333333, \"#9c179e\"], [0.4444444444444444, \"#bd3786\"], [0.5555555555555556, \"#d8576b\"], [0.6666666666666666, \"#ed7953\"], [0.7777777777777778, \"#fb9f3a\"], [0.8888888888888888, \"#fdca26\"], [1.0, \"#f0f921\"]], \"type\": \"surface\"}], \"table\": [{\"cells\": {\"fill\": {\"color\": \"#EBF0F8\"}, \"line\": {\"color\": \"white\"}}, \"header\": {\"fill\": {\"color\": \"#C8D4E3\"}, \"line\": {\"color\": \"white\"}}, \"type\": \"table\"}]}, \"layout\": {\"annotationdefaults\": {\"arrowcolor\": \"#2a3f5f\", \"arrowhead\": 0, \"arrowwidth\": 1}, \"coloraxis\": {\"colorbar\": {\"outlinewidth\": 0, \"ticks\": \"\"}}, \"colorscale\": {\"diverging\": [[0, \"#8e0152\"], [0.1, \"#c51b7d\"], [0.2, \"#de77ae\"], [0.3, \"#f1b6da\"], [0.4, \"#fde0ef\"], [0.5, \"#f7f7f7\"], [0.6, \"#e6f5d0\"], [0.7, \"#b8e186\"], [0.8, \"#7fbc41\"], [0.9, \"#4d9221\"], [1, \"#276419\"]], \"sequential\": [[0.0, \"#0d0887\"], [0.1111111111111111, \"#46039f\"], [0.2222222222222222, \"#7201a8\"], [0.3333333333333333, \"#9c179e\"], [0.4444444444444444, \"#bd3786\"], [0.5555555555555556, \"#d8576b\"], [0.6666666666666666, \"#ed7953\"], [0.7777777777777778, \"#fb9f3a\"], [0.8888888888888888, \"#fdca26\"], [1.0, \"#f0f921\"]], \"sequentialminus\": [[0.0, \"#0d0887\"], [0.1111111111111111, \"#46039f\"], [0.2222222222222222, \"#7201a8\"], [0.3333333333333333, \"#9c179e\"], [0.4444444444444444, \"#bd3786\"], [0.5555555555555556, \"#d8576b\"], [0.6666666666666666, \"#ed7953\"], [0.7777777777777778, \"#fb9f3a\"], [0.8888888888888888, \"#fdca26\"], [1.0, \"#f0f921\"]]}, \"colorway\": [\"#636efa\", \"#EF553B\", \"#00cc96\", \"#ab63fa\", \"#FFA15A\", \"#19d3f3\", \"#FF6692\", \"#B6E880\", \"#FF97FF\", \"#FECB52\"], \"font\": {\"color\": \"#2a3f5f\"}, \"geo\": {\"bgcolor\": \"white\", \"lakecolor\": \"white\", \"landcolor\": \"#E5ECF6\", \"showlakes\": true, \"showland\": true, \"subunitcolor\": \"white\"}, \"hoverlabel\": {\"align\": \"left\"}, \"hovermode\": \"closest\", \"mapbox\": {\"style\": \"light\"}, \"paper_bgcolor\": \"white\", \"plot_bgcolor\": \"#E5ECF6\", \"polar\": {\"angularaxis\": {\"gridcolor\": \"white\", \"linecolor\": \"white\", \"ticks\": \"\"}, \"bgcolor\": \"#E5ECF6\", \"radialaxis\": {\"gridcolor\": \"white\", \"linecolor\": \"white\", \"ticks\": \"\"}}, \"scene\": {\"xaxis\": {\"backgroundcolor\": \"#E5ECF6\", \"gridcolor\": \"white\", \"gridwidth\": 2, \"linecolor\": \"white\", \"showbackground\": true, \"ticks\": \"\", \"zerolinecolor\": \"white\"}, \"yaxis\": {\"backgroundcolor\": \"#E5ECF6\", \"gridcolor\": \"white\", \"gridwidth\": 2, \"linecolor\": \"white\", \"showbackground\": true, \"ticks\": \"\", \"zerolinecolor\": \"white\"}, \"zaxis\": {\"backgroundcolor\": \"#E5ECF6\", \"gridcolor\": \"white\", \"gridwidth\": 2, \"linecolor\": \"white\", \"showbackground\": true, \"ticks\": \"\", \"zerolinecolor\": \"white\"}}, \"shapedefaults\": {\"line\": {\"color\": \"#2a3f5f\"}}, \"ternary\": {\"aaxis\": {\"gridcolor\": \"white\", \"linecolor\": \"white\", \"ticks\": \"\"}, \"baxis\": {\"gridcolor\": \"white\", \"linecolor\": \"white\", \"ticks\": \"\"}, \"bgcolor\": \"#E5ECF6\", \"caxis\": {\"gridcolor\": \"white\", \"linecolor\": \"white\", \"ticks\": \"\"}}, \"title\": {\"x\": 0.05}, \"xaxis\": {\"automargin\": true, \"gridcolor\": \"white\", \"linecolor\": \"white\", \"ticks\": \"\", \"title\": {\"standoff\": 15}, \"zerolinecolor\": \"white\", \"zerolinewidth\": 2}, \"yaxis\": {\"automargin\": true, \"gridcolor\": \"white\", \"linecolor\": \"white\", \"ticks\": \"\", \"title\": {\"standoff\": 15}, \"zerolinecolor\": \"white\", \"zerolinewidth\": 2}}}, \"title\": {\"text\": \"Quarterly pertussis coverage trends by PHO\"}, \"width\": 800, \"xaxis\": {\"tickangle\": 45, \"title\": {\"text\": \"Quarterly\"}, \"type\": \"category\"}, \"yaxis\": {\"tickformat\": \"%\", \"title\": {\"text\": \"% Vaccinated\"}}},\n",
       "                        {\"responsive\": true}\n",
       "                    ).then(function(){\n",
       "                            \n",
       "var gd = document.getElementById('6238d333-1c28-4695-9cde-661529a0df5a');\n",
       "var x = new MutationObserver(function (mutations, observer) {{\n",
       "        var display = window.getComputedStyle(gd).display;\n",
       "        if (!display || display === 'none') {{\n",
       "            console.log([gd, 'removed!']);\n",
       "            Plotly.purge(gd);\n",
       "            observer.disconnect();\n",
       "        }}\n",
       "}});\n",
       "\n",
       "// Listen for the removal of the full notebook cells\n",
       "var notebookContainer = gd.closest('#notebook-container');\n",
       "if (notebookContainer) {{\n",
       "    x.observe(notebookContainer, {childList: true});\n",
       "}}\n",
       "\n",
       "// Listen for the clearing of the current output cell\n",
       "var outputEl = gd.closest('.output');\n",
       "if (outputEl) {{\n",
       "    x.observe(outputEl, {childList: true});\n",
       "}}\n",
       "\n",
       "                        })\n",
       "                };\n",
       "                });\n",
       "            </script>\n",
       "        </div>"
      ]
     },
     "metadata": {},
     "output_type": "display_data"
    }
   ],
   "source": [
    "import pandas as pd\n",
    "import matplotlib.pyplot as plt\n",
    "import plotly.graph_objects as go\n",
    "import numpy as np\n",
    "#DHBAll = pd.ExcelFile('G:/Funding Team/Planning/Health Information/HIAT/Michael Files/Antinatal Vaccination/April 2019 to March 2020/For Python.xlsx')\n",
    "#DHBPert = pd.read_excel(DHBAll, 'Pertussis Graphs', skiprows=5)\n",
    "PHOPertus = DHBPert[['Alliance_Health_Plus_Trust','Auckland_PHO_Limited','Comprehensive_Care', 'East_Health_Trust',\n",
    "                      'National_Hauora_Coalition_Limited', 'Procare_Networks_Limited', 'Total_Healthcare_Charitable_Trust']]\n",
    "PHOPertus=PHOPertus.round(3)\n",
    "PHOPertus=PHOPertus[:29]\n",
    "\n",
    "# Declare a list that is to be converted into a column \n",
    "Quarter = ['Q1_16', 'Q2_16', 'Q3_16', 'Q4_16','Q1_17', 'Q2_17', 'Q3_17', 'Q4_17','Q1_18', 'Q2_18', 'Q3_18', 'Q4_18','Q1_19', \n",
    "           'Q2_19', 'Q3_19', 'Q4_19','Q1_20', 'Q2_20', 'Q3_20', 'Q4_20',\n",
    "           'Q1_21', 'Q2_21', 'Q3_21', 'Q4_21','Q1_22', 'Q2_22', 'Q3_22', 'Q4_22', 'Q1_23'] \n",
    "# Using 'Address' as the column name \n",
    "# and equating it to the list \n",
    "PHOPertus['Quarter'] = Quarter \n",
    "PHOPertus=PHOPertus.dropna()\n",
    "random_x = PHOPertus[\"Quarter\"].tolist()\n",
    "# using to_numpy() \n",
    "random_y0 = PHOPertus['Alliance_Health_Plus_Trust'].tolist()   \n",
    "\n",
    "random_y1 = PHOPertus['Auckland_PHO_Limited'].tolist()  \n",
    "\n",
    "random_y2 = PHOPertus['Comprehensive_Care'].tolist()   \n",
    "random_y3 = PHOPertus['East_Health_Trust'].tolist() \n",
    "random_y4 = PHOPertus['National_Hauora_Coalition_Limited'].tolist() \n",
    "random_y5 = PHOPertus['Procare_Networks_Limited'].tolist()\n",
    "random_y6 = PHOPertus['Total_Healthcare_Charitable_Trust'].tolist()\n",
    "import numpy as np\n",
    "\n",
    "# Create traces\n",
    "fig = go.Figure()\n",
    "fig.add_trace(go.Scatter(x=random_x, y=random_y0,\n",
    "                    mode='lines',\n",
    "                    name='Alliance_Health_Plus_Trust'))\n",
    "fig.add_trace(go.Scatter(x=random_x, y=random_y1,\n",
    "                    mode='lines+markers',\n",
    "                    name='Auckland_PHO_Limited'))\n",
    "fig.add_trace(go.Scatter(x=random_x, y=random_y2,\n",
    "                    mode='lines+markers',\n",
    "                    name='Comprehensive_Care'))\n",
    "fig.add_trace(go.Scatter(x=random_x, y=random_y3,\n",
    "                    mode='lines+markers',\n",
    "                    name='East_Health_Trust'))\n",
    "fig.add_trace(go.Scatter(x=random_x, y=random_y4,\n",
    "                    mode='lines+markers',\n",
    "                    name='National_Hauora_Coalition_Limited'))\n",
    "fig.add_trace(go.Scatter(x=random_x, y=random_y5,\n",
    "                    mode='lines+markers',\n",
    "                    name='Procare_Networks_Limited'))\n",
    "fig.add_trace(go.Scatter(x=random_x, y=random_y6,\n",
    "                    mode='lines+markers',\n",
    "                    name='Total_Healthcare_Charitable_Trust'))\n",
    "# Edit the layout\n",
    "fig.update_layout(title='Pertusiss by Ethnicity',\n",
    "                   xaxis_title='Quarter',\n",
    "                   yaxis_title='Percentage')\n",
    "\n",
    "fig.update_layout(xaxis_type='category',\n",
    "                  title_text='Quarterly pertussis coverage trends by PHO',\n",
    "                  xaxis_title='Quarterly',\n",
    "                  yaxis_title='% Vaccinated')\n",
    "fig.update_xaxes(tickangle=45)\n",
    "fig.update_yaxes(tickformat=\"%\")\n",
    "fig.update_layout(showlegend=True)\n",
    "#fig.update_layout(legend_orientation=\"h\")\n",
    "fig.update_layout(\n",
    "    autosize=True,\n",
    "    width=800,\n",
    "    height=400,)\n",
    "fig.show()"
   ]
  },
  {
   "cell_type": "markdown",
   "metadata": {},
   "source": [
    "### Coverage by Primary Health Organisation and Ethnicity"
   ]
  },
  {
   "cell_type": "code",
   "execution_count": 198,
   "metadata": {},
   "outputs": [],
   "source": [
    "#sheet3[\"A29\"].value"
   ]
  },
  {
   "cell_type": "markdown",
   "metadata": {},
   "source": [
    "East Health Trust had the highest coverage rates among Māori (53.2%). Auckland PHO had the highest coverage rates in Pacific (52.2%) and Asian (79.7%). East Health Trust had the highest European/Other coverage rate at 63.9%."
   ]
  },
  {
   "cell_type": "code",
   "execution_count": 199,
   "metadata": {
    "scrolled": true
   },
   "outputs": [
    {
     "data": {
      "text/html": [
       "<style  type=\"text/css\" >\n",
       "    #T_0fcbeb46_f7aa_11ea_afdc_ecb1d74ca0c9 tr:hover {\n",
       "          background-color: #ffff99;\n",
       "    }    #T_0fcbeb46_f7aa_11ea_afdc_ecb1d74ca0c9 th {\n",
       "          font-size: 90%;\n",
       "          text-align: center;\n",
       "    }    #T_0fcbeb46_f7aa_11ea_afdc_ecb1d74ca0c9 caption {\n",
       "          caption-side: bottom;\n",
       "    }</style><table id=\"T_0fcbeb46_f7aa_11ea_afdc_ecb1d74ca0c9\" ><caption>Hover to highlight.</caption><thead>    <tr>        <th class=\"index_name level0\" >0</th>        <th class=\"col_heading level0 col0\" >PHO</th>        <th class=\"col_heading level0 col1\" >Māori</th>        <th class=\"col_heading level0 col2\" >Pacific</th>        <th class=\"col_heading level0 col3\" >Asian</th>        <th class=\"col_heading level0 col4\" >European_Other</th>    </tr></thead><tbody>\n",
       "                <tr>\n",
       "                        <th id=\"T_0fcbeb46_f7aa_11ea_afdc_ecb1d74ca0c9level0_row0\" class=\"row_heading level0 row0\" >1</th>\n",
       "                        <td id=\"T_0fcbeb46_f7aa_11ea_afdc_ecb1d74ca0c9row0_col0\" class=\"data row0 col0\" >Alliance_Health_Plus_Trust</td>\n",
       "                        <td id=\"T_0fcbeb46_f7aa_11ea_afdc_ecb1d74ca0c9row0_col1\" class=\"data row0 col1\" >26</td>\n",
       "                        <td id=\"T_0fcbeb46_f7aa_11ea_afdc_ecb1d74ca0c9row0_col2\" class=\"data row0 col2\" >35.8</td>\n",
       "                        <td id=\"T_0fcbeb46_f7aa_11ea_afdc_ecb1d74ca0c9row0_col3\" class=\"data row0 col3\" >58.5</td>\n",
       "                        <td id=\"T_0fcbeb46_f7aa_11ea_afdc_ecb1d74ca0c9row0_col4\" class=\"data row0 col4\" >51.7</td>\n",
       "            </tr>\n",
       "            <tr>\n",
       "                        <th id=\"T_0fcbeb46_f7aa_11ea_afdc_ecb1d74ca0c9level0_row1\" class=\"row_heading level0 row1\" >2</th>\n",
       "                        <td id=\"T_0fcbeb46_f7aa_11ea_afdc_ecb1d74ca0c9row1_col0\" class=\"data row1 col0\" >Auckland_PHO_Limited</td>\n",
       "                        <td id=\"T_0fcbeb46_f7aa_11ea_afdc_ecb1d74ca0c9row1_col1\" class=\"data row1 col1\" >41</td>\n",
       "                        <td id=\"T_0fcbeb46_f7aa_11ea_afdc_ecb1d74ca0c9row1_col2\" class=\"data row1 col2\" >52.2</td>\n",
       "                        <td id=\"T_0fcbeb46_f7aa_11ea_afdc_ecb1d74ca0c9row1_col3\" class=\"data row1 col3\" >79.7</td>\n",
       "                        <td id=\"T_0fcbeb46_f7aa_11ea_afdc_ecb1d74ca0c9row1_col4\" class=\"data row1 col4\" >58.9</td>\n",
       "            </tr>\n",
       "            <tr>\n",
       "                        <th id=\"T_0fcbeb46_f7aa_11ea_afdc_ecb1d74ca0c9level0_row2\" class=\"row_heading level0 row2\" >3</th>\n",
       "                        <td id=\"T_0fcbeb46_f7aa_11ea_afdc_ecb1d74ca0c9row2_col0\" class=\"data row2 col0\" >Comprehensive_Care</td>\n",
       "                        <td id=\"T_0fcbeb46_f7aa_11ea_afdc_ecb1d74ca0c9row2_col1\" class=\"data row2 col1\" >38</td>\n",
       "                        <td id=\"T_0fcbeb46_f7aa_11ea_afdc_ecb1d74ca0c9row2_col2\" class=\"data row2 col2\" >37.8</td>\n",
       "                        <td id=\"T_0fcbeb46_f7aa_11ea_afdc_ecb1d74ca0c9row2_col3\" class=\"data row2 col3\" >69.1</td>\n",
       "                        <td id=\"T_0fcbeb46_f7aa_11ea_afdc_ecb1d74ca0c9row2_col4\" class=\"data row2 col4\" >60.4</td>\n",
       "            </tr>\n",
       "            <tr>\n",
       "                        <th id=\"T_0fcbeb46_f7aa_11ea_afdc_ecb1d74ca0c9level0_row3\" class=\"row_heading level0 row3\" >4</th>\n",
       "                        <td id=\"T_0fcbeb46_f7aa_11ea_afdc_ecb1d74ca0c9row3_col0\" class=\"data row3 col0\" >East_Health_Trust</td>\n",
       "                        <td id=\"T_0fcbeb46_f7aa_11ea_afdc_ecb1d74ca0c9row3_col1\" class=\"data row3 col1\" >53.2</td>\n",
       "                        <td id=\"T_0fcbeb46_f7aa_11ea_afdc_ecb1d74ca0c9row3_col2\" class=\"data row3 col2\" >48.5</td>\n",
       "                        <td id=\"T_0fcbeb46_f7aa_11ea_afdc_ecb1d74ca0c9row3_col3\" class=\"data row3 col3\" >54.2</td>\n",
       "                        <td id=\"T_0fcbeb46_f7aa_11ea_afdc_ecb1d74ca0c9row3_col4\" class=\"data row3 col4\" >63.9</td>\n",
       "            </tr>\n",
       "            <tr>\n",
       "                        <th id=\"T_0fcbeb46_f7aa_11ea_afdc_ecb1d74ca0c9level0_row4\" class=\"row_heading level0 row4\" >5</th>\n",
       "                        <td id=\"T_0fcbeb46_f7aa_11ea_afdc_ecb1d74ca0c9row4_col0\" class=\"data row4 col0\" >National_Hauora_Coalition_Limited</td>\n",
       "                        <td id=\"T_0fcbeb46_f7aa_11ea_afdc_ecb1d74ca0c9row4_col1\" class=\"data row4 col1\" >28.3</td>\n",
       "                        <td id=\"T_0fcbeb46_f7aa_11ea_afdc_ecb1d74ca0c9row4_col2\" class=\"data row4 col2\" >28.8</td>\n",
       "                        <td id=\"T_0fcbeb46_f7aa_11ea_afdc_ecb1d74ca0c9row4_col3\" class=\"data row4 col3\" >68.4</td>\n",
       "                        <td id=\"T_0fcbeb46_f7aa_11ea_afdc_ecb1d74ca0c9row4_col4\" class=\"data row4 col4\" >54.6</td>\n",
       "            </tr>\n",
       "            <tr>\n",
       "                        <th id=\"T_0fcbeb46_f7aa_11ea_afdc_ecb1d74ca0c9level0_row5\" class=\"row_heading level0 row5\" >6</th>\n",
       "                        <td id=\"T_0fcbeb46_f7aa_11ea_afdc_ecb1d74ca0c9row5_col0\" class=\"data row5 col0\" >Procare_Networks_Limited</td>\n",
       "                        <td id=\"T_0fcbeb46_f7aa_11ea_afdc_ecb1d74ca0c9row5_col1\" class=\"data row5 col1\" >31.1</td>\n",
       "                        <td id=\"T_0fcbeb46_f7aa_11ea_afdc_ecb1d74ca0c9row5_col2\" class=\"data row5 col2\" >40.5</td>\n",
       "                        <td id=\"T_0fcbeb46_f7aa_11ea_afdc_ecb1d74ca0c9row5_col3\" class=\"data row5 col3\" >63.1</td>\n",
       "                        <td id=\"T_0fcbeb46_f7aa_11ea_afdc_ecb1d74ca0c9row5_col4\" class=\"data row5 col4\" >54.9</td>\n",
       "            </tr>\n",
       "            <tr>\n",
       "                        <th id=\"T_0fcbeb46_f7aa_11ea_afdc_ecb1d74ca0c9level0_row6\" class=\"row_heading level0 row6\" >7</th>\n",
       "                        <td id=\"T_0fcbeb46_f7aa_11ea_afdc_ecb1d74ca0c9row6_col0\" class=\"data row6 col0\" >Total_Healthcare_Charitable_Trust</td>\n",
       "                        <td id=\"T_0fcbeb46_f7aa_11ea_afdc_ecb1d74ca0c9row6_col1\" class=\"data row6 col1\" >21.4</td>\n",
       "                        <td id=\"T_0fcbeb46_f7aa_11ea_afdc_ecb1d74ca0c9row6_col2\" class=\"data row6 col2\" >36.1</td>\n",
       "                        <td id=\"T_0fcbeb46_f7aa_11ea_afdc_ecb1d74ca0c9row6_col3\" class=\"data row6 col3\" >70.5</td>\n",
       "                        <td id=\"T_0fcbeb46_f7aa_11ea_afdc_ecb1d74ca0c9row6_col4\" class=\"data row6 col4\" >37.7</td>\n",
       "            </tr>\n",
       "    </tbody></table>"
      ],
      "text/plain": [
       "<pandas.io.formats.style.Styler at 0x9593128>"
      ]
     },
     "execution_count": 199,
     "metadata": {},
     "output_type": "execute_result"
    }
   ],
   "source": [
    "PHOETab = pd.read_excel(DHBAll, 'Pertussis Tables', skiprows=31)\n",
    "PHOETabPHO=PHOETab.iloc[0:8, 1:6]\n",
    "PHOETabPHO.columns = PHOETabPHO.iloc[0]\n",
    "PHOETabPHO=PHOETabPHO.drop(PHOETabPHO.index[0])\n",
    "#DHBTabDHB.rename(columns=DHBTabDHB.iloc[0]).drop(DHBTabDHB.index[1])\n",
    "PHOETabPHO = PHOETabPHO.astype({\"Māori\": float, \"Pacific\": float, \"Asian\": float,\n",
    "                             \"European_Other\": float})\n",
    "#DHBTabDHB.dtypes\n",
    "PHOETabPHO.iloc[:,1:] = PHOETabPHO.iloc[:,1:] * 100\n",
    "PHOETabPHO.style.hide_index()\n",
    "from IPython.display import HTML\n",
    "#DHBTabDHB.set_index('DHB_Domicile')\n",
    "def hover(hover_color=\"#ffff99\"):\n",
    "    return dict(selector=\"tr:hover\",\n",
    "                props=[(\"background-color\", \"%s\" % hover_color)])\n",
    "\n",
    "styles = [\n",
    "    hover(),\n",
    "    dict(selector=\"th\", props=[(\"font-size\", \"90%\"),\n",
    "                               (\"text-align\", \"center\")]),\n",
    "    dict(selector=\"caption\", props=[(\"caption-side\", \"bottom\")])\n",
    "]\n",
    "html = (PHOETabPHO.style.set_table_styles(styles)\n",
    "          .set_caption(\"Hover to highlight.\"))\n",
    "html\n",
    "#DHBTabDHB.set_index('DHB_Domicile')\n",
    "#DHBTabDHB.head()\n",
    "#DHBTab.head()"
   ]
  },
  {
   "cell_type": "code",
   "execution_count": 200,
   "metadata": {},
   "outputs": [],
   "source": [
    "#sheet3[\"A31\"].value"
   ]
  },
  {
   "cell_type": "code",
   "execution_count": 201,
   "metadata": {},
   "outputs": [],
   "source": [
    "#sheet3[\"A32\"].value"
   ]
  },
  {
   "cell_type": "code",
   "execution_count": 202,
   "metadata": {},
   "outputs": [],
   "source": [
    "#sheet3[\"A33\"].value"
   ]
  },
  {
   "cell_type": "code",
   "execution_count": 203,
   "metadata": {},
   "outputs": [],
   "source": [
    "#sheet3[\"A34\"].value"
   ]
  },
  {
   "cell_type": "code",
   "execution_count": 204,
   "metadata": {},
   "outputs": [],
   "source": [
    "#sheet3[\"A36\"].value"
   ]
  },
  {
   "cell_type": "markdown",
   "metadata": {},
   "source": [
    "- Includes births in the 12 months to 31 March 2020 \n",
    "- Current performance includes only PHO enrolled individuals as at March 2020\n",
    "- Ethnicity is prioritised and is that recorded on the PHO register\n",
    "- Domicile is as per that on March 2020 PHO register and might be different to that of the mother when the birth took place \n",
    "- The next update to this indicator can be expected in July 2020 which will include women birthing in the 12 months to 30 June 2020"
   ]
  },
  {
   "cell_type": "code",
   "execution_count": 205,
   "metadata": {},
   "outputs": [
    {
     "data": {
      "text/html": [
       "<style>\n",
       ".output {\n",
       "    align-items: center;\n",
       "}\n",
       "</style>"
      ],
      "text/plain": [
       "<IPython.core.display.HTML object>"
      ]
     },
     "execution_count": 205,
     "metadata": {},
     "output_type": "execute_result"
    }
   ],
   "source": [
    "from IPython.display import display, HTML\n",
    "\n",
    "CSS = \"\"\"\n",
    ".output {\n",
    "    align-items: center;\n",
    "}\n",
    "\"\"\"\n",
    "\n",
    "HTML('<style>{}</style>'.format(CSS))"
   ]
  },
  {
   "cell_type": "code",
   "execution_count": 206,
   "metadata": {},
   "outputs": [
    {
     "data": {
      "text/html": [
       "<script>\n",
       "code_show=true; \n",
       "function code_toggle() {\n",
       " if (code_show){\n",
       " $('div.input').hide();\n",
       " } else {\n",
       " $('div.input').show();\n",
       " }\n",
       " code_show = !code_show\n",
       "} \n",
       "$( document ).ready(code_toggle);\n",
       "</script>\n",
       "The raw code for this IPython notebook is by default hidden for easier reading.\n",
       "To toggle on/off the raw code, click <a href=\"javascript:code_toggle()\">here</a>."
      ],
      "text/plain": [
       "<IPython.core.display.HTML object>"
      ]
     },
     "execution_count": 206,
     "metadata": {},
     "output_type": "execute_result"
    }
   ],
   "source": [
    "from IPython.display import HTML\n",
    "HTML('''<script>\n",
    "code_show=true; \n",
    "function code_toggle() {\n",
    " if (code_show){\n",
    " $('div.input').hide();\n",
    " } else {\n",
    " $('div.input').show();\n",
    " }\n",
    " code_show = !code_show\n",
    "} \n",
    "$( document ).ready(code_toggle);\n",
    "</script>\n",
    "The raw code for this IPython notebook is by default hidden for easier reading.\n",
    "To toggle on/off the raw code, click <a href=\"javascript:code_toggle()\">here</a>.''')"
   ]
  },
  {
   "cell_type": "code",
   "execution_count": null,
   "metadata": {},
   "outputs": [],
   "source": []
  }
 ],
 "metadata": {
  "hide_input": true,
  "kernelspec": {
   "display_name": "Python 3",
   "language": "python",
   "name": "python3"
  },
  "language_info": {
   "codemirror_mode": {
    "name": "ipython",
    "version": 3
   },
   "file_extension": ".py",
   "mimetype": "text/x-python",
   "name": "python",
   "nbconvert_exporter": "python",
   "pygments_lexer": "ipython3",
   "version": "3.7.3"
  },
  "latex_envs": {
   "LaTeX_envs_menu_present": false,
   "autoclose": false,
   "autocomplete": true,
   "bibliofile": "biblio.bib",
   "cite_by": "apalike",
   "current_citInitial": 1,
   "eqLabelWithNumbers": false,
   "eqNumInitial": 1,
   "hotkeys": {
    "equation": "Ctrl-E",
    "itemize": "Ctrl-I"
   },
   "labels_anchors": true,
   "latex_user_defs": false,
   "report_style_numbering": false,
   "user_envs_cfg": false
  },
  "toc": {
   "base_numbering": 1,
   "nav_menu": {},
   "number_sections": true,
   "sideBar": true,
   "skip_h1_title": false,
   "title_cell": "Table of Contents",
   "title_sidebar": "Contents",
   "toc_cell": true,
   "toc_position": {},
   "toc_section_display": true,
   "toc_window_display": false
  }
 },
 "nbformat": 4,
 "nbformat_minor": 4
}
