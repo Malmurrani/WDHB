{
 "cells": [
  {
   "cell_type": "markdown",
   "metadata": {},
   "source": [
    "# Ambulatory Sensitive Hospitalisation"
   ]
  },
  {
   "cell_type": "markdown",
   "metadata": {},
   "source": [
    "## Coverage report to 31st of June 2020"
   ]
  },
  {
   "cell_type": "code",
   "execution_count": 122,
   "metadata": {},
   "outputs": [],
   "source": [
    "from IPython.display import HTML\n",
    "import json\n",
    "import pandas as pd\n",
    "from IPython.display import Markdown, display"
   ]
  },
  {
   "cell_type": "markdown",
   "metadata": {},
   "source": [
    "This following summary assesses the ambulatory sensitive hospital discharges with DHB/PHO level trends from year ending March 2016. \n",
    "Ambulatory sensitive hospitalisations (ASH) are mostly acute admissions that are considered potentially reducible through prophylactic or therapeutic interventions deliverable in a primary care setting.\n",
    "The measure is calculated quarterly with a rolling 12-month data period."
   ]
  },
  {
   "cell_type": "markdown",
   "metadata": {},
   "source": [
    "## ASH by District Health Board"
   ]
  },
  {
   "cell_type": "markdown",
   "metadata": {},
   "source": [
    "Auckland DHB is nearly double Waitemata DHB ASH rates. Up to June 2019 both Auckland and Waitemata DHB showed an increase in ASH rate as a trend, however, Counties Manukau, in the same period,showed some decline.  After which, since March 2020, the slop for all the DHBs sharply declined, as the impact of Covid19 started. "
   ]
  },
  {
   "cell_type": "code",
   "execution_count": 123,
   "metadata": {},
   "outputs": [
    {
     "data": {
      "text/html": [
       "        <script type=\"text/javascript\">\n",
       "        window.PlotlyConfig = {MathJaxConfig: 'local'};\n",
       "        if (window.MathJax) {MathJax.Hub.Config({SVG: {font: \"STIX-Web\"}});}\n",
       "        if (typeof require !== 'undefined') {\n",
       "        require.undef(\"plotly\");\n",
       "        requirejs.config({\n",
       "            paths: {\n",
       "                'plotly': ['https://cdn.plot.ly/plotly-latest.min']\n",
       "            }\n",
       "        });\n",
       "        require(['plotly'], function(Plotly) {\n",
       "            window._Plotly = Plotly;\n",
       "        });\n",
       "        }\n",
       "        </script>\n",
       "        "
      ]
     },
     "metadata": {},
     "output_type": "display_data"
    },
    {
     "data": {
      "application/vnd.plotly.v1+json": {
       "config": {
        "plotlyServerURL": "https://plotly.your-company.com"
       },
       "data": [
        {
         "mode": "lines+markers",
         "name": "Counties_Manukau",
         "type": "scatter",
         "x": [
          "Mar_16",
          "Jun_16",
          "Mar_17",
          "Jun_17",
          "Mar_18",
          "Jun_18",
          "Mar_19",
          "Jun_19",
          "Mar_20",
          "Jun_20"
         ],
         "y": [
          7.5,
          7.5,
          6.8,
          6.7,
          6.7,
          6.6,
          6.7,
          6.7,
          6.2,
          5.3
         ]
        },
        {
         "mode": "lines+markers",
         "name": "Auckland",
         "type": "scatter",
         "x": [
          "Mar_16",
          "Jun_16",
          "Mar_17",
          "Jun_17",
          "Mar_18",
          "Jun_18",
          "Mar_19",
          "Jun_19",
          "Mar_20",
          "Jun_20"
         ],
         "y": [
          8.5,
          8.4,
          7.2,
          6.9,
          7.6,
          7.7,
          7.5,
          7.9,
          7.5,
          6
         ]
        },
        {
         "mode": "lines+markers",
         "name": "Waitemata",
         "type": "scatter",
         "x": [
          "Mar_16",
          "Jun_16",
          "Mar_17",
          "Jun_17",
          "Mar_18",
          "Jun_18",
          "Mar_19",
          "Jun_19",
          "Mar_20",
          "Jun_20"
         ],
         "y": [
          5.3,
          5.5,
          5.4,
          5.3,
          5.5,
          5.5,
          5.7,
          5.9,
          5.5,
          4.5
         ]
        },
        {
         "mode": "lines+markers",
         "name": "National",
         "type": "scatter",
         "x": [
          "Mar_16",
          "Jun_16",
          "Mar_17",
          "Jun_17",
          "Mar_18",
          "Jun_18",
          "Mar_19",
          "Jun_19",
          "Mar_20",
          "Jun_20"
         ],
         "y": [
          6.8,
          6.8,
          6.4,
          6.4,
          6.7,
          6.9,
          6.9,
          6.8,
          6.4,
          5.3
         ]
        }
       ],
       "layout": {
        "autosize": false,
        "height": 400,
        "showlegend": true,
        "template": {
         "data": {
          "bar": [
           {
            "error_x": {
             "color": "#2a3f5f"
            },
            "error_y": {
             "color": "#2a3f5f"
            },
            "marker": {
             "line": {
              "color": "#E5ECF6",
              "width": 0.5
             }
            },
            "type": "bar"
           }
          ],
          "barpolar": [
           {
            "marker": {
             "line": {
              "color": "#E5ECF6",
              "width": 0.5
             }
            },
            "type": "barpolar"
           }
          ],
          "carpet": [
           {
            "aaxis": {
             "endlinecolor": "#2a3f5f",
             "gridcolor": "white",
             "linecolor": "white",
             "minorgridcolor": "white",
             "startlinecolor": "#2a3f5f"
            },
            "baxis": {
             "endlinecolor": "#2a3f5f",
             "gridcolor": "white",
             "linecolor": "white",
             "minorgridcolor": "white",
             "startlinecolor": "#2a3f5f"
            },
            "type": "carpet"
           }
          ],
          "choropleth": [
           {
            "colorbar": {
             "outlinewidth": 0,
             "ticks": ""
            },
            "type": "choropleth"
           }
          ],
          "contour": [
           {
            "colorbar": {
             "outlinewidth": 0,
             "ticks": ""
            },
            "colorscale": [
             [
              0,
              "#0d0887"
             ],
             [
              0.1111111111111111,
              "#46039f"
             ],
             [
              0.2222222222222222,
              "#7201a8"
             ],
             [
              0.3333333333333333,
              "#9c179e"
             ],
             [
              0.4444444444444444,
              "#bd3786"
             ],
             [
              0.5555555555555556,
              "#d8576b"
             ],
             [
              0.6666666666666666,
              "#ed7953"
             ],
             [
              0.7777777777777778,
              "#fb9f3a"
             ],
             [
              0.8888888888888888,
              "#fdca26"
             ],
             [
              1,
              "#f0f921"
             ]
            ],
            "type": "contour"
           }
          ],
          "contourcarpet": [
           {
            "colorbar": {
             "outlinewidth": 0,
             "ticks": ""
            },
            "type": "contourcarpet"
           }
          ],
          "heatmap": [
           {
            "colorbar": {
             "outlinewidth": 0,
             "ticks": ""
            },
            "colorscale": [
             [
              0,
              "#0d0887"
             ],
             [
              0.1111111111111111,
              "#46039f"
             ],
             [
              0.2222222222222222,
              "#7201a8"
             ],
             [
              0.3333333333333333,
              "#9c179e"
             ],
             [
              0.4444444444444444,
              "#bd3786"
             ],
             [
              0.5555555555555556,
              "#d8576b"
             ],
             [
              0.6666666666666666,
              "#ed7953"
             ],
             [
              0.7777777777777778,
              "#fb9f3a"
             ],
             [
              0.8888888888888888,
              "#fdca26"
             ],
             [
              1,
              "#f0f921"
             ]
            ],
            "type": "heatmap"
           }
          ],
          "heatmapgl": [
           {
            "colorbar": {
             "outlinewidth": 0,
             "ticks": ""
            },
            "colorscale": [
             [
              0,
              "#0d0887"
             ],
             [
              0.1111111111111111,
              "#46039f"
             ],
             [
              0.2222222222222222,
              "#7201a8"
             ],
             [
              0.3333333333333333,
              "#9c179e"
             ],
             [
              0.4444444444444444,
              "#bd3786"
             ],
             [
              0.5555555555555556,
              "#d8576b"
             ],
             [
              0.6666666666666666,
              "#ed7953"
             ],
             [
              0.7777777777777778,
              "#fb9f3a"
             ],
             [
              0.8888888888888888,
              "#fdca26"
             ],
             [
              1,
              "#f0f921"
             ]
            ],
            "type": "heatmapgl"
           }
          ],
          "histogram": [
           {
            "marker": {
             "colorbar": {
              "outlinewidth": 0,
              "ticks": ""
             }
            },
            "type": "histogram"
           }
          ],
          "histogram2d": [
           {
            "colorbar": {
             "outlinewidth": 0,
             "ticks": ""
            },
            "colorscale": [
             [
              0,
              "#0d0887"
             ],
             [
              0.1111111111111111,
              "#46039f"
             ],
             [
              0.2222222222222222,
              "#7201a8"
             ],
             [
              0.3333333333333333,
              "#9c179e"
             ],
             [
              0.4444444444444444,
              "#bd3786"
             ],
             [
              0.5555555555555556,
              "#d8576b"
             ],
             [
              0.6666666666666666,
              "#ed7953"
             ],
             [
              0.7777777777777778,
              "#fb9f3a"
             ],
             [
              0.8888888888888888,
              "#fdca26"
             ],
             [
              1,
              "#f0f921"
             ]
            ],
            "type": "histogram2d"
           }
          ],
          "histogram2dcontour": [
           {
            "colorbar": {
             "outlinewidth": 0,
             "ticks": ""
            },
            "colorscale": [
             [
              0,
              "#0d0887"
             ],
             [
              0.1111111111111111,
              "#46039f"
             ],
             [
              0.2222222222222222,
              "#7201a8"
             ],
             [
              0.3333333333333333,
              "#9c179e"
             ],
             [
              0.4444444444444444,
              "#bd3786"
             ],
             [
              0.5555555555555556,
              "#d8576b"
             ],
             [
              0.6666666666666666,
              "#ed7953"
             ],
             [
              0.7777777777777778,
              "#fb9f3a"
             ],
             [
              0.8888888888888888,
              "#fdca26"
             ],
             [
              1,
              "#f0f921"
             ]
            ],
            "type": "histogram2dcontour"
           }
          ],
          "mesh3d": [
           {
            "colorbar": {
             "outlinewidth": 0,
             "ticks": ""
            },
            "type": "mesh3d"
           }
          ],
          "parcoords": [
           {
            "line": {
             "colorbar": {
              "outlinewidth": 0,
              "ticks": ""
             }
            },
            "type": "parcoords"
           }
          ],
          "pie": [
           {
            "automargin": true,
            "type": "pie"
           }
          ],
          "scatter": [
           {
            "marker": {
             "colorbar": {
              "outlinewidth": 0,
              "ticks": ""
             }
            },
            "type": "scatter"
           }
          ],
          "scatter3d": [
           {
            "line": {
             "colorbar": {
              "outlinewidth": 0,
              "ticks": ""
             }
            },
            "marker": {
             "colorbar": {
              "outlinewidth": 0,
              "ticks": ""
             }
            },
            "type": "scatter3d"
           }
          ],
          "scattercarpet": [
           {
            "marker": {
             "colorbar": {
              "outlinewidth": 0,
              "ticks": ""
             }
            },
            "type": "scattercarpet"
           }
          ],
          "scattergeo": [
           {
            "marker": {
             "colorbar": {
              "outlinewidth": 0,
              "ticks": ""
             }
            },
            "type": "scattergeo"
           }
          ],
          "scattergl": [
           {
            "marker": {
             "colorbar": {
              "outlinewidth": 0,
              "ticks": ""
             }
            },
            "type": "scattergl"
           }
          ],
          "scattermapbox": [
           {
            "marker": {
             "colorbar": {
              "outlinewidth": 0,
              "ticks": ""
             }
            },
            "type": "scattermapbox"
           }
          ],
          "scatterpolar": [
           {
            "marker": {
             "colorbar": {
              "outlinewidth": 0,
              "ticks": ""
             }
            },
            "type": "scatterpolar"
           }
          ],
          "scatterpolargl": [
           {
            "marker": {
             "colorbar": {
              "outlinewidth": 0,
              "ticks": ""
             }
            },
            "type": "scatterpolargl"
           }
          ],
          "scatterternary": [
           {
            "marker": {
             "colorbar": {
              "outlinewidth": 0,
              "ticks": ""
             }
            },
            "type": "scatterternary"
           }
          ],
          "surface": [
           {
            "colorbar": {
             "outlinewidth": 0,
             "ticks": ""
            },
            "colorscale": [
             [
              0,
              "#0d0887"
             ],
             [
              0.1111111111111111,
              "#46039f"
             ],
             [
              0.2222222222222222,
              "#7201a8"
             ],
             [
              0.3333333333333333,
              "#9c179e"
             ],
             [
              0.4444444444444444,
              "#bd3786"
             ],
             [
              0.5555555555555556,
              "#d8576b"
             ],
             [
              0.6666666666666666,
              "#ed7953"
             ],
             [
              0.7777777777777778,
              "#fb9f3a"
             ],
             [
              0.8888888888888888,
              "#fdca26"
             ],
             [
              1,
              "#f0f921"
             ]
            ],
            "type": "surface"
           }
          ],
          "table": [
           {
            "cells": {
             "fill": {
              "color": "#EBF0F8"
             },
             "line": {
              "color": "white"
             }
            },
            "header": {
             "fill": {
              "color": "#C8D4E3"
             },
             "line": {
              "color": "white"
             }
            },
            "type": "table"
           }
          ]
         },
         "layout": {
          "annotationdefaults": {
           "arrowcolor": "#2a3f5f",
           "arrowhead": 0,
           "arrowwidth": 1
          },
          "coloraxis": {
           "colorbar": {
            "outlinewidth": 0,
            "ticks": ""
           }
          },
          "colorscale": {
           "diverging": [
            [
             0,
             "#8e0152"
            ],
            [
             0.1,
             "#c51b7d"
            ],
            [
             0.2,
             "#de77ae"
            ],
            [
             0.3,
             "#f1b6da"
            ],
            [
             0.4,
             "#fde0ef"
            ],
            [
             0.5,
             "#f7f7f7"
            ],
            [
             0.6,
             "#e6f5d0"
            ],
            [
             0.7,
             "#b8e186"
            ],
            [
             0.8,
             "#7fbc41"
            ],
            [
             0.9,
             "#4d9221"
            ],
            [
             1,
             "#276419"
            ]
           ],
           "sequential": [
            [
             0,
             "#0d0887"
            ],
            [
             0.1111111111111111,
             "#46039f"
            ],
            [
             0.2222222222222222,
             "#7201a8"
            ],
            [
             0.3333333333333333,
             "#9c179e"
            ],
            [
             0.4444444444444444,
             "#bd3786"
            ],
            [
             0.5555555555555556,
             "#d8576b"
            ],
            [
             0.6666666666666666,
             "#ed7953"
            ],
            [
             0.7777777777777778,
             "#fb9f3a"
            ],
            [
             0.8888888888888888,
             "#fdca26"
            ],
            [
             1,
             "#f0f921"
            ]
           ],
           "sequentialminus": [
            [
             0,
             "#0d0887"
            ],
            [
             0.1111111111111111,
             "#46039f"
            ],
            [
             0.2222222222222222,
             "#7201a8"
            ],
            [
             0.3333333333333333,
             "#9c179e"
            ],
            [
             0.4444444444444444,
             "#bd3786"
            ],
            [
             0.5555555555555556,
             "#d8576b"
            ],
            [
             0.6666666666666666,
             "#ed7953"
            ],
            [
             0.7777777777777778,
             "#fb9f3a"
            ],
            [
             0.8888888888888888,
             "#fdca26"
            ],
            [
             1,
             "#f0f921"
            ]
           ]
          },
          "colorway": [
           "#636efa",
           "#EF553B",
           "#00cc96",
           "#ab63fa",
           "#FFA15A",
           "#19d3f3",
           "#FF6692",
           "#B6E880",
           "#FF97FF",
           "#FECB52"
          ],
          "font": {
           "color": "#2a3f5f"
          },
          "geo": {
           "bgcolor": "white",
           "lakecolor": "white",
           "landcolor": "#E5ECF6",
           "showlakes": true,
           "showland": true,
           "subunitcolor": "white"
          },
          "hoverlabel": {
           "align": "left"
          },
          "hovermode": "closest",
          "mapbox": {
           "style": "light"
          },
          "paper_bgcolor": "white",
          "plot_bgcolor": "#E5ECF6",
          "polar": {
           "angularaxis": {
            "gridcolor": "white",
            "linecolor": "white",
            "ticks": ""
           },
           "bgcolor": "#E5ECF6",
           "radialaxis": {
            "gridcolor": "white",
            "linecolor": "white",
            "ticks": ""
           }
          },
          "scene": {
           "xaxis": {
            "backgroundcolor": "#E5ECF6",
            "gridcolor": "white",
            "gridwidth": 2,
            "linecolor": "white",
            "showbackground": true,
            "ticks": "",
            "zerolinecolor": "white"
           },
           "yaxis": {
            "backgroundcolor": "#E5ECF6",
            "gridcolor": "white",
            "gridwidth": 2,
            "linecolor": "white",
            "showbackground": true,
            "ticks": "",
            "zerolinecolor": "white"
           },
           "zaxis": {
            "backgroundcolor": "#E5ECF6",
            "gridcolor": "white",
            "gridwidth": 2,
            "linecolor": "white",
            "showbackground": true,
            "ticks": "",
            "zerolinecolor": "white"
           }
          },
          "shapedefaults": {
           "line": {
            "color": "#2a3f5f"
           }
          },
          "ternary": {
           "aaxis": {
            "gridcolor": "white",
            "linecolor": "white",
            "ticks": ""
           },
           "baxis": {
            "gridcolor": "white",
            "linecolor": "white",
            "ticks": ""
           },
           "bgcolor": "#E5ECF6",
           "caxis": {
            "gridcolor": "white",
            "linecolor": "white",
            "ticks": ""
           }
          },
          "title": {
           "x": 0.05
          },
          "xaxis": {
           "automargin": true,
           "gridcolor": "white",
           "linecolor": "white",
           "ticks": "",
           "title": {
            "standoff": 15
           },
           "zerolinecolor": "white",
           "zerolinewidth": 2
          },
          "yaxis": {
           "automargin": true,
           "gridcolor": "white",
           "linecolor": "white",
           "ticks": "",
           "title": {
            "standoff": 15
           },
           "zerolinecolor": "white",
           "zerolinewidth": 2
          }
         }
        },
        "title": {
         "text": "ASH by DHB"
        },
        "width": 670,
        "xaxis": {
         "tickangle": 45,
         "title": {
          "text": "Monthly"
         },
         "type": "category"
        },
        "yaxis": {
         "tickformat": "P",
         "title": {
          "text": "% ASH Age standardised"
         }
        }
       }
      },
      "text/html": [
       "<div>\n",
       "        \n",
       "        \n",
       "            <div id=\"7c6ff1c1-880a-4ff6-a5b3-ad45c5e5668a\" class=\"plotly-graph-div\" style=\"height:400px; width:670px;\"></div>\n",
       "            <script type=\"text/javascript\">\n",
       "                require([\"plotly\"], function(Plotly) {\n",
       "                    window.PLOTLYENV=window.PLOTLYENV || {};\n",
       "                    \n",
       "                if (document.getElementById(\"7c6ff1c1-880a-4ff6-a5b3-ad45c5e5668a\")) {\n",
       "                    Plotly.newPlot(\n",
       "                        '7c6ff1c1-880a-4ff6-a5b3-ad45c5e5668a',\n",
       "                        [{\"mode\": \"lines+markers\", \"name\": \"Counties_Manukau\", \"type\": \"scatter\", \"x\": [\"Mar_16\", \"Jun_16\", \"Mar_17\", \"Jun_17\", \"Mar_18\", \"Jun_18\", \"Mar_19\", \"Jun_19\", \"Mar_20\", \"Jun_20\"], \"y\": [7.5, 7.5, 6.8, 6.7, 6.7, 6.6, 6.7, 6.7, 6.2, 5.3]}, {\"mode\": \"lines+markers\", \"name\": \"Auckland\", \"type\": \"scatter\", \"x\": [\"Mar_16\", \"Jun_16\", \"Mar_17\", \"Jun_17\", \"Mar_18\", \"Jun_18\", \"Mar_19\", \"Jun_19\", \"Mar_20\", \"Jun_20\"], \"y\": [8.5, 8.4, 7.2, 6.9, 7.6, 7.7, 7.5, 7.9, 7.5, 6.0]}, {\"mode\": \"lines+markers\", \"name\": \"Waitemata\", \"type\": \"scatter\", \"x\": [\"Mar_16\", \"Jun_16\", \"Mar_17\", \"Jun_17\", \"Mar_18\", \"Jun_18\", \"Mar_19\", \"Jun_19\", \"Mar_20\", \"Jun_20\"], \"y\": [5.3, 5.5, 5.4, 5.3, 5.5, 5.5, 5.7, 5.9, 5.5, 4.5]}, {\"mode\": \"lines+markers\", \"name\": \"National\", \"type\": \"scatter\", \"x\": [\"Mar_16\", \"Jun_16\", \"Mar_17\", \"Jun_17\", \"Mar_18\", \"Jun_18\", \"Mar_19\", \"Jun_19\", \"Mar_20\", \"Jun_20\"], \"y\": [6.8, 6.8, 6.4, 6.4, 6.7, 6.9, 6.9, 6.8, 6.4, 5.3]}],\n",
       "                        {\"autosize\": false, \"height\": 400, \"showlegend\": true, \"template\": {\"data\": {\"bar\": [{\"error_x\": {\"color\": \"#2a3f5f\"}, \"error_y\": {\"color\": \"#2a3f5f\"}, \"marker\": {\"line\": {\"color\": \"#E5ECF6\", \"width\": 0.5}}, \"type\": \"bar\"}], \"barpolar\": [{\"marker\": {\"line\": {\"color\": \"#E5ECF6\", \"width\": 0.5}}, \"type\": \"barpolar\"}], \"carpet\": [{\"aaxis\": {\"endlinecolor\": \"#2a3f5f\", \"gridcolor\": \"white\", \"linecolor\": \"white\", \"minorgridcolor\": \"white\", \"startlinecolor\": \"#2a3f5f\"}, \"baxis\": {\"endlinecolor\": \"#2a3f5f\", \"gridcolor\": \"white\", \"linecolor\": \"white\", \"minorgridcolor\": \"white\", \"startlinecolor\": \"#2a3f5f\"}, \"type\": \"carpet\"}], \"choropleth\": [{\"colorbar\": {\"outlinewidth\": 0, \"ticks\": \"\"}, \"type\": \"choropleth\"}], \"contour\": [{\"colorbar\": {\"outlinewidth\": 0, \"ticks\": \"\"}, \"colorscale\": [[0.0, \"#0d0887\"], [0.1111111111111111, \"#46039f\"], [0.2222222222222222, \"#7201a8\"], [0.3333333333333333, \"#9c179e\"], [0.4444444444444444, \"#bd3786\"], [0.5555555555555556, \"#d8576b\"], [0.6666666666666666, \"#ed7953\"], [0.7777777777777778, \"#fb9f3a\"], [0.8888888888888888, \"#fdca26\"], [1.0, \"#f0f921\"]], \"type\": \"contour\"}], \"contourcarpet\": [{\"colorbar\": {\"outlinewidth\": 0, \"ticks\": \"\"}, \"type\": \"contourcarpet\"}], \"heatmap\": [{\"colorbar\": {\"outlinewidth\": 0, \"ticks\": \"\"}, \"colorscale\": [[0.0, \"#0d0887\"], [0.1111111111111111, \"#46039f\"], [0.2222222222222222, \"#7201a8\"], [0.3333333333333333, \"#9c179e\"], [0.4444444444444444, \"#bd3786\"], [0.5555555555555556, \"#d8576b\"], [0.6666666666666666, \"#ed7953\"], [0.7777777777777778, \"#fb9f3a\"], [0.8888888888888888, \"#fdca26\"], [1.0, \"#f0f921\"]], \"type\": \"heatmap\"}], \"heatmapgl\": [{\"colorbar\": {\"outlinewidth\": 0, \"ticks\": \"\"}, \"colorscale\": [[0.0, \"#0d0887\"], [0.1111111111111111, \"#46039f\"], [0.2222222222222222, \"#7201a8\"], [0.3333333333333333, \"#9c179e\"], [0.4444444444444444, \"#bd3786\"], [0.5555555555555556, \"#d8576b\"], [0.6666666666666666, \"#ed7953\"], [0.7777777777777778, \"#fb9f3a\"], [0.8888888888888888, \"#fdca26\"], [1.0, \"#f0f921\"]], \"type\": \"heatmapgl\"}], \"histogram\": [{\"marker\": {\"colorbar\": {\"outlinewidth\": 0, \"ticks\": \"\"}}, \"type\": \"histogram\"}], \"histogram2d\": [{\"colorbar\": {\"outlinewidth\": 0, \"ticks\": \"\"}, \"colorscale\": [[0.0, \"#0d0887\"], [0.1111111111111111, \"#46039f\"], [0.2222222222222222, \"#7201a8\"], [0.3333333333333333, \"#9c179e\"], [0.4444444444444444, \"#bd3786\"], [0.5555555555555556, \"#d8576b\"], [0.6666666666666666, \"#ed7953\"], [0.7777777777777778, \"#fb9f3a\"], [0.8888888888888888, \"#fdca26\"], [1.0, \"#f0f921\"]], \"type\": \"histogram2d\"}], \"histogram2dcontour\": [{\"colorbar\": {\"outlinewidth\": 0, \"ticks\": \"\"}, \"colorscale\": [[0.0, \"#0d0887\"], [0.1111111111111111, \"#46039f\"], [0.2222222222222222, \"#7201a8\"], [0.3333333333333333, \"#9c179e\"], [0.4444444444444444, \"#bd3786\"], [0.5555555555555556, \"#d8576b\"], [0.6666666666666666, \"#ed7953\"], [0.7777777777777778, \"#fb9f3a\"], [0.8888888888888888, \"#fdca26\"], [1.0, \"#f0f921\"]], \"type\": \"histogram2dcontour\"}], \"mesh3d\": [{\"colorbar\": {\"outlinewidth\": 0, \"ticks\": \"\"}, \"type\": \"mesh3d\"}], \"parcoords\": [{\"line\": {\"colorbar\": {\"outlinewidth\": 0, \"ticks\": \"\"}}, \"type\": \"parcoords\"}], \"pie\": [{\"automargin\": true, \"type\": \"pie\"}], \"scatter\": [{\"marker\": {\"colorbar\": {\"outlinewidth\": 0, \"ticks\": \"\"}}, \"type\": \"scatter\"}], \"scatter3d\": [{\"line\": {\"colorbar\": {\"outlinewidth\": 0, \"ticks\": \"\"}}, \"marker\": {\"colorbar\": {\"outlinewidth\": 0, \"ticks\": \"\"}}, \"type\": \"scatter3d\"}], \"scattercarpet\": [{\"marker\": {\"colorbar\": {\"outlinewidth\": 0, \"ticks\": \"\"}}, \"type\": \"scattercarpet\"}], \"scattergeo\": [{\"marker\": {\"colorbar\": {\"outlinewidth\": 0, \"ticks\": \"\"}}, \"type\": \"scattergeo\"}], \"scattergl\": [{\"marker\": {\"colorbar\": {\"outlinewidth\": 0, \"ticks\": \"\"}}, \"type\": \"scattergl\"}], \"scattermapbox\": [{\"marker\": {\"colorbar\": {\"outlinewidth\": 0, \"ticks\": \"\"}}, \"type\": \"scattermapbox\"}], \"scatterpolar\": [{\"marker\": {\"colorbar\": {\"outlinewidth\": 0, \"ticks\": \"\"}}, \"type\": \"scatterpolar\"}], \"scatterpolargl\": [{\"marker\": {\"colorbar\": {\"outlinewidth\": 0, \"ticks\": \"\"}}, \"type\": \"scatterpolargl\"}], \"scatterternary\": [{\"marker\": {\"colorbar\": {\"outlinewidth\": 0, \"ticks\": \"\"}}, \"type\": \"scatterternary\"}], \"surface\": [{\"colorbar\": {\"outlinewidth\": 0, \"ticks\": \"\"}, \"colorscale\": [[0.0, \"#0d0887\"], [0.1111111111111111, \"#46039f\"], [0.2222222222222222, \"#7201a8\"], [0.3333333333333333, \"#9c179e\"], [0.4444444444444444, \"#bd3786\"], [0.5555555555555556, \"#d8576b\"], [0.6666666666666666, \"#ed7953\"], [0.7777777777777778, \"#fb9f3a\"], [0.8888888888888888, \"#fdca26\"], [1.0, \"#f0f921\"]], \"type\": \"surface\"}], \"table\": [{\"cells\": {\"fill\": {\"color\": \"#EBF0F8\"}, \"line\": {\"color\": \"white\"}}, \"header\": {\"fill\": {\"color\": \"#C8D4E3\"}, \"line\": {\"color\": \"white\"}}, \"type\": \"table\"}]}, \"layout\": {\"annotationdefaults\": {\"arrowcolor\": \"#2a3f5f\", \"arrowhead\": 0, \"arrowwidth\": 1}, \"coloraxis\": {\"colorbar\": {\"outlinewidth\": 0, \"ticks\": \"\"}}, \"colorscale\": {\"diverging\": [[0, \"#8e0152\"], [0.1, \"#c51b7d\"], [0.2, \"#de77ae\"], [0.3, \"#f1b6da\"], [0.4, \"#fde0ef\"], [0.5, \"#f7f7f7\"], [0.6, \"#e6f5d0\"], [0.7, \"#b8e186\"], [0.8, \"#7fbc41\"], [0.9, \"#4d9221\"], [1, \"#276419\"]], \"sequential\": [[0.0, \"#0d0887\"], [0.1111111111111111, \"#46039f\"], [0.2222222222222222, \"#7201a8\"], [0.3333333333333333, \"#9c179e\"], [0.4444444444444444, \"#bd3786\"], [0.5555555555555556, \"#d8576b\"], [0.6666666666666666, \"#ed7953\"], [0.7777777777777778, \"#fb9f3a\"], [0.8888888888888888, \"#fdca26\"], [1.0, \"#f0f921\"]], \"sequentialminus\": [[0.0, \"#0d0887\"], [0.1111111111111111, \"#46039f\"], [0.2222222222222222, \"#7201a8\"], [0.3333333333333333, \"#9c179e\"], [0.4444444444444444, \"#bd3786\"], [0.5555555555555556, \"#d8576b\"], [0.6666666666666666, \"#ed7953\"], [0.7777777777777778, \"#fb9f3a\"], [0.8888888888888888, \"#fdca26\"], [1.0, \"#f0f921\"]]}, \"colorway\": [\"#636efa\", \"#EF553B\", \"#00cc96\", \"#ab63fa\", \"#FFA15A\", \"#19d3f3\", \"#FF6692\", \"#B6E880\", \"#FF97FF\", \"#FECB52\"], \"font\": {\"color\": \"#2a3f5f\"}, \"geo\": {\"bgcolor\": \"white\", \"lakecolor\": \"white\", \"landcolor\": \"#E5ECF6\", \"showlakes\": true, \"showland\": true, \"subunitcolor\": \"white\"}, \"hoverlabel\": {\"align\": \"left\"}, \"hovermode\": \"closest\", \"mapbox\": {\"style\": \"light\"}, \"paper_bgcolor\": \"white\", \"plot_bgcolor\": \"#E5ECF6\", \"polar\": {\"angularaxis\": {\"gridcolor\": \"white\", \"linecolor\": \"white\", \"ticks\": \"\"}, \"bgcolor\": \"#E5ECF6\", \"radialaxis\": {\"gridcolor\": \"white\", \"linecolor\": \"white\", \"ticks\": \"\"}}, \"scene\": {\"xaxis\": {\"backgroundcolor\": \"#E5ECF6\", \"gridcolor\": \"white\", \"gridwidth\": 2, \"linecolor\": \"white\", \"showbackground\": true, \"ticks\": \"\", \"zerolinecolor\": \"white\"}, \"yaxis\": {\"backgroundcolor\": \"#E5ECF6\", \"gridcolor\": \"white\", \"gridwidth\": 2, \"linecolor\": \"white\", \"showbackground\": true, \"ticks\": \"\", \"zerolinecolor\": \"white\"}, \"zaxis\": {\"backgroundcolor\": \"#E5ECF6\", \"gridcolor\": \"white\", \"gridwidth\": 2, \"linecolor\": \"white\", \"showbackground\": true, \"ticks\": \"\", \"zerolinecolor\": \"white\"}}, \"shapedefaults\": {\"line\": {\"color\": \"#2a3f5f\"}}, \"ternary\": {\"aaxis\": {\"gridcolor\": \"white\", \"linecolor\": \"white\", \"ticks\": \"\"}, \"baxis\": {\"gridcolor\": \"white\", \"linecolor\": \"white\", \"ticks\": \"\"}, \"bgcolor\": \"#E5ECF6\", \"caxis\": {\"gridcolor\": \"white\", \"linecolor\": \"white\", \"ticks\": \"\"}}, \"title\": {\"x\": 0.05}, \"xaxis\": {\"automargin\": true, \"gridcolor\": \"white\", \"linecolor\": \"white\", \"ticks\": \"\", \"title\": {\"standoff\": 15}, \"zerolinecolor\": \"white\", \"zerolinewidth\": 2}, \"yaxis\": {\"automargin\": true, \"gridcolor\": \"white\", \"linecolor\": \"white\", \"ticks\": \"\", \"title\": {\"standoff\": 15}, \"zerolinecolor\": \"white\", \"zerolinewidth\": 2}}}, \"title\": {\"text\": \"ASH by DHB\"}, \"width\": 670, \"xaxis\": {\"tickangle\": 45, \"title\": {\"text\": \"Monthly\"}, \"type\": \"category\"}, \"yaxis\": {\"tickformat\": \"P\", \"title\": {\"text\": \"% ASH Age standardised\"}}},\n",
       "                        {\"responsive\": true}\n",
       "                    ).then(function(){\n",
       "                            \n",
       "var gd = document.getElementById('7c6ff1c1-880a-4ff6-a5b3-ad45c5e5668a');\n",
       "var x = new MutationObserver(function (mutations, observer) {{\n",
       "        var display = window.getComputedStyle(gd).display;\n",
       "        if (!display || display === 'none') {{\n",
       "            console.log([gd, 'removed!']);\n",
       "            Plotly.purge(gd);\n",
       "            observer.disconnect();\n",
       "        }}\n",
       "}});\n",
       "\n",
       "// Listen for the removal of the full notebook cells\n",
       "var notebookContainer = gd.closest('#notebook-container');\n",
       "if (notebookContainer) {{\n",
       "    x.observe(notebookContainer, {childList: true});\n",
       "}}\n",
       "\n",
       "// Listen for the clearing of the current output cell\n",
       "var outputEl = gd.closest('.output');\n",
       "if (outputEl) {{\n",
       "    x.observe(outputEl, {childList: true});\n",
       "}}\n",
       "\n",
       "                        })\n",
       "                };\n",
       "                });\n",
       "            </script>\n",
       "        </div>"
      ]
     },
     "metadata": {},
     "output_type": "display_data"
    }
   ],
   "source": [
    "import pandas as pd\n",
    "import matplotlib.pyplot as plt\n",
    "import plotly.graph_objects as go\n",
    "import numpy as np\n",
    "%matplotlib inline\n",
    "from plotly.offline import download_plotlyjs, init_notebook_mode, plot, iplot\n",
    "init_notebook_mode(connected=True)\n",
    "#Pertussis Tables\n",
    "#DHBAll = pd.read_excel('G:/Funding Team/Planning/Health Information/HIAT/Michael Files/Antinatal Vaccination/April 2019 to March 2020/For Python.xlsx', \n",
    "                     #header=None, skiprows=7)\n",
    "DHBAll = pd.ExcelFile('F:/Seagate Backup Plus Drive/ASH/ASH_Report.xlsx')\n",
    "DHBPert = pd.read_excel(DHBAll, 'ASH_04_Main', skiprows=5)\n",
    "DHB3 = DHBPert[['Counties_Manukau','Auckland','Waitemata', 'National']]\n",
    "\n",
    "DHB3=DHB3.round(3)\n",
    "# Declare a list that is to be converted into a column \n",
    "Monthly = ['Mar_16','Jun_16', 'Mar_17','Jun_17','Mar_18','Jun_18','Mar_19', 'Jun_19','Mar_20','Jun_20'] \n",
    "DHB3=DHB3.dropna()\n",
    "# Using 'Address' as the column name \n",
    "# and equating it to the list \n",
    "DHB3['Monthly'] = Monthly \n",
    "DHB3=DHB3.dropna()\n",
    "random_x = DHB3[\"Monthly\"].tolist()\n",
    "# using to_numpy() \n",
    "random_y0 = DHB3['Counties_Manukau'].tolist()   \n",
    "\n",
    "random_y1 = DHB3['Auckland'].tolist()  \n",
    "\n",
    "random_y2 = DHB3['Waitemata'].tolist()   \n",
    "\n",
    "random_y3 = DHB3['National'].tolist() \n",
    "#import numpy as np\n",
    "\n",
    "# Create traces\n",
    "fig = go.Figure()\n",
    "fig.add_trace(go.Scatter(x=random_x, y=random_y0,\n",
    "                    mode='lines+markers',\n",
    "                    name='Counties_Manukau'))\n",
    "fig.add_trace(go.Scatter(x=random_x, y=random_y1,\n",
    "                    mode='lines+markers',\n",
    "                    name='Auckland'))\n",
    "fig.add_trace(go.Scatter(x=random_x, y=random_y2,\n",
    "                   mode='lines+markers',\n",
    "                    name='Waitemata'))\n",
    "fig.add_trace(go.Scatter(x=random_x, y=random_y3,\n",
    "                   mode='lines+markers',\n",
    "                    name='National'))\n",
    "# Edit the layout\n",
    "#fig.update_layout(title='Pertusiss by Ethnicity',\n",
    "                   #xaxis_title='Quarter',\n",
    "                   #yaxis_title='Percentage')\n",
    "\n",
    "fig.update_layout(xaxis_type='category',\n",
    "                  title_text='ASH by DHB',\n",
    "                  xaxis_title='Monthly',\n",
    "                  yaxis_title='% ASH Age standardised')\n",
    "fig.update_xaxes(tickangle=45)\n",
    "fig.update_yaxes(tickformat=\"P\")\n",
    "#fig.update_layout(legend_orientation=\"h\")\n",
    "fig.update_layout(showlegend=True)\n",
    "fig.update_layout(autosize=False,\n",
    "                 width=670,\n",
    "                 height=400,)\n",
    "fig.show()\n",
    "plt.show()"
   ]
  },
  {
   "cell_type": "markdown",
   "metadata": {},
   "source": [
    "## ASH by DHB and Ethnicity (12 month period)"
   ]
  },
  {
   "cell_type": "markdown",
   "metadata": {},
   "source": [
    "In the twelve months to June 2020 ASH rates continued to vary by ethnicity. ASH rates in Maori and Pacific are higher than those of Others. Auckland DHB has the highest rate across all ethnicities, followed by Waitematā and Counties Manukau DHBs. Across all DHBs, Pacific in Auckland DHB had the highest rate at 11%."
   ]
  },
  {
   "cell_type": "code",
   "execution_count": 124,
   "metadata": {},
   "outputs": [
    {
     "data": {
      "text/html": [
       "<style  type=\"text/css\" >\n",
       "    #T_6d835634_fd4c_11ea_8d65_ecb1d74ca0c9 tr:hover {\n",
       "          background-color: #ffff99;\n",
       "    }    #T_6d835634_fd4c_11ea_8d65_ecb1d74ca0c9 th {\n",
       "          font-size: 70%;\n",
       "          text-align: center;\n",
       "    }    #T_6d835634_fd4c_11ea_8d65_ecb1d74ca0c9 caption {\n",
       "          caption-side: bottom;\n",
       "    }</style><table id=\"T_6d835634_fd4c_11ea_8d65_ecb1d74ca0c9\" ><caption>Hover to highlight.</caption><thead>    <tr>        <th class=\"index_name level0\" >0</th>        <th class=\"col_heading level0 col0\" >DHB_Domicile</th>        <th class=\"col_heading level0 col1\" >Maori_(Prev)</th>        <th class=\"col_heading level0 col2\" >Maori_(Curr)</th>        <th class=\"col_heading level0 col3\" >Pacific_(Prev)</th>        <th class=\"col_heading level0 col4\" >Pacific_(Curr)</th>        <th class=\"col_heading level0 col5\" >Others_(Prev)</th>        <th class=\"col_heading level0 col6\" >Others_(Curr)</th>        <th class=\"col_heading level0 col7\" >Total_(Prev)</th>        <th class=\"col_heading level0 col8\" >Total_(Curr)</th>    </tr></thead><tbody>\n",
       "                <tr>\n",
       "                        <th id=\"T_6d835634_fd4c_11ea_8d65_ecb1d74ca0c9level0_row0\" class=\"row_heading level0 row0\" >1</th>\n",
       "                        <td id=\"T_6d835634_fd4c_11ea_8d65_ecb1d74ca0c9row0_col0\" class=\"data row0 col0\" >Auckland</td>\n",
       "                        <td id=\"T_6d835634_fd4c_11ea_8d65_ecb1d74ca0c9row0_col1\" class=\"data row0 col1\" >8.2</td>\n",
       "                        <td id=\"T_6d835634_fd4c_11ea_8d65_ecb1d74ca0c9row0_col2\" class=\"data row0 col2\" >6.5</td>\n",
       "                        <td id=\"T_6d835634_fd4c_11ea_8d65_ecb1d74ca0c9row0_col3\" class=\"data row0 col3\" >13.9</td>\n",
       "                        <td id=\"T_6d835634_fd4c_11ea_8d65_ecb1d74ca0c9row0_col4\" class=\"data row0 col4\" >11</td>\n",
       "                        <td id=\"T_6d835634_fd4c_11ea_8d65_ecb1d74ca0c9row0_col5\" class=\"data row0 col5\" >5.9</td>\n",
       "                        <td id=\"T_6d835634_fd4c_11ea_8d65_ecb1d74ca0c9row0_col6\" class=\"data row0 col6\" >4.8</td>\n",
       "                        <td id=\"T_6d835634_fd4c_11ea_8d65_ecb1d74ca0c9row0_col7\" class=\"data row0 col7\" >7.5</td>\n",
       "                        <td id=\"T_6d835634_fd4c_11ea_8d65_ecb1d74ca0c9row0_col8\" class=\"data row0 col8\" >6</td>\n",
       "            </tr>\n",
       "            <tr>\n",
       "                        <th id=\"T_6d835634_fd4c_11ea_8d65_ecb1d74ca0c9level0_row1\" class=\"row_heading level0 row1\" >2</th>\n",
       "                        <td id=\"T_6d835634_fd4c_11ea_8d65_ecb1d74ca0c9row1_col0\" class=\"data row1 col0\" >Counties_Manukau</td>\n",
       "                        <td id=\"T_6d835634_fd4c_11ea_8d65_ecb1d74ca0c9row1_col1\" class=\"data row1 col1\" >5.8</td>\n",
       "                        <td id=\"T_6d835634_fd4c_11ea_8d65_ecb1d74ca0c9row1_col2\" class=\"data row1 col2\" >5.1</td>\n",
       "                        <td id=\"T_6d835634_fd4c_11ea_8d65_ecb1d74ca0c9row1_col3\" class=\"data row1 col3\" >10.3</td>\n",
       "                        <td id=\"T_6d835634_fd4c_11ea_8d65_ecb1d74ca0c9row1_col4\" class=\"data row1 col4\" >8.7</td>\n",
       "                        <td id=\"T_6d835634_fd4c_11ea_8d65_ecb1d74ca0c9row1_col5\" class=\"data row1 col5\" >3.9</td>\n",
       "                        <td id=\"T_6d835634_fd4c_11ea_8d65_ecb1d74ca0c9row1_col6\" class=\"data row1 col6\" >3.3</td>\n",
       "                        <td id=\"T_6d835634_fd4c_11ea_8d65_ecb1d74ca0c9row1_col7\" class=\"data row1 col7\" >6.2</td>\n",
       "                        <td id=\"T_6d835634_fd4c_11ea_8d65_ecb1d74ca0c9row1_col8\" class=\"data row1 col8\" >5.3</td>\n",
       "            </tr>\n",
       "            <tr>\n",
       "                        <th id=\"T_6d835634_fd4c_11ea_8d65_ecb1d74ca0c9level0_row2\" class=\"row_heading level0 row2\" >3</th>\n",
       "                        <td id=\"T_6d835634_fd4c_11ea_8d65_ecb1d74ca0c9row2_col0\" class=\"data row2 col0\" >Waitematā</td>\n",
       "                        <td id=\"T_6d835634_fd4c_11ea_8d65_ecb1d74ca0c9row2_col1\" class=\"data row2 col1\" >7</td>\n",
       "                        <td id=\"T_6d835634_fd4c_11ea_8d65_ecb1d74ca0c9row2_col2\" class=\"data row2 col2\" >5.5</td>\n",
       "                        <td id=\"T_6d835634_fd4c_11ea_8d65_ecb1d74ca0c9row2_col3\" class=\"data row2 col3\" >11.2</td>\n",
       "                        <td id=\"T_6d835634_fd4c_11ea_8d65_ecb1d74ca0c9row2_col4\" class=\"data row2 col4\" >8.9</td>\n",
       "                        <td id=\"T_6d835634_fd4c_11ea_8d65_ecb1d74ca0c9row2_col5\" class=\"data row2 col5\" >4.4</td>\n",
       "                        <td id=\"T_6d835634_fd4c_11ea_8d65_ecb1d74ca0c9row2_col6\" class=\"data row2 col6\" >3.6</td>\n",
       "                        <td id=\"T_6d835634_fd4c_11ea_8d65_ecb1d74ca0c9row2_col7\" class=\"data row2 col7\" >5.5</td>\n",
       "                        <td id=\"T_6d835634_fd4c_11ea_8d65_ecb1d74ca0c9row2_col8\" class=\"data row2 col8\" >4.5</td>\n",
       "            </tr>\n",
       "    </tbody></table>"
      ],
      "text/plain": [
       "<pandas.io.formats.style.Styler at 0x9e03be0>"
      ]
     },
     "execution_count": 124,
     "metadata": {},
     "output_type": "execute_result"
    }
   ],
   "source": [
    "DHBTab = pd.read_excel(DHBAll, 'ASH_Table', skiprows=5)\n",
    "DHBTabDHB=DHBTab.iloc[0:4, 1:10]\n",
    "DHBTabDHB.columns = DHBTabDHB.iloc[0]\n",
    "DHBTabDHB=DHBTabDHB.drop(DHBTabDHB.index[0])\n",
    "#DHBTabDHB.rename(columns=DHBTabDHB.iloc[0]).drop(DHBTabDHB.index[1])\n",
    "DHBTabDHB = DHBTabDHB.astype({\"Maori_(Prev)\": float, \"Maori_(Curr)\": float, \"Pacific_(Prev)\": float,\n",
    "                             \"Pacific_(Curr)\": float, \"Others_(Prev)\": float, \"Others_(Curr)\": float, \"Total_(Prev)\": float,\n",
    "                             \"Total_(Curr)\": float})\n",
    "#DHBTabDHB.dtypes\n",
    "DHBTabDHB.iloc[:,1:] = DHBTabDHB.iloc[:,1:]\n",
    "DHBTabDHB.style.hide_index()\n",
    "from IPython.display import HTML\n",
    "#DHBTabDHB.set_index('DHB_Domicile')\n",
    "def hover(hover_color=\"#ffff99\"):\n",
    "    return dict(selector=\"tr:hover\",\n",
    "                props=[(\"background-color\", \"%s\" % hover_color)])\n",
    "\n",
    "styles = [\n",
    "    hover(),\n",
    "    dict(selector=\"th\", props=[(\"font-size\", \"70%\"),\n",
    "                               (\"text-align\", \"center\")]),\n",
    "    dict(selector=\"caption\", props=[(\"caption-side\", \"bottom\")])\n",
    "]\n",
    "html = (DHBTabDHB.style.set_table_styles(styles)\n",
    "          .set_caption(\"Hover to highlight.\"))\n",
    "html"
   ]
  },
  {
   "cell_type": "markdown",
   "metadata": {},
   "source": [
    "## ASH rate by DHB and Ethnicity (Quarterly Trends Rolling 12-month data period)"
   ]
  },
  {
   "cell_type": "code",
   "execution_count": 125,
   "metadata": {},
   "outputs": [
    {
     "data": {
      "application/vnd.plotly.v1+json": {
       "config": {
        "plotlyServerURL": "https://plotly.your-company.com"
       },
       "data": [
        {
         "mode": "lines",
         "name": "Maori",
         "type": "scatter",
         "x": [
          "Mar_16",
          "Jun_16",
          "Mar_17",
          "Jun_17",
          "Mar_18",
          "Jun_18",
          "Mar_19",
          "Jun_19",
          "Mar_20",
          "Jun_20"
         ],
         "y": [
          6,
          6.1,
          6.2,
          6,
          6.5,
          6.6,
          6.7,
          7.1,
          7,
          5.5
         ]
        },
        {
         "mode": "lines+markers",
         "name": "Pacific",
         "type": "scatter",
         "x": [
          "Mar_16",
          "Jun_16",
          "Mar_17",
          "Jun_17",
          "Mar_18",
          "Jun_18",
          "Mar_19",
          "Jun_19",
          "Mar_20",
          "Jun_20"
         ],
         "y": [
          11.2,
          11.5,
          11.4,
          11.6,
          11.2,
          11.3,
          12.6,
          12.7,
          11.2,
          8.9
         ]
        },
        {
         "mode": "lines+markers",
         "name": "European_Others",
         "type": "scatter",
         "x": [
          "Mar_16",
          "Jun_16",
          "Mar_17",
          "Jun_17",
          "Mar_18",
          "Jun_18",
          "Mar_19",
          "Jun_19",
          "Mar_20",
          "Jun_20"
         ],
         "y": [
          4.3,
          4.6,
          4.4,
          4.3,
          4.6,
          4.5,
          4.6,
          4.6,
          4.4,
          3.6
         ]
        },
        {
         "mode": "lines+markers",
         "name": "Total",
         "type": "scatter",
         "x": [
          "Mar_16",
          "Jun_16",
          "Mar_17",
          "Jun_17",
          "Mar_18",
          "Jun_18",
          "Mar_19",
          "Jun_19",
          "Mar_20",
          "Jun_20"
         ],
         "y": [
          5.3,
          5.5,
          5.4,
          5.3,
          5.5,
          5.5,
          5.7,
          5.9,
          5.5,
          4.5
         ]
        }
       ],
       "layout": {
        "autosize": true,
        "height": 400,
        "showlegend": true,
        "template": {
         "data": {
          "bar": [
           {
            "error_x": {
             "color": "#2a3f5f"
            },
            "error_y": {
             "color": "#2a3f5f"
            },
            "marker": {
             "line": {
              "color": "#E5ECF6",
              "width": 0.5
             }
            },
            "type": "bar"
           }
          ],
          "barpolar": [
           {
            "marker": {
             "line": {
              "color": "#E5ECF6",
              "width": 0.5
             }
            },
            "type": "barpolar"
           }
          ],
          "carpet": [
           {
            "aaxis": {
             "endlinecolor": "#2a3f5f",
             "gridcolor": "white",
             "linecolor": "white",
             "minorgridcolor": "white",
             "startlinecolor": "#2a3f5f"
            },
            "baxis": {
             "endlinecolor": "#2a3f5f",
             "gridcolor": "white",
             "linecolor": "white",
             "minorgridcolor": "white",
             "startlinecolor": "#2a3f5f"
            },
            "type": "carpet"
           }
          ],
          "choropleth": [
           {
            "colorbar": {
             "outlinewidth": 0,
             "ticks": ""
            },
            "type": "choropleth"
           }
          ],
          "contour": [
           {
            "colorbar": {
             "outlinewidth": 0,
             "ticks": ""
            },
            "colorscale": [
             [
              0,
              "#0d0887"
             ],
             [
              0.1111111111111111,
              "#46039f"
             ],
             [
              0.2222222222222222,
              "#7201a8"
             ],
             [
              0.3333333333333333,
              "#9c179e"
             ],
             [
              0.4444444444444444,
              "#bd3786"
             ],
             [
              0.5555555555555556,
              "#d8576b"
             ],
             [
              0.6666666666666666,
              "#ed7953"
             ],
             [
              0.7777777777777778,
              "#fb9f3a"
             ],
             [
              0.8888888888888888,
              "#fdca26"
             ],
             [
              1,
              "#f0f921"
             ]
            ],
            "type": "contour"
           }
          ],
          "contourcarpet": [
           {
            "colorbar": {
             "outlinewidth": 0,
             "ticks": ""
            },
            "type": "contourcarpet"
           }
          ],
          "heatmap": [
           {
            "colorbar": {
             "outlinewidth": 0,
             "ticks": ""
            },
            "colorscale": [
             [
              0,
              "#0d0887"
             ],
             [
              0.1111111111111111,
              "#46039f"
             ],
             [
              0.2222222222222222,
              "#7201a8"
             ],
             [
              0.3333333333333333,
              "#9c179e"
             ],
             [
              0.4444444444444444,
              "#bd3786"
             ],
             [
              0.5555555555555556,
              "#d8576b"
             ],
             [
              0.6666666666666666,
              "#ed7953"
             ],
             [
              0.7777777777777778,
              "#fb9f3a"
             ],
             [
              0.8888888888888888,
              "#fdca26"
             ],
             [
              1,
              "#f0f921"
             ]
            ],
            "type": "heatmap"
           }
          ],
          "heatmapgl": [
           {
            "colorbar": {
             "outlinewidth": 0,
             "ticks": ""
            },
            "colorscale": [
             [
              0,
              "#0d0887"
             ],
             [
              0.1111111111111111,
              "#46039f"
             ],
             [
              0.2222222222222222,
              "#7201a8"
             ],
             [
              0.3333333333333333,
              "#9c179e"
             ],
             [
              0.4444444444444444,
              "#bd3786"
             ],
             [
              0.5555555555555556,
              "#d8576b"
             ],
             [
              0.6666666666666666,
              "#ed7953"
             ],
             [
              0.7777777777777778,
              "#fb9f3a"
             ],
             [
              0.8888888888888888,
              "#fdca26"
             ],
             [
              1,
              "#f0f921"
             ]
            ],
            "type": "heatmapgl"
           }
          ],
          "histogram": [
           {
            "marker": {
             "colorbar": {
              "outlinewidth": 0,
              "ticks": ""
             }
            },
            "type": "histogram"
           }
          ],
          "histogram2d": [
           {
            "colorbar": {
             "outlinewidth": 0,
             "ticks": ""
            },
            "colorscale": [
             [
              0,
              "#0d0887"
             ],
             [
              0.1111111111111111,
              "#46039f"
             ],
             [
              0.2222222222222222,
              "#7201a8"
             ],
             [
              0.3333333333333333,
              "#9c179e"
             ],
             [
              0.4444444444444444,
              "#bd3786"
             ],
             [
              0.5555555555555556,
              "#d8576b"
             ],
             [
              0.6666666666666666,
              "#ed7953"
             ],
             [
              0.7777777777777778,
              "#fb9f3a"
             ],
             [
              0.8888888888888888,
              "#fdca26"
             ],
             [
              1,
              "#f0f921"
             ]
            ],
            "type": "histogram2d"
           }
          ],
          "histogram2dcontour": [
           {
            "colorbar": {
             "outlinewidth": 0,
             "ticks": ""
            },
            "colorscale": [
             [
              0,
              "#0d0887"
             ],
             [
              0.1111111111111111,
              "#46039f"
             ],
             [
              0.2222222222222222,
              "#7201a8"
             ],
             [
              0.3333333333333333,
              "#9c179e"
             ],
             [
              0.4444444444444444,
              "#bd3786"
             ],
             [
              0.5555555555555556,
              "#d8576b"
             ],
             [
              0.6666666666666666,
              "#ed7953"
             ],
             [
              0.7777777777777778,
              "#fb9f3a"
             ],
             [
              0.8888888888888888,
              "#fdca26"
             ],
             [
              1,
              "#f0f921"
             ]
            ],
            "type": "histogram2dcontour"
           }
          ],
          "mesh3d": [
           {
            "colorbar": {
             "outlinewidth": 0,
             "ticks": ""
            },
            "type": "mesh3d"
           }
          ],
          "parcoords": [
           {
            "line": {
             "colorbar": {
              "outlinewidth": 0,
              "ticks": ""
             }
            },
            "type": "parcoords"
           }
          ],
          "pie": [
           {
            "automargin": true,
            "type": "pie"
           }
          ],
          "scatter": [
           {
            "marker": {
             "colorbar": {
              "outlinewidth": 0,
              "ticks": ""
             }
            },
            "type": "scatter"
           }
          ],
          "scatter3d": [
           {
            "line": {
             "colorbar": {
              "outlinewidth": 0,
              "ticks": ""
             }
            },
            "marker": {
             "colorbar": {
              "outlinewidth": 0,
              "ticks": ""
             }
            },
            "type": "scatter3d"
           }
          ],
          "scattercarpet": [
           {
            "marker": {
             "colorbar": {
              "outlinewidth": 0,
              "ticks": ""
             }
            },
            "type": "scattercarpet"
           }
          ],
          "scattergeo": [
           {
            "marker": {
             "colorbar": {
              "outlinewidth": 0,
              "ticks": ""
             }
            },
            "type": "scattergeo"
           }
          ],
          "scattergl": [
           {
            "marker": {
             "colorbar": {
              "outlinewidth": 0,
              "ticks": ""
             }
            },
            "type": "scattergl"
           }
          ],
          "scattermapbox": [
           {
            "marker": {
             "colorbar": {
              "outlinewidth": 0,
              "ticks": ""
             }
            },
            "type": "scattermapbox"
           }
          ],
          "scatterpolar": [
           {
            "marker": {
             "colorbar": {
              "outlinewidth": 0,
              "ticks": ""
             }
            },
            "type": "scatterpolar"
           }
          ],
          "scatterpolargl": [
           {
            "marker": {
             "colorbar": {
              "outlinewidth": 0,
              "ticks": ""
             }
            },
            "type": "scatterpolargl"
           }
          ],
          "scatterternary": [
           {
            "marker": {
             "colorbar": {
              "outlinewidth": 0,
              "ticks": ""
             }
            },
            "type": "scatterternary"
           }
          ],
          "surface": [
           {
            "colorbar": {
             "outlinewidth": 0,
             "ticks": ""
            },
            "colorscale": [
             [
              0,
              "#0d0887"
             ],
             [
              0.1111111111111111,
              "#46039f"
             ],
             [
              0.2222222222222222,
              "#7201a8"
             ],
             [
              0.3333333333333333,
              "#9c179e"
             ],
             [
              0.4444444444444444,
              "#bd3786"
             ],
             [
              0.5555555555555556,
              "#d8576b"
             ],
             [
              0.6666666666666666,
              "#ed7953"
             ],
             [
              0.7777777777777778,
              "#fb9f3a"
             ],
             [
              0.8888888888888888,
              "#fdca26"
             ],
             [
              1,
              "#f0f921"
             ]
            ],
            "type": "surface"
           }
          ],
          "table": [
           {
            "cells": {
             "fill": {
              "color": "#EBF0F8"
             },
             "line": {
              "color": "white"
             }
            },
            "header": {
             "fill": {
              "color": "#C8D4E3"
             },
             "line": {
              "color": "white"
             }
            },
            "type": "table"
           }
          ]
         },
         "layout": {
          "annotationdefaults": {
           "arrowcolor": "#2a3f5f",
           "arrowhead": 0,
           "arrowwidth": 1
          },
          "coloraxis": {
           "colorbar": {
            "outlinewidth": 0,
            "ticks": ""
           }
          },
          "colorscale": {
           "diverging": [
            [
             0,
             "#8e0152"
            ],
            [
             0.1,
             "#c51b7d"
            ],
            [
             0.2,
             "#de77ae"
            ],
            [
             0.3,
             "#f1b6da"
            ],
            [
             0.4,
             "#fde0ef"
            ],
            [
             0.5,
             "#f7f7f7"
            ],
            [
             0.6,
             "#e6f5d0"
            ],
            [
             0.7,
             "#b8e186"
            ],
            [
             0.8,
             "#7fbc41"
            ],
            [
             0.9,
             "#4d9221"
            ],
            [
             1,
             "#276419"
            ]
           ],
           "sequential": [
            [
             0,
             "#0d0887"
            ],
            [
             0.1111111111111111,
             "#46039f"
            ],
            [
             0.2222222222222222,
             "#7201a8"
            ],
            [
             0.3333333333333333,
             "#9c179e"
            ],
            [
             0.4444444444444444,
             "#bd3786"
            ],
            [
             0.5555555555555556,
             "#d8576b"
            ],
            [
             0.6666666666666666,
             "#ed7953"
            ],
            [
             0.7777777777777778,
             "#fb9f3a"
            ],
            [
             0.8888888888888888,
             "#fdca26"
            ],
            [
             1,
             "#f0f921"
            ]
           ],
           "sequentialminus": [
            [
             0,
             "#0d0887"
            ],
            [
             0.1111111111111111,
             "#46039f"
            ],
            [
             0.2222222222222222,
             "#7201a8"
            ],
            [
             0.3333333333333333,
             "#9c179e"
            ],
            [
             0.4444444444444444,
             "#bd3786"
            ],
            [
             0.5555555555555556,
             "#d8576b"
            ],
            [
             0.6666666666666666,
             "#ed7953"
            ],
            [
             0.7777777777777778,
             "#fb9f3a"
            ],
            [
             0.8888888888888888,
             "#fdca26"
            ],
            [
             1,
             "#f0f921"
            ]
           ]
          },
          "colorway": [
           "#636efa",
           "#EF553B",
           "#00cc96",
           "#ab63fa",
           "#FFA15A",
           "#19d3f3",
           "#FF6692",
           "#B6E880",
           "#FF97FF",
           "#FECB52"
          ],
          "font": {
           "color": "#2a3f5f"
          },
          "geo": {
           "bgcolor": "white",
           "lakecolor": "white",
           "landcolor": "#E5ECF6",
           "showlakes": true,
           "showland": true,
           "subunitcolor": "white"
          },
          "hoverlabel": {
           "align": "left"
          },
          "hovermode": "closest",
          "mapbox": {
           "style": "light"
          },
          "paper_bgcolor": "white",
          "plot_bgcolor": "#E5ECF6",
          "polar": {
           "angularaxis": {
            "gridcolor": "white",
            "linecolor": "white",
            "ticks": ""
           },
           "bgcolor": "#E5ECF6",
           "radialaxis": {
            "gridcolor": "white",
            "linecolor": "white",
            "ticks": ""
           }
          },
          "scene": {
           "xaxis": {
            "backgroundcolor": "#E5ECF6",
            "gridcolor": "white",
            "gridwidth": 2,
            "linecolor": "white",
            "showbackground": true,
            "ticks": "",
            "zerolinecolor": "white"
           },
           "yaxis": {
            "backgroundcolor": "#E5ECF6",
            "gridcolor": "white",
            "gridwidth": 2,
            "linecolor": "white",
            "showbackground": true,
            "ticks": "",
            "zerolinecolor": "white"
           },
           "zaxis": {
            "backgroundcolor": "#E5ECF6",
            "gridcolor": "white",
            "gridwidth": 2,
            "linecolor": "white",
            "showbackground": true,
            "ticks": "",
            "zerolinecolor": "white"
           }
          },
          "shapedefaults": {
           "line": {
            "color": "#2a3f5f"
           }
          },
          "ternary": {
           "aaxis": {
            "gridcolor": "white",
            "linecolor": "white",
            "ticks": ""
           },
           "baxis": {
            "gridcolor": "white",
            "linecolor": "white",
            "ticks": ""
           },
           "bgcolor": "#E5ECF6",
           "caxis": {
            "gridcolor": "white",
            "linecolor": "white",
            "ticks": ""
           }
          },
          "title": {
           "x": 0.05
          },
          "xaxis": {
           "automargin": true,
           "gridcolor": "white",
           "linecolor": "white",
           "ticks": "",
           "title": {
            "standoff": 15
           },
           "zerolinecolor": "white",
           "zerolinewidth": 2
          },
          "yaxis": {
           "automargin": true,
           "gridcolor": "white",
           "linecolor": "white",
           "ticks": "",
           "title": {
            "standoff": 15
           },
           "zerolinecolor": "white",
           "zerolinewidth": 2
          }
         }
        },
        "title": {
         "text": "ASH WDHB by Ethnicity"
        },
        "width": 600,
        "xaxis": {
         "tickangle": 45,
         "title": {
          "text": "Quarterly Trends Rolling 12-month data period"
         },
         "type": "category"
        },
        "yaxis": {
         "tickformat": "P",
         "title": {
          "text": "% ASH Age standardised"
         }
        }
       }
      },
      "text/html": [
       "<div>\n",
       "        \n",
       "        \n",
       "            <div id=\"a35b0dca-4621-49c9-a215-8ddd54cced61\" class=\"plotly-graph-div\" style=\"height:400px; width:600px;\"></div>\n",
       "            <script type=\"text/javascript\">\n",
       "                require([\"plotly\"], function(Plotly) {\n",
       "                    window.PLOTLYENV=window.PLOTLYENV || {};\n",
       "                    \n",
       "                if (document.getElementById(\"a35b0dca-4621-49c9-a215-8ddd54cced61\")) {\n",
       "                    Plotly.newPlot(\n",
       "                        'a35b0dca-4621-49c9-a215-8ddd54cced61',\n",
       "                        [{\"mode\": \"lines\", \"name\": \"Maori\", \"type\": \"scatter\", \"x\": [\"Mar_16\", \"Jun_16\", \"Mar_17\", \"Jun_17\", \"Mar_18\", \"Jun_18\", \"Mar_19\", \"Jun_19\", \"Mar_20\", \"Jun_20\"], \"y\": [6.0, 6.1, 6.2, 6.0, 6.5, 6.6, 6.7, 7.1, 7.0, 5.5]}, {\"mode\": \"lines+markers\", \"name\": \"Pacific\", \"type\": \"scatter\", \"x\": [\"Mar_16\", \"Jun_16\", \"Mar_17\", \"Jun_17\", \"Mar_18\", \"Jun_18\", \"Mar_19\", \"Jun_19\", \"Mar_20\", \"Jun_20\"], \"y\": [11.2, 11.5, 11.4, 11.6, 11.2, 11.3, 12.6, 12.7, 11.2, 8.9]}, {\"mode\": \"lines+markers\", \"name\": \"European_Others\", \"type\": \"scatter\", \"x\": [\"Mar_16\", \"Jun_16\", \"Mar_17\", \"Jun_17\", \"Mar_18\", \"Jun_18\", \"Mar_19\", \"Jun_19\", \"Mar_20\", \"Jun_20\"], \"y\": [4.3, 4.6, 4.4, 4.3, 4.6, 4.5, 4.6, 4.6, 4.4, 3.6]}, {\"mode\": \"lines+markers\", \"name\": \"Total\", \"type\": \"scatter\", \"x\": [\"Mar_16\", \"Jun_16\", \"Mar_17\", \"Jun_17\", \"Mar_18\", \"Jun_18\", \"Mar_19\", \"Jun_19\", \"Mar_20\", \"Jun_20\"], \"y\": [5.3, 5.5, 5.4, 5.3, 5.5, 5.5, 5.7, 5.9, 5.5, 4.5]}],\n",
       "                        {\"autosize\": true, \"height\": 400, \"showlegend\": true, \"template\": {\"data\": {\"bar\": [{\"error_x\": {\"color\": \"#2a3f5f\"}, \"error_y\": {\"color\": \"#2a3f5f\"}, \"marker\": {\"line\": {\"color\": \"#E5ECF6\", \"width\": 0.5}}, \"type\": \"bar\"}], \"barpolar\": [{\"marker\": {\"line\": {\"color\": \"#E5ECF6\", \"width\": 0.5}}, \"type\": \"barpolar\"}], \"carpet\": [{\"aaxis\": {\"endlinecolor\": \"#2a3f5f\", \"gridcolor\": \"white\", \"linecolor\": \"white\", \"minorgridcolor\": \"white\", \"startlinecolor\": \"#2a3f5f\"}, \"baxis\": {\"endlinecolor\": \"#2a3f5f\", \"gridcolor\": \"white\", \"linecolor\": \"white\", \"minorgridcolor\": \"white\", \"startlinecolor\": \"#2a3f5f\"}, \"type\": \"carpet\"}], \"choropleth\": [{\"colorbar\": {\"outlinewidth\": 0, \"ticks\": \"\"}, \"type\": \"choropleth\"}], \"contour\": [{\"colorbar\": {\"outlinewidth\": 0, \"ticks\": \"\"}, \"colorscale\": [[0.0, \"#0d0887\"], [0.1111111111111111, \"#46039f\"], [0.2222222222222222, \"#7201a8\"], [0.3333333333333333, \"#9c179e\"], [0.4444444444444444, \"#bd3786\"], [0.5555555555555556, \"#d8576b\"], [0.6666666666666666, \"#ed7953\"], [0.7777777777777778, \"#fb9f3a\"], [0.8888888888888888, \"#fdca26\"], [1.0, \"#f0f921\"]], \"type\": \"contour\"}], \"contourcarpet\": [{\"colorbar\": {\"outlinewidth\": 0, \"ticks\": \"\"}, \"type\": \"contourcarpet\"}], \"heatmap\": [{\"colorbar\": {\"outlinewidth\": 0, \"ticks\": \"\"}, \"colorscale\": [[0.0, \"#0d0887\"], [0.1111111111111111, \"#46039f\"], [0.2222222222222222, \"#7201a8\"], [0.3333333333333333, \"#9c179e\"], [0.4444444444444444, \"#bd3786\"], [0.5555555555555556, \"#d8576b\"], [0.6666666666666666, \"#ed7953\"], [0.7777777777777778, \"#fb9f3a\"], [0.8888888888888888, \"#fdca26\"], [1.0, \"#f0f921\"]], \"type\": \"heatmap\"}], \"heatmapgl\": [{\"colorbar\": {\"outlinewidth\": 0, \"ticks\": \"\"}, \"colorscale\": [[0.0, \"#0d0887\"], [0.1111111111111111, \"#46039f\"], [0.2222222222222222, \"#7201a8\"], [0.3333333333333333, \"#9c179e\"], [0.4444444444444444, \"#bd3786\"], [0.5555555555555556, \"#d8576b\"], [0.6666666666666666, \"#ed7953\"], [0.7777777777777778, \"#fb9f3a\"], [0.8888888888888888, \"#fdca26\"], [1.0, \"#f0f921\"]], \"type\": \"heatmapgl\"}], \"histogram\": [{\"marker\": {\"colorbar\": {\"outlinewidth\": 0, \"ticks\": \"\"}}, \"type\": \"histogram\"}], \"histogram2d\": [{\"colorbar\": {\"outlinewidth\": 0, \"ticks\": \"\"}, \"colorscale\": [[0.0, \"#0d0887\"], [0.1111111111111111, \"#46039f\"], [0.2222222222222222, \"#7201a8\"], [0.3333333333333333, \"#9c179e\"], [0.4444444444444444, \"#bd3786\"], [0.5555555555555556, \"#d8576b\"], [0.6666666666666666, \"#ed7953\"], [0.7777777777777778, \"#fb9f3a\"], [0.8888888888888888, \"#fdca26\"], [1.0, \"#f0f921\"]], \"type\": \"histogram2d\"}], \"histogram2dcontour\": [{\"colorbar\": {\"outlinewidth\": 0, \"ticks\": \"\"}, \"colorscale\": [[0.0, \"#0d0887\"], [0.1111111111111111, \"#46039f\"], [0.2222222222222222, \"#7201a8\"], [0.3333333333333333, \"#9c179e\"], [0.4444444444444444, \"#bd3786\"], [0.5555555555555556, \"#d8576b\"], [0.6666666666666666, \"#ed7953\"], [0.7777777777777778, \"#fb9f3a\"], [0.8888888888888888, \"#fdca26\"], [1.0, \"#f0f921\"]], \"type\": \"histogram2dcontour\"}], \"mesh3d\": [{\"colorbar\": {\"outlinewidth\": 0, \"ticks\": \"\"}, \"type\": \"mesh3d\"}], \"parcoords\": [{\"line\": {\"colorbar\": {\"outlinewidth\": 0, \"ticks\": \"\"}}, \"type\": \"parcoords\"}], \"pie\": [{\"automargin\": true, \"type\": \"pie\"}], \"scatter\": [{\"marker\": {\"colorbar\": {\"outlinewidth\": 0, \"ticks\": \"\"}}, \"type\": \"scatter\"}], \"scatter3d\": [{\"line\": {\"colorbar\": {\"outlinewidth\": 0, \"ticks\": \"\"}}, \"marker\": {\"colorbar\": {\"outlinewidth\": 0, \"ticks\": \"\"}}, \"type\": \"scatter3d\"}], \"scattercarpet\": [{\"marker\": {\"colorbar\": {\"outlinewidth\": 0, \"ticks\": \"\"}}, \"type\": \"scattercarpet\"}], \"scattergeo\": [{\"marker\": {\"colorbar\": {\"outlinewidth\": 0, \"ticks\": \"\"}}, \"type\": \"scattergeo\"}], \"scattergl\": [{\"marker\": {\"colorbar\": {\"outlinewidth\": 0, \"ticks\": \"\"}}, \"type\": \"scattergl\"}], \"scattermapbox\": [{\"marker\": {\"colorbar\": {\"outlinewidth\": 0, \"ticks\": \"\"}}, \"type\": \"scattermapbox\"}], \"scatterpolar\": [{\"marker\": {\"colorbar\": {\"outlinewidth\": 0, \"ticks\": \"\"}}, \"type\": \"scatterpolar\"}], \"scatterpolargl\": [{\"marker\": {\"colorbar\": {\"outlinewidth\": 0, \"ticks\": \"\"}}, \"type\": \"scatterpolargl\"}], \"scatterternary\": [{\"marker\": {\"colorbar\": {\"outlinewidth\": 0, \"ticks\": \"\"}}, \"type\": \"scatterternary\"}], \"surface\": [{\"colorbar\": {\"outlinewidth\": 0, \"ticks\": \"\"}, \"colorscale\": [[0.0, \"#0d0887\"], [0.1111111111111111, \"#46039f\"], [0.2222222222222222, \"#7201a8\"], [0.3333333333333333, \"#9c179e\"], [0.4444444444444444, \"#bd3786\"], [0.5555555555555556, \"#d8576b\"], [0.6666666666666666, \"#ed7953\"], [0.7777777777777778, \"#fb9f3a\"], [0.8888888888888888, \"#fdca26\"], [1.0, \"#f0f921\"]], \"type\": \"surface\"}], \"table\": [{\"cells\": {\"fill\": {\"color\": \"#EBF0F8\"}, \"line\": {\"color\": \"white\"}}, \"header\": {\"fill\": {\"color\": \"#C8D4E3\"}, \"line\": {\"color\": \"white\"}}, \"type\": \"table\"}]}, \"layout\": {\"annotationdefaults\": {\"arrowcolor\": \"#2a3f5f\", \"arrowhead\": 0, \"arrowwidth\": 1}, \"coloraxis\": {\"colorbar\": {\"outlinewidth\": 0, \"ticks\": \"\"}}, \"colorscale\": {\"diverging\": [[0, \"#8e0152\"], [0.1, \"#c51b7d\"], [0.2, \"#de77ae\"], [0.3, \"#f1b6da\"], [0.4, \"#fde0ef\"], [0.5, \"#f7f7f7\"], [0.6, \"#e6f5d0\"], [0.7, \"#b8e186\"], [0.8, \"#7fbc41\"], [0.9, \"#4d9221\"], [1, \"#276419\"]], \"sequential\": [[0.0, \"#0d0887\"], [0.1111111111111111, \"#46039f\"], [0.2222222222222222, \"#7201a8\"], [0.3333333333333333, \"#9c179e\"], [0.4444444444444444, \"#bd3786\"], [0.5555555555555556, \"#d8576b\"], [0.6666666666666666, \"#ed7953\"], [0.7777777777777778, \"#fb9f3a\"], [0.8888888888888888, \"#fdca26\"], [1.0, \"#f0f921\"]], \"sequentialminus\": [[0.0, \"#0d0887\"], [0.1111111111111111, \"#46039f\"], [0.2222222222222222, \"#7201a8\"], [0.3333333333333333, \"#9c179e\"], [0.4444444444444444, \"#bd3786\"], [0.5555555555555556, \"#d8576b\"], [0.6666666666666666, \"#ed7953\"], [0.7777777777777778, \"#fb9f3a\"], [0.8888888888888888, \"#fdca26\"], [1.0, \"#f0f921\"]]}, \"colorway\": [\"#636efa\", \"#EF553B\", \"#00cc96\", \"#ab63fa\", \"#FFA15A\", \"#19d3f3\", \"#FF6692\", \"#B6E880\", \"#FF97FF\", \"#FECB52\"], \"font\": {\"color\": \"#2a3f5f\"}, \"geo\": {\"bgcolor\": \"white\", \"lakecolor\": \"white\", \"landcolor\": \"#E5ECF6\", \"showlakes\": true, \"showland\": true, \"subunitcolor\": \"white\"}, \"hoverlabel\": {\"align\": \"left\"}, \"hovermode\": \"closest\", \"mapbox\": {\"style\": \"light\"}, \"paper_bgcolor\": \"white\", \"plot_bgcolor\": \"#E5ECF6\", \"polar\": {\"angularaxis\": {\"gridcolor\": \"white\", \"linecolor\": \"white\", \"ticks\": \"\"}, \"bgcolor\": \"#E5ECF6\", \"radialaxis\": {\"gridcolor\": \"white\", \"linecolor\": \"white\", \"ticks\": \"\"}}, \"scene\": {\"xaxis\": {\"backgroundcolor\": \"#E5ECF6\", \"gridcolor\": \"white\", \"gridwidth\": 2, \"linecolor\": \"white\", \"showbackground\": true, \"ticks\": \"\", \"zerolinecolor\": \"white\"}, \"yaxis\": {\"backgroundcolor\": \"#E5ECF6\", \"gridcolor\": \"white\", \"gridwidth\": 2, \"linecolor\": \"white\", \"showbackground\": true, \"ticks\": \"\", \"zerolinecolor\": \"white\"}, \"zaxis\": {\"backgroundcolor\": \"#E5ECF6\", \"gridcolor\": \"white\", \"gridwidth\": 2, \"linecolor\": \"white\", \"showbackground\": true, \"ticks\": \"\", \"zerolinecolor\": \"white\"}}, \"shapedefaults\": {\"line\": {\"color\": \"#2a3f5f\"}}, \"ternary\": {\"aaxis\": {\"gridcolor\": \"white\", \"linecolor\": \"white\", \"ticks\": \"\"}, \"baxis\": {\"gridcolor\": \"white\", \"linecolor\": \"white\", \"ticks\": \"\"}, \"bgcolor\": \"#E5ECF6\", \"caxis\": {\"gridcolor\": \"white\", \"linecolor\": \"white\", \"ticks\": \"\"}}, \"title\": {\"x\": 0.05}, \"xaxis\": {\"automargin\": true, \"gridcolor\": \"white\", \"linecolor\": \"white\", \"ticks\": \"\", \"title\": {\"standoff\": 15}, \"zerolinecolor\": \"white\", \"zerolinewidth\": 2}, \"yaxis\": {\"automargin\": true, \"gridcolor\": \"white\", \"linecolor\": \"white\", \"ticks\": \"\", \"title\": {\"standoff\": 15}, \"zerolinecolor\": \"white\", \"zerolinewidth\": 2}}}, \"title\": {\"text\": \"ASH WDHB by Ethnicity\"}, \"width\": 600, \"xaxis\": {\"tickangle\": 45, \"title\": {\"text\": \"Quarterly Trends Rolling 12-month data period\"}, \"type\": \"category\"}, \"yaxis\": {\"tickformat\": \"P\", \"title\": {\"text\": \"% ASH Age standardised\"}}},\n",
       "                        {\"responsive\": true}\n",
       "                    ).then(function(){\n",
       "                            \n",
       "var gd = document.getElementById('a35b0dca-4621-49c9-a215-8ddd54cced61');\n",
       "var x = new MutationObserver(function (mutations, observer) {{\n",
       "        var display = window.getComputedStyle(gd).display;\n",
       "        if (!display || display === 'none') {{\n",
       "            console.log([gd, 'removed!']);\n",
       "            Plotly.purge(gd);\n",
       "            observer.disconnect();\n",
       "        }}\n",
       "}});\n",
       "\n",
       "// Listen for the removal of the full notebook cells\n",
       "var notebookContainer = gd.closest('#notebook-container');\n",
       "if (notebookContainer) {{\n",
       "    x.observe(notebookContainer, {childList: true});\n",
       "}}\n",
       "\n",
       "// Listen for the clearing of the current output cell\n",
       "var outputEl = gd.closest('.output');\n",
       "if (outputEl) {{\n",
       "    x.observe(outputEl, {childList: true});\n",
       "}}\n",
       "\n",
       "                        })\n",
       "                };\n",
       "                });\n",
       "            </script>\n",
       "        </div>"
      ]
     },
     "metadata": {},
     "output_type": "display_data"
    }
   ],
   "source": [
    "import pandas as pd\n",
    "import matplotlib.pyplot as plt\n",
    "import plotly.graph_objects as go\n",
    "import numpy as np\n",
    "#DHBAll = pd.ExcelFile('G:/Funding Team/Planning/Health Information/HIAT/Michael Files/Antinatal Vaccination/April 2019 to March 2020/For Python.xlsx')\n",
    "#DHBPert = pd.read_excel(DHBAll, 'Pertussis Graphs', skiprows=5)\n",
    "WDHBEthnic = DHBPert[['Maori','Pacific','European/Others', 'Total']]\n",
    "WDHBEthnic=WDHBEthnic.round(3)\n",
    "WDHBEthnic=WDHBEthnic.dropna()\n",
    "#WDHBEthnic=WDHBEthnic[:29]\n",
    "\n",
    "# Declare a list that is to be converted into a column \n",
    "Quarter = ['Mar_16','Jun_16', 'Mar_17','Jun_17','Mar_18','Jun_18','Mar_19', 'Jun_19','Mar_20','Jun_20'] \n",
    "# Using 'Address' as the column name \n",
    "# and equating it to the list \n",
    "WDHBEthnic['Quarter'] = Quarter \n",
    "WDHBEthnic=WDHBEthnic.dropna()\n",
    "random_x = WDHBEthnic[\"Quarter\"].tolist()\n",
    "# using to_numpy() \n",
    "random_y0 = WDHBEthnic['Maori'].tolist()   \n",
    "\n",
    "random_y1 = WDHBEthnic['Pacific'].tolist()  \n",
    "   \n",
    "random_y2 = WDHBEthnic['European/Others'].tolist() \n",
    "random_y3 = WDHBEthnic['Total'].tolist() \n",
    "\n",
    "import numpy as np\n",
    "\n",
    "# Create traces\n",
    "fig = go.Figure()\n",
    "fig.add_trace(go.Scatter(x=random_x, y=random_y0,\n",
    "                    mode='lines',\n",
    "                    name='Maori'))\n",
    "fig.add_trace(go.Scatter(x=random_x, y=random_y1,\n",
    "                    mode='lines+markers',\n",
    "                    name='Pacific'))\n",
    "fig.add_trace(go.Scatter(x=random_x, y=random_y2,\n",
    "                    mode='lines+markers',\n",
    "                    name='European_Others'))\n",
    "fig.add_trace(go.Scatter(x=random_x, y=random_y3,\n",
    "                    mode='lines+markers',\n",
    "                    name='Total'))\n",
    "# Edit the layout\n",
    "fig.update_layout(title='ASH by Ethnicity',\n",
    "                   xaxis_title='Quarterly Trends Rolling 12-month data period',\n",
    "                   yaxis_title='% ASH Age standardised')\n",
    "\n",
    "fig.update_layout(xaxis_type='category',\n",
    "                  title_text='ASH WDHB by Ethnicity',\n",
    "                  xaxis_title='Quarterly Trends Rolling 12-month data period',\n",
    "                  yaxis_title='% ASH Age standardised')\n",
    "fig.update_xaxes(tickangle=45)\n",
    "fig.update_yaxes(tickformat=\"P\")\n",
    "fig.update_layout(showlegend=True)\n",
    "#fig.update_layout(legend_orientation=\"h\")\n",
    "fig.update_layout(\n",
    "    autosize=True,\n",
    "    width=600,\n",
    "    height=400,)\n",
    "fig.show()"
   ]
  },
  {
   "cell_type": "code",
   "execution_count": 126,
   "metadata": {},
   "outputs": [
    {
     "data": {
      "application/vnd.plotly.v1+json": {
       "config": {
        "plotlyServerURL": "https://plotly.your-company.com"
       },
       "data": [
        {
         "mode": "lines",
         "name": "Maori/CM",
         "type": "scatter",
         "x": [
          "Mar_16",
          "Jun_16",
          "Mar_17",
          "Jun_17",
          "Mar_18",
          "Jun_18",
          "Mar_19",
          "Jun_19",
          "Mar_20",
          "Jun_20"
         ],
         "y": [
          6.7,
          6.4,
          6.1,
          6.4,
          6.4,
          6.2,
          6.1,
          6.1,
          5.8,
          5.1
         ]
        },
        {
         "mode": "lines+markers",
         "name": "Pacific/CM",
         "type": "scatter",
         "x": [
          "Mar_16",
          "Jun_16",
          "Mar_17",
          "Jun_17",
          "Mar_18",
          "Jun_18",
          "Mar_19",
          "Jun_19",
          "Mar_20",
          "Jun_20"
         ],
         "y": [
          12.7,
          12.8,
          11.1,
          11,
          11.2,
          11.2,
          11.3,
          11.2,
          10.3,
          8.7
         ]
        },
        {
         "mode": "lines+markers",
         "name": "European_Others/CM",
         "type": "scatter",
         "x": [
          "Mar_16",
          "Jun_16",
          "Mar_17",
          "Jun_17",
          "Mar_18",
          "Jun_18",
          "Mar_19",
          "Jun_19",
          "Mar_20",
          "Jun_20"
         ],
         "y": [
          4.7,
          5,
          4.6,
          4.3,
          4.3,
          4.2,
          4.3,
          4.4,
          3.9,
          3.3
         ]
        },
        {
         "mode": "lines+markers",
         "name": "Total/CM",
         "type": "scatter",
         "x": [
          "Mar_16",
          "Jun_16",
          "Mar_17",
          "Jun_17",
          "Mar_18",
          "Jun_18",
          "Mar_19",
          "Jun_19",
          "Mar_20",
          "Jun_20"
         ],
         "y": [
          7.5,
          7.5,
          6.8,
          6.7,
          6.7,
          6.6,
          6.7,
          6.7,
          6.2,
          5.3
         ]
        }
       ],
       "layout": {
        "autosize": true,
        "height": 400,
        "showlegend": true,
        "template": {
         "data": {
          "bar": [
           {
            "error_x": {
             "color": "#2a3f5f"
            },
            "error_y": {
             "color": "#2a3f5f"
            },
            "marker": {
             "line": {
              "color": "#E5ECF6",
              "width": 0.5
             }
            },
            "type": "bar"
           }
          ],
          "barpolar": [
           {
            "marker": {
             "line": {
              "color": "#E5ECF6",
              "width": 0.5
             }
            },
            "type": "barpolar"
           }
          ],
          "carpet": [
           {
            "aaxis": {
             "endlinecolor": "#2a3f5f",
             "gridcolor": "white",
             "linecolor": "white",
             "minorgridcolor": "white",
             "startlinecolor": "#2a3f5f"
            },
            "baxis": {
             "endlinecolor": "#2a3f5f",
             "gridcolor": "white",
             "linecolor": "white",
             "minorgridcolor": "white",
             "startlinecolor": "#2a3f5f"
            },
            "type": "carpet"
           }
          ],
          "choropleth": [
           {
            "colorbar": {
             "outlinewidth": 0,
             "ticks": ""
            },
            "type": "choropleth"
           }
          ],
          "contour": [
           {
            "colorbar": {
             "outlinewidth": 0,
             "ticks": ""
            },
            "colorscale": [
             [
              0,
              "#0d0887"
             ],
             [
              0.1111111111111111,
              "#46039f"
             ],
             [
              0.2222222222222222,
              "#7201a8"
             ],
             [
              0.3333333333333333,
              "#9c179e"
             ],
             [
              0.4444444444444444,
              "#bd3786"
             ],
             [
              0.5555555555555556,
              "#d8576b"
             ],
             [
              0.6666666666666666,
              "#ed7953"
             ],
             [
              0.7777777777777778,
              "#fb9f3a"
             ],
             [
              0.8888888888888888,
              "#fdca26"
             ],
             [
              1,
              "#f0f921"
             ]
            ],
            "type": "contour"
           }
          ],
          "contourcarpet": [
           {
            "colorbar": {
             "outlinewidth": 0,
             "ticks": ""
            },
            "type": "contourcarpet"
           }
          ],
          "heatmap": [
           {
            "colorbar": {
             "outlinewidth": 0,
             "ticks": ""
            },
            "colorscale": [
             [
              0,
              "#0d0887"
             ],
             [
              0.1111111111111111,
              "#46039f"
             ],
             [
              0.2222222222222222,
              "#7201a8"
             ],
             [
              0.3333333333333333,
              "#9c179e"
             ],
             [
              0.4444444444444444,
              "#bd3786"
             ],
             [
              0.5555555555555556,
              "#d8576b"
             ],
             [
              0.6666666666666666,
              "#ed7953"
             ],
             [
              0.7777777777777778,
              "#fb9f3a"
             ],
             [
              0.8888888888888888,
              "#fdca26"
             ],
             [
              1,
              "#f0f921"
             ]
            ],
            "type": "heatmap"
           }
          ],
          "heatmapgl": [
           {
            "colorbar": {
             "outlinewidth": 0,
             "ticks": ""
            },
            "colorscale": [
             [
              0,
              "#0d0887"
             ],
             [
              0.1111111111111111,
              "#46039f"
             ],
             [
              0.2222222222222222,
              "#7201a8"
             ],
             [
              0.3333333333333333,
              "#9c179e"
             ],
             [
              0.4444444444444444,
              "#bd3786"
             ],
             [
              0.5555555555555556,
              "#d8576b"
             ],
             [
              0.6666666666666666,
              "#ed7953"
             ],
             [
              0.7777777777777778,
              "#fb9f3a"
             ],
             [
              0.8888888888888888,
              "#fdca26"
             ],
             [
              1,
              "#f0f921"
             ]
            ],
            "type": "heatmapgl"
           }
          ],
          "histogram": [
           {
            "marker": {
             "colorbar": {
              "outlinewidth": 0,
              "ticks": ""
             }
            },
            "type": "histogram"
           }
          ],
          "histogram2d": [
           {
            "colorbar": {
             "outlinewidth": 0,
             "ticks": ""
            },
            "colorscale": [
             [
              0,
              "#0d0887"
             ],
             [
              0.1111111111111111,
              "#46039f"
             ],
             [
              0.2222222222222222,
              "#7201a8"
             ],
             [
              0.3333333333333333,
              "#9c179e"
             ],
             [
              0.4444444444444444,
              "#bd3786"
             ],
             [
              0.5555555555555556,
              "#d8576b"
             ],
             [
              0.6666666666666666,
              "#ed7953"
             ],
             [
              0.7777777777777778,
              "#fb9f3a"
             ],
             [
              0.8888888888888888,
              "#fdca26"
             ],
             [
              1,
              "#f0f921"
             ]
            ],
            "type": "histogram2d"
           }
          ],
          "histogram2dcontour": [
           {
            "colorbar": {
             "outlinewidth": 0,
             "ticks": ""
            },
            "colorscale": [
             [
              0,
              "#0d0887"
             ],
             [
              0.1111111111111111,
              "#46039f"
             ],
             [
              0.2222222222222222,
              "#7201a8"
             ],
             [
              0.3333333333333333,
              "#9c179e"
             ],
             [
              0.4444444444444444,
              "#bd3786"
             ],
             [
              0.5555555555555556,
              "#d8576b"
             ],
             [
              0.6666666666666666,
              "#ed7953"
             ],
             [
              0.7777777777777778,
              "#fb9f3a"
             ],
             [
              0.8888888888888888,
              "#fdca26"
             ],
             [
              1,
              "#f0f921"
             ]
            ],
            "type": "histogram2dcontour"
           }
          ],
          "mesh3d": [
           {
            "colorbar": {
             "outlinewidth": 0,
             "ticks": ""
            },
            "type": "mesh3d"
           }
          ],
          "parcoords": [
           {
            "line": {
             "colorbar": {
              "outlinewidth": 0,
              "ticks": ""
             }
            },
            "type": "parcoords"
           }
          ],
          "pie": [
           {
            "automargin": true,
            "type": "pie"
           }
          ],
          "scatter": [
           {
            "marker": {
             "colorbar": {
              "outlinewidth": 0,
              "ticks": ""
             }
            },
            "type": "scatter"
           }
          ],
          "scatter3d": [
           {
            "line": {
             "colorbar": {
              "outlinewidth": 0,
              "ticks": ""
             }
            },
            "marker": {
             "colorbar": {
              "outlinewidth": 0,
              "ticks": ""
             }
            },
            "type": "scatter3d"
           }
          ],
          "scattercarpet": [
           {
            "marker": {
             "colorbar": {
              "outlinewidth": 0,
              "ticks": ""
             }
            },
            "type": "scattercarpet"
           }
          ],
          "scattergeo": [
           {
            "marker": {
             "colorbar": {
              "outlinewidth": 0,
              "ticks": ""
             }
            },
            "type": "scattergeo"
           }
          ],
          "scattergl": [
           {
            "marker": {
             "colorbar": {
              "outlinewidth": 0,
              "ticks": ""
             }
            },
            "type": "scattergl"
           }
          ],
          "scattermapbox": [
           {
            "marker": {
             "colorbar": {
              "outlinewidth": 0,
              "ticks": ""
             }
            },
            "type": "scattermapbox"
           }
          ],
          "scatterpolar": [
           {
            "marker": {
             "colorbar": {
              "outlinewidth": 0,
              "ticks": ""
             }
            },
            "type": "scatterpolar"
           }
          ],
          "scatterpolargl": [
           {
            "marker": {
             "colorbar": {
              "outlinewidth": 0,
              "ticks": ""
             }
            },
            "type": "scatterpolargl"
           }
          ],
          "scatterternary": [
           {
            "marker": {
             "colorbar": {
              "outlinewidth": 0,
              "ticks": ""
             }
            },
            "type": "scatterternary"
           }
          ],
          "surface": [
           {
            "colorbar": {
             "outlinewidth": 0,
             "ticks": ""
            },
            "colorscale": [
             [
              0,
              "#0d0887"
             ],
             [
              0.1111111111111111,
              "#46039f"
             ],
             [
              0.2222222222222222,
              "#7201a8"
             ],
             [
              0.3333333333333333,
              "#9c179e"
             ],
             [
              0.4444444444444444,
              "#bd3786"
             ],
             [
              0.5555555555555556,
              "#d8576b"
             ],
             [
              0.6666666666666666,
              "#ed7953"
             ],
             [
              0.7777777777777778,
              "#fb9f3a"
             ],
             [
              0.8888888888888888,
              "#fdca26"
             ],
             [
              1,
              "#f0f921"
             ]
            ],
            "type": "surface"
           }
          ],
          "table": [
           {
            "cells": {
             "fill": {
              "color": "#EBF0F8"
             },
             "line": {
              "color": "white"
             }
            },
            "header": {
             "fill": {
              "color": "#C8D4E3"
             },
             "line": {
              "color": "white"
             }
            },
            "type": "table"
           }
          ]
         },
         "layout": {
          "annotationdefaults": {
           "arrowcolor": "#2a3f5f",
           "arrowhead": 0,
           "arrowwidth": 1
          },
          "coloraxis": {
           "colorbar": {
            "outlinewidth": 0,
            "ticks": ""
           }
          },
          "colorscale": {
           "diverging": [
            [
             0,
             "#8e0152"
            ],
            [
             0.1,
             "#c51b7d"
            ],
            [
             0.2,
             "#de77ae"
            ],
            [
             0.3,
             "#f1b6da"
            ],
            [
             0.4,
             "#fde0ef"
            ],
            [
             0.5,
             "#f7f7f7"
            ],
            [
             0.6,
             "#e6f5d0"
            ],
            [
             0.7,
             "#b8e186"
            ],
            [
             0.8,
             "#7fbc41"
            ],
            [
             0.9,
             "#4d9221"
            ],
            [
             1,
             "#276419"
            ]
           ],
           "sequential": [
            [
             0,
             "#0d0887"
            ],
            [
             0.1111111111111111,
             "#46039f"
            ],
            [
             0.2222222222222222,
             "#7201a8"
            ],
            [
             0.3333333333333333,
             "#9c179e"
            ],
            [
             0.4444444444444444,
             "#bd3786"
            ],
            [
             0.5555555555555556,
             "#d8576b"
            ],
            [
             0.6666666666666666,
             "#ed7953"
            ],
            [
             0.7777777777777778,
             "#fb9f3a"
            ],
            [
             0.8888888888888888,
             "#fdca26"
            ],
            [
             1,
             "#f0f921"
            ]
           ],
           "sequentialminus": [
            [
             0,
             "#0d0887"
            ],
            [
             0.1111111111111111,
             "#46039f"
            ],
            [
             0.2222222222222222,
             "#7201a8"
            ],
            [
             0.3333333333333333,
             "#9c179e"
            ],
            [
             0.4444444444444444,
             "#bd3786"
            ],
            [
             0.5555555555555556,
             "#d8576b"
            ],
            [
             0.6666666666666666,
             "#ed7953"
            ],
            [
             0.7777777777777778,
             "#fb9f3a"
            ],
            [
             0.8888888888888888,
             "#fdca26"
            ],
            [
             1,
             "#f0f921"
            ]
           ]
          },
          "colorway": [
           "#636efa",
           "#EF553B",
           "#00cc96",
           "#ab63fa",
           "#FFA15A",
           "#19d3f3",
           "#FF6692",
           "#B6E880",
           "#FF97FF",
           "#FECB52"
          ],
          "font": {
           "color": "#2a3f5f"
          },
          "geo": {
           "bgcolor": "white",
           "lakecolor": "white",
           "landcolor": "#E5ECF6",
           "showlakes": true,
           "showland": true,
           "subunitcolor": "white"
          },
          "hoverlabel": {
           "align": "left"
          },
          "hovermode": "closest",
          "mapbox": {
           "style": "light"
          },
          "paper_bgcolor": "white",
          "plot_bgcolor": "#E5ECF6",
          "polar": {
           "angularaxis": {
            "gridcolor": "white",
            "linecolor": "white",
            "ticks": ""
           },
           "bgcolor": "#E5ECF6",
           "radialaxis": {
            "gridcolor": "white",
            "linecolor": "white",
            "ticks": ""
           }
          },
          "scene": {
           "xaxis": {
            "backgroundcolor": "#E5ECF6",
            "gridcolor": "white",
            "gridwidth": 2,
            "linecolor": "white",
            "showbackground": true,
            "ticks": "",
            "zerolinecolor": "white"
           },
           "yaxis": {
            "backgroundcolor": "#E5ECF6",
            "gridcolor": "white",
            "gridwidth": 2,
            "linecolor": "white",
            "showbackground": true,
            "ticks": "",
            "zerolinecolor": "white"
           },
           "zaxis": {
            "backgroundcolor": "#E5ECF6",
            "gridcolor": "white",
            "gridwidth": 2,
            "linecolor": "white",
            "showbackground": true,
            "ticks": "",
            "zerolinecolor": "white"
           }
          },
          "shapedefaults": {
           "line": {
            "color": "#2a3f5f"
           }
          },
          "ternary": {
           "aaxis": {
            "gridcolor": "white",
            "linecolor": "white",
            "ticks": ""
           },
           "baxis": {
            "gridcolor": "white",
            "linecolor": "white",
            "ticks": ""
           },
           "bgcolor": "#E5ECF6",
           "caxis": {
            "gridcolor": "white",
            "linecolor": "white",
            "ticks": ""
           }
          },
          "title": {
           "x": 0.05
          },
          "xaxis": {
           "automargin": true,
           "gridcolor": "white",
           "linecolor": "white",
           "ticks": "",
           "title": {
            "standoff": 15
           },
           "zerolinecolor": "white",
           "zerolinewidth": 2
          },
          "yaxis": {
           "automargin": true,
           "gridcolor": "white",
           "linecolor": "white",
           "ticks": "",
           "title": {
            "standoff": 15
           },
           "zerolinecolor": "white",
           "zerolinewidth": 2
          }
         }
        },
        "title": {
         "text": "ASH CMDHB by Ethnicity"
        },
        "width": 600,
        "xaxis": {
         "tickangle": 45,
         "title": {
          "text": "Quarterly Trends Rolling 12-month data period"
         },
         "type": "category"
        },
        "yaxis": {
         "tickformat": "P",
         "title": {
          "text": "% ASH Age standardised"
         }
        }
       }
      },
      "text/html": [
       "<div>\n",
       "        \n",
       "        \n",
       "            <div id=\"894b00d6-b70d-4aa9-a16c-c234faf6e182\" class=\"plotly-graph-div\" style=\"height:400px; width:600px;\"></div>\n",
       "            <script type=\"text/javascript\">\n",
       "                require([\"plotly\"], function(Plotly) {\n",
       "                    window.PLOTLYENV=window.PLOTLYENV || {};\n",
       "                    \n",
       "                if (document.getElementById(\"894b00d6-b70d-4aa9-a16c-c234faf6e182\")) {\n",
       "                    Plotly.newPlot(\n",
       "                        '894b00d6-b70d-4aa9-a16c-c234faf6e182',\n",
       "                        [{\"mode\": \"lines\", \"name\": \"Maori/CM\", \"type\": \"scatter\", \"x\": [\"Mar_16\", \"Jun_16\", \"Mar_17\", \"Jun_17\", \"Mar_18\", \"Jun_18\", \"Mar_19\", \"Jun_19\", \"Mar_20\", \"Jun_20\"], \"y\": [6.7, 6.4, 6.1, 6.4, 6.4, 6.2, 6.1, 6.1, 5.8, 5.1]}, {\"mode\": \"lines+markers\", \"name\": \"Pacific/CM\", \"type\": \"scatter\", \"x\": [\"Mar_16\", \"Jun_16\", \"Mar_17\", \"Jun_17\", \"Mar_18\", \"Jun_18\", \"Mar_19\", \"Jun_19\", \"Mar_20\", \"Jun_20\"], \"y\": [12.7, 12.8, 11.1, 11.0, 11.2, 11.2, 11.3, 11.2, 10.3, 8.7]}, {\"mode\": \"lines+markers\", \"name\": \"European_Others/CM\", \"type\": \"scatter\", \"x\": [\"Mar_16\", \"Jun_16\", \"Mar_17\", \"Jun_17\", \"Mar_18\", \"Jun_18\", \"Mar_19\", \"Jun_19\", \"Mar_20\", \"Jun_20\"], \"y\": [4.7, 5.0, 4.6, 4.3, 4.3, 4.2, 4.3, 4.4, 3.9, 3.3]}, {\"mode\": \"lines+markers\", \"name\": \"Total/CM\", \"type\": \"scatter\", \"x\": [\"Mar_16\", \"Jun_16\", \"Mar_17\", \"Jun_17\", \"Mar_18\", \"Jun_18\", \"Mar_19\", \"Jun_19\", \"Mar_20\", \"Jun_20\"], \"y\": [7.5, 7.5, 6.8, 6.7, 6.7, 6.6, 6.7, 6.7, 6.2, 5.3]}],\n",
       "                        {\"autosize\": true, \"height\": 400, \"showlegend\": true, \"template\": {\"data\": {\"bar\": [{\"error_x\": {\"color\": \"#2a3f5f\"}, \"error_y\": {\"color\": \"#2a3f5f\"}, \"marker\": {\"line\": {\"color\": \"#E5ECF6\", \"width\": 0.5}}, \"type\": \"bar\"}], \"barpolar\": [{\"marker\": {\"line\": {\"color\": \"#E5ECF6\", \"width\": 0.5}}, \"type\": \"barpolar\"}], \"carpet\": [{\"aaxis\": {\"endlinecolor\": \"#2a3f5f\", \"gridcolor\": \"white\", \"linecolor\": \"white\", \"minorgridcolor\": \"white\", \"startlinecolor\": \"#2a3f5f\"}, \"baxis\": {\"endlinecolor\": \"#2a3f5f\", \"gridcolor\": \"white\", \"linecolor\": \"white\", \"minorgridcolor\": \"white\", \"startlinecolor\": \"#2a3f5f\"}, \"type\": \"carpet\"}], \"choropleth\": [{\"colorbar\": {\"outlinewidth\": 0, \"ticks\": \"\"}, \"type\": \"choropleth\"}], \"contour\": [{\"colorbar\": {\"outlinewidth\": 0, \"ticks\": \"\"}, \"colorscale\": [[0.0, \"#0d0887\"], [0.1111111111111111, \"#46039f\"], [0.2222222222222222, \"#7201a8\"], [0.3333333333333333, \"#9c179e\"], [0.4444444444444444, \"#bd3786\"], [0.5555555555555556, \"#d8576b\"], [0.6666666666666666, \"#ed7953\"], [0.7777777777777778, \"#fb9f3a\"], [0.8888888888888888, \"#fdca26\"], [1.0, \"#f0f921\"]], \"type\": \"contour\"}], \"contourcarpet\": [{\"colorbar\": {\"outlinewidth\": 0, \"ticks\": \"\"}, \"type\": \"contourcarpet\"}], \"heatmap\": [{\"colorbar\": {\"outlinewidth\": 0, \"ticks\": \"\"}, \"colorscale\": [[0.0, \"#0d0887\"], [0.1111111111111111, \"#46039f\"], [0.2222222222222222, \"#7201a8\"], [0.3333333333333333, \"#9c179e\"], [0.4444444444444444, \"#bd3786\"], [0.5555555555555556, \"#d8576b\"], [0.6666666666666666, \"#ed7953\"], [0.7777777777777778, \"#fb9f3a\"], [0.8888888888888888, \"#fdca26\"], [1.0, \"#f0f921\"]], \"type\": \"heatmap\"}], \"heatmapgl\": [{\"colorbar\": {\"outlinewidth\": 0, \"ticks\": \"\"}, \"colorscale\": [[0.0, \"#0d0887\"], [0.1111111111111111, \"#46039f\"], [0.2222222222222222, \"#7201a8\"], [0.3333333333333333, \"#9c179e\"], [0.4444444444444444, \"#bd3786\"], [0.5555555555555556, \"#d8576b\"], [0.6666666666666666, \"#ed7953\"], [0.7777777777777778, \"#fb9f3a\"], [0.8888888888888888, \"#fdca26\"], [1.0, \"#f0f921\"]], \"type\": \"heatmapgl\"}], \"histogram\": [{\"marker\": {\"colorbar\": {\"outlinewidth\": 0, \"ticks\": \"\"}}, \"type\": \"histogram\"}], \"histogram2d\": [{\"colorbar\": {\"outlinewidth\": 0, \"ticks\": \"\"}, \"colorscale\": [[0.0, \"#0d0887\"], [0.1111111111111111, \"#46039f\"], [0.2222222222222222, \"#7201a8\"], [0.3333333333333333, \"#9c179e\"], [0.4444444444444444, \"#bd3786\"], [0.5555555555555556, \"#d8576b\"], [0.6666666666666666, \"#ed7953\"], [0.7777777777777778, \"#fb9f3a\"], [0.8888888888888888, \"#fdca26\"], [1.0, \"#f0f921\"]], \"type\": \"histogram2d\"}], \"histogram2dcontour\": [{\"colorbar\": {\"outlinewidth\": 0, \"ticks\": \"\"}, \"colorscale\": [[0.0, \"#0d0887\"], [0.1111111111111111, \"#46039f\"], [0.2222222222222222, \"#7201a8\"], [0.3333333333333333, \"#9c179e\"], [0.4444444444444444, \"#bd3786\"], [0.5555555555555556, \"#d8576b\"], [0.6666666666666666, \"#ed7953\"], [0.7777777777777778, \"#fb9f3a\"], [0.8888888888888888, \"#fdca26\"], [1.0, \"#f0f921\"]], \"type\": \"histogram2dcontour\"}], \"mesh3d\": [{\"colorbar\": {\"outlinewidth\": 0, \"ticks\": \"\"}, \"type\": \"mesh3d\"}], \"parcoords\": [{\"line\": {\"colorbar\": {\"outlinewidth\": 0, \"ticks\": \"\"}}, \"type\": \"parcoords\"}], \"pie\": [{\"automargin\": true, \"type\": \"pie\"}], \"scatter\": [{\"marker\": {\"colorbar\": {\"outlinewidth\": 0, \"ticks\": \"\"}}, \"type\": \"scatter\"}], \"scatter3d\": [{\"line\": {\"colorbar\": {\"outlinewidth\": 0, \"ticks\": \"\"}}, \"marker\": {\"colorbar\": {\"outlinewidth\": 0, \"ticks\": \"\"}}, \"type\": \"scatter3d\"}], \"scattercarpet\": [{\"marker\": {\"colorbar\": {\"outlinewidth\": 0, \"ticks\": \"\"}}, \"type\": \"scattercarpet\"}], \"scattergeo\": [{\"marker\": {\"colorbar\": {\"outlinewidth\": 0, \"ticks\": \"\"}}, \"type\": \"scattergeo\"}], \"scattergl\": [{\"marker\": {\"colorbar\": {\"outlinewidth\": 0, \"ticks\": \"\"}}, \"type\": \"scattergl\"}], \"scattermapbox\": [{\"marker\": {\"colorbar\": {\"outlinewidth\": 0, \"ticks\": \"\"}}, \"type\": \"scattermapbox\"}], \"scatterpolar\": [{\"marker\": {\"colorbar\": {\"outlinewidth\": 0, \"ticks\": \"\"}}, \"type\": \"scatterpolar\"}], \"scatterpolargl\": [{\"marker\": {\"colorbar\": {\"outlinewidth\": 0, \"ticks\": \"\"}}, \"type\": \"scatterpolargl\"}], \"scatterternary\": [{\"marker\": {\"colorbar\": {\"outlinewidth\": 0, \"ticks\": \"\"}}, \"type\": \"scatterternary\"}], \"surface\": [{\"colorbar\": {\"outlinewidth\": 0, \"ticks\": \"\"}, \"colorscale\": [[0.0, \"#0d0887\"], [0.1111111111111111, \"#46039f\"], [0.2222222222222222, \"#7201a8\"], [0.3333333333333333, \"#9c179e\"], [0.4444444444444444, \"#bd3786\"], [0.5555555555555556, \"#d8576b\"], [0.6666666666666666, \"#ed7953\"], [0.7777777777777778, \"#fb9f3a\"], [0.8888888888888888, \"#fdca26\"], [1.0, \"#f0f921\"]], \"type\": \"surface\"}], \"table\": [{\"cells\": {\"fill\": {\"color\": \"#EBF0F8\"}, \"line\": {\"color\": \"white\"}}, \"header\": {\"fill\": {\"color\": \"#C8D4E3\"}, \"line\": {\"color\": \"white\"}}, \"type\": \"table\"}]}, \"layout\": {\"annotationdefaults\": {\"arrowcolor\": \"#2a3f5f\", \"arrowhead\": 0, \"arrowwidth\": 1}, \"coloraxis\": {\"colorbar\": {\"outlinewidth\": 0, \"ticks\": \"\"}}, \"colorscale\": {\"diverging\": [[0, \"#8e0152\"], [0.1, \"#c51b7d\"], [0.2, \"#de77ae\"], [0.3, \"#f1b6da\"], [0.4, \"#fde0ef\"], [0.5, \"#f7f7f7\"], [0.6, \"#e6f5d0\"], [0.7, \"#b8e186\"], [0.8, \"#7fbc41\"], [0.9, \"#4d9221\"], [1, \"#276419\"]], \"sequential\": [[0.0, \"#0d0887\"], [0.1111111111111111, \"#46039f\"], [0.2222222222222222, \"#7201a8\"], [0.3333333333333333, \"#9c179e\"], [0.4444444444444444, \"#bd3786\"], [0.5555555555555556, \"#d8576b\"], [0.6666666666666666, \"#ed7953\"], [0.7777777777777778, \"#fb9f3a\"], [0.8888888888888888, \"#fdca26\"], [1.0, \"#f0f921\"]], \"sequentialminus\": [[0.0, \"#0d0887\"], [0.1111111111111111, \"#46039f\"], [0.2222222222222222, \"#7201a8\"], [0.3333333333333333, \"#9c179e\"], [0.4444444444444444, \"#bd3786\"], [0.5555555555555556, \"#d8576b\"], [0.6666666666666666, \"#ed7953\"], [0.7777777777777778, \"#fb9f3a\"], [0.8888888888888888, \"#fdca26\"], [1.0, \"#f0f921\"]]}, \"colorway\": [\"#636efa\", \"#EF553B\", \"#00cc96\", \"#ab63fa\", \"#FFA15A\", \"#19d3f3\", \"#FF6692\", \"#B6E880\", \"#FF97FF\", \"#FECB52\"], \"font\": {\"color\": \"#2a3f5f\"}, \"geo\": {\"bgcolor\": \"white\", \"lakecolor\": \"white\", \"landcolor\": \"#E5ECF6\", \"showlakes\": true, \"showland\": true, \"subunitcolor\": \"white\"}, \"hoverlabel\": {\"align\": \"left\"}, \"hovermode\": \"closest\", \"mapbox\": {\"style\": \"light\"}, \"paper_bgcolor\": \"white\", \"plot_bgcolor\": \"#E5ECF6\", \"polar\": {\"angularaxis\": {\"gridcolor\": \"white\", \"linecolor\": \"white\", \"ticks\": \"\"}, \"bgcolor\": \"#E5ECF6\", \"radialaxis\": {\"gridcolor\": \"white\", \"linecolor\": \"white\", \"ticks\": \"\"}}, \"scene\": {\"xaxis\": {\"backgroundcolor\": \"#E5ECF6\", \"gridcolor\": \"white\", \"gridwidth\": 2, \"linecolor\": \"white\", \"showbackground\": true, \"ticks\": \"\", \"zerolinecolor\": \"white\"}, \"yaxis\": {\"backgroundcolor\": \"#E5ECF6\", \"gridcolor\": \"white\", \"gridwidth\": 2, \"linecolor\": \"white\", \"showbackground\": true, \"ticks\": \"\", \"zerolinecolor\": \"white\"}, \"zaxis\": {\"backgroundcolor\": \"#E5ECF6\", \"gridcolor\": \"white\", \"gridwidth\": 2, \"linecolor\": \"white\", \"showbackground\": true, \"ticks\": \"\", \"zerolinecolor\": \"white\"}}, \"shapedefaults\": {\"line\": {\"color\": \"#2a3f5f\"}}, \"ternary\": {\"aaxis\": {\"gridcolor\": \"white\", \"linecolor\": \"white\", \"ticks\": \"\"}, \"baxis\": {\"gridcolor\": \"white\", \"linecolor\": \"white\", \"ticks\": \"\"}, \"bgcolor\": \"#E5ECF6\", \"caxis\": {\"gridcolor\": \"white\", \"linecolor\": \"white\", \"ticks\": \"\"}}, \"title\": {\"x\": 0.05}, \"xaxis\": {\"automargin\": true, \"gridcolor\": \"white\", \"linecolor\": \"white\", \"ticks\": \"\", \"title\": {\"standoff\": 15}, \"zerolinecolor\": \"white\", \"zerolinewidth\": 2}, \"yaxis\": {\"automargin\": true, \"gridcolor\": \"white\", \"linecolor\": \"white\", \"ticks\": \"\", \"title\": {\"standoff\": 15}, \"zerolinecolor\": \"white\", \"zerolinewidth\": 2}}}, \"title\": {\"text\": \"ASH CMDHB by Ethnicity\"}, \"width\": 600, \"xaxis\": {\"tickangle\": 45, \"title\": {\"text\": \"Quarterly Trends Rolling 12-month data period\"}, \"type\": \"category\"}, \"yaxis\": {\"tickformat\": \"P\", \"title\": {\"text\": \"% ASH Age standardised\"}}},\n",
       "                        {\"responsive\": true}\n",
       "                    ).then(function(){\n",
       "                            \n",
       "var gd = document.getElementById('894b00d6-b70d-4aa9-a16c-c234faf6e182');\n",
       "var x = new MutationObserver(function (mutations, observer) {{\n",
       "        var display = window.getComputedStyle(gd).display;\n",
       "        if (!display || display === 'none') {{\n",
       "            console.log([gd, 'removed!']);\n",
       "            Plotly.purge(gd);\n",
       "            observer.disconnect();\n",
       "        }}\n",
       "}});\n",
       "\n",
       "// Listen for the removal of the full notebook cells\n",
       "var notebookContainer = gd.closest('#notebook-container');\n",
       "if (notebookContainer) {{\n",
       "    x.observe(notebookContainer, {childList: true});\n",
       "}}\n",
       "\n",
       "// Listen for the clearing of the current output cell\n",
       "var outputEl = gd.closest('.output');\n",
       "if (outputEl) {{\n",
       "    x.observe(outputEl, {childList: true});\n",
       "}}\n",
       "\n",
       "                        })\n",
       "                };\n",
       "                });\n",
       "            </script>\n",
       "        </div>"
      ]
     },
     "metadata": {},
     "output_type": "display_data"
    }
   ],
   "source": [
    "import pandas as pd\n",
    "import matplotlib.pyplot as plt\n",
    "import plotly.graph_objects as go\n",
    "import numpy as np\n",
    "#DHBAll = pd.ExcelFile('G:/Funding Team/Planning/Health Information/HIAT/Michael Files/Antinatal Vaccination/April 2019 to March 2020/For Python.xlsx')\n",
    "#DHBPert = pd.read_excel(DHBAll, 'Pertussis Graphs', skiprows=5)\n",
    "WDHBEthnic = DHBPert[['Maori/CM','Pacific/CM','European/Others/CM', 'Total/CM']]\n",
    "WDHBEthnic=WDHBEthnic.round(3)\n",
    "WDHBEthnic=WDHBEthnic.dropna()\n",
    "#WDHBEthnic=WDHBEthnic[:29]\n",
    "\n",
    "# Declare a list that is to be converted into a column \n",
    "Quarter = ['Mar_16','Jun_16', 'Mar_17','Jun_17','Mar_18','Jun_18','Mar_19', 'Jun_19','Mar_20','Jun_20'] \n",
    "# Using 'Address' as the column name \n",
    "# and equating it to the list \n",
    "WDHBEthnic['Quarter'] = Quarter \n",
    "WDHBEthnic=WDHBEthnic.dropna()\n",
    "random_x = WDHBEthnic[\"Quarter\"].tolist()\n",
    "# using to_numpy() \n",
    "random_y0 = WDHBEthnic['Maori/CM'].tolist()   \n",
    "\n",
    "random_y1 = WDHBEthnic['Pacific/CM'].tolist()  \n",
    "   \n",
    "random_y2 = WDHBEthnic['European/Others/CM'].tolist() \n",
    "random_y3 = WDHBEthnic['Total/CM'].tolist() \n",
    "\n",
    "import numpy as np\n",
    "\n",
    "# Create traces\n",
    "fig = go.Figure()\n",
    "fig.add_trace(go.Scatter(x=random_x, y=random_y0,\n",
    "                    mode='lines',\n",
    "                    name='Maori/CM'))\n",
    "fig.add_trace(go.Scatter(x=random_x, y=random_y1,\n",
    "                    mode='lines+markers',\n",
    "                    name='Pacific/CM'))\n",
    "fig.add_trace(go.Scatter(x=random_x, y=random_y2,\n",
    "                    mode='lines+markers',\n",
    "                    name='European_Others/CM'))\n",
    "fig.add_trace(go.Scatter(x=random_x, y=random_y3,\n",
    "                    mode='lines+markers',\n",
    "                    name='Total/CM'))\n",
    "# Edit the layout\n",
    "fig.update_layout(title='ASH by Ethnicity',\n",
    "                   xaxis_title='Quarterly Trends Rolling 12-month data period',\n",
    "                   yaxis_title='% ASH Age standardised')\n",
    "\n",
    "fig.update_layout(xaxis_type='category',\n",
    "                  title_text='ASH CMDHB by Ethnicity',\n",
    "                  xaxis_title='Quarterly Trends Rolling 12-month data period',\n",
    "                  yaxis_title='% ASH Age standardised')\n",
    "fig.update_xaxes(tickangle=45)\n",
    "fig.update_yaxes(tickformat=\"P\")\n",
    "fig.update_layout(showlegend=True)\n",
    "#fig.update_layout(legend_orientation=\"h\")\n",
    "fig.update_layout(\n",
    "    autosize=True,\n",
    "    width=600,\n",
    "    height=400,)\n",
    "fig.show()"
   ]
  },
  {
   "cell_type": "code",
   "execution_count": 127,
   "metadata": {},
   "outputs": [
    {
     "data": {
      "application/vnd.plotly.v1+json": {
       "config": {
        "plotlyServerURL": "https://plotly.your-company.com"
       },
       "data": [
        {
         "mode": "lines",
         "name": "Maori/A",
         "type": "scatter",
         "x": [
          "Mar_16",
          "Jun_16",
          "Mar_17",
          "Jun_17",
          "Mar_18",
          "Jun_18",
          "Mar_19",
          "Jun_19",
          "Mar_20",
          "Jun_20"
         ],
         "y": [
          9.5,
          9.6,
          7.3,
          6.8,
          8.1,
          8.1,
          7.5,
          7.9,
          8.2,
          6.5
         ]
        },
        {
         "mode": "lines+markers",
         "name": "Pacific/A",
         "type": "scatter",
         "x": [
          "Mar_16",
          "Jun_16",
          "Mar_17",
          "Jun_17",
          "Mar_18",
          "Jun_18",
          "Mar_19",
          "Jun_19",
          "Mar_20",
          "Jun_20"
         ],
         "y": [
          15.3,
          15.2,
          13.6,
          13.4,
          13.9,
          14.7,
          15.5,
          15.7,
          13.9,
          11
         ]
        },
        {
         "mode": "lines+markers",
         "name": "European_Others/A",
         "type": "scatter",
         "x": [
          "Mar_16",
          "Jun_16",
          "Mar_17",
          "Jun_17",
          "Mar_18",
          "Jun_18",
          "Mar_19",
          "Jun_19",
          "Mar_20",
          "Jun_20"
         ],
         "y": [
          6.7,
          6.5,
          5.6,
          5.3,
          6,
          6,
          5.7,
          6,
          5.9,
          4.8
         ]
        },
        {
         "mode": "lines+markers",
         "name": "Total/A",
         "type": "scatter",
         "x": [
          "Mar_16",
          "Jun_16",
          "Mar_17",
          "Jun_17",
          "Mar_18",
          "Jun_18",
          "Mar_19",
          "Jun_19",
          "Mar_20",
          "Jun_20"
         ],
         "y": [
          8.5,
          8.4,
          7.2,
          6.9,
          7.6,
          7.7,
          7.5,
          7.9,
          7.5,
          6
         ]
        }
       ],
       "layout": {
        "autosize": true,
        "height": 400,
        "showlegend": true,
        "template": {
         "data": {
          "bar": [
           {
            "error_x": {
             "color": "#2a3f5f"
            },
            "error_y": {
             "color": "#2a3f5f"
            },
            "marker": {
             "line": {
              "color": "#E5ECF6",
              "width": 0.5
             }
            },
            "type": "bar"
           }
          ],
          "barpolar": [
           {
            "marker": {
             "line": {
              "color": "#E5ECF6",
              "width": 0.5
             }
            },
            "type": "barpolar"
           }
          ],
          "carpet": [
           {
            "aaxis": {
             "endlinecolor": "#2a3f5f",
             "gridcolor": "white",
             "linecolor": "white",
             "minorgridcolor": "white",
             "startlinecolor": "#2a3f5f"
            },
            "baxis": {
             "endlinecolor": "#2a3f5f",
             "gridcolor": "white",
             "linecolor": "white",
             "minorgridcolor": "white",
             "startlinecolor": "#2a3f5f"
            },
            "type": "carpet"
           }
          ],
          "choropleth": [
           {
            "colorbar": {
             "outlinewidth": 0,
             "ticks": ""
            },
            "type": "choropleth"
           }
          ],
          "contour": [
           {
            "colorbar": {
             "outlinewidth": 0,
             "ticks": ""
            },
            "colorscale": [
             [
              0,
              "#0d0887"
             ],
             [
              0.1111111111111111,
              "#46039f"
             ],
             [
              0.2222222222222222,
              "#7201a8"
             ],
             [
              0.3333333333333333,
              "#9c179e"
             ],
             [
              0.4444444444444444,
              "#bd3786"
             ],
             [
              0.5555555555555556,
              "#d8576b"
             ],
             [
              0.6666666666666666,
              "#ed7953"
             ],
             [
              0.7777777777777778,
              "#fb9f3a"
             ],
             [
              0.8888888888888888,
              "#fdca26"
             ],
             [
              1,
              "#f0f921"
             ]
            ],
            "type": "contour"
           }
          ],
          "contourcarpet": [
           {
            "colorbar": {
             "outlinewidth": 0,
             "ticks": ""
            },
            "type": "contourcarpet"
           }
          ],
          "heatmap": [
           {
            "colorbar": {
             "outlinewidth": 0,
             "ticks": ""
            },
            "colorscale": [
             [
              0,
              "#0d0887"
             ],
             [
              0.1111111111111111,
              "#46039f"
             ],
             [
              0.2222222222222222,
              "#7201a8"
             ],
             [
              0.3333333333333333,
              "#9c179e"
             ],
             [
              0.4444444444444444,
              "#bd3786"
             ],
             [
              0.5555555555555556,
              "#d8576b"
             ],
             [
              0.6666666666666666,
              "#ed7953"
             ],
             [
              0.7777777777777778,
              "#fb9f3a"
             ],
             [
              0.8888888888888888,
              "#fdca26"
             ],
             [
              1,
              "#f0f921"
             ]
            ],
            "type": "heatmap"
           }
          ],
          "heatmapgl": [
           {
            "colorbar": {
             "outlinewidth": 0,
             "ticks": ""
            },
            "colorscale": [
             [
              0,
              "#0d0887"
             ],
             [
              0.1111111111111111,
              "#46039f"
             ],
             [
              0.2222222222222222,
              "#7201a8"
             ],
             [
              0.3333333333333333,
              "#9c179e"
             ],
             [
              0.4444444444444444,
              "#bd3786"
             ],
             [
              0.5555555555555556,
              "#d8576b"
             ],
             [
              0.6666666666666666,
              "#ed7953"
             ],
             [
              0.7777777777777778,
              "#fb9f3a"
             ],
             [
              0.8888888888888888,
              "#fdca26"
             ],
             [
              1,
              "#f0f921"
             ]
            ],
            "type": "heatmapgl"
           }
          ],
          "histogram": [
           {
            "marker": {
             "colorbar": {
              "outlinewidth": 0,
              "ticks": ""
             }
            },
            "type": "histogram"
           }
          ],
          "histogram2d": [
           {
            "colorbar": {
             "outlinewidth": 0,
             "ticks": ""
            },
            "colorscale": [
             [
              0,
              "#0d0887"
             ],
             [
              0.1111111111111111,
              "#46039f"
             ],
             [
              0.2222222222222222,
              "#7201a8"
             ],
             [
              0.3333333333333333,
              "#9c179e"
             ],
             [
              0.4444444444444444,
              "#bd3786"
             ],
             [
              0.5555555555555556,
              "#d8576b"
             ],
             [
              0.6666666666666666,
              "#ed7953"
             ],
             [
              0.7777777777777778,
              "#fb9f3a"
             ],
             [
              0.8888888888888888,
              "#fdca26"
             ],
             [
              1,
              "#f0f921"
             ]
            ],
            "type": "histogram2d"
           }
          ],
          "histogram2dcontour": [
           {
            "colorbar": {
             "outlinewidth": 0,
             "ticks": ""
            },
            "colorscale": [
             [
              0,
              "#0d0887"
             ],
             [
              0.1111111111111111,
              "#46039f"
             ],
             [
              0.2222222222222222,
              "#7201a8"
             ],
             [
              0.3333333333333333,
              "#9c179e"
             ],
             [
              0.4444444444444444,
              "#bd3786"
             ],
             [
              0.5555555555555556,
              "#d8576b"
             ],
             [
              0.6666666666666666,
              "#ed7953"
             ],
             [
              0.7777777777777778,
              "#fb9f3a"
             ],
             [
              0.8888888888888888,
              "#fdca26"
             ],
             [
              1,
              "#f0f921"
             ]
            ],
            "type": "histogram2dcontour"
           }
          ],
          "mesh3d": [
           {
            "colorbar": {
             "outlinewidth": 0,
             "ticks": ""
            },
            "type": "mesh3d"
           }
          ],
          "parcoords": [
           {
            "line": {
             "colorbar": {
              "outlinewidth": 0,
              "ticks": ""
             }
            },
            "type": "parcoords"
           }
          ],
          "pie": [
           {
            "automargin": true,
            "type": "pie"
           }
          ],
          "scatter": [
           {
            "marker": {
             "colorbar": {
              "outlinewidth": 0,
              "ticks": ""
             }
            },
            "type": "scatter"
           }
          ],
          "scatter3d": [
           {
            "line": {
             "colorbar": {
              "outlinewidth": 0,
              "ticks": ""
             }
            },
            "marker": {
             "colorbar": {
              "outlinewidth": 0,
              "ticks": ""
             }
            },
            "type": "scatter3d"
           }
          ],
          "scattercarpet": [
           {
            "marker": {
             "colorbar": {
              "outlinewidth": 0,
              "ticks": ""
             }
            },
            "type": "scattercarpet"
           }
          ],
          "scattergeo": [
           {
            "marker": {
             "colorbar": {
              "outlinewidth": 0,
              "ticks": ""
             }
            },
            "type": "scattergeo"
           }
          ],
          "scattergl": [
           {
            "marker": {
             "colorbar": {
              "outlinewidth": 0,
              "ticks": ""
             }
            },
            "type": "scattergl"
           }
          ],
          "scattermapbox": [
           {
            "marker": {
             "colorbar": {
              "outlinewidth": 0,
              "ticks": ""
             }
            },
            "type": "scattermapbox"
           }
          ],
          "scatterpolar": [
           {
            "marker": {
             "colorbar": {
              "outlinewidth": 0,
              "ticks": ""
             }
            },
            "type": "scatterpolar"
           }
          ],
          "scatterpolargl": [
           {
            "marker": {
             "colorbar": {
              "outlinewidth": 0,
              "ticks": ""
             }
            },
            "type": "scatterpolargl"
           }
          ],
          "scatterternary": [
           {
            "marker": {
             "colorbar": {
              "outlinewidth": 0,
              "ticks": ""
             }
            },
            "type": "scatterternary"
           }
          ],
          "surface": [
           {
            "colorbar": {
             "outlinewidth": 0,
             "ticks": ""
            },
            "colorscale": [
             [
              0,
              "#0d0887"
             ],
             [
              0.1111111111111111,
              "#46039f"
             ],
             [
              0.2222222222222222,
              "#7201a8"
             ],
             [
              0.3333333333333333,
              "#9c179e"
             ],
             [
              0.4444444444444444,
              "#bd3786"
             ],
             [
              0.5555555555555556,
              "#d8576b"
             ],
             [
              0.6666666666666666,
              "#ed7953"
             ],
             [
              0.7777777777777778,
              "#fb9f3a"
             ],
             [
              0.8888888888888888,
              "#fdca26"
             ],
             [
              1,
              "#f0f921"
             ]
            ],
            "type": "surface"
           }
          ],
          "table": [
           {
            "cells": {
             "fill": {
              "color": "#EBF0F8"
             },
             "line": {
              "color": "white"
             }
            },
            "header": {
             "fill": {
              "color": "#C8D4E3"
             },
             "line": {
              "color": "white"
             }
            },
            "type": "table"
           }
          ]
         },
         "layout": {
          "annotationdefaults": {
           "arrowcolor": "#2a3f5f",
           "arrowhead": 0,
           "arrowwidth": 1
          },
          "coloraxis": {
           "colorbar": {
            "outlinewidth": 0,
            "ticks": ""
           }
          },
          "colorscale": {
           "diverging": [
            [
             0,
             "#8e0152"
            ],
            [
             0.1,
             "#c51b7d"
            ],
            [
             0.2,
             "#de77ae"
            ],
            [
             0.3,
             "#f1b6da"
            ],
            [
             0.4,
             "#fde0ef"
            ],
            [
             0.5,
             "#f7f7f7"
            ],
            [
             0.6,
             "#e6f5d0"
            ],
            [
             0.7,
             "#b8e186"
            ],
            [
             0.8,
             "#7fbc41"
            ],
            [
             0.9,
             "#4d9221"
            ],
            [
             1,
             "#276419"
            ]
           ],
           "sequential": [
            [
             0,
             "#0d0887"
            ],
            [
             0.1111111111111111,
             "#46039f"
            ],
            [
             0.2222222222222222,
             "#7201a8"
            ],
            [
             0.3333333333333333,
             "#9c179e"
            ],
            [
             0.4444444444444444,
             "#bd3786"
            ],
            [
             0.5555555555555556,
             "#d8576b"
            ],
            [
             0.6666666666666666,
             "#ed7953"
            ],
            [
             0.7777777777777778,
             "#fb9f3a"
            ],
            [
             0.8888888888888888,
             "#fdca26"
            ],
            [
             1,
             "#f0f921"
            ]
           ],
           "sequentialminus": [
            [
             0,
             "#0d0887"
            ],
            [
             0.1111111111111111,
             "#46039f"
            ],
            [
             0.2222222222222222,
             "#7201a8"
            ],
            [
             0.3333333333333333,
             "#9c179e"
            ],
            [
             0.4444444444444444,
             "#bd3786"
            ],
            [
             0.5555555555555556,
             "#d8576b"
            ],
            [
             0.6666666666666666,
             "#ed7953"
            ],
            [
             0.7777777777777778,
             "#fb9f3a"
            ],
            [
             0.8888888888888888,
             "#fdca26"
            ],
            [
             1,
             "#f0f921"
            ]
           ]
          },
          "colorway": [
           "#636efa",
           "#EF553B",
           "#00cc96",
           "#ab63fa",
           "#FFA15A",
           "#19d3f3",
           "#FF6692",
           "#B6E880",
           "#FF97FF",
           "#FECB52"
          ],
          "font": {
           "color": "#2a3f5f"
          },
          "geo": {
           "bgcolor": "white",
           "lakecolor": "white",
           "landcolor": "#E5ECF6",
           "showlakes": true,
           "showland": true,
           "subunitcolor": "white"
          },
          "hoverlabel": {
           "align": "left"
          },
          "hovermode": "closest",
          "mapbox": {
           "style": "light"
          },
          "paper_bgcolor": "white",
          "plot_bgcolor": "#E5ECF6",
          "polar": {
           "angularaxis": {
            "gridcolor": "white",
            "linecolor": "white",
            "ticks": ""
           },
           "bgcolor": "#E5ECF6",
           "radialaxis": {
            "gridcolor": "white",
            "linecolor": "white",
            "ticks": ""
           }
          },
          "scene": {
           "xaxis": {
            "backgroundcolor": "#E5ECF6",
            "gridcolor": "white",
            "gridwidth": 2,
            "linecolor": "white",
            "showbackground": true,
            "ticks": "",
            "zerolinecolor": "white"
           },
           "yaxis": {
            "backgroundcolor": "#E5ECF6",
            "gridcolor": "white",
            "gridwidth": 2,
            "linecolor": "white",
            "showbackground": true,
            "ticks": "",
            "zerolinecolor": "white"
           },
           "zaxis": {
            "backgroundcolor": "#E5ECF6",
            "gridcolor": "white",
            "gridwidth": 2,
            "linecolor": "white",
            "showbackground": true,
            "ticks": "",
            "zerolinecolor": "white"
           }
          },
          "shapedefaults": {
           "line": {
            "color": "#2a3f5f"
           }
          },
          "ternary": {
           "aaxis": {
            "gridcolor": "white",
            "linecolor": "white",
            "ticks": ""
           },
           "baxis": {
            "gridcolor": "white",
            "linecolor": "white",
            "ticks": ""
           },
           "bgcolor": "#E5ECF6",
           "caxis": {
            "gridcolor": "white",
            "linecolor": "white",
            "ticks": ""
           }
          },
          "title": {
           "x": 0.05
          },
          "xaxis": {
           "automargin": true,
           "gridcolor": "white",
           "linecolor": "white",
           "ticks": "",
           "title": {
            "standoff": 15
           },
           "zerolinecolor": "white",
           "zerolinewidth": 2
          },
          "yaxis": {
           "automargin": true,
           "gridcolor": "white",
           "linecolor": "white",
           "ticks": "",
           "title": {
            "standoff": 15
           },
           "zerolinecolor": "white",
           "zerolinewidth": 2
          }
         }
        },
        "title": {
         "text": "ASH ADHB by Ethnicity"
        },
        "width": 600,
        "xaxis": {
         "tickangle": 45,
         "title": {
          "text": "Quarterly Trends Rolling 12-month data period"
         },
         "type": "category"
        },
        "yaxis": {
         "tickformat": "P",
         "title": {
          "text": "% ASH Age standardised"
         }
        }
       }
      },
      "text/html": [
       "<div>\n",
       "        \n",
       "        \n",
       "            <div id=\"fdba7099-ac0b-4b98-8ecd-a8aa70d19179\" class=\"plotly-graph-div\" style=\"height:400px; width:600px;\"></div>\n",
       "            <script type=\"text/javascript\">\n",
       "                require([\"plotly\"], function(Plotly) {\n",
       "                    window.PLOTLYENV=window.PLOTLYENV || {};\n",
       "                    \n",
       "                if (document.getElementById(\"fdba7099-ac0b-4b98-8ecd-a8aa70d19179\")) {\n",
       "                    Plotly.newPlot(\n",
       "                        'fdba7099-ac0b-4b98-8ecd-a8aa70d19179',\n",
       "                        [{\"mode\": \"lines\", \"name\": \"Maori/A\", \"type\": \"scatter\", \"x\": [\"Mar_16\", \"Jun_16\", \"Mar_17\", \"Jun_17\", \"Mar_18\", \"Jun_18\", \"Mar_19\", \"Jun_19\", \"Mar_20\", \"Jun_20\"], \"y\": [9.5, 9.6, 7.3, 6.8, 8.1, 8.1, 7.5, 7.9, 8.2, 6.5]}, {\"mode\": \"lines+markers\", \"name\": \"Pacific/A\", \"type\": \"scatter\", \"x\": [\"Mar_16\", \"Jun_16\", \"Mar_17\", \"Jun_17\", \"Mar_18\", \"Jun_18\", \"Mar_19\", \"Jun_19\", \"Mar_20\", \"Jun_20\"], \"y\": [15.3, 15.2, 13.6, 13.4, 13.9, 14.7, 15.5, 15.7, 13.9, 11.0]}, {\"mode\": \"lines+markers\", \"name\": \"European_Others/A\", \"type\": \"scatter\", \"x\": [\"Mar_16\", \"Jun_16\", \"Mar_17\", \"Jun_17\", \"Mar_18\", \"Jun_18\", \"Mar_19\", \"Jun_19\", \"Mar_20\", \"Jun_20\"], \"y\": [6.7, 6.5, 5.6, 5.3, 6.0, 6.0, 5.7, 6.0, 5.9, 4.8]}, {\"mode\": \"lines+markers\", \"name\": \"Total/A\", \"type\": \"scatter\", \"x\": [\"Mar_16\", \"Jun_16\", \"Mar_17\", \"Jun_17\", \"Mar_18\", \"Jun_18\", \"Mar_19\", \"Jun_19\", \"Mar_20\", \"Jun_20\"], \"y\": [8.5, 8.4, 7.2, 6.9, 7.6, 7.7, 7.5, 7.9, 7.5, 6.0]}],\n",
       "                        {\"autosize\": true, \"height\": 400, \"showlegend\": true, \"template\": {\"data\": {\"bar\": [{\"error_x\": {\"color\": \"#2a3f5f\"}, \"error_y\": {\"color\": \"#2a3f5f\"}, \"marker\": {\"line\": {\"color\": \"#E5ECF6\", \"width\": 0.5}}, \"type\": \"bar\"}], \"barpolar\": [{\"marker\": {\"line\": {\"color\": \"#E5ECF6\", \"width\": 0.5}}, \"type\": \"barpolar\"}], \"carpet\": [{\"aaxis\": {\"endlinecolor\": \"#2a3f5f\", \"gridcolor\": \"white\", \"linecolor\": \"white\", \"minorgridcolor\": \"white\", \"startlinecolor\": \"#2a3f5f\"}, \"baxis\": {\"endlinecolor\": \"#2a3f5f\", \"gridcolor\": \"white\", \"linecolor\": \"white\", \"minorgridcolor\": \"white\", \"startlinecolor\": \"#2a3f5f\"}, \"type\": \"carpet\"}], \"choropleth\": [{\"colorbar\": {\"outlinewidth\": 0, \"ticks\": \"\"}, \"type\": \"choropleth\"}], \"contour\": [{\"colorbar\": {\"outlinewidth\": 0, \"ticks\": \"\"}, \"colorscale\": [[0.0, \"#0d0887\"], [0.1111111111111111, \"#46039f\"], [0.2222222222222222, \"#7201a8\"], [0.3333333333333333, \"#9c179e\"], [0.4444444444444444, \"#bd3786\"], [0.5555555555555556, \"#d8576b\"], [0.6666666666666666, \"#ed7953\"], [0.7777777777777778, \"#fb9f3a\"], [0.8888888888888888, \"#fdca26\"], [1.0, \"#f0f921\"]], \"type\": \"contour\"}], \"contourcarpet\": [{\"colorbar\": {\"outlinewidth\": 0, \"ticks\": \"\"}, \"type\": \"contourcarpet\"}], \"heatmap\": [{\"colorbar\": {\"outlinewidth\": 0, \"ticks\": \"\"}, \"colorscale\": [[0.0, \"#0d0887\"], [0.1111111111111111, \"#46039f\"], [0.2222222222222222, \"#7201a8\"], [0.3333333333333333, \"#9c179e\"], [0.4444444444444444, \"#bd3786\"], [0.5555555555555556, \"#d8576b\"], [0.6666666666666666, \"#ed7953\"], [0.7777777777777778, \"#fb9f3a\"], [0.8888888888888888, \"#fdca26\"], [1.0, \"#f0f921\"]], \"type\": \"heatmap\"}], \"heatmapgl\": [{\"colorbar\": {\"outlinewidth\": 0, \"ticks\": \"\"}, \"colorscale\": [[0.0, \"#0d0887\"], [0.1111111111111111, \"#46039f\"], [0.2222222222222222, \"#7201a8\"], [0.3333333333333333, \"#9c179e\"], [0.4444444444444444, \"#bd3786\"], [0.5555555555555556, \"#d8576b\"], [0.6666666666666666, \"#ed7953\"], [0.7777777777777778, \"#fb9f3a\"], [0.8888888888888888, \"#fdca26\"], [1.0, \"#f0f921\"]], \"type\": \"heatmapgl\"}], \"histogram\": [{\"marker\": {\"colorbar\": {\"outlinewidth\": 0, \"ticks\": \"\"}}, \"type\": \"histogram\"}], \"histogram2d\": [{\"colorbar\": {\"outlinewidth\": 0, \"ticks\": \"\"}, \"colorscale\": [[0.0, \"#0d0887\"], [0.1111111111111111, \"#46039f\"], [0.2222222222222222, \"#7201a8\"], [0.3333333333333333, \"#9c179e\"], [0.4444444444444444, \"#bd3786\"], [0.5555555555555556, \"#d8576b\"], [0.6666666666666666, \"#ed7953\"], [0.7777777777777778, \"#fb9f3a\"], [0.8888888888888888, \"#fdca26\"], [1.0, \"#f0f921\"]], \"type\": \"histogram2d\"}], \"histogram2dcontour\": [{\"colorbar\": {\"outlinewidth\": 0, \"ticks\": \"\"}, \"colorscale\": [[0.0, \"#0d0887\"], [0.1111111111111111, \"#46039f\"], [0.2222222222222222, \"#7201a8\"], [0.3333333333333333, \"#9c179e\"], [0.4444444444444444, \"#bd3786\"], [0.5555555555555556, \"#d8576b\"], [0.6666666666666666, \"#ed7953\"], [0.7777777777777778, \"#fb9f3a\"], [0.8888888888888888, \"#fdca26\"], [1.0, \"#f0f921\"]], \"type\": \"histogram2dcontour\"}], \"mesh3d\": [{\"colorbar\": {\"outlinewidth\": 0, \"ticks\": \"\"}, \"type\": \"mesh3d\"}], \"parcoords\": [{\"line\": {\"colorbar\": {\"outlinewidth\": 0, \"ticks\": \"\"}}, \"type\": \"parcoords\"}], \"pie\": [{\"automargin\": true, \"type\": \"pie\"}], \"scatter\": [{\"marker\": {\"colorbar\": {\"outlinewidth\": 0, \"ticks\": \"\"}}, \"type\": \"scatter\"}], \"scatter3d\": [{\"line\": {\"colorbar\": {\"outlinewidth\": 0, \"ticks\": \"\"}}, \"marker\": {\"colorbar\": {\"outlinewidth\": 0, \"ticks\": \"\"}}, \"type\": \"scatter3d\"}], \"scattercarpet\": [{\"marker\": {\"colorbar\": {\"outlinewidth\": 0, \"ticks\": \"\"}}, \"type\": \"scattercarpet\"}], \"scattergeo\": [{\"marker\": {\"colorbar\": {\"outlinewidth\": 0, \"ticks\": \"\"}}, \"type\": \"scattergeo\"}], \"scattergl\": [{\"marker\": {\"colorbar\": {\"outlinewidth\": 0, \"ticks\": \"\"}}, \"type\": \"scattergl\"}], \"scattermapbox\": [{\"marker\": {\"colorbar\": {\"outlinewidth\": 0, \"ticks\": \"\"}}, \"type\": \"scattermapbox\"}], \"scatterpolar\": [{\"marker\": {\"colorbar\": {\"outlinewidth\": 0, \"ticks\": \"\"}}, \"type\": \"scatterpolar\"}], \"scatterpolargl\": [{\"marker\": {\"colorbar\": {\"outlinewidth\": 0, \"ticks\": \"\"}}, \"type\": \"scatterpolargl\"}], \"scatterternary\": [{\"marker\": {\"colorbar\": {\"outlinewidth\": 0, \"ticks\": \"\"}}, \"type\": \"scatterternary\"}], \"surface\": [{\"colorbar\": {\"outlinewidth\": 0, \"ticks\": \"\"}, \"colorscale\": [[0.0, \"#0d0887\"], [0.1111111111111111, \"#46039f\"], [0.2222222222222222, \"#7201a8\"], [0.3333333333333333, \"#9c179e\"], [0.4444444444444444, \"#bd3786\"], [0.5555555555555556, \"#d8576b\"], [0.6666666666666666, \"#ed7953\"], [0.7777777777777778, \"#fb9f3a\"], [0.8888888888888888, \"#fdca26\"], [1.0, \"#f0f921\"]], \"type\": \"surface\"}], \"table\": [{\"cells\": {\"fill\": {\"color\": \"#EBF0F8\"}, \"line\": {\"color\": \"white\"}}, \"header\": {\"fill\": {\"color\": \"#C8D4E3\"}, \"line\": {\"color\": \"white\"}}, \"type\": \"table\"}]}, \"layout\": {\"annotationdefaults\": {\"arrowcolor\": \"#2a3f5f\", \"arrowhead\": 0, \"arrowwidth\": 1}, \"coloraxis\": {\"colorbar\": {\"outlinewidth\": 0, \"ticks\": \"\"}}, \"colorscale\": {\"diverging\": [[0, \"#8e0152\"], [0.1, \"#c51b7d\"], [0.2, \"#de77ae\"], [0.3, \"#f1b6da\"], [0.4, \"#fde0ef\"], [0.5, \"#f7f7f7\"], [0.6, \"#e6f5d0\"], [0.7, \"#b8e186\"], [0.8, \"#7fbc41\"], [0.9, \"#4d9221\"], [1, \"#276419\"]], \"sequential\": [[0.0, \"#0d0887\"], [0.1111111111111111, \"#46039f\"], [0.2222222222222222, \"#7201a8\"], [0.3333333333333333, \"#9c179e\"], [0.4444444444444444, \"#bd3786\"], [0.5555555555555556, \"#d8576b\"], [0.6666666666666666, \"#ed7953\"], [0.7777777777777778, \"#fb9f3a\"], [0.8888888888888888, \"#fdca26\"], [1.0, \"#f0f921\"]], \"sequentialminus\": [[0.0, \"#0d0887\"], [0.1111111111111111, \"#46039f\"], [0.2222222222222222, \"#7201a8\"], [0.3333333333333333, \"#9c179e\"], [0.4444444444444444, \"#bd3786\"], [0.5555555555555556, \"#d8576b\"], [0.6666666666666666, \"#ed7953\"], [0.7777777777777778, \"#fb9f3a\"], [0.8888888888888888, \"#fdca26\"], [1.0, \"#f0f921\"]]}, \"colorway\": [\"#636efa\", \"#EF553B\", \"#00cc96\", \"#ab63fa\", \"#FFA15A\", \"#19d3f3\", \"#FF6692\", \"#B6E880\", \"#FF97FF\", \"#FECB52\"], \"font\": {\"color\": \"#2a3f5f\"}, \"geo\": {\"bgcolor\": \"white\", \"lakecolor\": \"white\", \"landcolor\": \"#E5ECF6\", \"showlakes\": true, \"showland\": true, \"subunitcolor\": \"white\"}, \"hoverlabel\": {\"align\": \"left\"}, \"hovermode\": \"closest\", \"mapbox\": {\"style\": \"light\"}, \"paper_bgcolor\": \"white\", \"plot_bgcolor\": \"#E5ECF6\", \"polar\": {\"angularaxis\": {\"gridcolor\": \"white\", \"linecolor\": \"white\", \"ticks\": \"\"}, \"bgcolor\": \"#E5ECF6\", \"radialaxis\": {\"gridcolor\": \"white\", \"linecolor\": \"white\", \"ticks\": \"\"}}, \"scene\": {\"xaxis\": {\"backgroundcolor\": \"#E5ECF6\", \"gridcolor\": \"white\", \"gridwidth\": 2, \"linecolor\": \"white\", \"showbackground\": true, \"ticks\": \"\", \"zerolinecolor\": \"white\"}, \"yaxis\": {\"backgroundcolor\": \"#E5ECF6\", \"gridcolor\": \"white\", \"gridwidth\": 2, \"linecolor\": \"white\", \"showbackground\": true, \"ticks\": \"\", \"zerolinecolor\": \"white\"}, \"zaxis\": {\"backgroundcolor\": \"#E5ECF6\", \"gridcolor\": \"white\", \"gridwidth\": 2, \"linecolor\": \"white\", \"showbackground\": true, \"ticks\": \"\", \"zerolinecolor\": \"white\"}}, \"shapedefaults\": {\"line\": {\"color\": \"#2a3f5f\"}}, \"ternary\": {\"aaxis\": {\"gridcolor\": \"white\", \"linecolor\": \"white\", \"ticks\": \"\"}, \"baxis\": {\"gridcolor\": \"white\", \"linecolor\": \"white\", \"ticks\": \"\"}, \"bgcolor\": \"#E5ECF6\", \"caxis\": {\"gridcolor\": \"white\", \"linecolor\": \"white\", \"ticks\": \"\"}}, \"title\": {\"x\": 0.05}, \"xaxis\": {\"automargin\": true, \"gridcolor\": \"white\", \"linecolor\": \"white\", \"ticks\": \"\", \"title\": {\"standoff\": 15}, \"zerolinecolor\": \"white\", \"zerolinewidth\": 2}, \"yaxis\": {\"automargin\": true, \"gridcolor\": \"white\", \"linecolor\": \"white\", \"ticks\": \"\", \"title\": {\"standoff\": 15}, \"zerolinecolor\": \"white\", \"zerolinewidth\": 2}}}, \"title\": {\"text\": \"ASH ADHB by Ethnicity\"}, \"width\": 600, \"xaxis\": {\"tickangle\": 45, \"title\": {\"text\": \"Quarterly Trends Rolling 12-month data period\"}, \"type\": \"category\"}, \"yaxis\": {\"tickformat\": \"P\", \"title\": {\"text\": \"% ASH Age standardised\"}}},\n",
       "                        {\"responsive\": true}\n",
       "                    ).then(function(){\n",
       "                            \n",
       "var gd = document.getElementById('fdba7099-ac0b-4b98-8ecd-a8aa70d19179');\n",
       "var x = new MutationObserver(function (mutations, observer) {{\n",
       "        var display = window.getComputedStyle(gd).display;\n",
       "        if (!display || display === 'none') {{\n",
       "            console.log([gd, 'removed!']);\n",
       "            Plotly.purge(gd);\n",
       "            observer.disconnect();\n",
       "        }}\n",
       "}});\n",
       "\n",
       "// Listen for the removal of the full notebook cells\n",
       "var notebookContainer = gd.closest('#notebook-container');\n",
       "if (notebookContainer) {{\n",
       "    x.observe(notebookContainer, {childList: true});\n",
       "}}\n",
       "\n",
       "// Listen for the clearing of the current output cell\n",
       "var outputEl = gd.closest('.output');\n",
       "if (outputEl) {{\n",
       "    x.observe(outputEl, {childList: true});\n",
       "}}\n",
       "\n",
       "                        })\n",
       "                };\n",
       "                });\n",
       "            </script>\n",
       "        </div>"
      ]
     },
     "metadata": {},
     "output_type": "display_data"
    }
   ],
   "source": [
    "import pandas as pd\n",
    "import matplotlib.pyplot as plt\n",
    "import plotly.graph_objects as go\n",
    "import numpy as np\n",
    "#DHBAll = pd.ExcelFile('G:/Funding Team/Planning/Health Information/HIAT/Michael Files/Antinatal Vaccination/April 2019 to March 2020/For Python.xlsx')\n",
    "#DHBPert = pd.read_excel(DHBAll, 'Pertussis Graphs', skiprows=5)\n",
    "WDHBEthnic = DHBPert[['Maori/A','Pacific/A','European/Others/A', 'Total/A']]\n",
    "WDHBEthnic=WDHBEthnic.round(3)\n",
    "WDHBEthnic=WDHBEthnic.dropna()\n",
    "#WDHBEthnic=WDHBEthnic[:29]\n",
    "\n",
    "# Declare a list that is to be converted into a column \n",
    "Quarter = ['Mar_16','Jun_16', 'Mar_17','Jun_17','Mar_18','Jun_18','Mar_19', 'Jun_19','Mar_20','Jun_20'] \n",
    "# Using 'Address' as the column name \n",
    "# and equating it to the list \n",
    "WDHBEthnic['Quarter'] = Quarter \n",
    "WDHBEthnic=WDHBEthnic.dropna()\n",
    "random_x = WDHBEthnic[\"Quarter\"].tolist()\n",
    "# using to_numpy() \n",
    "random_y0 = WDHBEthnic['Maori/A'].tolist()   \n",
    "\n",
    "random_y1 = WDHBEthnic['Pacific/A'].tolist()  \n",
    "   \n",
    "random_y2 = WDHBEthnic['European/Others/A'].tolist() \n",
    "random_y3 = WDHBEthnic['Total/A'].tolist() \n",
    "\n",
    "import numpy as np\n",
    "\n",
    "# Create traces\n",
    "fig = go.Figure()\n",
    "fig.add_trace(go.Scatter(x=random_x, y=random_y0,\n",
    "                    mode='lines',\n",
    "                    name='Maori/A'))\n",
    "fig.add_trace(go.Scatter(x=random_x, y=random_y1,\n",
    "                    mode='lines+markers',\n",
    "                    name='Pacific/A'))\n",
    "fig.add_trace(go.Scatter(x=random_x, y=random_y2,\n",
    "                    mode='lines+markers',\n",
    "                    name='European_Others/A'))\n",
    "fig.add_trace(go.Scatter(x=random_x, y=random_y3,\n",
    "                    mode='lines+markers',\n",
    "                    name='Total/A'))\n",
    "# Edit the layout\n",
    "fig.update_layout(title='ASH by Ethnicity',\n",
    "                   xaxis_title='Quarterly Trends Rolling 12-month data period',\n",
    "                   yaxis_title='% ASH Age standardised')\n",
    "\n",
    "fig.update_layout(xaxis_type='category',\n",
    "                  title_text='ASH ADHB by Ethnicity',\n",
    "                  xaxis_title='Quarterly Trends Rolling 12-month data period',\n",
    "                  yaxis_title='% ASH Age standardised')\n",
    "fig.update_xaxes(tickangle=45)\n",
    "fig.update_yaxes(tickformat=\"P\")\n",
    "fig.update_layout(showlegend=True)\n",
    "#fig.update_layout(legend_orientation=\"h\")\n",
    "fig.update_layout(\n",
    "    autosize=True,\n",
    "    width=600,\n",
    "    height=400,)\n",
    "fig.show()"
   ]
  },
  {
   "cell_type": "markdown",
   "metadata": {},
   "source": [
    "## ASH by Primary Health Organisation (PHO)"
   ]
  },
  {
   "cell_type": "markdown",
   "metadata": {},
   "source": [
    "At a PHO level, Total Health Charitable Trust PHO (6.7%) and Alliance Health Plus Trust Care (5.5%) had the highest coverage rates. All PHO’s had a decrease in ASH rates compared to the previous 12 months period to March 2019."
   ]
  },
  {
   "cell_type": "code",
   "execution_count": 128,
   "metadata": {},
   "outputs": [
    {
     "data": {
      "text/html": [
       "<style  type=\"text/css\" >\n",
       "    #T_7dc57a02_fd4c_11ea_86c4_ecb1d74ca0c9 tr:hover {\n",
       "          background-color: #ffff99;\n",
       "    }    #T_7dc57a02_fd4c_11ea_86c4_ecb1d74ca0c9 th {\n",
       "          font-size: 90%;\n",
       "          text-align: center;\n",
       "    }    #T_7dc57a02_fd4c_11ea_86c4_ecb1d74ca0c9 caption {\n",
       "          caption-side: bottom;\n",
       "    }</style><table id=\"T_7dc57a02_fd4c_11ea_86c4_ecb1d74ca0c9\" ><caption>Hover to highlight.</caption><thead>    <tr>        <th class=\"index_name level0\" >0</th>        <th class=\"col_heading level0 col0\" >PHO</th>        <th class=\"col_heading level0 col1\" >Maori_(Prev)</th>        <th class=\"col_heading level0 col2\" >Maori_(Curr)</th>        <th class=\"col_heading level0 col3\" >Pacific_(Prev)</th>        <th class=\"col_heading level0 col4\" >Pacific_(Curr)</th>        <th class=\"col_heading level0 col5\" >Others_(Prev)</th>        <th class=\"col_heading level0 col6\" >Others_(Curr)</th>        <th class=\"col_heading level0 col7\" >Total_(Prev)</th>        <th class=\"col_heading level0 col8\" >Total_(Curr)</th>    </tr></thead><tbody>\n",
       "                <tr>\n",
       "                        <th id=\"T_7dc57a02_fd4c_11ea_86c4_ecb1d74ca0c9level0_row0\" class=\"row_heading level0 row0\" >1</th>\n",
       "                        <td id=\"T_7dc57a02_fd4c_11ea_86c4_ecb1d74ca0c9row0_col0\" class=\"data row0 col0\" >Alliance_Health_Plus_Trust</td>\n",
       "                        <td id=\"T_7dc57a02_fd4c_11ea_86c4_ecb1d74ca0c9row0_col1\" class=\"data row0 col1\" >6.3</td>\n",
       "                        <td id=\"T_7dc57a02_fd4c_11ea_86c4_ecb1d74ca0c9row0_col2\" class=\"data row0 col2\" >5</td>\n",
       "                        <td id=\"T_7dc57a02_fd4c_11ea_86c4_ecb1d74ca0c9row0_col3\" class=\"data row0 col3\" >11.7</td>\n",
       "                        <td id=\"T_7dc57a02_fd4c_11ea_86c4_ecb1d74ca0c9row0_col4\" class=\"data row0 col4\" >9</td>\n",
       "                        <td id=\"T_7dc57a02_fd4c_11ea_86c4_ecb1d74ca0c9row0_col5\" class=\"data row0 col5\" >3.5</td>\n",
       "                        <td id=\"T_7dc57a02_fd4c_11ea_86c4_ecb1d74ca0c9row0_col6\" class=\"data row0 col6\" >2.8</td>\n",
       "                        <td id=\"T_7dc57a02_fd4c_11ea_86c4_ecb1d74ca0c9row0_col7\" class=\"data row0 col7\" >7.1</td>\n",
       "                        <td id=\"T_7dc57a02_fd4c_11ea_86c4_ecb1d74ca0c9row0_col8\" class=\"data row0 col8\" >5.5</td>\n",
       "            </tr>\n",
       "            <tr>\n",
       "                        <th id=\"T_7dc57a02_fd4c_11ea_86c4_ecb1d74ca0c9level0_row1\" class=\"row_heading level0 row1\" >2</th>\n",
       "                        <td id=\"T_7dc57a02_fd4c_11ea_86c4_ecb1d74ca0c9row1_col0\" class=\"data row1 col0\" >Auckland_PHO_Limited</td>\n",
       "                        <td id=\"T_7dc57a02_fd4c_11ea_86c4_ecb1d74ca0c9row1_col1\" class=\"data row1 col1\" >9.1</td>\n",
       "                        <td id=\"T_7dc57a02_fd4c_11ea_86c4_ecb1d74ca0c9row1_col2\" class=\"data row1 col2\" >8.3</td>\n",
       "                        <td id=\"T_7dc57a02_fd4c_11ea_86c4_ecb1d74ca0c9row1_col3\" class=\"data row1 col3\" >13.4</td>\n",
       "                        <td id=\"T_7dc57a02_fd4c_11ea_86c4_ecb1d74ca0c9row1_col4\" class=\"data row1 col4\" >13.1</td>\n",
       "                        <td id=\"T_7dc57a02_fd4c_11ea_86c4_ecb1d74ca0c9row1_col5\" class=\"data row1 col5\" >6</td>\n",
       "                        <td id=\"T_7dc57a02_fd4c_11ea_86c4_ecb1d74ca0c9row1_col6\" class=\"data row1 col6\" >4.8</td>\n",
       "                        <td id=\"T_7dc57a02_fd4c_11ea_86c4_ecb1d74ca0c9row1_col7\" class=\"data row1 col7\" >7</td>\n",
       "                        <td id=\"T_7dc57a02_fd4c_11ea_86c4_ecb1d74ca0c9row1_col8\" class=\"data row1 col8\" >6</td>\n",
       "            </tr>\n",
       "            <tr>\n",
       "                        <th id=\"T_7dc57a02_fd4c_11ea_86c4_ecb1d74ca0c9level0_row2\" class=\"row_heading level0 row2\" >3</th>\n",
       "                        <td id=\"T_7dc57a02_fd4c_11ea_86c4_ecb1d74ca0c9row2_col0\" class=\"data row2 col0\" >Comprehensive_Care</td>\n",
       "                        <td id=\"T_7dc57a02_fd4c_11ea_86c4_ecb1d74ca0c9row2_col1\" class=\"data row2 col1\" >6.1</td>\n",
       "                        <td id=\"T_7dc57a02_fd4c_11ea_86c4_ecb1d74ca0c9row2_col2\" class=\"data row2 col2\" >4.8</td>\n",
       "                        <td id=\"T_7dc57a02_fd4c_11ea_86c4_ecb1d74ca0c9row2_col3\" class=\"data row2 col3\" >8.7</td>\n",
       "                        <td id=\"T_7dc57a02_fd4c_11ea_86c4_ecb1d74ca0c9row2_col4\" class=\"data row2 col4\" >7.6</td>\n",
       "                        <td id=\"T_7dc57a02_fd4c_11ea_86c4_ecb1d74ca0c9row2_col5\" class=\"data row2 col5\" >3.9</td>\n",
       "                        <td id=\"T_7dc57a02_fd4c_11ea_86c4_ecb1d74ca0c9row2_col6\" class=\"data row2 col6\" >3.3</td>\n",
       "                        <td id=\"T_7dc57a02_fd4c_11ea_86c4_ecb1d74ca0c9row2_col7\" class=\"data row2 col7\" >4.5</td>\n",
       "                        <td id=\"T_7dc57a02_fd4c_11ea_86c4_ecb1d74ca0c9row2_col8\" class=\"data row2 col8\" >3.7</td>\n",
       "            </tr>\n",
       "            <tr>\n",
       "                        <th id=\"T_7dc57a02_fd4c_11ea_86c4_ecb1d74ca0c9level0_row3\" class=\"row_heading level0 row3\" >4</th>\n",
       "                        <td id=\"T_7dc57a02_fd4c_11ea_86c4_ecb1d74ca0c9row3_col0\" class=\"data row3 col0\" >East_Health_Trust</td>\n",
       "                        <td id=\"T_7dc57a02_fd4c_11ea_86c4_ecb1d74ca0c9row3_col1\" class=\"data row3 col1\" >4</td>\n",
       "                        <td id=\"T_7dc57a02_fd4c_11ea_86c4_ecb1d74ca0c9row3_col2\" class=\"data row3 col2\" >3</td>\n",
       "                        <td id=\"T_7dc57a02_fd4c_11ea_86c4_ecb1d74ca0c9row3_col3\" class=\"data row3 col3\" >4.6</td>\n",
       "                        <td id=\"T_7dc57a02_fd4c_11ea_86c4_ecb1d74ca0c9row3_col4\" class=\"data row3 col4\" >4</td>\n",
       "                        <td id=\"T_7dc57a02_fd4c_11ea_86c4_ecb1d74ca0c9row3_col5\" class=\"data row3 col5\" >3</td>\n",
       "                        <td id=\"T_7dc57a02_fd4c_11ea_86c4_ecb1d74ca0c9row3_col6\" class=\"data row3 col6\" >2.6</td>\n",
       "                        <td id=\"T_7dc57a02_fd4c_11ea_86c4_ecb1d74ca0c9row3_col7\" class=\"data row3 col7\" >3.2</td>\n",
       "                        <td id=\"T_7dc57a02_fd4c_11ea_86c4_ecb1d74ca0c9row3_col8\" class=\"data row3 col8\" >2.7</td>\n",
       "            </tr>\n",
       "            <tr>\n",
       "                        <th id=\"T_7dc57a02_fd4c_11ea_86c4_ecb1d74ca0c9level0_row4\" class=\"row_heading level0 row4\" >5</th>\n",
       "                        <td id=\"T_7dc57a02_fd4c_11ea_86c4_ecb1d74ca0c9row4_col0\" class=\"data row4 col0\" >National_Hauora_Coalition_Limited</td>\n",
       "                        <td id=\"T_7dc57a02_fd4c_11ea_86c4_ecb1d74ca0c9row4_col1\" class=\"data row4 col1\" >8.5</td>\n",
       "                        <td id=\"T_7dc57a02_fd4c_11ea_86c4_ecb1d74ca0c9row4_col2\" class=\"data row4 col2\" >6.9</td>\n",
       "                        <td id=\"T_7dc57a02_fd4c_11ea_86c4_ecb1d74ca0c9row4_col3\" class=\"data row4 col3\" >10.3</td>\n",
       "                        <td id=\"T_7dc57a02_fd4c_11ea_86c4_ecb1d74ca0c9row4_col4\" class=\"data row4 col4\" >8.7</td>\n",
       "                        <td id=\"T_7dc57a02_fd4c_11ea_86c4_ecb1d74ca0c9row4_col5\" class=\"data row4 col5\" >5.3</td>\n",
       "                        <td id=\"T_7dc57a02_fd4c_11ea_86c4_ecb1d74ca0c9row4_col6\" class=\"data row4 col6\" >3.8</td>\n",
       "                        <td id=\"T_7dc57a02_fd4c_11ea_86c4_ecb1d74ca0c9row4_col7\" class=\"data row4 col7\" >7</td>\n",
       "                        <td id=\"T_7dc57a02_fd4c_11ea_86c4_ecb1d74ca0c9row4_col8\" class=\"data row4 col8\" >5.4</td>\n",
       "            </tr>\n",
       "            <tr>\n",
       "                        <th id=\"T_7dc57a02_fd4c_11ea_86c4_ecb1d74ca0c9level0_row5\" class=\"row_heading level0 row5\" >6</th>\n",
       "                        <td id=\"T_7dc57a02_fd4c_11ea_86c4_ecb1d74ca0c9row5_col0\" class=\"data row5 col0\" >Procare_Networks_Limited</td>\n",
       "                        <td id=\"T_7dc57a02_fd4c_11ea_86c4_ecb1d74ca0c9row5_col1\" class=\"data row5 col1\" >7.7</td>\n",
       "                        <td id=\"T_7dc57a02_fd4c_11ea_86c4_ecb1d74ca0c9row5_col2\" class=\"data row5 col2\" >6.4</td>\n",
       "                        <td id=\"T_7dc57a02_fd4c_11ea_86c4_ecb1d74ca0c9row5_col3\" class=\"data row5 col3\" >10.4</td>\n",
       "                        <td id=\"T_7dc57a02_fd4c_11ea_86c4_ecb1d74ca0c9row5_col4\" class=\"data row5 col4\" >8.6</td>\n",
       "                        <td id=\"T_7dc57a02_fd4c_11ea_86c4_ecb1d74ca0c9row5_col5\" class=\"data row5 col5\" >4.6</td>\n",
       "                        <td id=\"T_7dc57a02_fd4c_11ea_86c4_ecb1d74ca0c9row5_col6\" class=\"data row5 col6\" >3.7</td>\n",
       "                        <td id=\"T_7dc57a02_fd4c_11ea_86c4_ecb1d74ca0c9row5_col7\" class=\"data row5 col7\" >6</td>\n",
       "                        <td id=\"T_7dc57a02_fd4c_11ea_86c4_ecb1d74ca0c9row5_col8\" class=\"data row5 col8\" >4.9</td>\n",
       "            </tr>\n",
       "            <tr>\n",
       "                        <th id=\"T_7dc57a02_fd4c_11ea_86c4_ecb1d74ca0c9level0_row6\" class=\"row_heading level0 row6\" >7</th>\n",
       "                        <td id=\"T_7dc57a02_fd4c_11ea_86c4_ecb1d74ca0c9row6_col0\" class=\"data row6 col0\" >Total_Healthcare_Charitable_Trust</td>\n",
       "                        <td id=\"T_7dc57a02_fd4c_11ea_86c4_ecb1d74ca0c9row6_col1\" class=\"data row6 col1\" >7.5</td>\n",
       "                        <td id=\"T_7dc57a02_fd4c_11ea_86c4_ecb1d74ca0c9row6_col2\" class=\"data row6 col2\" >6.9</td>\n",
       "                        <td id=\"T_7dc57a02_fd4c_11ea_86c4_ecb1d74ca0c9row6_col3\" class=\"data row6 col3\" >10.5</td>\n",
       "                        <td id=\"T_7dc57a02_fd4c_11ea_86c4_ecb1d74ca0c9row6_col4\" class=\"data row6 col4\" >8.9</td>\n",
       "                        <td id=\"T_7dc57a02_fd4c_11ea_86c4_ecb1d74ca0c9row6_col5\" class=\"data row6 col5\" >4.9</td>\n",
       "                        <td id=\"T_7dc57a02_fd4c_11ea_86c4_ecb1d74ca0c9row6_col6\" class=\"data row6 col6\" >4</td>\n",
       "                        <td id=\"T_7dc57a02_fd4c_11ea_86c4_ecb1d74ca0c9row6_col7\" class=\"data row6 col7\" >8</td>\n",
       "                        <td id=\"T_7dc57a02_fd4c_11ea_86c4_ecb1d74ca0c9row6_col8\" class=\"data row6 col8\" >6.7</td>\n",
       "            </tr>\n",
       "    </tbody></table>"
      ],
      "text/plain": [
       "<pandas.io.formats.style.Styler at 0x9c3bef0>"
      ]
     },
     "execution_count": 128,
     "metadata": {},
     "output_type": "execute_result"
    }
   ],
   "source": [
    "PHOETab = pd.read_excel(DHBAll, 'ASH_Table', skiprows=31)\n",
    "PHOETabPHO=PHOETab.iloc[0:8, 1:10]\n",
    "PHOETabPHO.columns = PHOETabPHO.iloc[0]\n",
    "PHOETabPHO=PHOETabPHO.drop(PHOETabPHO.index[0])\n",
    "#DHBTabDHB.rename(columns=DHBTabDHB.iloc[0]).drop(DHBTabDHB.index[1])\n",
    "PHOETabPHO = PHOETabPHO.astype({\"Maori_(Prev)\": float, \"Maori_(Curr)\": float, \"Pacific_(Prev)\": float,\n",
    "                             \"Pacific_(Curr)\": float, \"Others_(Prev)\": float, \"Others_(Curr)\": float, \"Total_(Prev)\": float,\n",
    "                             \"Total_(Curr)\": float})\n",
    "#DHBTabDHB.dtypes\n",
    "PHOETabPHO.iloc[:,1:] = PHOETabPHO.iloc[:,1:]\n",
    "PHOETabPHO.style.hide_index()\n",
    "from IPython.display import HTML\n",
    "#DHBTabDHB.set_index('DHB_Domicile')\n",
    "def hover(hover_color=\"#ffff99\"):\n",
    "    return dict(selector=\"tr:hover\",\n",
    "                props=[(\"background-color\", \"%s\" % hover_color)])\n",
    "\n",
    "styles = [\n",
    "    hover(),\n",
    "    dict(selector=\"th\", props=[(\"font-size\", \"90%\"),\n",
    "                               (\"text-align\", \"center\")]),\n",
    "    dict(selector=\"caption\", props=[(\"caption-side\", \"bottom\")])\n",
    "]\n",
    "html = (PHOETabPHO.style.set_table_styles(styles)\n",
    "          .set_caption(\"Hover to highlight.\"))\n",
    "html\n",
    "#DHBTabDHB.set_index('DHB_Domicile')\n",
    "#DHBTabDHB.head()\n",
    "#DHBTab.head()"
   ]
  },
  {
   "cell_type": "code",
   "execution_count": 129,
   "metadata": {},
   "outputs": [
    {
     "data": {
      "application/vnd.plotly.v1+json": {
       "config": {
        "plotlyServerURL": "https://plotly.your-company.com"
       },
       "data": [
        {
         "mode": "lines+markers",
         "name": "Alliance_Health_Plus_Trust",
         "type": "scatter",
         "x": [
          "Mar_16",
          "Jun_16",
          "Mar_17",
          "Jun_17",
          "Mar_18",
          "Jun_18",
          "Mar_19",
          "Jun_19",
          "Mar_20",
          "Jun_20"
         ],
         "y": [
          7.8,
          7.6,
          7.6,
          7.8,
          7.6,
          7.2,
          7.7,
          8.2,
          7.1,
          5.5
         ]
        },
        {
         "mode": "lines+markers",
         "name": "Auckland_PHO_Limited",
         "type": "scatter",
         "x": [
          "Mar_16",
          "Jun_16",
          "Mar_17",
          "Jun_17",
          "Mar_18",
          "Jun_18",
          "Mar_19",
          "Jun_19",
          "Mar_20",
          "Jun_20"
         ],
         "y": [
          6.5,
          6.9,
          6.4,
          6.5,
          7,
          6.6,
          7.3,
          7.5,
          7,
          6
         ]
        },
        {
         "mode": "lines+markers",
         "name": "Comprehensive_Care",
         "type": "scatter",
         "x": [
          "Mar_16",
          "Jun_16",
          "Mar_17",
          "Jun_17",
          "Mar_18",
          "Jun_18",
          "Mar_19",
          "Jun_19",
          "Mar_20",
          "Jun_20"
         ],
         "y": [
          4.3,
          4.8,
          4.7,
          4.5,
          4.5,
          4.5,
          4.6,
          4.7,
          4.5,
          3.7
         ]
        },
        {
         "mode": "lines+markers",
         "name": "East_Health_Trust",
         "type": "scatter",
         "x": [
          "Mar_16",
          "Jun_16",
          "Mar_17",
          "Jun_17",
          "Mar_18",
          "Jun_18",
          "Mar_19",
          "Jun_19",
          "Mar_20",
          "Jun_20"
         ],
         "y": [
          3.5,
          3.9,
          3.3,
          3,
          3.1,
          3.3,
          3.6,
          3.5,
          3.2,
          2.7
         ]
        },
        {
         "mode": "lines+markers",
         "name": "National_Hauora_Coalition_Limited",
         "type": "scatter",
         "x": [
          "Mar_16",
          "Jun_16",
          "Mar_17",
          "Jun_17",
          "Mar_18",
          "Jun_18",
          "Mar_19",
          "Jun_19",
          "Mar_20",
          "Jun_20"
         ],
         "y": [
          7.7,
          7.9,
          7.7,
          7.5,
          7.9,
          8.3,
          8.1,
          7.8,
          7,
          5.4
         ]
        },
        {
         "mode": "lines+markers",
         "name": "Procare_Networks_Limited",
         "type": "scatter",
         "x": [
          "Mar_16",
          "Jun_16",
          "Mar_17",
          "Jun_17",
          "Mar_18",
          "Jun_18",
          "Mar_19",
          "Jun_19",
          "Mar_20",
          "Jun_20"
         ],
         "y": [
          6.7,
          6.6,
          6.1,
          6,
          6.5,
          6.5,
          6.3,
          6.4,
          6,
          4.9
         ]
        },
        {
         "mode": "lines+markers",
         "name": "Total_Healthcare_Charitable_Trust",
         "type": "scatter",
         "x": [
          "Mar_16",
          "Jun_16",
          "Mar_17",
          "Jun_17",
          "Mar_18",
          "Jun_18",
          "Mar_19",
          "Jun_19",
          "Mar_20",
          "Jun_20"
         ],
         "y": [
          9.2,
          9.5,
          8.3,
          8.3,
          8.8,
          8.4,
          7.9,
          8.2,
          8,
          6.7
         ]
        }
       ],
       "layout": {
        "autosize": false,
        "height": 400,
        "showlegend": true,
        "template": {
         "data": {
          "bar": [
           {
            "error_x": {
             "color": "#2a3f5f"
            },
            "error_y": {
             "color": "#2a3f5f"
            },
            "marker": {
             "line": {
              "color": "#E5ECF6",
              "width": 0.5
             }
            },
            "type": "bar"
           }
          ],
          "barpolar": [
           {
            "marker": {
             "line": {
              "color": "#E5ECF6",
              "width": 0.5
             }
            },
            "type": "barpolar"
           }
          ],
          "carpet": [
           {
            "aaxis": {
             "endlinecolor": "#2a3f5f",
             "gridcolor": "white",
             "linecolor": "white",
             "minorgridcolor": "white",
             "startlinecolor": "#2a3f5f"
            },
            "baxis": {
             "endlinecolor": "#2a3f5f",
             "gridcolor": "white",
             "linecolor": "white",
             "minorgridcolor": "white",
             "startlinecolor": "#2a3f5f"
            },
            "type": "carpet"
           }
          ],
          "choropleth": [
           {
            "colorbar": {
             "outlinewidth": 0,
             "ticks": ""
            },
            "type": "choropleth"
           }
          ],
          "contour": [
           {
            "colorbar": {
             "outlinewidth": 0,
             "ticks": ""
            },
            "colorscale": [
             [
              0,
              "#0d0887"
             ],
             [
              0.1111111111111111,
              "#46039f"
             ],
             [
              0.2222222222222222,
              "#7201a8"
             ],
             [
              0.3333333333333333,
              "#9c179e"
             ],
             [
              0.4444444444444444,
              "#bd3786"
             ],
             [
              0.5555555555555556,
              "#d8576b"
             ],
             [
              0.6666666666666666,
              "#ed7953"
             ],
             [
              0.7777777777777778,
              "#fb9f3a"
             ],
             [
              0.8888888888888888,
              "#fdca26"
             ],
             [
              1,
              "#f0f921"
             ]
            ],
            "type": "contour"
           }
          ],
          "contourcarpet": [
           {
            "colorbar": {
             "outlinewidth": 0,
             "ticks": ""
            },
            "type": "contourcarpet"
           }
          ],
          "heatmap": [
           {
            "colorbar": {
             "outlinewidth": 0,
             "ticks": ""
            },
            "colorscale": [
             [
              0,
              "#0d0887"
             ],
             [
              0.1111111111111111,
              "#46039f"
             ],
             [
              0.2222222222222222,
              "#7201a8"
             ],
             [
              0.3333333333333333,
              "#9c179e"
             ],
             [
              0.4444444444444444,
              "#bd3786"
             ],
             [
              0.5555555555555556,
              "#d8576b"
             ],
             [
              0.6666666666666666,
              "#ed7953"
             ],
             [
              0.7777777777777778,
              "#fb9f3a"
             ],
             [
              0.8888888888888888,
              "#fdca26"
             ],
             [
              1,
              "#f0f921"
             ]
            ],
            "type": "heatmap"
           }
          ],
          "heatmapgl": [
           {
            "colorbar": {
             "outlinewidth": 0,
             "ticks": ""
            },
            "colorscale": [
             [
              0,
              "#0d0887"
             ],
             [
              0.1111111111111111,
              "#46039f"
             ],
             [
              0.2222222222222222,
              "#7201a8"
             ],
             [
              0.3333333333333333,
              "#9c179e"
             ],
             [
              0.4444444444444444,
              "#bd3786"
             ],
             [
              0.5555555555555556,
              "#d8576b"
             ],
             [
              0.6666666666666666,
              "#ed7953"
             ],
             [
              0.7777777777777778,
              "#fb9f3a"
             ],
             [
              0.8888888888888888,
              "#fdca26"
             ],
             [
              1,
              "#f0f921"
             ]
            ],
            "type": "heatmapgl"
           }
          ],
          "histogram": [
           {
            "marker": {
             "colorbar": {
              "outlinewidth": 0,
              "ticks": ""
             }
            },
            "type": "histogram"
           }
          ],
          "histogram2d": [
           {
            "colorbar": {
             "outlinewidth": 0,
             "ticks": ""
            },
            "colorscale": [
             [
              0,
              "#0d0887"
             ],
             [
              0.1111111111111111,
              "#46039f"
             ],
             [
              0.2222222222222222,
              "#7201a8"
             ],
             [
              0.3333333333333333,
              "#9c179e"
             ],
             [
              0.4444444444444444,
              "#bd3786"
             ],
             [
              0.5555555555555556,
              "#d8576b"
             ],
             [
              0.6666666666666666,
              "#ed7953"
             ],
             [
              0.7777777777777778,
              "#fb9f3a"
             ],
             [
              0.8888888888888888,
              "#fdca26"
             ],
             [
              1,
              "#f0f921"
             ]
            ],
            "type": "histogram2d"
           }
          ],
          "histogram2dcontour": [
           {
            "colorbar": {
             "outlinewidth": 0,
             "ticks": ""
            },
            "colorscale": [
             [
              0,
              "#0d0887"
             ],
             [
              0.1111111111111111,
              "#46039f"
             ],
             [
              0.2222222222222222,
              "#7201a8"
             ],
             [
              0.3333333333333333,
              "#9c179e"
             ],
             [
              0.4444444444444444,
              "#bd3786"
             ],
             [
              0.5555555555555556,
              "#d8576b"
             ],
             [
              0.6666666666666666,
              "#ed7953"
             ],
             [
              0.7777777777777778,
              "#fb9f3a"
             ],
             [
              0.8888888888888888,
              "#fdca26"
             ],
             [
              1,
              "#f0f921"
             ]
            ],
            "type": "histogram2dcontour"
           }
          ],
          "mesh3d": [
           {
            "colorbar": {
             "outlinewidth": 0,
             "ticks": ""
            },
            "type": "mesh3d"
           }
          ],
          "parcoords": [
           {
            "line": {
             "colorbar": {
              "outlinewidth": 0,
              "ticks": ""
             }
            },
            "type": "parcoords"
           }
          ],
          "pie": [
           {
            "automargin": true,
            "type": "pie"
           }
          ],
          "scatter": [
           {
            "marker": {
             "colorbar": {
              "outlinewidth": 0,
              "ticks": ""
             }
            },
            "type": "scatter"
           }
          ],
          "scatter3d": [
           {
            "line": {
             "colorbar": {
              "outlinewidth": 0,
              "ticks": ""
             }
            },
            "marker": {
             "colorbar": {
              "outlinewidth": 0,
              "ticks": ""
             }
            },
            "type": "scatter3d"
           }
          ],
          "scattercarpet": [
           {
            "marker": {
             "colorbar": {
              "outlinewidth": 0,
              "ticks": ""
             }
            },
            "type": "scattercarpet"
           }
          ],
          "scattergeo": [
           {
            "marker": {
             "colorbar": {
              "outlinewidth": 0,
              "ticks": ""
             }
            },
            "type": "scattergeo"
           }
          ],
          "scattergl": [
           {
            "marker": {
             "colorbar": {
              "outlinewidth": 0,
              "ticks": ""
             }
            },
            "type": "scattergl"
           }
          ],
          "scattermapbox": [
           {
            "marker": {
             "colorbar": {
              "outlinewidth": 0,
              "ticks": ""
             }
            },
            "type": "scattermapbox"
           }
          ],
          "scatterpolar": [
           {
            "marker": {
             "colorbar": {
              "outlinewidth": 0,
              "ticks": ""
             }
            },
            "type": "scatterpolar"
           }
          ],
          "scatterpolargl": [
           {
            "marker": {
             "colorbar": {
              "outlinewidth": 0,
              "ticks": ""
             }
            },
            "type": "scatterpolargl"
           }
          ],
          "scatterternary": [
           {
            "marker": {
             "colorbar": {
              "outlinewidth": 0,
              "ticks": ""
             }
            },
            "type": "scatterternary"
           }
          ],
          "surface": [
           {
            "colorbar": {
             "outlinewidth": 0,
             "ticks": ""
            },
            "colorscale": [
             [
              0,
              "#0d0887"
             ],
             [
              0.1111111111111111,
              "#46039f"
             ],
             [
              0.2222222222222222,
              "#7201a8"
             ],
             [
              0.3333333333333333,
              "#9c179e"
             ],
             [
              0.4444444444444444,
              "#bd3786"
             ],
             [
              0.5555555555555556,
              "#d8576b"
             ],
             [
              0.6666666666666666,
              "#ed7953"
             ],
             [
              0.7777777777777778,
              "#fb9f3a"
             ],
             [
              0.8888888888888888,
              "#fdca26"
             ],
             [
              1,
              "#f0f921"
             ]
            ],
            "type": "surface"
           }
          ],
          "table": [
           {
            "cells": {
             "fill": {
              "color": "#EBF0F8"
             },
             "line": {
              "color": "white"
             }
            },
            "header": {
             "fill": {
              "color": "#C8D4E3"
             },
             "line": {
              "color": "white"
             }
            },
            "type": "table"
           }
          ]
         },
         "layout": {
          "annotationdefaults": {
           "arrowcolor": "#2a3f5f",
           "arrowhead": 0,
           "arrowwidth": 1
          },
          "coloraxis": {
           "colorbar": {
            "outlinewidth": 0,
            "ticks": ""
           }
          },
          "colorscale": {
           "diverging": [
            [
             0,
             "#8e0152"
            ],
            [
             0.1,
             "#c51b7d"
            ],
            [
             0.2,
             "#de77ae"
            ],
            [
             0.3,
             "#f1b6da"
            ],
            [
             0.4,
             "#fde0ef"
            ],
            [
             0.5,
             "#f7f7f7"
            ],
            [
             0.6,
             "#e6f5d0"
            ],
            [
             0.7,
             "#b8e186"
            ],
            [
             0.8,
             "#7fbc41"
            ],
            [
             0.9,
             "#4d9221"
            ],
            [
             1,
             "#276419"
            ]
           ],
           "sequential": [
            [
             0,
             "#0d0887"
            ],
            [
             0.1111111111111111,
             "#46039f"
            ],
            [
             0.2222222222222222,
             "#7201a8"
            ],
            [
             0.3333333333333333,
             "#9c179e"
            ],
            [
             0.4444444444444444,
             "#bd3786"
            ],
            [
             0.5555555555555556,
             "#d8576b"
            ],
            [
             0.6666666666666666,
             "#ed7953"
            ],
            [
             0.7777777777777778,
             "#fb9f3a"
            ],
            [
             0.8888888888888888,
             "#fdca26"
            ],
            [
             1,
             "#f0f921"
            ]
           ],
           "sequentialminus": [
            [
             0,
             "#0d0887"
            ],
            [
             0.1111111111111111,
             "#46039f"
            ],
            [
             0.2222222222222222,
             "#7201a8"
            ],
            [
             0.3333333333333333,
             "#9c179e"
            ],
            [
             0.4444444444444444,
             "#bd3786"
            ],
            [
             0.5555555555555556,
             "#d8576b"
            ],
            [
             0.6666666666666666,
             "#ed7953"
            ],
            [
             0.7777777777777778,
             "#fb9f3a"
            ],
            [
             0.8888888888888888,
             "#fdca26"
            ],
            [
             1,
             "#f0f921"
            ]
           ]
          },
          "colorway": [
           "#636efa",
           "#EF553B",
           "#00cc96",
           "#ab63fa",
           "#FFA15A",
           "#19d3f3",
           "#FF6692",
           "#B6E880",
           "#FF97FF",
           "#FECB52"
          ],
          "font": {
           "color": "#2a3f5f"
          },
          "geo": {
           "bgcolor": "white",
           "lakecolor": "white",
           "landcolor": "#E5ECF6",
           "showlakes": true,
           "showland": true,
           "subunitcolor": "white"
          },
          "hoverlabel": {
           "align": "left"
          },
          "hovermode": "closest",
          "mapbox": {
           "style": "light"
          },
          "paper_bgcolor": "white",
          "plot_bgcolor": "#E5ECF6",
          "polar": {
           "angularaxis": {
            "gridcolor": "white",
            "linecolor": "white",
            "ticks": ""
           },
           "bgcolor": "#E5ECF6",
           "radialaxis": {
            "gridcolor": "white",
            "linecolor": "white",
            "ticks": ""
           }
          },
          "scene": {
           "xaxis": {
            "backgroundcolor": "#E5ECF6",
            "gridcolor": "white",
            "gridwidth": 2,
            "linecolor": "white",
            "showbackground": true,
            "ticks": "",
            "zerolinecolor": "white"
           },
           "yaxis": {
            "backgroundcolor": "#E5ECF6",
            "gridcolor": "white",
            "gridwidth": 2,
            "linecolor": "white",
            "showbackground": true,
            "ticks": "",
            "zerolinecolor": "white"
           },
           "zaxis": {
            "backgroundcolor": "#E5ECF6",
            "gridcolor": "white",
            "gridwidth": 2,
            "linecolor": "white",
            "showbackground": true,
            "ticks": "",
            "zerolinecolor": "white"
           }
          },
          "shapedefaults": {
           "line": {
            "color": "#2a3f5f"
           }
          },
          "ternary": {
           "aaxis": {
            "gridcolor": "white",
            "linecolor": "white",
            "ticks": ""
           },
           "baxis": {
            "gridcolor": "white",
            "linecolor": "white",
            "ticks": ""
           },
           "bgcolor": "#E5ECF6",
           "caxis": {
            "gridcolor": "white",
            "linecolor": "white",
            "ticks": ""
           }
          },
          "title": {
           "x": 0.05
          },
          "xaxis": {
           "automargin": true,
           "gridcolor": "white",
           "linecolor": "white",
           "ticks": "",
           "title": {
            "standoff": 15
           },
           "zerolinecolor": "white",
           "zerolinewidth": 2
          },
          "yaxis": {
           "automargin": true,
           "gridcolor": "white",
           "linecolor": "white",
           "ticks": "",
           "title": {
            "standoff": 15
           },
           "zerolinecolor": "white",
           "zerolinewidth": 2
          }
         }
        },
        "title": {
         "text": "ASH by PHO"
        },
        "width": 670,
        "xaxis": {
         "tickangle": 45,
         "title": {
          "text": "Quarterly Trends Rolling 12-month data period"
         },
         "type": "category"
        },
        "yaxis": {
         "tickformat": "P",
         "title": {
          "text": "% ASH Age standardised"
         }
        }
       }
      },
      "text/html": [
       "<div>\n",
       "        \n",
       "        \n",
       "            <div id=\"58d4ec2a-0b9d-41fd-b31a-a0ecd4dfbc2d\" class=\"plotly-graph-div\" style=\"height:400px; width:670px;\"></div>\n",
       "            <script type=\"text/javascript\">\n",
       "                require([\"plotly\"], function(Plotly) {\n",
       "                    window.PLOTLYENV=window.PLOTLYENV || {};\n",
       "                    \n",
       "                if (document.getElementById(\"58d4ec2a-0b9d-41fd-b31a-a0ecd4dfbc2d\")) {\n",
       "                    Plotly.newPlot(\n",
       "                        '58d4ec2a-0b9d-41fd-b31a-a0ecd4dfbc2d',\n",
       "                        [{\"mode\": \"lines+markers\", \"name\": \"Alliance_Health_Plus_Trust\", \"type\": \"scatter\", \"x\": [\"Mar_16\", \"Jun_16\", \"Mar_17\", \"Jun_17\", \"Mar_18\", \"Jun_18\", \"Mar_19\", \"Jun_19\", \"Mar_20\", \"Jun_20\"], \"y\": [7.8, 7.6, 7.6, 7.8, 7.6, 7.2, 7.7, 8.2, 7.1, 5.5]}, {\"mode\": \"lines+markers\", \"name\": \"Auckland_PHO_Limited\", \"type\": \"scatter\", \"x\": [\"Mar_16\", \"Jun_16\", \"Mar_17\", \"Jun_17\", \"Mar_18\", \"Jun_18\", \"Mar_19\", \"Jun_19\", \"Mar_20\", \"Jun_20\"], \"y\": [6.5, 6.9, 6.4, 6.5, 7.0, 6.6, 7.3, 7.5, 7.0, 6.0]}, {\"mode\": \"lines+markers\", \"name\": \"Comprehensive_Care\", \"type\": \"scatter\", \"x\": [\"Mar_16\", \"Jun_16\", \"Mar_17\", \"Jun_17\", \"Mar_18\", \"Jun_18\", \"Mar_19\", \"Jun_19\", \"Mar_20\", \"Jun_20\"], \"y\": [4.3, 4.8, 4.7, 4.5, 4.5, 4.5, 4.6, 4.7, 4.5, 3.7]}, {\"mode\": \"lines+markers\", \"name\": \"East_Health_Trust\", \"type\": \"scatter\", \"x\": [\"Mar_16\", \"Jun_16\", \"Mar_17\", \"Jun_17\", \"Mar_18\", \"Jun_18\", \"Mar_19\", \"Jun_19\", \"Mar_20\", \"Jun_20\"], \"y\": [3.5, 3.9, 3.3, 3.0, 3.1, 3.3, 3.6, 3.5, 3.2, 2.7]}, {\"mode\": \"lines+markers\", \"name\": \"National_Hauora_Coalition_Limited\", \"type\": \"scatter\", \"x\": [\"Mar_16\", \"Jun_16\", \"Mar_17\", \"Jun_17\", \"Mar_18\", \"Jun_18\", \"Mar_19\", \"Jun_19\", \"Mar_20\", \"Jun_20\"], \"y\": [7.7, 7.9, 7.7, 7.5, 7.9, 8.3, 8.1, 7.8, 7.0, 5.4]}, {\"mode\": \"lines+markers\", \"name\": \"Procare_Networks_Limited\", \"type\": \"scatter\", \"x\": [\"Mar_16\", \"Jun_16\", \"Mar_17\", \"Jun_17\", \"Mar_18\", \"Jun_18\", \"Mar_19\", \"Jun_19\", \"Mar_20\", \"Jun_20\"], \"y\": [6.7, 6.6, 6.1, 6.0, 6.5, 6.5, 6.3, 6.4, 6.0, 4.9]}, {\"mode\": \"lines+markers\", \"name\": \"Total_Healthcare_Charitable_Trust\", \"type\": \"scatter\", \"x\": [\"Mar_16\", \"Jun_16\", \"Mar_17\", \"Jun_17\", \"Mar_18\", \"Jun_18\", \"Mar_19\", \"Jun_19\", \"Mar_20\", \"Jun_20\"], \"y\": [9.2, 9.5, 8.3, 8.3, 8.8, 8.4, 7.9, 8.2, 8.0, 6.7]}],\n",
       "                        {\"autosize\": false, \"height\": 400, \"showlegend\": true, \"template\": {\"data\": {\"bar\": [{\"error_x\": {\"color\": \"#2a3f5f\"}, \"error_y\": {\"color\": \"#2a3f5f\"}, \"marker\": {\"line\": {\"color\": \"#E5ECF6\", \"width\": 0.5}}, \"type\": \"bar\"}], \"barpolar\": [{\"marker\": {\"line\": {\"color\": \"#E5ECF6\", \"width\": 0.5}}, \"type\": \"barpolar\"}], \"carpet\": [{\"aaxis\": {\"endlinecolor\": \"#2a3f5f\", \"gridcolor\": \"white\", \"linecolor\": \"white\", \"minorgridcolor\": \"white\", \"startlinecolor\": \"#2a3f5f\"}, \"baxis\": {\"endlinecolor\": \"#2a3f5f\", \"gridcolor\": \"white\", \"linecolor\": \"white\", \"minorgridcolor\": \"white\", \"startlinecolor\": \"#2a3f5f\"}, \"type\": \"carpet\"}], \"choropleth\": [{\"colorbar\": {\"outlinewidth\": 0, \"ticks\": \"\"}, \"type\": \"choropleth\"}], \"contour\": [{\"colorbar\": {\"outlinewidth\": 0, \"ticks\": \"\"}, \"colorscale\": [[0.0, \"#0d0887\"], [0.1111111111111111, \"#46039f\"], [0.2222222222222222, \"#7201a8\"], [0.3333333333333333, \"#9c179e\"], [0.4444444444444444, \"#bd3786\"], [0.5555555555555556, \"#d8576b\"], [0.6666666666666666, \"#ed7953\"], [0.7777777777777778, \"#fb9f3a\"], [0.8888888888888888, \"#fdca26\"], [1.0, \"#f0f921\"]], \"type\": \"contour\"}], \"contourcarpet\": [{\"colorbar\": {\"outlinewidth\": 0, \"ticks\": \"\"}, \"type\": \"contourcarpet\"}], \"heatmap\": [{\"colorbar\": {\"outlinewidth\": 0, \"ticks\": \"\"}, \"colorscale\": [[0.0, \"#0d0887\"], [0.1111111111111111, \"#46039f\"], [0.2222222222222222, \"#7201a8\"], [0.3333333333333333, \"#9c179e\"], [0.4444444444444444, \"#bd3786\"], [0.5555555555555556, \"#d8576b\"], [0.6666666666666666, \"#ed7953\"], [0.7777777777777778, \"#fb9f3a\"], [0.8888888888888888, \"#fdca26\"], [1.0, \"#f0f921\"]], \"type\": \"heatmap\"}], \"heatmapgl\": [{\"colorbar\": {\"outlinewidth\": 0, \"ticks\": \"\"}, \"colorscale\": [[0.0, \"#0d0887\"], [0.1111111111111111, \"#46039f\"], [0.2222222222222222, \"#7201a8\"], [0.3333333333333333, \"#9c179e\"], [0.4444444444444444, \"#bd3786\"], [0.5555555555555556, \"#d8576b\"], [0.6666666666666666, \"#ed7953\"], [0.7777777777777778, \"#fb9f3a\"], [0.8888888888888888, \"#fdca26\"], [1.0, \"#f0f921\"]], \"type\": \"heatmapgl\"}], \"histogram\": [{\"marker\": {\"colorbar\": {\"outlinewidth\": 0, \"ticks\": \"\"}}, \"type\": \"histogram\"}], \"histogram2d\": [{\"colorbar\": {\"outlinewidth\": 0, \"ticks\": \"\"}, \"colorscale\": [[0.0, \"#0d0887\"], [0.1111111111111111, \"#46039f\"], [0.2222222222222222, \"#7201a8\"], [0.3333333333333333, \"#9c179e\"], [0.4444444444444444, \"#bd3786\"], [0.5555555555555556, \"#d8576b\"], [0.6666666666666666, \"#ed7953\"], [0.7777777777777778, \"#fb9f3a\"], [0.8888888888888888, \"#fdca26\"], [1.0, \"#f0f921\"]], \"type\": \"histogram2d\"}], \"histogram2dcontour\": [{\"colorbar\": {\"outlinewidth\": 0, \"ticks\": \"\"}, \"colorscale\": [[0.0, \"#0d0887\"], [0.1111111111111111, \"#46039f\"], [0.2222222222222222, \"#7201a8\"], [0.3333333333333333, \"#9c179e\"], [0.4444444444444444, \"#bd3786\"], [0.5555555555555556, \"#d8576b\"], [0.6666666666666666, \"#ed7953\"], [0.7777777777777778, \"#fb9f3a\"], [0.8888888888888888, \"#fdca26\"], [1.0, \"#f0f921\"]], \"type\": \"histogram2dcontour\"}], \"mesh3d\": [{\"colorbar\": {\"outlinewidth\": 0, \"ticks\": \"\"}, \"type\": \"mesh3d\"}], \"parcoords\": [{\"line\": {\"colorbar\": {\"outlinewidth\": 0, \"ticks\": \"\"}}, \"type\": \"parcoords\"}], \"pie\": [{\"automargin\": true, \"type\": \"pie\"}], \"scatter\": [{\"marker\": {\"colorbar\": {\"outlinewidth\": 0, \"ticks\": \"\"}}, \"type\": \"scatter\"}], \"scatter3d\": [{\"line\": {\"colorbar\": {\"outlinewidth\": 0, \"ticks\": \"\"}}, \"marker\": {\"colorbar\": {\"outlinewidth\": 0, \"ticks\": \"\"}}, \"type\": \"scatter3d\"}], \"scattercarpet\": [{\"marker\": {\"colorbar\": {\"outlinewidth\": 0, \"ticks\": \"\"}}, \"type\": \"scattercarpet\"}], \"scattergeo\": [{\"marker\": {\"colorbar\": {\"outlinewidth\": 0, \"ticks\": \"\"}}, \"type\": \"scattergeo\"}], \"scattergl\": [{\"marker\": {\"colorbar\": {\"outlinewidth\": 0, \"ticks\": \"\"}}, \"type\": \"scattergl\"}], \"scattermapbox\": [{\"marker\": {\"colorbar\": {\"outlinewidth\": 0, \"ticks\": \"\"}}, \"type\": \"scattermapbox\"}], \"scatterpolar\": [{\"marker\": {\"colorbar\": {\"outlinewidth\": 0, \"ticks\": \"\"}}, \"type\": \"scatterpolar\"}], \"scatterpolargl\": [{\"marker\": {\"colorbar\": {\"outlinewidth\": 0, \"ticks\": \"\"}}, \"type\": \"scatterpolargl\"}], \"scatterternary\": [{\"marker\": {\"colorbar\": {\"outlinewidth\": 0, \"ticks\": \"\"}}, \"type\": \"scatterternary\"}], \"surface\": [{\"colorbar\": {\"outlinewidth\": 0, \"ticks\": \"\"}, \"colorscale\": [[0.0, \"#0d0887\"], [0.1111111111111111, \"#46039f\"], [0.2222222222222222, \"#7201a8\"], [0.3333333333333333, \"#9c179e\"], [0.4444444444444444, \"#bd3786\"], [0.5555555555555556, \"#d8576b\"], [0.6666666666666666, \"#ed7953\"], [0.7777777777777778, \"#fb9f3a\"], [0.8888888888888888, \"#fdca26\"], [1.0, \"#f0f921\"]], \"type\": \"surface\"}], \"table\": [{\"cells\": {\"fill\": {\"color\": \"#EBF0F8\"}, \"line\": {\"color\": \"white\"}}, \"header\": {\"fill\": {\"color\": \"#C8D4E3\"}, \"line\": {\"color\": \"white\"}}, \"type\": \"table\"}]}, \"layout\": {\"annotationdefaults\": {\"arrowcolor\": \"#2a3f5f\", \"arrowhead\": 0, \"arrowwidth\": 1}, \"coloraxis\": {\"colorbar\": {\"outlinewidth\": 0, \"ticks\": \"\"}}, \"colorscale\": {\"diverging\": [[0, \"#8e0152\"], [0.1, \"#c51b7d\"], [0.2, \"#de77ae\"], [0.3, \"#f1b6da\"], [0.4, \"#fde0ef\"], [0.5, \"#f7f7f7\"], [0.6, \"#e6f5d0\"], [0.7, \"#b8e186\"], [0.8, \"#7fbc41\"], [0.9, \"#4d9221\"], [1, \"#276419\"]], \"sequential\": [[0.0, \"#0d0887\"], [0.1111111111111111, \"#46039f\"], [0.2222222222222222, \"#7201a8\"], [0.3333333333333333, \"#9c179e\"], [0.4444444444444444, \"#bd3786\"], [0.5555555555555556, \"#d8576b\"], [0.6666666666666666, \"#ed7953\"], [0.7777777777777778, \"#fb9f3a\"], [0.8888888888888888, \"#fdca26\"], [1.0, \"#f0f921\"]], \"sequentialminus\": [[0.0, \"#0d0887\"], [0.1111111111111111, \"#46039f\"], [0.2222222222222222, \"#7201a8\"], [0.3333333333333333, \"#9c179e\"], [0.4444444444444444, \"#bd3786\"], [0.5555555555555556, \"#d8576b\"], [0.6666666666666666, \"#ed7953\"], [0.7777777777777778, \"#fb9f3a\"], [0.8888888888888888, \"#fdca26\"], [1.0, \"#f0f921\"]]}, \"colorway\": [\"#636efa\", \"#EF553B\", \"#00cc96\", \"#ab63fa\", \"#FFA15A\", \"#19d3f3\", \"#FF6692\", \"#B6E880\", \"#FF97FF\", \"#FECB52\"], \"font\": {\"color\": \"#2a3f5f\"}, \"geo\": {\"bgcolor\": \"white\", \"lakecolor\": \"white\", \"landcolor\": \"#E5ECF6\", \"showlakes\": true, \"showland\": true, \"subunitcolor\": \"white\"}, \"hoverlabel\": {\"align\": \"left\"}, \"hovermode\": \"closest\", \"mapbox\": {\"style\": \"light\"}, \"paper_bgcolor\": \"white\", \"plot_bgcolor\": \"#E5ECF6\", \"polar\": {\"angularaxis\": {\"gridcolor\": \"white\", \"linecolor\": \"white\", \"ticks\": \"\"}, \"bgcolor\": \"#E5ECF6\", \"radialaxis\": {\"gridcolor\": \"white\", \"linecolor\": \"white\", \"ticks\": \"\"}}, \"scene\": {\"xaxis\": {\"backgroundcolor\": \"#E5ECF6\", \"gridcolor\": \"white\", \"gridwidth\": 2, \"linecolor\": \"white\", \"showbackground\": true, \"ticks\": \"\", \"zerolinecolor\": \"white\"}, \"yaxis\": {\"backgroundcolor\": \"#E5ECF6\", \"gridcolor\": \"white\", \"gridwidth\": 2, \"linecolor\": \"white\", \"showbackground\": true, \"ticks\": \"\", \"zerolinecolor\": \"white\"}, \"zaxis\": {\"backgroundcolor\": \"#E5ECF6\", \"gridcolor\": \"white\", \"gridwidth\": 2, \"linecolor\": \"white\", \"showbackground\": true, \"ticks\": \"\", \"zerolinecolor\": \"white\"}}, \"shapedefaults\": {\"line\": {\"color\": \"#2a3f5f\"}}, \"ternary\": {\"aaxis\": {\"gridcolor\": \"white\", \"linecolor\": \"white\", \"ticks\": \"\"}, \"baxis\": {\"gridcolor\": \"white\", \"linecolor\": \"white\", \"ticks\": \"\"}, \"bgcolor\": \"#E5ECF6\", \"caxis\": {\"gridcolor\": \"white\", \"linecolor\": \"white\", \"ticks\": \"\"}}, \"title\": {\"x\": 0.05}, \"xaxis\": {\"automargin\": true, \"gridcolor\": \"white\", \"linecolor\": \"white\", \"ticks\": \"\", \"title\": {\"standoff\": 15}, \"zerolinecolor\": \"white\", \"zerolinewidth\": 2}, \"yaxis\": {\"automargin\": true, \"gridcolor\": \"white\", \"linecolor\": \"white\", \"ticks\": \"\", \"title\": {\"standoff\": 15}, \"zerolinecolor\": \"white\", \"zerolinewidth\": 2}}}, \"title\": {\"text\": \"ASH by PHO\"}, \"width\": 670, \"xaxis\": {\"tickangle\": 45, \"title\": {\"text\": \"Quarterly Trends Rolling 12-month data period\"}, \"type\": \"category\"}, \"yaxis\": {\"tickformat\": \"P\", \"title\": {\"text\": \"% ASH Age standardised\"}}},\n",
       "                        {\"responsive\": true}\n",
       "                    ).then(function(){\n",
       "                            \n",
       "var gd = document.getElementById('58d4ec2a-0b9d-41fd-b31a-a0ecd4dfbc2d');\n",
       "var x = new MutationObserver(function (mutations, observer) {{\n",
       "        var display = window.getComputedStyle(gd).display;\n",
       "        if (!display || display === 'none') {{\n",
       "            console.log([gd, 'removed!']);\n",
       "            Plotly.purge(gd);\n",
       "            observer.disconnect();\n",
       "        }}\n",
       "}});\n",
       "\n",
       "// Listen for the removal of the full notebook cells\n",
       "var notebookContainer = gd.closest('#notebook-container');\n",
       "if (notebookContainer) {{\n",
       "    x.observe(notebookContainer, {childList: true});\n",
       "}}\n",
       "\n",
       "// Listen for the clearing of the current output cell\n",
       "var outputEl = gd.closest('.output');\n",
       "if (outputEl) {{\n",
       "    x.observe(outputEl, {childList: true});\n",
       "}}\n",
       "\n",
       "                        })\n",
       "                };\n",
       "                });\n",
       "            </script>\n",
       "        </div>"
      ]
     },
     "metadata": {},
     "output_type": "display_data"
    }
   ],
   "source": [
    "PHO = DHBPert[['Alliance_Health_Plus_Trust','Auckland_PHO_Limited','Comprehensive_Care', 'East_Health_Trust',\n",
    "               'National_Hauora_Coalition_Limited','Procare_Networks_Limited','Total_Healthcare_Charitable_Trust']]\n",
    "\n",
    "\n",
    "PHO=PHO.round(3)\n",
    "# Declare a list that is to be converted into a column \n",
    "Monthly = ['Mar_16','Jun_16', 'Mar_17','Jun_17','Mar_18','Jun_18','Mar_19', 'Jun_19','Mar_20','Jun_20'] \n",
    "PHO=PHO.dropna()\n",
    "# Using 'Address' as the column name \n",
    "# and equating it to the list \n",
    "PHO['Monthly'] = Monthly \n",
    "PHO=PHO.dropna()\n",
    "random_x = PHO[\"Monthly\"].tolist()\n",
    "# using to_numpy() \n",
    "random_y0 = PHO['Alliance_Health_Plus_Trust'].tolist()   \n",
    "\n",
    "random_y1 = PHO['Auckland_PHO_Limited'].tolist()  \n",
    "\n",
    "random_y2 = PHO['Comprehensive_Care'].tolist()   \n",
    "\n",
    "random_y3 = PHO['East_Health_Trust'].tolist() \n",
    "\n",
    "random_y4 = PHO['National_Hauora_Coalition_Limited'].tolist()\n",
    "\n",
    "random_y5 = PHO['Procare_Networks_Limited'].tolist()\n",
    "\n",
    "random_y6 = PHO['Total_Healthcare_Charitable_Trust'].tolist()\n",
    "#import 7umpy as np\n",
    "\n",
    "# Create traces\n",
    "fig = go.Figure()\n",
    "fig.add_trace(go.Scatter(x=random_x, y=random_y0,\n",
    "                    mode='lines+markers',\n",
    "                    name='Alliance_Health_Plus_Trust'))\n",
    "fig.add_trace(go.Scatter(x=random_x, y=random_y1,\n",
    "                    mode='lines+markers',\n",
    "                    name='Auckland_PHO_Limited'))\n",
    "fig.add_trace(go.Scatter(x=random_x, y=random_y2,\n",
    "                   mode='lines+markers',\n",
    "                    name='Comprehensive_Care'))\n",
    "fig.add_trace(go.Scatter(x=random_x, y=random_y3,\n",
    "                   mode='lines+markers',\n",
    "                    name='East_Health_Trust'))\n",
    "fig.add_trace(go.Scatter(x=random_x, y=random_y4,\n",
    "                   mode='lines+markers',\n",
    "                    name='National_Hauora_Coalition_Limited'))\n",
    "fig.add_trace(go.Scatter(x=random_x, y=random_y5,\n",
    "                   mode='lines+markers',\n",
    "                    name='Procare_Networks_Limited'))\n",
    "fig.add_trace(go.Scatter(x=random_x, y=random_y6,\n",
    "                   mode='lines+markers',\n",
    "                    name='Total_Healthcare_Charitable_Trust'))\n",
    "# Edit the layout\n",
    "#fig.update_layout(title='Pertusiss by Ethnicity',\n",
    "                   #xaxis_title='Quarter',\n",
    "                   #yaxis_title='Percentage')\n",
    "\n",
    "fig.update_layout(xaxis_type='category',\n",
    "                  title_text='ASH by PHO',\n",
    "                  xaxis_title='Quarterly Trends Rolling 12-month data period',\n",
    "                  yaxis_title='% ASH Age standardised')\n",
    "fig.update_xaxes(tickangle=45)\n",
    "fig.update_yaxes(tickformat=\"P\")\n",
    "#fig.update_layout(legend_orientation=\"h\")\n",
    "fig.update_layout(showlegend=True)\n",
    "fig.update_layout(autosize=False,\n",
    "                 width=670,\n",
    "                 height=400,)\n",
    "fig.show()\n",
    "plt.show()"
   ]
  },
  {
   "cell_type": "code",
   "execution_count": 130,
   "metadata": {},
   "outputs": [
    {
     "data": {
      "text/html": [
       "<style>\n",
       ".output {\n",
       "    align-items: center;\n",
       "}\n",
       "</style>"
      ],
      "text/plain": [
       "<IPython.core.display.HTML object>"
      ]
     },
     "execution_count": 130,
     "metadata": {},
     "output_type": "execute_result"
    }
   ],
   "source": [
    "from IPython.display import display, HTML\n",
    "\n",
    "CSS = \"\"\"\n",
    ".output {\n",
    "    align-items: center;\n",
    "}\n",
    "\"\"\"\n",
    "\n",
    "HTML('<style>{}</style>'.format(CSS))"
   ]
  },
  {
   "cell_type": "code",
   "execution_count": 131,
   "metadata": {},
   "outputs": [
    {
     "data": {
      "text/html": [
       "<script>\n",
       "code_show=true; \n",
       "function code_toggle() {\n",
       " if (code_show){\n",
       " $('div.input').hide();\n",
       " } else {\n",
       " $('div.input').show();\n",
       " }\n",
       " code_show = !code_show\n",
       "} \n",
       "$( document ).ready(code_toggle);\n",
       "</script>\n",
       "The raw code for this IPython notebook is by default hidden for easier reading.\n",
       "To toggle on/off the raw code, click <a href=\"javascript:code_toggle()\">here</a>."
      ],
      "text/plain": [
       "<IPython.core.display.HTML object>"
      ]
     },
     "execution_count": 131,
     "metadata": {},
     "output_type": "execute_result"
    }
   ],
   "source": [
    "from IPython.display import HTML\n",
    "HTML('''<script>\n",
    "code_show=true; \n",
    "function code_toggle() {\n",
    " if (code_show){\n",
    " $('div.input').hide();\n",
    " } else {\n",
    " $('div.input').show();\n",
    " }\n",
    " code_show = !code_show\n",
    "} \n",
    "$( document ).ready(code_toggle);\n",
    "</script>\n",
    "The raw code for this IPython notebook is by default hidden for easier reading.\n",
    "To toggle on/off the raw code, click <a href=\"javascript:code_toggle()\">here</a>.''')"
   ]
  },
  {
   "cell_type": "code",
   "execution_count": 133,
   "metadata": {},
   "outputs": [
    {
     "data": {
      "text/html": [
       "<a href=\"https://malmurrani.github.io/First_web/ASH04.html\">Right Click here. Select open in new tab. To go to pivot tables with more information.</a>"
      ],
      "text/plain": [
       "<IPython.core.display.HTML object>"
      ]
     },
     "metadata": {},
     "output_type": "display_data"
    }
   ],
   "source": [
    "from IPython.core.display import display, HTML\n",
    "display(HTML(\"\"\"<a href=\"https://malmurrani.github.io/First_web/ASH04v3.html\">Right Click here. Select open in new tab. To go to pivot tables with more information.</a>\"\"\"))"
   ]
  },
  {
   "cell_type": "code",
   "execution_count": null,
   "metadata": {},
   "outputs": [],
   "source": []
  }
 ],
 "metadata": {
  "hide_input": false,
  "kernelspec": {
   "display_name": "Python 3",
   "language": "python",
   "name": "python3"
  },
  "language_info": {
   "codemirror_mode": {
    "name": "ipython",
    "version": 3
   },
   "file_extension": ".py",
   "mimetype": "text/x-python",
   "name": "python",
   "nbconvert_exporter": "python",
   "pygments_lexer": "ipython3",
   "version": "3.7.3"
  },
  "latex_envs": {
   "LaTeX_envs_menu_present": true,
   "autoclose": false,
   "autocomplete": true,
   "bibliofile": "biblio.bib",
   "cite_by": "apalike",
   "current_citInitial": 1,
   "eqLabelWithNumbers": true,
   "eqNumInitial": 1,
   "hotkeys": {
    "equation": "Ctrl-E",
    "itemize": "Ctrl-I"
   },
   "labels_anchors": false,
   "latex_user_defs": false,
   "report_style_numbering": false,
   "user_envs_cfg": false
  }
 },
 "nbformat": 4,
 "nbformat_minor": 2
}
