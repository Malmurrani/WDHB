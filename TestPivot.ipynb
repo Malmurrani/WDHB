{
 "cells": [
  {
   "cell_type": "code",
   "execution_count": 9,
   "metadata": {},
   "outputs": [],
   "source": [
    "from IPython.display import HTML\n",
    "import json\n",
    "import pandas as pd"
   ]
  },
  {
   "cell_type": "code",
   "execution_count": 10,
   "metadata": {},
   "outputs": [
    {
     "data": {
      "text/html": [
       "<script>\n",
       "code_show=true; \n",
       "function code_toggle() {\n",
       " if (code_show){\n",
       " $('div.input').hide();\n",
       " } else {\n",
       " $('div.input').show();\n",
       " }\n",
       " code_show = !code_show\n",
       "} \n",
       "$( document ).ready(code_toggle);\n",
       "</script>\n",
       "The raw code for this IPython notebook is by default hidden for easier reading.\n",
       "To toggle on/off the raw code, click <a href=\"javascript:code_toggle()\">here</a>."
      ],
      "text/plain": [
       "<IPython.core.display.HTML object>"
      ]
     },
     "execution_count": 10,
     "metadata": {},
     "output_type": "execute_result"
    }
   ],
   "source": [
    "from IPython.display import HTML\n",
    "HTML('''<script>\n",
    "code_show=true; \n",
    "function code_toggle() {\n",
    " if (code_show){\n",
    " $('div.input').hide();\n",
    " } else {\n",
    " $('div.input').show();\n",
    " }\n",
    " code_show = !code_show\n",
    "} \n",
    "$( document ).ready(code_toggle);\n",
    "</script>\n",
    "The raw code for this IPython notebook is by default hidden for easier reading.\n",
    "To toggle on/off the raw code, click <a href=\"javascript:code_toggle()\">here</a>.''')"
   ]
  },
  {
   "cell_type": "code",
   "execution_count": 11,
   "metadata": {},
   "outputs": [],
   "source": [
    "def pivot(webdatarocks_json_object):\n",
    "    \n",
    "    code = '''\n",
    "      <link href=\"https://cdn.webdatarocks.com/latest/webdatarocks.min.css\" rel=\"stylesheet\"/>\n",
    "      <script src=\"https://cdn.webdatarocks.com/latest/webdatarocks.toolbar.min.js\"></script>\n",
    "      <script src=\"https://cdn.webdatarocks.com/latest/webdatarocks.js\"></script>\n",
    "      <h1>Table1</h1>\n",
    "      <div id=\"pivot-container1\"></div>\n",
    "      <script>\n",
    "      new WebDataRocks({0});\n",
    "      </script>\n",
    "      '''.format(webdatarocks_json_object)\n",
    "    return HTML(code)"
   ]
  },
  {
   "cell_type": "code",
   "execution_count": 13,
   "metadata": {},
   "outputs": [
    {
     "data": {
      "text/html": [
       "\n",
       "      <link href=\"https://cdn.webdatarocks.com/latest/webdatarocks.min.css\" rel=\"stylesheet\"/>\n",
       "      <script src=\"https://cdn.webdatarocks.com/latest/webdatarocks.toolbar.min.js\"></script>\n",
       "      <script src=\"https://cdn.webdatarocks.com/latest/webdatarocks.js\"></script>\n",
       "      <h1>Table1</h1>\n",
       "      <div id=\"pivot-container1\"></div>\n",
       "      <script>\n",
       "      new WebDataRocks({\"container\": \"#pivot-container1\", \"width\": \"50%\", \"height\": 200, \"toolbar\": true, \"report\": {\"dataSource\": {\"type\": \"json\", \"data\": [{\"Product\": \"Apple pie\", \"Quantity\": \"20\"}, {\"Product\": \"Lemon cake\", \"Quantity\": \"30\"}]}, \"slice\": {\"rows\": [{\"uniqueName\": \"Product\"}], \"columns\": [{\"uniqueName\": \"[Measures]\"}], \"measures\": [{\"uniqueName\": \"Quantity\", \"aggregation\": \"sum\"}]}}});\n",
       "      </script>\n",
       "      "
      ],
      "text/plain": [
       "<IPython.core.display.HTML object>"
      ]
     },
     "execution_count": 13,
     "metadata": {},
     "output_type": "execute_result"
    }
   ],
   "source": [
    "import pandas as pd\n",
    "df = pd.DataFrame([['Apple pie', '20'], ['Lemon cake', '30']], index=['row 1', 'row 2'], columns=['Product', 'Quantity'])\n",
    "json_data = df.to_json(orient='records')\n",
    "\n",
    "\n",
    "\n",
    "# Define WebDataRocks\n",
    "\n",
    "webdatarocks = {\n",
    "    \"container\": \"#pivot-container1\",\n",
    "    \"width\": \"50%\",\n",
    "    \"height\": 200,\n",
    "    \"toolbar\": True,\n",
    "    \"report\": {\n",
    "        \"dataSource\": {\n",
    "            \"type\": \"json\",\n",
    "            \"data\": json.loads(json_data)\n",
    "        },\n",
    "        \"slice\": {\n",
    "            \"rows\": [\n",
    "                {\n",
    "                    \"uniqueName\": \"Product\"\n",
    "                }\n",
    "            ],\n",
    "            \"columns\": [\n",
    "                {\n",
    "                    \"uniqueName\": \"[Measures]\"\n",
    "                }\n",
    "            ],\n",
    "            \"measures\": [\n",
    "                {\n",
    "                    \"uniqueName\": \"Quantity\",\n",
    "                    \"aggregation\": \"sum\"\n",
    "                }\n",
    "            ]\n",
    "        }\n",
    "    }\n",
    "}\n",
    "\n",
    "\n",
    "# convert into JSON:\n",
    "webdatarocks_json_object = json.dumps(webdatarocks)\n",
    "\n",
    "# display:\n",
    "pivot(webdatarocks_json_object)"
   ]
  },
  {
   "cell_type": "code",
   "execution_count": null,
   "metadata": {},
   "outputs": [],
   "source": []
  }
 ],
 "metadata": {
  "hide_input": false,
  "kernelspec": {
   "display_name": "Python 3",
   "language": "python",
   "name": "python3"
  },
  "language_info": {
   "codemirror_mode": {
    "name": "ipython",
    "version": 3
   },
   "file_extension": ".py",
   "mimetype": "text/x-python",
   "name": "python",
   "nbconvert_exporter": "python",
   "pygments_lexer": "ipython3",
   "version": "3.7.3"
  },
  "latex_envs": {
   "LaTeX_envs_menu_present": true,
   "autoclose": false,
   "autocomplete": true,
   "bibliofile": "biblio.bib",
   "cite_by": "apalike",
   "current_citInitial": 1,
   "eqLabelWithNumbers": true,
   "eqNumInitial": 1,
   "hotkeys": {
    "equation": "Ctrl-E",
    "itemize": "Ctrl-I"
   },
   "labels_anchors": false,
   "latex_user_defs": false,
   "report_style_numbering": false,
   "user_envs_cfg": false
  }
 },
 "nbformat": 4,
 "nbformat_minor": 2
}
