{
 "cells": [
  {
   "cell_type": "markdown",
   "metadata": {},
   "source": [
    "# <center>Pertussis Vaccination in Pregnancy</center>"
   ]
  },
  {
   "cell_type": "code",
   "execution_count": 29,
   "metadata": {},
   "outputs": [
    {
     "data": {
      "text/markdown": [
       "Coverage report to 31st of March 2020"
      ],
      "text/plain": [
       "<IPython.core.display.Markdown object>"
      ]
     },
     "metadata": {},
     "output_type": "display_data"
    }
   ],
   "source": [
    "import pandas as pd\n",
    "import matplotlib.pyplot as plt\n",
    "import plotly.graph_objects as go\n",
    "import numpy as np\n",
    "from openpyxl import load_workbook\n",
    "#workbook = load_workbook(filename=\"F:\\Seagate Backup Plus Drive/Test1.xlsx\")\n",
    "workbook = load_workbook(filename=\"G:\\Funding Team\\Planning\\Health Information\\HIAT\\Michael Files\\Antinatal Vaccination\\April 2019 to March 2020\\For Python.xlsx\")\n",
    "#sheet.active = 1\n",
    "sheet3 = workbook[\"Text\"]\n",
    "#sheet3['A1'].value\n",
    "from IPython.display import Markdown, display\n",
    "def printmd(string):\n",
    "    display(Markdown(string))\n",
    "printmd(sheet3['A1'].value)\n"
   ]
  },
  {
   "cell_type": "code",
   "execution_count": 2,
   "metadata": {},
   "outputs": [
    {
     "data": {
      "text/plain": [
       "'This following summary assesses pertussis vaccination coverage in women giving birth in the 12 months to the 31st of March 2020 with DHB level trends from January 2016.  National Health Index Numbers (NHI) of women giving birth in Auckland District Health Board (DHB), Counties Manukau DHB or Waitematā DHB hospitals were matched to completed vaccination data held on the National Immunisation Register (NIR).  A pertussis vaccination is counted as being received if the vaccination was given within 28 weeks prior to giving birth. Vaccinations that were given but not entered into the NIR will not be included also vaccinations given overseas or by providers outside of the Auckland Metro Region may also not be included.'"
      ]
     },
     "execution_count": 2,
     "metadata": {},
     "output_type": "execute_result"
    }
   ],
   "source": [
    "sheet3['A3'].value"
   ]
  },
  {
   "cell_type": "markdown",
   "metadata": {},
   "source": [
    "## Coverage by District Health Board"
   ]
  },
  {
   "cell_type": "code",
   "execution_count": 5,
   "metadata": {},
   "outputs": [
    {
     "data": {
      "text/plain": [
       "'The highest vaccination coverage rates (12 month period) are seen among Women domiciled in Auckland DHB (60.9%), followed by Waitematā DHB (54.8%) and Counties Manukau DHB (42.8%). The below graph is coverage by month of birth.'"
      ]
     },
     "execution_count": 5,
     "metadata": {},
     "output_type": "execute_result"
    }
   ],
   "source": [
    "sheet3['A5'].value"
   ]
  },
  {
   "cell_type": "code",
   "execution_count": 6,
   "metadata": {},
   "outputs": [
    {
     "data": {
      "text/html": [
       "        <script type=\"text/javascript\">\n",
       "        window.PlotlyConfig = {MathJaxConfig: 'local'};\n",
       "        if (window.MathJax) {MathJax.Hub.Config({SVG: {font: \"STIX-Web\"}});}\n",
       "        if (typeof require !== 'undefined') {\n",
       "        require.undef(\"plotly\");\n",
       "        requirejs.config({\n",
       "            paths: {\n",
       "                'plotly': ['https://cdn.plot.ly/plotly-latest.min']\n",
       "            }\n",
       "        });\n",
       "        require(['plotly'], function(Plotly) {\n",
       "            window._Plotly = Plotly;\n",
       "        });\n",
       "        }\n",
       "        </script>\n",
       "        "
      ]
     },
     "metadata": {},
     "output_type": "display_data"
    },
    {
     "data": {
      "application/vnd.plotly.v1+json": {
       "config": {
        "plotlyServerURL": "https://plotly.your-company.com"
       },
       "data": [
        {
         "mode": "lines+markers",
         "name": "Counties_Manukau",
         "type": "scatter",
         "x": [
          "Jan_16",
          "Feb_16",
          "Mar_16",
          "Apr_16",
          "May_16",
          "Jun_16",
          "Jul_16",
          "Aug_16",
          "Sep_16",
          "Oct_16",
          "Nov_16",
          "Dec_16",
          "Jan_17",
          "Feb_17",
          "Mar_17",
          "Apr_17",
          "May_17",
          "Jun_17",
          "Jul_17",
          "Aug_17",
          "Sep_17",
          "Oct_17",
          "Nov_17",
          "Dec_17",
          "Jan_18",
          "Feb_18",
          "Mar_18",
          "Apr_18",
          "May_18",
          "Jun_18",
          "Jul_18",
          "Aug_18",
          "Sep_18",
          "Oct_18",
          "Nov_18",
          "Dec_18",
          "Jan_19",
          "Feb_19",
          "Mar_19",
          "Apr_19",
          "May_19",
          "Jun_19",
          "Jul_19",
          "Aug_19",
          "Sep_19",
          "Oct_19",
          "Nov_19",
          "Dec_19",
          "Jan_20",
          "Feb_20",
          "Mar_20"
         ],
         "y": [
          0.117,
          0.109,
          0.123,
          0.142,
          0.18,
          0.193,
          0.186,
          0.24,
          0.229,
          0.252,
          0.226,
          0.188,
          0.206,
          0.168,
          0.231,
          0.253,
          0.308,
          0.313,
          0.344,
          0.311,
          0.313,
          0.27,
          0.292,
          0.253,
          0.315,
          0.329,
          0.343,
          0.395,
          0.395,
          0.375,
          0.415,
          0.363,
          0.383,
          0.418,
          0.399,
          0.399,
          0.393,
          0.366,
          0.395,
          0.475,
          0.418,
          0.422,
          0.415,
          0.435,
          0.475,
          0.43,
          0.43,
          0.393,
          0.396,
          0.396,
          0.445
         ]
        },
        {
         "mode": "lines+markers",
         "name": "Auckland",
         "type": "scatter",
         "x": [
          "Jan_16",
          "Feb_16",
          "Mar_16",
          "Apr_16",
          "May_16",
          "Jun_16",
          "Jul_16",
          "Aug_16",
          "Sep_16",
          "Oct_16",
          "Nov_16",
          "Dec_16",
          "Jan_17",
          "Feb_17",
          "Mar_17",
          "Apr_17",
          "May_17",
          "Jun_17",
          "Jul_17",
          "Aug_17",
          "Sep_17",
          "Oct_17",
          "Nov_17",
          "Dec_17",
          "Jan_18",
          "Feb_18",
          "Mar_18",
          "Apr_18",
          "May_18",
          "Jun_18",
          "Jul_18",
          "Aug_18",
          "Sep_18",
          "Oct_18",
          "Nov_18",
          "Dec_18",
          "Jan_19",
          "Feb_19",
          "Mar_19",
          "Apr_19",
          "May_19",
          "Jun_19",
          "Jul_19",
          "Aug_19",
          "Sep_19",
          "Oct_19",
          "Nov_19",
          "Dec_19",
          "Jan_20",
          "Feb_20",
          "Mar_20"
         ],
         "y": [
          0.231,
          0.259,
          0.286,
          0.331,
          0.355,
          0.36,
          0.391,
          0.393,
          0.44,
          0.443,
          0.436,
          0.425,
          0.462,
          0.376,
          0.415,
          0.416,
          0.487,
          0.501,
          0.493,
          0.508,
          0.456,
          0.499,
          0.529,
          0.519,
          0.491,
          0.523,
          0.489,
          0.511,
          0.545,
          0.587,
          0.555,
          0.545,
          0.54,
          0.535,
          0.538,
          0.529,
          0.533,
          0.519,
          0.564,
          0.615,
          0.644,
          0.623,
          0.605,
          0.622,
          0.63,
          0.582,
          0.59,
          0.606,
          0.598,
          0.607,
          0.59
         ]
        },
        {
         "mode": "lines+markers",
         "name": "Waitemata",
         "type": "scatter",
         "x": [
          "Jan_16",
          "Feb_16",
          "Mar_16",
          "Apr_16",
          "May_16",
          "Jun_16",
          "Jul_16",
          "Aug_16",
          "Sep_16",
          "Oct_16",
          "Nov_16",
          "Dec_16",
          "Jan_17",
          "Feb_17",
          "Mar_17",
          "Apr_17",
          "May_17",
          "Jun_17",
          "Jul_17",
          "Aug_17",
          "Sep_17",
          "Oct_17",
          "Nov_17",
          "Dec_17",
          "Jan_18",
          "Feb_18",
          "Mar_18",
          "Apr_18",
          "May_18",
          "Jun_18",
          "Jul_18",
          "Aug_18",
          "Sep_18",
          "Oct_18",
          "Nov_18",
          "Dec_18",
          "Jan_19",
          "Feb_19",
          "Mar_19",
          "Apr_19",
          "May_19",
          "Jun_19",
          "Jul_19",
          "Aug_19",
          "Sep_19",
          "Oct_19",
          "Nov_19",
          "Dec_19",
          "Jan_20",
          "Feb_20",
          "Mar_20"
         ],
         "y": [
          0.192,
          0.19,
          0.153,
          0.237,
          0.254,
          0.259,
          0.299,
          0.331,
          0.329,
          0.318,
          0.324,
          0.365,
          0.34,
          0.313,
          0.339,
          0.357,
          0.421,
          0.473,
          0.411,
          0.423,
          0.403,
          0.428,
          0.447,
          0.393,
          0.435,
          0.471,
          0.482,
          0.488,
          0.521,
          0.479,
          0.555,
          0.481,
          0.511,
          0.504,
          0.546,
          0.527,
          0.476,
          0.486,
          0.509,
          0.564,
          0.569,
          0.53,
          0.577,
          0.524,
          0.586,
          0.554,
          0.538,
          0.536,
          0.52,
          0.533,
          0.543
         ]
        }
       ],
       "layout": {
        "autosize": false,
        "height": 400,
        "showlegend": true,
        "template": {
         "data": {
          "bar": [
           {
            "error_x": {
             "color": "#2a3f5f"
            },
            "error_y": {
             "color": "#2a3f5f"
            },
            "marker": {
             "line": {
              "color": "#E5ECF6",
              "width": 0.5
             }
            },
            "type": "bar"
           }
          ],
          "barpolar": [
           {
            "marker": {
             "line": {
              "color": "#E5ECF6",
              "width": 0.5
             }
            },
            "type": "barpolar"
           }
          ],
          "carpet": [
           {
            "aaxis": {
             "endlinecolor": "#2a3f5f",
             "gridcolor": "white",
             "linecolor": "white",
             "minorgridcolor": "white",
             "startlinecolor": "#2a3f5f"
            },
            "baxis": {
             "endlinecolor": "#2a3f5f",
             "gridcolor": "white",
             "linecolor": "white",
             "minorgridcolor": "white",
             "startlinecolor": "#2a3f5f"
            },
            "type": "carpet"
           }
          ],
          "choropleth": [
           {
            "colorbar": {
             "outlinewidth": 0,
             "ticks": ""
            },
            "type": "choropleth"
           }
          ],
          "contour": [
           {
            "colorbar": {
             "outlinewidth": 0,
             "ticks": ""
            },
            "colorscale": [
             [
              0,
              "#0d0887"
             ],
             [
              0.1111111111111111,
              "#46039f"
             ],
             [
              0.2222222222222222,
              "#7201a8"
             ],
             [
              0.3333333333333333,
              "#9c179e"
             ],
             [
              0.4444444444444444,
              "#bd3786"
             ],
             [
              0.5555555555555556,
              "#d8576b"
             ],
             [
              0.6666666666666666,
              "#ed7953"
             ],
             [
              0.7777777777777778,
              "#fb9f3a"
             ],
             [
              0.8888888888888888,
              "#fdca26"
             ],
             [
              1,
              "#f0f921"
             ]
            ],
            "type": "contour"
           }
          ],
          "contourcarpet": [
           {
            "colorbar": {
             "outlinewidth": 0,
             "ticks": ""
            },
            "type": "contourcarpet"
           }
          ],
          "heatmap": [
           {
            "colorbar": {
             "outlinewidth": 0,
             "ticks": ""
            },
            "colorscale": [
             [
              0,
              "#0d0887"
             ],
             [
              0.1111111111111111,
              "#46039f"
             ],
             [
              0.2222222222222222,
              "#7201a8"
             ],
             [
              0.3333333333333333,
              "#9c179e"
             ],
             [
              0.4444444444444444,
              "#bd3786"
             ],
             [
              0.5555555555555556,
              "#d8576b"
             ],
             [
              0.6666666666666666,
              "#ed7953"
             ],
             [
              0.7777777777777778,
              "#fb9f3a"
             ],
             [
              0.8888888888888888,
              "#fdca26"
             ],
             [
              1,
              "#f0f921"
             ]
            ],
            "type": "heatmap"
           }
          ],
          "heatmapgl": [
           {
            "colorbar": {
             "outlinewidth": 0,
             "ticks": ""
            },
            "colorscale": [
             [
              0,
              "#0d0887"
             ],
             [
              0.1111111111111111,
              "#46039f"
             ],
             [
              0.2222222222222222,
              "#7201a8"
             ],
             [
              0.3333333333333333,
              "#9c179e"
             ],
             [
              0.4444444444444444,
              "#bd3786"
             ],
             [
              0.5555555555555556,
              "#d8576b"
             ],
             [
              0.6666666666666666,
              "#ed7953"
             ],
             [
              0.7777777777777778,
              "#fb9f3a"
             ],
             [
              0.8888888888888888,
              "#fdca26"
             ],
             [
              1,
              "#f0f921"
             ]
            ],
            "type": "heatmapgl"
           }
          ],
          "histogram": [
           {
            "marker": {
             "colorbar": {
              "outlinewidth": 0,
              "ticks": ""
             }
            },
            "type": "histogram"
           }
          ],
          "histogram2d": [
           {
            "colorbar": {
             "outlinewidth": 0,
             "ticks": ""
            },
            "colorscale": [
             [
              0,
              "#0d0887"
             ],
             [
              0.1111111111111111,
              "#46039f"
             ],
             [
              0.2222222222222222,
              "#7201a8"
             ],
             [
              0.3333333333333333,
              "#9c179e"
             ],
             [
              0.4444444444444444,
              "#bd3786"
             ],
             [
              0.5555555555555556,
              "#d8576b"
             ],
             [
              0.6666666666666666,
              "#ed7953"
             ],
             [
              0.7777777777777778,
              "#fb9f3a"
             ],
             [
              0.8888888888888888,
              "#fdca26"
             ],
             [
              1,
              "#f0f921"
             ]
            ],
            "type": "histogram2d"
           }
          ],
          "histogram2dcontour": [
           {
            "colorbar": {
             "outlinewidth": 0,
             "ticks": ""
            },
            "colorscale": [
             [
              0,
              "#0d0887"
             ],
             [
              0.1111111111111111,
              "#46039f"
             ],
             [
              0.2222222222222222,
              "#7201a8"
             ],
             [
              0.3333333333333333,
              "#9c179e"
             ],
             [
              0.4444444444444444,
              "#bd3786"
             ],
             [
              0.5555555555555556,
              "#d8576b"
             ],
             [
              0.6666666666666666,
              "#ed7953"
             ],
             [
              0.7777777777777778,
              "#fb9f3a"
             ],
             [
              0.8888888888888888,
              "#fdca26"
             ],
             [
              1,
              "#f0f921"
             ]
            ],
            "type": "histogram2dcontour"
           }
          ],
          "mesh3d": [
           {
            "colorbar": {
             "outlinewidth": 0,
             "ticks": ""
            },
            "type": "mesh3d"
           }
          ],
          "parcoords": [
           {
            "line": {
             "colorbar": {
              "outlinewidth": 0,
              "ticks": ""
             }
            },
            "type": "parcoords"
           }
          ],
          "pie": [
           {
            "automargin": true,
            "type": "pie"
           }
          ],
          "scatter": [
           {
            "marker": {
             "colorbar": {
              "outlinewidth": 0,
              "ticks": ""
             }
            },
            "type": "scatter"
           }
          ],
          "scatter3d": [
           {
            "line": {
             "colorbar": {
              "outlinewidth": 0,
              "ticks": ""
             }
            },
            "marker": {
             "colorbar": {
              "outlinewidth": 0,
              "ticks": ""
             }
            },
            "type": "scatter3d"
           }
          ],
          "scattercarpet": [
           {
            "marker": {
             "colorbar": {
              "outlinewidth": 0,
              "ticks": ""
             }
            },
            "type": "scattercarpet"
           }
          ],
          "scattergeo": [
           {
            "marker": {
             "colorbar": {
              "outlinewidth": 0,
              "ticks": ""
             }
            },
            "type": "scattergeo"
           }
          ],
          "scattergl": [
           {
            "marker": {
             "colorbar": {
              "outlinewidth": 0,
              "ticks": ""
             }
            },
            "type": "scattergl"
           }
          ],
          "scattermapbox": [
           {
            "marker": {
             "colorbar": {
              "outlinewidth": 0,
              "ticks": ""
             }
            },
            "type": "scattermapbox"
           }
          ],
          "scatterpolar": [
           {
            "marker": {
             "colorbar": {
              "outlinewidth": 0,
              "ticks": ""
             }
            },
            "type": "scatterpolar"
           }
          ],
          "scatterpolargl": [
           {
            "marker": {
             "colorbar": {
              "outlinewidth": 0,
              "ticks": ""
             }
            },
            "type": "scatterpolargl"
           }
          ],
          "scatterternary": [
           {
            "marker": {
             "colorbar": {
              "outlinewidth": 0,
              "ticks": ""
             }
            },
            "type": "scatterternary"
           }
          ],
          "surface": [
           {
            "colorbar": {
             "outlinewidth": 0,
             "ticks": ""
            },
            "colorscale": [
             [
              0,
              "#0d0887"
             ],
             [
              0.1111111111111111,
              "#46039f"
             ],
             [
              0.2222222222222222,
              "#7201a8"
             ],
             [
              0.3333333333333333,
              "#9c179e"
             ],
             [
              0.4444444444444444,
              "#bd3786"
             ],
             [
              0.5555555555555556,
              "#d8576b"
             ],
             [
              0.6666666666666666,
              "#ed7953"
             ],
             [
              0.7777777777777778,
              "#fb9f3a"
             ],
             [
              0.8888888888888888,
              "#fdca26"
             ],
             [
              1,
              "#f0f921"
             ]
            ],
            "type": "surface"
           }
          ],
          "table": [
           {
            "cells": {
             "fill": {
              "color": "#EBF0F8"
             },
             "line": {
              "color": "white"
             }
            },
            "header": {
             "fill": {
              "color": "#C8D4E3"
             },
             "line": {
              "color": "white"
             }
            },
            "type": "table"
           }
          ]
         },
         "layout": {
          "annotationdefaults": {
           "arrowcolor": "#2a3f5f",
           "arrowhead": 0,
           "arrowwidth": 1
          },
          "coloraxis": {
           "colorbar": {
            "outlinewidth": 0,
            "ticks": ""
           }
          },
          "colorscale": {
           "diverging": [
            [
             0,
             "#8e0152"
            ],
            [
             0.1,
             "#c51b7d"
            ],
            [
             0.2,
             "#de77ae"
            ],
            [
             0.3,
             "#f1b6da"
            ],
            [
             0.4,
             "#fde0ef"
            ],
            [
             0.5,
             "#f7f7f7"
            ],
            [
             0.6,
             "#e6f5d0"
            ],
            [
             0.7,
             "#b8e186"
            ],
            [
             0.8,
             "#7fbc41"
            ],
            [
             0.9,
             "#4d9221"
            ],
            [
             1,
             "#276419"
            ]
           ],
           "sequential": [
            [
             0,
             "#0d0887"
            ],
            [
             0.1111111111111111,
             "#46039f"
            ],
            [
             0.2222222222222222,
             "#7201a8"
            ],
            [
             0.3333333333333333,
             "#9c179e"
            ],
            [
             0.4444444444444444,
             "#bd3786"
            ],
            [
             0.5555555555555556,
             "#d8576b"
            ],
            [
             0.6666666666666666,
             "#ed7953"
            ],
            [
             0.7777777777777778,
             "#fb9f3a"
            ],
            [
             0.8888888888888888,
             "#fdca26"
            ],
            [
             1,
             "#f0f921"
            ]
           ],
           "sequentialminus": [
            [
             0,
             "#0d0887"
            ],
            [
             0.1111111111111111,
             "#46039f"
            ],
            [
             0.2222222222222222,
             "#7201a8"
            ],
            [
             0.3333333333333333,
             "#9c179e"
            ],
            [
             0.4444444444444444,
             "#bd3786"
            ],
            [
             0.5555555555555556,
             "#d8576b"
            ],
            [
             0.6666666666666666,
             "#ed7953"
            ],
            [
             0.7777777777777778,
             "#fb9f3a"
            ],
            [
             0.8888888888888888,
             "#fdca26"
            ],
            [
             1,
             "#f0f921"
            ]
           ]
          },
          "colorway": [
           "#636efa",
           "#EF553B",
           "#00cc96",
           "#ab63fa",
           "#FFA15A",
           "#19d3f3",
           "#FF6692",
           "#B6E880",
           "#FF97FF",
           "#FECB52"
          ],
          "font": {
           "color": "#2a3f5f"
          },
          "geo": {
           "bgcolor": "white",
           "lakecolor": "white",
           "landcolor": "#E5ECF6",
           "showlakes": true,
           "showland": true,
           "subunitcolor": "white"
          },
          "hoverlabel": {
           "align": "left"
          },
          "hovermode": "closest",
          "mapbox": {
           "style": "light"
          },
          "paper_bgcolor": "white",
          "plot_bgcolor": "#E5ECF6",
          "polar": {
           "angularaxis": {
            "gridcolor": "white",
            "linecolor": "white",
            "ticks": ""
           },
           "bgcolor": "#E5ECF6",
           "radialaxis": {
            "gridcolor": "white",
            "linecolor": "white",
            "ticks": ""
           }
          },
          "scene": {
           "xaxis": {
            "backgroundcolor": "#E5ECF6",
            "gridcolor": "white",
            "gridwidth": 2,
            "linecolor": "white",
            "showbackground": true,
            "ticks": "",
            "zerolinecolor": "white"
           },
           "yaxis": {
            "backgroundcolor": "#E5ECF6",
            "gridcolor": "white",
            "gridwidth": 2,
            "linecolor": "white",
            "showbackground": true,
            "ticks": "",
            "zerolinecolor": "white"
           },
           "zaxis": {
            "backgroundcolor": "#E5ECF6",
            "gridcolor": "white",
            "gridwidth": 2,
            "linecolor": "white",
            "showbackground": true,
            "ticks": "",
            "zerolinecolor": "white"
           }
          },
          "shapedefaults": {
           "line": {
            "color": "#2a3f5f"
           }
          },
          "ternary": {
           "aaxis": {
            "gridcolor": "white",
            "linecolor": "white",
            "ticks": ""
           },
           "baxis": {
            "gridcolor": "white",
            "linecolor": "white",
            "ticks": ""
           },
           "bgcolor": "#E5ECF6",
           "caxis": {
            "gridcolor": "white",
            "linecolor": "white",
            "ticks": ""
           }
          },
          "title": {
           "x": 0.05
          },
          "xaxis": {
           "automargin": true,
           "gridcolor": "white",
           "linecolor": "white",
           "ticks": "",
           "title": {
            "standoff": 15
           },
           "zerolinecolor": "white",
           "zerolinewidth": 2
          },
          "yaxis": {
           "automargin": true,
           "gridcolor": "white",
           "linecolor": "white",
           "ticks": "",
           "title": {
            "standoff": 15
           },
           "zerolinecolor": "white",
           "zerolinewidth": 2
          }
         }
        },
        "title": {
         "text": "Pertusiss by DHB"
        },
        "width": 670,
        "xaxis": {
         "tickangle": 45,
         "title": {
          "text": "Monthly"
         },
         "type": "category"
        },
        "yaxis": {
         "tickformat": "%",
         "title": {
          "text": "Percentage"
         }
        }
       }
      },
      "text/html": [
       "<div>\n",
       "        \n",
       "        \n",
       "            <div id=\"e324454b-93ea-4573-a1b0-74c42cdb0091\" class=\"plotly-graph-div\" style=\"height:400px; width:670px;\"></div>\n",
       "            <script type=\"text/javascript\">\n",
       "                require([\"plotly\"], function(Plotly) {\n",
       "                    window.PLOTLYENV=window.PLOTLYENV || {};\n",
       "                    \n",
       "                if (document.getElementById(\"e324454b-93ea-4573-a1b0-74c42cdb0091\")) {\n",
       "                    Plotly.newPlot(\n",
       "                        'e324454b-93ea-4573-a1b0-74c42cdb0091',\n",
       "                        [{\"mode\": \"lines+markers\", \"name\": \"Counties_Manukau\", \"type\": \"scatter\", \"x\": [\"Jan_16\", \"Feb_16\", \"Mar_16\", \"Apr_16\", \"May_16\", \"Jun_16\", \"Jul_16\", \"Aug_16\", \"Sep_16\", \"Oct_16\", \"Nov_16\", \"Dec_16\", \"Jan_17\", \"Feb_17\", \"Mar_17\", \"Apr_17\", \"May_17\", \"Jun_17\", \"Jul_17\", \"Aug_17\", \"Sep_17\", \"Oct_17\", \"Nov_17\", \"Dec_17\", \"Jan_18\", \"Feb_18\", \"Mar_18\", \"Apr_18\", \"May_18\", \"Jun_18\", \"Jul_18\", \"Aug_18\", \"Sep_18\", \"Oct_18\", \"Nov_18\", \"Dec_18\", \"Jan_19\", \"Feb_19\", \"Mar_19\", \"Apr_19\", \"May_19\", \"Jun_19\", \"Jul_19\", \"Aug_19\", \"Sep_19\", \"Oct_19\", \"Nov_19\", \"Dec_19\", \"Jan_20\", \"Feb_20\", \"Mar_20\"], \"y\": [0.117, 0.109, 0.123, 0.142, 0.18, 0.193, 0.186, 0.24, 0.229, 0.252, 0.226, 0.188, 0.206, 0.168, 0.231, 0.253, 0.308, 0.313, 0.344, 0.311, 0.313, 0.27, 0.292, 0.253, 0.315, 0.329, 0.343, 0.395, 0.395, 0.375, 0.415, 0.363, 0.383, 0.418, 0.399, 0.399, 0.393, 0.366, 0.395, 0.475, 0.418, 0.422, 0.415, 0.435, 0.475, 0.43, 0.43, 0.393, 0.396, 0.396, 0.445]}, {\"mode\": \"lines+markers\", \"name\": \"Auckland\", \"type\": \"scatter\", \"x\": [\"Jan_16\", \"Feb_16\", \"Mar_16\", \"Apr_16\", \"May_16\", \"Jun_16\", \"Jul_16\", \"Aug_16\", \"Sep_16\", \"Oct_16\", \"Nov_16\", \"Dec_16\", \"Jan_17\", \"Feb_17\", \"Mar_17\", \"Apr_17\", \"May_17\", \"Jun_17\", \"Jul_17\", \"Aug_17\", \"Sep_17\", \"Oct_17\", \"Nov_17\", \"Dec_17\", \"Jan_18\", \"Feb_18\", \"Mar_18\", \"Apr_18\", \"May_18\", \"Jun_18\", \"Jul_18\", \"Aug_18\", \"Sep_18\", \"Oct_18\", \"Nov_18\", \"Dec_18\", \"Jan_19\", \"Feb_19\", \"Mar_19\", \"Apr_19\", \"May_19\", \"Jun_19\", \"Jul_19\", \"Aug_19\", \"Sep_19\", \"Oct_19\", \"Nov_19\", \"Dec_19\", \"Jan_20\", \"Feb_20\", \"Mar_20\"], \"y\": [0.231, 0.259, 0.286, 0.331, 0.355, 0.36, 0.391, 0.393, 0.44, 0.443, 0.436, 0.425, 0.462, 0.376, 0.415, 0.416, 0.487, 0.501, 0.493, 0.508, 0.456, 0.499, 0.529, 0.519, 0.491, 0.523, 0.489, 0.511, 0.545, 0.587, 0.555, 0.545, 0.54, 0.535, 0.538, 0.529, 0.533, 0.519, 0.564, 0.615, 0.644, 0.623, 0.605, 0.622, 0.63, 0.582, 0.59, 0.606, 0.598, 0.607, 0.59]}, {\"mode\": \"lines+markers\", \"name\": \"Waitemata\", \"type\": \"scatter\", \"x\": [\"Jan_16\", \"Feb_16\", \"Mar_16\", \"Apr_16\", \"May_16\", \"Jun_16\", \"Jul_16\", \"Aug_16\", \"Sep_16\", \"Oct_16\", \"Nov_16\", \"Dec_16\", \"Jan_17\", \"Feb_17\", \"Mar_17\", \"Apr_17\", \"May_17\", \"Jun_17\", \"Jul_17\", \"Aug_17\", \"Sep_17\", \"Oct_17\", \"Nov_17\", \"Dec_17\", \"Jan_18\", \"Feb_18\", \"Mar_18\", \"Apr_18\", \"May_18\", \"Jun_18\", \"Jul_18\", \"Aug_18\", \"Sep_18\", \"Oct_18\", \"Nov_18\", \"Dec_18\", \"Jan_19\", \"Feb_19\", \"Mar_19\", \"Apr_19\", \"May_19\", \"Jun_19\", \"Jul_19\", \"Aug_19\", \"Sep_19\", \"Oct_19\", \"Nov_19\", \"Dec_19\", \"Jan_20\", \"Feb_20\", \"Mar_20\"], \"y\": [0.192, 0.19, 0.153, 0.237, 0.254, 0.259, 0.299, 0.331, 0.329, 0.318, 0.324, 0.365, 0.34, 0.313, 0.339, 0.357, 0.421, 0.473, 0.411, 0.423, 0.403, 0.428, 0.447, 0.393, 0.435, 0.471, 0.482, 0.488, 0.521, 0.479, 0.555, 0.481, 0.511, 0.504, 0.546, 0.527, 0.476, 0.486, 0.509, 0.564, 0.569, 0.53, 0.577, 0.524, 0.586, 0.554, 0.538, 0.536, 0.52, 0.533, 0.543]}],\n",
       "                        {\"autosize\": false, \"height\": 400, \"showlegend\": true, \"template\": {\"data\": {\"bar\": [{\"error_x\": {\"color\": \"#2a3f5f\"}, \"error_y\": {\"color\": \"#2a3f5f\"}, \"marker\": {\"line\": {\"color\": \"#E5ECF6\", \"width\": 0.5}}, \"type\": \"bar\"}], \"barpolar\": [{\"marker\": {\"line\": {\"color\": \"#E5ECF6\", \"width\": 0.5}}, \"type\": \"barpolar\"}], \"carpet\": [{\"aaxis\": {\"endlinecolor\": \"#2a3f5f\", \"gridcolor\": \"white\", \"linecolor\": \"white\", \"minorgridcolor\": \"white\", \"startlinecolor\": \"#2a3f5f\"}, \"baxis\": {\"endlinecolor\": \"#2a3f5f\", \"gridcolor\": \"white\", \"linecolor\": \"white\", \"minorgridcolor\": \"white\", \"startlinecolor\": \"#2a3f5f\"}, \"type\": \"carpet\"}], \"choropleth\": [{\"colorbar\": {\"outlinewidth\": 0, \"ticks\": \"\"}, \"type\": \"choropleth\"}], \"contour\": [{\"colorbar\": {\"outlinewidth\": 0, \"ticks\": \"\"}, \"colorscale\": [[0.0, \"#0d0887\"], [0.1111111111111111, \"#46039f\"], [0.2222222222222222, \"#7201a8\"], [0.3333333333333333, \"#9c179e\"], [0.4444444444444444, \"#bd3786\"], [0.5555555555555556, \"#d8576b\"], [0.6666666666666666, \"#ed7953\"], [0.7777777777777778, \"#fb9f3a\"], [0.8888888888888888, \"#fdca26\"], [1.0, \"#f0f921\"]], \"type\": \"contour\"}], \"contourcarpet\": [{\"colorbar\": {\"outlinewidth\": 0, \"ticks\": \"\"}, \"type\": \"contourcarpet\"}], \"heatmap\": [{\"colorbar\": {\"outlinewidth\": 0, \"ticks\": \"\"}, \"colorscale\": [[0.0, \"#0d0887\"], [0.1111111111111111, \"#46039f\"], [0.2222222222222222, \"#7201a8\"], [0.3333333333333333, \"#9c179e\"], [0.4444444444444444, \"#bd3786\"], [0.5555555555555556, \"#d8576b\"], [0.6666666666666666, \"#ed7953\"], [0.7777777777777778, \"#fb9f3a\"], [0.8888888888888888, \"#fdca26\"], [1.0, \"#f0f921\"]], \"type\": \"heatmap\"}], \"heatmapgl\": [{\"colorbar\": {\"outlinewidth\": 0, \"ticks\": \"\"}, \"colorscale\": [[0.0, \"#0d0887\"], [0.1111111111111111, \"#46039f\"], [0.2222222222222222, \"#7201a8\"], [0.3333333333333333, \"#9c179e\"], [0.4444444444444444, \"#bd3786\"], [0.5555555555555556, \"#d8576b\"], [0.6666666666666666, \"#ed7953\"], [0.7777777777777778, \"#fb9f3a\"], [0.8888888888888888, \"#fdca26\"], [1.0, \"#f0f921\"]], \"type\": \"heatmapgl\"}], \"histogram\": [{\"marker\": {\"colorbar\": {\"outlinewidth\": 0, \"ticks\": \"\"}}, \"type\": \"histogram\"}], \"histogram2d\": [{\"colorbar\": {\"outlinewidth\": 0, \"ticks\": \"\"}, \"colorscale\": [[0.0, \"#0d0887\"], [0.1111111111111111, \"#46039f\"], [0.2222222222222222, \"#7201a8\"], [0.3333333333333333, \"#9c179e\"], [0.4444444444444444, \"#bd3786\"], [0.5555555555555556, \"#d8576b\"], [0.6666666666666666, \"#ed7953\"], [0.7777777777777778, \"#fb9f3a\"], [0.8888888888888888, \"#fdca26\"], [1.0, \"#f0f921\"]], \"type\": \"histogram2d\"}], \"histogram2dcontour\": [{\"colorbar\": {\"outlinewidth\": 0, \"ticks\": \"\"}, \"colorscale\": [[0.0, \"#0d0887\"], [0.1111111111111111, \"#46039f\"], [0.2222222222222222, \"#7201a8\"], [0.3333333333333333, \"#9c179e\"], [0.4444444444444444, \"#bd3786\"], [0.5555555555555556, \"#d8576b\"], [0.6666666666666666, \"#ed7953\"], [0.7777777777777778, \"#fb9f3a\"], [0.8888888888888888, \"#fdca26\"], [1.0, \"#f0f921\"]], \"type\": \"histogram2dcontour\"}], \"mesh3d\": [{\"colorbar\": {\"outlinewidth\": 0, \"ticks\": \"\"}, \"type\": \"mesh3d\"}], \"parcoords\": [{\"line\": {\"colorbar\": {\"outlinewidth\": 0, \"ticks\": \"\"}}, \"type\": \"parcoords\"}], \"pie\": [{\"automargin\": true, \"type\": \"pie\"}], \"scatter\": [{\"marker\": {\"colorbar\": {\"outlinewidth\": 0, \"ticks\": \"\"}}, \"type\": \"scatter\"}], \"scatter3d\": [{\"line\": {\"colorbar\": {\"outlinewidth\": 0, \"ticks\": \"\"}}, \"marker\": {\"colorbar\": {\"outlinewidth\": 0, \"ticks\": \"\"}}, \"type\": \"scatter3d\"}], \"scattercarpet\": [{\"marker\": {\"colorbar\": {\"outlinewidth\": 0, \"ticks\": \"\"}}, \"type\": \"scattercarpet\"}], \"scattergeo\": [{\"marker\": {\"colorbar\": {\"outlinewidth\": 0, \"ticks\": \"\"}}, \"type\": \"scattergeo\"}], \"scattergl\": [{\"marker\": {\"colorbar\": {\"outlinewidth\": 0, \"ticks\": \"\"}}, \"type\": \"scattergl\"}], \"scattermapbox\": [{\"marker\": {\"colorbar\": {\"outlinewidth\": 0, \"ticks\": \"\"}}, \"type\": \"scattermapbox\"}], \"scatterpolar\": [{\"marker\": {\"colorbar\": {\"outlinewidth\": 0, \"ticks\": \"\"}}, \"type\": \"scatterpolar\"}], \"scatterpolargl\": [{\"marker\": {\"colorbar\": {\"outlinewidth\": 0, \"ticks\": \"\"}}, \"type\": \"scatterpolargl\"}], \"scatterternary\": [{\"marker\": {\"colorbar\": {\"outlinewidth\": 0, \"ticks\": \"\"}}, \"type\": \"scatterternary\"}], \"surface\": [{\"colorbar\": {\"outlinewidth\": 0, \"ticks\": \"\"}, \"colorscale\": [[0.0, \"#0d0887\"], [0.1111111111111111, \"#46039f\"], [0.2222222222222222, \"#7201a8\"], [0.3333333333333333, \"#9c179e\"], [0.4444444444444444, \"#bd3786\"], [0.5555555555555556, \"#d8576b\"], [0.6666666666666666, \"#ed7953\"], [0.7777777777777778, \"#fb9f3a\"], [0.8888888888888888, \"#fdca26\"], [1.0, \"#f0f921\"]], \"type\": \"surface\"}], \"table\": [{\"cells\": {\"fill\": {\"color\": \"#EBF0F8\"}, \"line\": {\"color\": \"white\"}}, \"header\": {\"fill\": {\"color\": \"#C8D4E3\"}, \"line\": {\"color\": \"white\"}}, \"type\": \"table\"}]}, \"layout\": {\"annotationdefaults\": {\"arrowcolor\": \"#2a3f5f\", \"arrowhead\": 0, \"arrowwidth\": 1}, \"coloraxis\": {\"colorbar\": {\"outlinewidth\": 0, \"ticks\": \"\"}}, \"colorscale\": {\"diverging\": [[0, \"#8e0152\"], [0.1, \"#c51b7d\"], [0.2, \"#de77ae\"], [0.3, \"#f1b6da\"], [0.4, \"#fde0ef\"], [0.5, \"#f7f7f7\"], [0.6, \"#e6f5d0\"], [0.7, \"#b8e186\"], [0.8, \"#7fbc41\"], [0.9, \"#4d9221\"], [1, \"#276419\"]], \"sequential\": [[0.0, \"#0d0887\"], [0.1111111111111111, \"#46039f\"], [0.2222222222222222, \"#7201a8\"], [0.3333333333333333, \"#9c179e\"], [0.4444444444444444, \"#bd3786\"], [0.5555555555555556, \"#d8576b\"], [0.6666666666666666, \"#ed7953\"], [0.7777777777777778, \"#fb9f3a\"], [0.8888888888888888, \"#fdca26\"], [1.0, \"#f0f921\"]], \"sequentialminus\": [[0.0, \"#0d0887\"], [0.1111111111111111, \"#46039f\"], [0.2222222222222222, \"#7201a8\"], [0.3333333333333333, \"#9c179e\"], [0.4444444444444444, \"#bd3786\"], [0.5555555555555556, \"#d8576b\"], [0.6666666666666666, \"#ed7953\"], [0.7777777777777778, \"#fb9f3a\"], [0.8888888888888888, \"#fdca26\"], [1.0, \"#f0f921\"]]}, \"colorway\": [\"#636efa\", \"#EF553B\", \"#00cc96\", \"#ab63fa\", \"#FFA15A\", \"#19d3f3\", \"#FF6692\", \"#B6E880\", \"#FF97FF\", \"#FECB52\"], \"font\": {\"color\": \"#2a3f5f\"}, \"geo\": {\"bgcolor\": \"white\", \"lakecolor\": \"white\", \"landcolor\": \"#E5ECF6\", \"showlakes\": true, \"showland\": true, \"subunitcolor\": \"white\"}, \"hoverlabel\": {\"align\": \"left\"}, \"hovermode\": \"closest\", \"mapbox\": {\"style\": \"light\"}, \"paper_bgcolor\": \"white\", \"plot_bgcolor\": \"#E5ECF6\", \"polar\": {\"angularaxis\": {\"gridcolor\": \"white\", \"linecolor\": \"white\", \"ticks\": \"\"}, \"bgcolor\": \"#E5ECF6\", \"radialaxis\": {\"gridcolor\": \"white\", \"linecolor\": \"white\", \"ticks\": \"\"}}, \"scene\": {\"xaxis\": {\"backgroundcolor\": \"#E5ECF6\", \"gridcolor\": \"white\", \"gridwidth\": 2, \"linecolor\": \"white\", \"showbackground\": true, \"ticks\": \"\", \"zerolinecolor\": \"white\"}, \"yaxis\": {\"backgroundcolor\": \"#E5ECF6\", \"gridcolor\": \"white\", \"gridwidth\": 2, \"linecolor\": \"white\", \"showbackground\": true, \"ticks\": \"\", \"zerolinecolor\": \"white\"}, \"zaxis\": {\"backgroundcolor\": \"#E5ECF6\", \"gridcolor\": \"white\", \"gridwidth\": 2, \"linecolor\": \"white\", \"showbackground\": true, \"ticks\": \"\", \"zerolinecolor\": \"white\"}}, \"shapedefaults\": {\"line\": {\"color\": \"#2a3f5f\"}}, \"ternary\": {\"aaxis\": {\"gridcolor\": \"white\", \"linecolor\": \"white\", \"ticks\": \"\"}, \"baxis\": {\"gridcolor\": \"white\", \"linecolor\": \"white\", \"ticks\": \"\"}, \"bgcolor\": \"#E5ECF6\", \"caxis\": {\"gridcolor\": \"white\", \"linecolor\": \"white\", \"ticks\": \"\"}}, \"title\": {\"x\": 0.05}, \"xaxis\": {\"automargin\": true, \"gridcolor\": \"white\", \"linecolor\": \"white\", \"ticks\": \"\", \"title\": {\"standoff\": 15}, \"zerolinecolor\": \"white\", \"zerolinewidth\": 2}, \"yaxis\": {\"automargin\": true, \"gridcolor\": \"white\", \"linecolor\": \"white\", \"ticks\": \"\", \"title\": {\"standoff\": 15}, \"zerolinecolor\": \"white\", \"zerolinewidth\": 2}}}, \"title\": {\"text\": \"Pertusiss by DHB\"}, \"width\": 670, \"xaxis\": {\"tickangle\": 45, \"title\": {\"text\": \"Monthly\"}, \"type\": \"category\"}, \"yaxis\": {\"tickformat\": \"%\", \"title\": {\"text\": \"Percentage\"}}},\n",
       "                        {\"responsive\": true}\n",
       "                    ).then(function(){\n",
       "                            \n",
       "var gd = document.getElementById('e324454b-93ea-4573-a1b0-74c42cdb0091');\n",
       "var x = new MutationObserver(function (mutations, observer) {{\n",
       "        var display = window.getComputedStyle(gd).display;\n",
       "        if (!display || display === 'none') {{\n",
       "            console.log([gd, 'removed!']);\n",
       "            Plotly.purge(gd);\n",
       "            observer.disconnect();\n",
       "        }}\n",
       "}});\n",
       "\n",
       "// Listen for the removal of the full notebook cells\n",
       "var notebookContainer = gd.closest('#notebook-container');\n",
       "if (notebookContainer) {{\n",
       "    x.observe(notebookContainer, {childList: true});\n",
       "}}\n",
       "\n",
       "// Listen for the clearing of the current output cell\n",
       "var outputEl = gd.closest('.output');\n",
       "if (outputEl) {{\n",
       "    x.observe(outputEl, {childList: true});\n",
       "}}\n",
       "\n",
       "                        })\n",
       "                };\n",
       "                });\n",
       "            </script>\n",
       "        </div>"
      ]
     },
     "metadata": {},
     "output_type": "display_data"
    }
   ],
   "source": [
    "import pandas as pd\n",
    "import matplotlib.pyplot as plt\n",
    "import plotly.graph_objects as go\n",
    "import numpy as np\n",
    "%matplotlib inline\n",
    "from plotly.offline import download_plotlyjs, init_notebook_mode, plot, iplot\n",
    "init_notebook_mode(connected=True)\n",
    "#Pertussis Tables\n",
    "#DHBAll = pd.read_excel('G:/Funding Team/Planning/Health Information/HIAT/Michael Files/Antinatal Vaccination\\April 2019 to March 2020/For Python.xlsx', \n",
    "                     #header=None, skiprows=7)\n",
    "DHBAll = pd.ExcelFile('G:/Funding Team/Planning/Health Information/HIAT/Michael Files/Antinatal Vaccination/April 2019 to March 2020/For Python.xlsx')\n",
    "DHBPert = pd.read_excel(DHBAll, 'Pertussis Graphs', skiprows=5)\n",
    "DHB3 = DHBPert[['Counties_Manukau','Auckland','Waitemata']]\n",
    "\n",
    "DHB3=DHB3.round(3)\n",
    "# Declare a list that is to be converted into a column \n",
    "Monthly = ['Jan_16', 'Feb_16', 'Mar_16', 'Apr_16','May_16', 'Jun_16', 'Jul_16', 'Aug_16','Sep_16', 'Oct_16', 'Nov_16', 'Dec_16',\n",
    "           'Jan_17', 'Feb_17', 'Mar_17', 'Apr_17','May_17', 'Jun_17', 'Jul_17', 'Aug_17','Sep_17', 'Oct_17', 'Nov_17', 'Dec_17',\n",
    "           'Jan_18', 'Feb_18', 'Mar_18', 'Apr_18','May_18', 'Jun_18', 'Jul_18', 'Aug_18','Sep_18', 'Oct_18', 'Nov_18', 'Dec_18',\n",
    "           'Jan_19', 'Feb_19', 'Mar_19', 'Apr_19','May_19', 'Jun_19', 'Jul_19', 'Aug_19','Sep_19', 'Oct_19', 'Nov_19', 'Dec_19',\n",
    "           'Jan_20', 'Feb_20', 'Mar_20', 'Apr_20','May_20', 'Jun_20', 'Jul_20', 'Aug_20','Sep_20', 'Oct_20', 'Nov_20', 'Dec_20'] \n",
    "\n",
    "# Using 'Address' as the column name \n",
    "# and equating it to the list \n",
    "DHB3['Monthly'] = Monthly \n",
    "DHB3=DHB3.dropna()\n",
    "random_x = DHB3[\"Monthly\"].tolist()\n",
    "# using to_numpy() \n",
    "random_y0 = DHB3['Counties_Manukau'].tolist()   \n",
    "\n",
    "random_y1 = DHB3['Auckland'].tolist()  \n",
    "\n",
    "random_y2 = DHB3['Waitemata'].tolist()   \n",
    "\n",
    "\n",
    "#import numpy as np\n",
    "\n",
    "# Create traces\n",
    "fig = go.Figure()\n",
    "fig.add_trace(go.Scatter(x=random_x, y=random_y0,\n",
    "                    mode='lines+markers',\n",
    "                    name='Counties_Manukau'))\n",
    "fig.add_trace(go.Scatter(x=random_x, y=random_y1,\n",
    "                    mode='lines+markers',\n",
    "                    name='Auckland'))\n",
    "fig.add_trace(go.Scatter(x=random_x, y=random_y2,\n",
    "                   mode='lines+markers',\n",
    "                    name='Waitemata'))\n",
    "\n",
    "# Edit the layout\n",
    "#fig.update_layout(title='Pertusiss by Ethnicity',\n",
    "                   #xaxis_title='Quarter',\n",
    "                   #yaxis_title='Percentage')\n",
    "\n",
    "fig.update_layout(xaxis_type='category',\n",
    "                  title_text='Pertusiss by DHB',\n",
    "                  xaxis_title='Monthly',\n",
    "                  yaxis_title='Percentage')\n",
    "fig.update_xaxes(tickangle=45)\n",
    "fig.update_yaxes(tickformat=\"%\")\n",
    "#fig.update_layout(legend_orientation=\"h\")\n",
    "fig.update_layout(showlegend=True)\n",
    "fig.update_layout(autosize=False,\n",
    "                 width=670,\n",
    "                 height=400,)\n",
    "fig.show()\n",
    "plt.show()\n"
   ]
  },
  {
   "cell_type": "code",
   "execution_count": 5,
   "metadata": {},
   "outputs": [],
   "source": [
    "## Coverage by DHB and Ethnicity (12 month period)"
   ]
  },
  {
   "cell_type": "code",
   "execution_count": 7,
   "metadata": {},
   "outputs": [
    {
     "data": {
      "text/plain": [
       "'In the twelve months to March 2020 vaccination coverage continued to vary by ethnicity. Coverage rates in Asian and European/Other are higher than those of Pacific and Māori. Auckland DHB has the highest coverage across all ethnicities, followed by Waitematā DHB and Counties Manukau DHB. Across all DHBs, Asian women in Auckland DHB had the highest coverage rate at 72.1%. '"
      ]
     },
     "execution_count": 7,
     "metadata": {},
     "output_type": "execute_result"
    }
   ],
   "source": [
    "sheet3[\"A7\"].value"
   ]
  },
  {
   "cell_type": "code",
   "execution_count": 8,
   "metadata": {},
   "outputs": [
    {
     "data": {
      "text/html": [
       "<style  type=\"text/css\" >\n",
       "    #T_3cff2f8a_f17c_11ea_9fa5_ecb1d74ca0c9 tr:hover {\n",
       "          background-color: #ffff99;\n",
       "    }    #T_3cff2f8a_f17c_11ea_9fa5_ecb1d74ca0c9 th {\n",
       "          font-size: 70%;\n",
       "          text-align: center;\n",
       "    }    #T_3cff2f8a_f17c_11ea_9fa5_ecb1d74ca0c9 caption {\n",
       "          caption-side: bottom;\n",
       "    }</style><table id=\"T_3cff2f8a_f17c_11ea_9fa5_ecb1d74ca0c9\" ><caption>Hover to highlight.</caption><thead>    <tr>        <th class=\"index_name level0\" >0</th>        <th class=\"col_heading level0 col0\" >DHB_Domicile</th>        <th class=\"col_heading level0 col1\" >Maori_(Prev)</th>        <th class=\"col_heading level0 col2\" >Māori_(Curr)</th>        <th class=\"col_heading level0 col3\" >Pacific_(Prev)</th>        <th class=\"col_heading level0 col4\" >Pacific_(Curr)</th>        <th class=\"col_heading level0 col5\" >Asian_(Prev)</th>        <th class=\"col_heading level0 col6\" >Asian_(Curr)</th>        <th class=\"col_heading level0 col7\" >Other_(Prev)</th>        <th class=\"col_heading level0 col8\" >Other_(Curr)</th>        <th class=\"col_heading level0 col9\" >Overall_(Prev)</th>        <th class=\"col_heading level0 col10\" >Overall_(Curr)</th>    </tr></thead><tbody>\n",
       "                <tr>\n",
       "                        <th id=\"T_3cff2f8a_f17c_11ea_9fa5_ecb1d74ca0c9level0_row0\" class=\"row_heading level0 row0\" >1</th>\n",
       "                        <td id=\"T_3cff2f8a_f17c_11ea_9fa5_ecb1d74ca0c9row0_col0\" class=\"data row0 col0\" >Auckland</td>\n",
       "                        <td id=\"T_3cff2f8a_f17c_11ea_9fa5_ecb1d74ca0c9row0_col1\" class=\"data row0 col1\" >32.2</td>\n",
       "                        <td id=\"T_3cff2f8a_f17c_11ea_9fa5_ecb1d74ca0c9row0_col2\" class=\"data row0 col2\" >33.9</td>\n",
       "                        <td id=\"T_3cff2f8a_f17c_11ea_9fa5_ecb1d74ca0c9row0_col3\" class=\"data row0 col3\" >42.7</td>\n",
       "                        <td id=\"T_3cff2f8a_f17c_11ea_9fa5_ecb1d74ca0c9row0_col4\" class=\"data row0 col4\" >44</td>\n",
       "                        <td id=\"T_3cff2f8a_f17c_11ea_9fa5_ecb1d74ca0c9row0_col5\" class=\"data row0 col5\" >70.8</td>\n",
       "                        <td id=\"T_3cff2f8a_f17c_11ea_9fa5_ecb1d74ca0c9row0_col6\" class=\"data row0 col6\" >72.1</td>\n",
       "                        <td id=\"T_3cff2f8a_f17c_11ea_9fa5_ecb1d74ca0c9row0_col7\" class=\"data row0 col7\" >62.6</td>\n",
       "                        <td id=\"T_3cff2f8a_f17c_11ea_9fa5_ecb1d74ca0c9row0_col8\" class=\"data row0 col8\" >63.7</td>\n",
       "                        <td id=\"T_3cff2f8a_f17c_11ea_9fa5_ecb1d74ca0c9row0_col9\" class=\"data row0 col9\" >59.6</td>\n",
       "                        <td id=\"T_3cff2f8a_f17c_11ea_9fa5_ecb1d74ca0c9row0_col10\" class=\"data row0 col10\" >60.9</td>\n",
       "            </tr>\n",
       "            <tr>\n",
       "                        <th id=\"T_3cff2f8a_f17c_11ea_9fa5_ecb1d74ca0c9level0_row1\" class=\"row_heading level0 row1\" >2</th>\n",
       "                        <td id=\"T_3cff2f8a_f17c_11ea_9fa5_ecb1d74ca0c9row1_col0\" class=\"data row1 col0\" >Counties_Manukau</td>\n",
       "                        <td id=\"T_3cff2f8a_f17c_11ea_9fa5_ecb1d74ca0c9row1_col1\" class=\"data row1 col1\" >23.1</td>\n",
       "                        <td id=\"T_3cff2f8a_f17c_11ea_9fa5_ecb1d74ca0c9row1_col2\" class=\"data row1 col2\" >24.1</td>\n",
       "                        <td id=\"T_3cff2f8a_f17c_11ea_9fa5_ecb1d74ca0c9row1_col3\" class=\"data row1 col3\" >34.2</td>\n",
       "                        <td id=\"T_3cff2f8a_f17c_11ea_9fa5_ecb1d74ca0c9row1_col4\" class=\"data row1 col4\" >35.3</td>\n",
       "                        <td id=\"T_3cff2f8a_f17c_11ea_9fa5_ecb1d74ca0c9row1_col5\" class=\"data row1 col5\" >57</td>\n",
       "                        <td id=\"T_3cff2f8a_f17c_11ea_9fa5_ecb1d74ca0c9row1_col6\" class=\"data row1 col6\" >58.9</td>\n",
       "                        <td id=\"T_3cff2f8a_f17c_11ea_9fa5_ecb1d74ca0c9row1_col7\" class=\"data row1 col7\" >47.6</td>\n",
       "                        <td id=\"T_3cff2f8a_f17c_11ea_9fa5_ecb1d74ca0c9row1_col8\" class=\"data row1 col8\" >48.5</td>\n",
       "                        <td id=\"T_3cff2f8a_f17c_11ea_9fa5_ecb1d74ca0c9row1_col9\" class=\"data row1 col9\" >41.5</td>\n",
       "                        <td id=\"T_3cff2f8a_f17c_11ea_9fa5_ecb1d74ca0c9row1_col10\" class=\"data row1 col10\" >42.8</td>\n",
       "            </tr>\n",
       "            <tr>\n",
       "                        <th id=\"T_3cff2f8a_f17c_11ea_9fa5_ecb1d74ca0c9level0_row2\" class=\"row_heading level0 row2\" >3</th>\n",
       "                        <td id=\"T_3cff2f8a_f17c_11ea_9fa5_ecb1d74ca0c9row2_col0\" class=\"data row2 col0\" >Waitematā</td>\n",
       "                        <td id=\"T_3cff2f8a_f17c_11ea_9fa5_ecb1d74ca0c9row2_col1\" class=\"data row2 col1\" >32.2</td>\n",
       "                        <td id=\"T_3cff2f8a_f17c_11ea_9fa5_ecb1d74ca0c9row2_col2\" class=\"data row2 col2\" >34.9</td>\n",
       "                        <td id=\"T_3cff2f8a_f17c_11ea_9fa5_ecb1d74ca0c9row2_col3\" class=\"data row2 col3\" >36</td>\n",
       "                        <td id=\"T_3cff2f8a_f17c_11ea_9fa5_ecb1d74ca0c9row2_col4\" class=\"data row2 col4\" >37.2</td>\n",
       "                        <td id=\"T_3cff2f8a_f17c_11ea_9fa5_ecb1d74ca0c9row2_col5\" class=\"data row2 col5\" >64.6</td>\n",
       "                        <td id=\"T_3cff2f8a_f17c_11ea_9fa5_ecb1d74ca0c9row2_col6\" class=\"data row2 col6\" >66.8</td>\n",
       "                        <td id=\"T_3cff2f8a_f17c_11ea_9fa5_ecb1d74ca0c9row2_col7\" class=\"data row2 col7\" >53</td>\n",
       "                        <td id=\"T_3cff2f8a_f17c_11ea_9fa5_ecb1d74ca0c9row2_col8\" class=\"data row2 col8\" >54.5</td>\n",
       "                        <td id=\"T_3cff2f8a_f17c_11ea_9fa5_ecb1d74ca0c9row2_col9\" class=\"data row2 col9\" >52.9</td>\n",
       "                        <td id=\"T_3cff2f8a_f17c_11ea_9fa5_ecb1d74ca0c9row2_col10\" class=\"data row2 col10\" >54.8</td>\n",
       "            </tr>\n",
       "            <tr>\n",
       "                        <th id=\"T_3cff2f8a_f17c_11ea_9fa5_ecb1d74ca0c9level0_row3\" class=\"row_heading level0 row3\" >4</th>\n",
       "                        <td id=\"T_3cff2f8a_f17c_11ea_9fa5_ecb1d74ca0c9row3_col0\" class=\"data row3 col0\" >Auckland Metro</td>\n",
       "                        <td id=\"T_3cff2f8a_f17c_11ea_9fa5_ecb1d74ca0c9row3_col1\" class=\"data row3 col1\" >27</td>\n",
       "                        <td id=\"T_3cff2f8a_f17c_11ea_9fa5_ecb1d74ca0c9row3_col2\" class=\"data row3 col2\" >28.8</td>\n",
       "                        <td id=\"T_3cff2f8a_f17c_11ea_9fa5_ecb1d74ca0c9row3_col3\" class=\"data row3 col3\" >36.2</td>\n",
       "                        <td id=\"T_3cff2f8a_f17c_11ea_9fa5_ecb1d74ca0c9row3_col4\" class=\"data row3 col4\" >37.4</td>\n",
       "                        <td id=\"T_3cff2f8a_f17c_11ea_9fa5_ecb1d74ca0c9row3_col5\" class=\"data row3 col5\" >63.6</td>\n",
       "                        <td id=\"T_3cff2f8a_f17c_11ea_9fa5_ecb1d74ca0c9row3_col6\" class=\"data row3 col6\" >65.5</td>\n",
       "                        <td id=\"T_3cff2f8a_f17c_11ea_9fa5_ecb1d74ca0c9row3_col7\" class=\"data row3 col7\" >54.3</td>\n",
       "                        <td id=\"T_3cff2f8a_f17c_11ea_9fa5_ecb1d74ca0c9row3_col8\" class=\"data row3 col8\" >55.6</td>\n",
       "                        <td id=\"T_3cff2f8a_f17c_11ea_9fa5_ecb1d74ca0c9row3_col9\" class=\"data row3 col9\" >50</td>\n",
       "                        <td id=\"T_3cff2f8a_f17c_11ea_9fa5_ecb1d74ca0c9row3_col10\" class=\"data row3 col10\" >51.6</td>\n",
       "            </tr>\n",
       "    </tbody></table>"
      ],
      "text/plain": [
       "<pandas.io.formats.style.Styler at 0xae11828>"
      ]
     },
     "execution_count": 8,
     "metadata": {},
     "output_type": "execute_result"
    }
   ],
   "source": [
    "DHBTab = pd.read_excel(DHBAll, 'Pertussis Tables', skiprows=5)\n",
    "DHBTabDHB=DHBTab.iloc[0:5, 1:12]\n",
    "DHBTabDHB.columns = DHBTabDHB.iloc[0]\n",
    "DHBTabDHB=DHBTabDHB.drop(DHBTabDHB.index[0])\n",
    "#DHBTabDHB.rename(columns=DHBTabDHB.iloc[0]).drop(DHBTabDHB.index[1])\n",
    "DHBTabDHB = DHBTabDHB.astype({\"Maori_(Prev)\": float, \"Māori_(Curr)\": float, \"Pacific_(Prev)\": float,\n",
    "                             \"Pacific_(Curr)\": float, \"Asian_(Prev)\": float, \"Asian_(Curr)\": float,\n",
    "                             \"Other_(Prev)\": float, \"Other_(Curr)\": float, \"Overall_(Prev)\": float,\n",
    "                             \"Overall_(Curr)\": float})\n",
    "#DHBTabDHB.dtypes\n",
    "DHBTabDHB.iloc[:,1:] = DHBTabDHB.iloc[:,1:] * 100\n",
    "DHBTabDHB.style.hide_index()\n",
    "from IPython.display import HTML\n",
    "#DHBTabDHB.set_index('DHB_Domicile')\n",
    "def hover(hover_color=\"#ffff99\"):\n",
    "    return dict(selector=\"tr:hover\",\n",
    "                props=[(\"background-color\", \"%s\" % hover_color)])\n",
    "\n",
    "styles = [\n",
    "    hover(),\n",
    "    dict(selector=\"th\", props=[(\"font-size\", \"70%\"),\n",
    "                               (\"text-align\", \"center\")]),\n",
    "    dict(selector=\"caption\", props=[(\"caption-side\", \"bottom\")])\n",
    "]\n",
    "html = (DHBTabDHB.style.set_table_styles(styles)\n",
    "          .set_caption(\"Hover to highlight.\"))\n",
    "html\n",
    "#DHBTabDHB.set_index('DHB_Domicile')\n",
    "#DHBTabDHB.head()\n",
    "#DHBTab.head()"
   ]
  },
  {
   "cell_type": "code",
   "execution_count": 9,
   "metadata": {},
   "outputs": [
    {
     "data": {
      "text/plain": [
       "'*Includes births in the 12 months to 31 March 202'"
      ]
     },
     "execution_count": 9,
     "metadata": {},
     "output_type": "execute_result"
    }
   ],
   "source": [
    "sheet3[\"A9\"].value"
   ]
  },
  {
   "cell_type": "code",
   "execution_count": 10,
   "metadata": {},
   "outputs": [
    {
     "data": {
      "text/plain": [
       "'*Current performance includes only PHO enrolled individuals as at March 2020'"
      ]
     },
     "execution_count": 10,
     "metadata": {},
     "output_type": "execute_result"
    }
   ],
   "source": [
    "sheet3[\"A10\"].value"
   ]
  },
  {
   "cell_type": "code",
   "execution_count": 11,
   "metadata": {},
   "outputs": [
    {
     "data": {
      "text/plain": [
       "'*Ethnicity is prioritised and is that recorded on the PHO register'"
      ]
     },
     "execution_count": 11,
     "metadata": {},
     "output_type": "execute_result"
    }
   ],
   "source": [
    "sheet3[\"A11\"].value"
   ]
  },
  {
   "cell_type": "code",
   "execution_count": 12,
   "metadata": {},
   "outputs": [
    {
     "data": {
      "text/plain": [
       "'*Domicile is as per that on March 2020 PHO register and might be different to that of the mother when the birth took place'"
      ]
     },
     "execution_count": 12,
     "metadata": {},
     "output_type": "execute_result"
    }
   ],
   "source": [
    "sheet3[\"A12\"].value"
   ]
  },
  {
   "cell_type": "code",
   "execution_count": 13,
   "metadata": {},
   "outputs": [
    {
     "data": {
      "text/html": [
       "<script>\n",
       "code_show=true; \n",
       "function code_toggle() {\n",
       " if (code_show){\n",
       " $('div.input').hide();\n",
       " } else {\n",
       " $('div.input').show();\n",
       " }\n",
       " code_show = !code_show\n",
       "} \n",
       "$( document ).ready(code_toggle);\n",
       "</script>\n",
       "The raw code for this IPython notebook is by default hidden for easier reading.\n",
       "To toggle on/off the raw code, click <a href=\"javascript:code_toggle()\">here</a>."
      ],
      "text/plain": [
       "<IPython.core.display.HTML object>"
      ]
     },
     "execution_count": 13,
     "metadata": {},
     "output_type": "execute_result"
    }
   ],
   "source": [
    "from IPython.display import HTML\n",
    "HTML('''<script>\n",
    "code_show=true; \n",
    "function code_toggle() {\n",
    " if (code_show){\n",
    " $('div.input').hide();\n",
    " } else {\n",
    " $('div.input').show();\n",
    " }\n",
    " code_show = !code_show\n",
    "} \n",
    "$( document ).ready(code_toggle);\n",
    "</script>\n",
    "The raw code for this IPython notebook is by default hidden for easier reading.\n",
    "To toggle on/off the raw code, click <a href=\"javascript:code_toggle()\">here</a>.''')"
   ]
  },
  {
   "cell_type": "markdown",
   "metadata": {},
   "source": [
    "## Coverage by DHB and Ethnicity (Quarterly Trends)"
   ]
  },
  {
   "cell_type": "code",
   "execution_count": 14,
   "metadata": {},
   "outputs": [
    {
     "data": {
      "application/vnd.plotly.v1+json": {
       "config": {
        "plotlyServerURL": "https://plotly.your-company.com"
       },
       "data": [
        {
         "mode": "lines",
         "name": "Maori",
         "type": "scatter",
         "x": [
          "Q1_16",
          "Q2_16",
          "Q3_16",
          "Q4_16",
          "Q1_17",
          "Q2_17",
          "Q3_17",
          "Q4_17",
          "Q1_18",
          "Q2_18",
          "Q3_18",
          "Q4_18",
          "Q1_19",
          "Q2_19",
          "Q3_19",
          "Q4_19",
          "Q1_20"
         ],
         "y": [
          0.085,
          0.117,
          0.115,
          0.195,
          0.114,
          0.2,
          0.247,
          0.193,
          0.285,
          0.246,
          0.337,
          0.297,
          0.246,
          0.436,
          0.351,
          0.284,
          0.315
         ]
        },
        {
         "mode": "lines+markers",
         "name": "Pacific",
         "type": "scatter",
         "x": [
          "Q1_16",
          "Q2_16",
          "Q3_16",
          "Q4_16",
          "Q1_17",
          "Q2_17",
          "Q3_17",
          "Q4_17",
          "Q1_18",
          "Q2_18",
          "Q3_18",
          "Q4_18",
          "Q1_19",
          "Q2_19",
          "Q3_19",
          "Q4_19",
          "Q1_20"
         ],
         "y": [
          0.061,
          0.104,
          0.22,
          0.153,
          0.1,
          0.283,
          0.206,
          0.19,
          0.283,
          0.26,
          0.353,
          0.306,
          0.274,
          0.386,
          0.408,
          0.363,
          0.322
         ]
        },
        {
         "mode": "lines+markers",
         "name": "Asian",
         "type": "scatter",
         "x": [
          "Q1_16",
          "Q2_16",
          "Q3_16",
          "Q4_16",
          "Q1_17",
          "Q2_17",
          "Q3_17",
          "Q4_17",
          "Q1_18",
          "Q2_18",
          "Q3_18",
          "Q4_18",
          "Q1_19",
          "Q2_19",
          "Q3_19",
          "Q4_19",
          "Q1_20"
         ],
         "y": [
          0.2,
          0.264,
          0.333,
          0.398,
          0.428,
          0.514,
          0.491,
          0.521,
          0.514,
          0.603,
          0.61,
          0.653,
          0.613,
          0.69,
          0.69,
          0.637,
          0.643
         ]
        },
        {
         "mode": "lines+markers",
         "name": "Others",
         "type": "scatter",
         "x": [
          "Q1_16",
          "Q2_16",
          "Q3_16",
          "Q4_16",
          "Q1_17",
          "Q2_17",
          "Q3_17",
          "Q4_17",
          "Q1_18",
          "Q2_18",
          "Q3_18",
          "Q4_18",
          "Q1_19",
          "Q2_19",
          "Q3_19",
          "Q4_19",
          "Q1_20"
         ],
         "y": [
          0.209,
          0.298,
          0.366,
          0.364,
          0.349,
          0.435,
          0.444,
          0.464,
          0.513,
          0.536,
          0.531,
          0.533,
          0.495,
          0.55,
          0.536,
          0.529,
          0.541
         ]
        },
        {
         "mode": "lines+markers",
         "name": "Total",
         "type": "scatter",
         "x": [
          "Q1_16",
          "Q2_16",
          "Q3_16",
          "Q4_16",
          "Q1_17",
          "Q2_17",
          "Q3_17",
          "Q4_17",
          "Q1_18",
          "Q2_18",
          "Q3_18",
          "Q4_18",
          "Q1_19",
          "Q2_19",
          "Q3_19",
          "Q4_19",
          "Q1_20"
         ],
         "y": [
          0.182,
          0.255,
          0.325,
          0.344,
          0.331,
          0.416,
          0.412,
          0.424,
          0.463,
          0.496,
          0.515,
          0.525,
          0.491,
          0.57,
          0.558,
          0.527,
          0.531
         ]
        }
       ],
       "layout": {
        "autosize": true,
        "height": 400,
        "showlegend": true,
        "template": {
         "data": {
          "bar": [
           {
            "error_x": {
             "color": "#2a3f5f"
            },
            "error_y": {
             "color": "#2a3f5f"
            },
            "marker": {
             "line": {
              "color": "#E5ECF6",
              "width": 0.5
             }
            },
            "type": "bar"
           }
          ],
          "barpolar": [
           {
            "marker": {
             "line": {
              "color": "#E5ECF6",
              "width": 0.5
             }
            },
            "type": "barpolar"
           }
          ],
          "carpet": [
           {
            "aaxis": {
             "endlinecolor": "#2a3f5f",
             "gridcolor": "white",
             "linecolor": "white",
             "minorgridcolor": "white",
             "startlinecolor": "#2a3f5f"
            },
            "baxis": {
             "endlinecolor": "#2a3f5f",
             "gridcolor": "white",
             "linecolor": "white",
             "minorgridcolor": "white",
             "startlinecolor": "#2a3f5f"
            },
            "type": "carpet"
           }
          ],
          "choropleth": [
           {
            "colorbar": {
             "outlinewidth": 0,
             "ticks": ""
            },
            "type": "choropleth"
           }
          ],
          "contour": [
           {
            "colorbar": {
             "outlinewidth": 0,
             "ticks": ""
            },
            "colorscale": [
             [
              0,
              "#0d0887"
             ],
             [
              0.1111111111111111,
              "#46039f"
             ],
             [
              0.2222222222222222,
              "#7201a8"
             ],
             [
              0.3333333333333333,
              "#9c179e"
             ],
             [
              0.4444444444444444,
              "#bd3786"
             ],
             [
              0.5555555555555556,
              "#d8576b"
             ],
             [
              0.6666666666666666,
              "#ed7953"
             ],
             [
              0.7777777777777778,
              "#fb9f3a"
             ],
             [
              0.8888888888888888,
              "#fdca26"
             ],
             [
              1,
              "#f0f921"
             ]
            ],
            "type": "contour"
           }
          ],
          "contourcarpet": [
           {
            "colorbar": {
             "outlinewidth": 0,
             "ticks": ""
            },
            "type": "contourcarpet"
           }
          ],
          "heatmap": [
           {
            "colorbar": {
             "outlinewidth": 0,
             "ticks": ""
            },
            "colorscale": [
             [
              0,
              "#0d0887"
             ],
             [
              0.1111111111111111,
              "#46039f"
             ],
             [
              0.2222222222222222,
              "#7201a8"
             ],
             [
              0.3333333333333333,
              "#9c179e"
             ],
             [
              0.4444444444444444,
              "#bd3786"
             ],
             [
              0.5555555555555556,
              "#d8576b"
             ],
             [
              0.6666666666666666,
              "#ed7953"
             ],
             [
              0.7777777777777778,
              "#fb9f3a"
             ],
             [
              0.8888888888888888,
              "#fdca26"
             ],
             [
              1,
              "#f0f921"
             ]
            ],
            "type": "heatmap"
           }
          ],
          "heatmapgl": [
           {
            "colorbar": {
             "outlinewidth": 0,
             "ticks": ""
            },
            "colorscale": [
             [
              0,
              "#0d0887"
             ],
             [
              0.1111111111111111,
              "#46039f"
             ],
             [
              0.2222222222222222,
              "#7201a8"
             ],
             [
              0.3333333333333333,
              "#9c179e"
             ],
             [
              0.4444444444444444,
              "#bd3786"
             ],
             [
              0.5555555555555556,
              "#d8576b"
             ],
             [
              0.6666666666666666,
              "#ed7953"
             ],
             [
              0.7777777777777778,
              "#fb9f3a"
             ],
             [
              0.8888888888888888,
              "#fdca26"
             ],
             [
              1,
              "#f0f921"
             ]
            ],
            "type": "heatmapgl"
           }
          ],
          "histogram": [
           {
            "marker": {
             "colorbar": {
              "outlinewidth": 0,
              "ticks": ""
             }
            },
            "type": "histogram"
           }
          ],
          "histogram2d": [
           {
            "colorbar": {
             "outlinewidth": 0,
             "ticks": ""
            },
            "colorscale": [
             [
              0,
              "#0d0887"
             ],
             [
              0.1111111111111111,
              "#46039f"
             ],
             [
              0.2222222222222222,
              "#7201a8"
             ],
             [
              0.3333333333333333,
              "#9c179e"
             ],
             [
              0.4444444444444444,
              "#bd3786"
             ],
             [
              0.5555555555555556,
              "#d8576b"
             ],
             [
              0.6666666666666666,
              "#ed7953"
             ],
             [
              0.7777777777777778,
              "#fb9f3a"
             ],
             [
              0.8888888888888888,
              "#fdca26"
             ],
             [
              1,
              "#f0f921"
             ]
            ],
            "type": "histogram2d"
           }
          ],
          "histogram2dcontour": [
           {
            "colorbar": {
             "outlinewidth": 0,
             "ticks": ""
            },
            "colorscale": [
             [
              0,
              "#0d0887"
             ],
             [
              0.1111111111111111,
              "#46039f"
             ],
             [
              0.2222222222222222,
              "#7201a8"
             ],
             [
              0.3333333333333333,
              "#9c179e"
             ],
             [
              0.4444444444444444,
              "#bd3786"
             ],
             [
              0.5555555555555556,
              "#d8576b"
             ],
             [
              0.6666666666666666,
              "#ed7953"
             ],
             [
              0.7777777777777778,
              "#fb9f3a"
             ],
             [
              0.8888888888888888,
              "#fdca26"
             ],
             [
              1,
              "#f0f921"
             ]
            ],
            "type": "histogram2dcontour"
           }
          ],
          "mesh3d": [
           {
            "colorbar": {
             "outlinewidth": 0,
             "ticks": ""
            },
            "type": "mesh3d"
           }
          ],
          "parcoords": [
           {
            "line": {
             "colorbar": {
              "outlinewidth": 0,
              "ticks": ""
             }
            },
            "type": "parcoords"
           }
          ],
          "pie": [
           {
            "automargin": true,
            "type": "pie"
           }
          ],
          "scatter": [
           {
            "marker": {
             "colorbar": {
              "outlinewidth": 0,
              "ticks": ""
             }
            },
            "type": "scatter"
           }
          ],
          "scatter3d": [
           {
            "line": {
             "colorbar": {
              "outlinewidth": 0,
              "ticks": ""
             }
            },
            "marker": {
             "colorbar": {
              "outlinewidth": 0,
              "ticks": ""
             }
            },
            "type": "scatter3d"
           }
          ],
          "scattercarpet": [
           {
            "marker": {
             "colorbar": {
              "outlinewidth": 0,
              "ticks": ""
             }
            },
            "type": "scattercarpet"
           }
          ],
          "scattergeo": [
           {
            "marker": {
             "colorbar": {
              "outlinewidth": 0,
              "ticks": ""
             }
            },
            "type": "scattergeo"
           }
          ],
          "scattergl": [
           {
            "marker": {
             "colorbar": {
              "outlinewidth": 0,
              "ticks": ""
             }
            },
            "type": "scattergl"
           }
          ],
          "scattermapbox": [
           {
            "marker": {
             "colorbar": {
              "outlinewidth": 0,
              "ticks": ""
             }
            },
            "type": "scattermapbox"
           }
          ],
          "scatterpolar": [
           {
            "marker": {
             "colorbar": {
              "outlinewidth": 0,
              "ticks": ""
             }
            },
            "type": "scatterpolar"
           }
          ],
          "scatterpolargl": [
           {
            "marker": {
             "colorbar": {
              "outlinewidth": 0,
              "ticks": ""
             }
            },
            "type": "scatterpolargl"
           }
          ],
          "scatterternary": [
           {
            "marker": {
             "colorbar": {
              "outlinewidth": 0,
              "ticks": ""
             }
            },
            "type": "scatterternary"
           }
          ],
          "surface": [
           {
            "colorbar": {
             "outlinewidth": 0,
             "ticks": ""
            },
            "colorscale": [
             [
              0,
              "#0d0887"
             ],
             [
              0.1111111111111111,
              "#46039f"
             ],
             [
              0.2222222222222222,
              "#7201a8"
             ],
             [
              0.3333333333333333,
              "#9c179e"
             ],
             [
              0.4444444444444444,
              "#bd3786"
             ],
             [
              0.5555555555555556,
              "#d8576b"
             ],
             [
              0.6666666666666666,
              "#ed7953"
             ],
             [
              0.7777777777777778,
              "#fb9f3a"
             ],
             [
              0.8888888888888888,
              "#fdca26"
             ],
             [
              1,
              "#f0f921"
             ]
            ],
            "type": "surface"
           }
          ],
          "table": [
           {
            "cells": {
             "fill": {
              "color": "#EBF0F8"
             },
             "line": {
              "color": "white"
             }
            },
            "header": {
             "fill": {
              "color": "#C8D4E3"
             },
             "line": {
              "color": "white"
             }
            },
            "type": "table"
           }
          ]
         },
         "layout": {
          "annotationdefaults": {
           "arrowcolor": "#2a3f5f",
           "arrowhead": 0,
           "arrowwidth": 1
          },
          "coloraxis": {
           "colorbar": {
            "outlinewidth": 0,
            "ticks": ""
           }
          },
          "colorscale": {
           "diverging": [
            [
             0,
             "#8e0152"
            ],
            [
             0.1,
             "#c51b7d"
            ],
            [
             0.2,
             "#de77ae"
            ],
            [
             0.3,
             "#f1b6da"
            ],
            [
             0.4,
             "#fde0ef"
            ],
            [
             0.5,
             "#f7f7f7"
            ],
            [
             0.6,
             "#e6f5d0"
            ],
            [
             0.7,
             "#b8e186"
            ],
            [
             0.8,
             "#7fbc41"
            ],
            [
             0.9,
             "#4d9221"
            ],
            [
             1,
             "#276419"
            ]
           ],
           "sequential": [
            [
             0,
             "#0d0887"
            ],
            [
             0.1111111111111111,
             "#46039f"
            ],
            [
             0.2222222222222222,
             "#7201a8"
            ],
            [
             0.3333333333333333,
             "#9c179e"
            ],
            [
             0.4444444444444444,
             "#bd3786"
            ],
            [
             0.5555555555555556,
             "#d8576b"
            ],
            [
             0.6666666666666666,
             "#ed7953"
            ],
            [
             0.7777777777777778,
             "#fb9f3a"
            ],
            [
             0.8888888888888888,
             "#fdca26"
            ],
            [
             1,
             "#f0f921"
            ]
           ],
           "sequentialminus": [
            [
             0,
             "#0d0887"
            ],
            [
             0.1111111111111111,
             "#46039f"
            ],
            [
             0.2222222222222222,
             "#7201a8"
            ],
            [
             0.3333333333333333,
             "#9c179e"
            ],
            [
             0.4444444444444444,
             "#bd3786"
            ],
            [
             0.5555555555555556,
             "#d8576b"
            ],
            [
             0.6666666666666666,
             "#ed7953"
            ],
            [
             0.7777777777777778,
             "#fb9f3a"
            ],
            [
             0.8888888888888888,
             "#fdca26"
            ],
            [
             1,
             "#f0f921"
            ]
           ]
          },
          "colorway": [
           "#636efa",
           "#EF553B",
           "#00cc96",
           "#ab63fa",
           "#FFA15A",
           "#19d3f3",
           "#FF6692",
           "#B6E880",
           "#FF97FF",
           "#FECB52"
          ],
          "font": {
           "color": "#2a3f5f"
          },
          "geo": {
           "bgcolor": "white",
           "lakecolor": "white",
           "landcolor": "#E5ECF6",
           "showlakes": true,
           "showland": true,
           "subunitcolor": "white"
          },
          "hoverlabel": {
           "align": "left"
          },
          "hovermode": "closest",
          "mapbox": {
           "style": "light"
          },
          "paper_bgcolor": "white",
          "plot_bgcolor": "#E5ECF6",
          "polar": {
           "angularaxis": {
            "gridcolor": "white",
            "linecolor": "white",
            "ticks": ""
           },
           "bgcolor": "#E5ECF6",
           "radialaxis": {
            "gridcolor": "white",
            "linecolor": "white",
            "ticks": ""
           }
          },
          "scene": {
           "xaxis": {
            "backgroundcolor": "#E5ECF6",
            "gridcolor": "white",
            "gridwidth": 2,
            "linecolor": "white",
            "showbackground": true,
            "ticks": "",
            "zerolinecolor": "white"
           },
           "yaxis": {
            "backgroundcolor": "#E5ECF6",
            "gridcolor": "white",
            "gridwidth": 2,
            "linecolor": "white",
            "showbackground": true,
            "ticks": "",
            "zerolinecolor": "white"
           },
           "zaxis": {
            "backgroundcolor": "#E5ECF6",
            "gridcolor": "white",
            "gridwidth": 2,
            "linecolor": "white",
            "showbackground": true,
            "ticks": "",
            "zerolinecolor": "white"
           }
          },
          "shapedefaults": {
           "line": {
            "color": "#2a3f5f"
           }
          },
          "ternary": {
           "aaxis": {
            "gridcolor": "white",
            "linecolor": "white",
            "ticks": ""
           },
           "baxis": {
            "gridcolor": "white",
            "linecolor": "white",
            "ticks": ""
           },
           "bgcolor": "#E5ECF6",
           "caxis": {
            "gridcolor": "white",
            "linecolor": "white",
            "ticks": ""
           }
          },
          "title": {
           "x": 0.05
          },
          "xaxis": {
           "automargin": true,
           "gridcolor": "white",
           "linecolor": "white",
           "ticks": "",
           "title": {
            "standoff": 15
           },
           "zerolinecolor": "white",
           "zerolinewidth": 2
          },
          "yaxis": {
           "automargin": true,
           "gridcolor": "white",
           "linecolor": "white",
           "ticks": "",
           "title": {
            "standoff": 15
           },
           "zerolinecolor": "white",
           "zerolinewidth": 2
          }
         }
        },
        "title": {
         "text": "Pertusiss WDHB by Ethnicity"
        },
        "width": 600,
        "xaxis": {
         "tickangle": 45,
         "title": {
          "text": "Quarterly"
         },
         "type": "category"
        },
        "yaxis": {
         "tickformat": "%",
         "title": {
          "text": "Percentage"
         }
        }
       }
      },
      "text/html": [
       "<div>\n",
       "        \n",
       "        \n",
       "            <div id=\"a84d2e16-a51c-4a7d-ba3e-bd538d7b903b\" class=\"plotly-graph-div\" style=\"height:400px; width:600px;\"></div>\n",
       "            <script type=\"text/javascript\">\n",
       "                require([\"plotly\"], function(Plotly) {\n",
       "                    window.PLOTLYENV=window.PLOTLYENV || {};\n",
       "                    \n",
       "                if (document.getElementById(\"a84d2e16-a51c-4a7d-ba3e-bd538d7b903b\")) {\n",
       "                    Plotly.newPlot(\n",
       "                        'a84d2e16-a51c-4a7d-ba3e-bd538d7b903b',\n",
       "                        [{\"mode\": \"lines\", \"name\": \"Maori\", \"type\": \"scatter\", \"x\": [\"Q1_16\", \"Q2_16\", \"Q3_16\", \"Q4_16\", \"Q1_17\", \"Q2_17\", \"Q3_17\", \"Q4_17\", \"Q1_18\", \"Q2_18\", \"Q3_18\", \"Q4_18\", \"Q1_19\", \"Q2_19\", \"Q3_19\", \"Q4_19\", \"Q1_20\"], \"y\": [0.085, 0.117, 0.115, 0.195, 0.114, 0.2, 0.247, 0.193, 0.285, 0.246, 0.337, 0.297, 0.246, 0.436, 0.351, 0.284, 0.315]}, {\"mode\": \"lines+markers\", \"name\": \"Pacific\", \"type\": \"scatter\", \"x\": [\"Q1_16\", \"Q2_16\", \"Q3_16\", \"Q4_16\", \"Q1_17\", \"Q2_17\", \"Q3_17\", \"Q4_17\", \"Q1_18\", \"Q2_18\", \"Q3_18\", \"Q4_18\", \"Q1_19\", \"Q2_19\", \"Q3_19\", \"Q4_19\", \"Q1_20\"], \"y\": [0.061, 0.104, 0.22, 0.153, 0.1, 0.283, 0.206, 0.19, 0.283, 0.26, 0.353, 0.306, 0.274, 0.386, 0.408, 0.363, 0.322]}, {\"mode\": \"lines+markers\", \"name\": \"Asian\", \"type\": \"scatter\", \"x\": [\"Q1_16\", \"Q2_16\", \"Q3_16\", \"Q4_16\", \"Q1_17\", \"Q2_17\", \"Q3_17\", \"Q4_17\", \"Q1_18\", \"Q2_18\", \"Q3_18\", \"Q4_18\", \"Q1_19\", \"Q2_19\", \"Q3_19\", \"Q4_19\", \"Q1_20\"], \"y\": [0.2, 0.264, 0.333, 0.398, 0.428, 0.514, 0.491, 0.521, 0.514, 0.603, 0.61, 0.653, 0.613, 0.69, 0.69, 0.637, 0.643]}, {\"mode\": \"lines+markers\", \"name\": \"Others\", \"type\": \"scatter\", \"x\": [\"Q1_16\", \"Q2_16\", \"Q3_16\", \"Q4_16\", \"Q1_17\", \"Q2_17\", \"Q3_17\", \"Q4_17\", \"Q1_18\", \"Q2_18\", \"Q3_18\", \"Q4_18\", \"Q1_19\", \"Q2_19\", \"Q3_19\", \"Q4_19\", \"Q1_20\"], \"y\": [0.209, 0.298, 0.366, 0.364, 0.349, 0.435, 0.444, 0.464, 0.513, 0.536, 0.531, 0.533, 0.495, 0.55, 0.536, 0.529, 0.541]}, {\"mode\": \"lines+markers\", \"name\": \"Total\", \"type\": \"scatter\", \"x\": [\"Q1_16\", \"Q2_16\", \"Q3_16\", \"Q4_16\", \"Q1_17\", \"Q2_17\", \"Q3_17\", \"Q4_17\", \"Q1_18\", \"Q2_18\", \"Q3_18\", \"Q4_18\", \"Q1_19\", \"Q2_19\", \"Q3_19\", \"Q4_19\", \"Q1_20\"], \"y\": [0.182, 0.255, 0.325, 0.344, 0.331, 0.416, 0.412, 0.424, 0.463, 0.496, 0.515, 0.525, 0.491, 0.57, 0.558, 0.527, 0.531]}],\n",
       "                        {\"autosize\": true, \"height\": 400, \"showlegend\": true, \"template\": {\"data\": {\"bar\": [{\"error_x\": {\"color\": \"#2a3f5f\"}, \"error_y\": {\"color\": \"#2a3f5f\"}, \"marker\": {\"line\": {\"color\": \"#E5ECF6\", \"width\": 0.5}}, \"type\": \"bar\"}], \"barpolar\": [{\"marker\": {\"line\": {\"color\": \"#E5ECF6\", \"width\": 0.5}}, \"type\": \"barpolar\"}], \"carpet\": [{\"aaxis\": {\"endlinecolor\": \"#2a3f5f\", \"gridcolor\": \"white\", \"linecolor\": \"white\", \"minorgridcolor\": \"white\", \"startlinecolor\": \"#2a3f5f\"}, \"baxis\": {\"endlinecolor\": \"#2a3f5f\", \"gridcolor\": \"white\", \"linecolor\": \"white\", \"minorgridcolor\": \"white\", \"startlinecolor\": \"#2a3f5f\"}, \"type\": \"carpet\"}], \"choropleth\": [{\"colorbar\": {\"outlinewidth\": 0, \"ticks\": \"\"}, \"type\": \"choropleth\"}], \"contour\": [{\"colorbar\": {\"outlinewidth\": 0, \"ticks\": \"\"}, \"colorscale\": [[0.0, \"#0d0887\"], [0.1111111111111111, \"#46039f\"], [0.2222222222222222, \"#7201a8\"], [0.3333333333333333, \"#9c179e\"], [0.4444444444444444, \"#bd3786\"], [0.5555555555555556, \"#d8576b\"], [0.6666666666666666, \"#ed7953\"], [0.7777777777777778, \"#fb9f3a\"], [0.8888888888888888, \"#fdca26\"], [1.0, \"#f0f921\"]], \"type\": \"contour\"}], \"contourcarpet\": [{\"colorbar\": {\"outlinewidth\": 0, \"ticks\": \"\"}, \"type\": \"contourcarpet\"}], \"heatmap\": [{\"colorbar\": {\"outlinewidth\": 0, \"ticks\": \"\"}, \"colorscale\": [[0.0, \"#0d0887\"], [0.1111111111111111, \"#46039f\"], [0.2222222222222222, \"#7201a8\"], [0.3333333333333333, \"#9c179e\"], [0.4444444444444444, \"#bd3786\"], [0.5555555555555556, \"#d8576b\"], [0.6666666666666666, \"#ed7953\"], [0.7777777777777778, \"#fb9f3a\"], [0.8888888888888888, \"#fdca26\"], [1.0, \"#f0f921\"]], \"type\": \"heatmap\"}], \"heatmapgl\": [{\"colorbar\": {\"outlinewidth\": 0, \"ticks\": \"\"}, \"colorscale\": [[0.0, \"#0d0887\"], [0.1111111111111111, \"#46039f\"], [0.2222222222222222, \"#7201a8\"], [0.3333333333333333, \"#9c179e\"], [0.4444444444444444, \"#bd3786\"], [0.5555555555555556, \"#d8576b\"], [0.6666666666666666, \"#ed7953\"], [0.7777777777777778, \"#fb9f3a\"], [0.8888888888888888, \"#fdca26\"], [1.0, \"#f0f921\"]], \"type\": \"heatmapgl\"}], \"histogram\": [{\"marker\": {\"colorbar\": {\"outlinewidth\": 0, \"ticks\": \"\"}}, \"type\": \"histogram\"}], \"histogram2d\": [{\"colorbar\": {\"outlinewidth\": 0, \"ticks\": \"\"}, \"colorscale\": [[0.0, \"#0d0887\"], [0.1111111111111111, \"#46039f\"], [0.2222222222222222, \"#7201a8\"], [0.3333333333333333, \"#9c179e\"], [0.4444444444444444, \"#bd3786\"], [0.5555555555555556, \"#d8576b\"], [0.6666666666666666, \"#ed7953\"], [0.7777777777777778, \"#fb9f3a\"], [0.8888888888888888, \"#fdca26\"], [1.0, \"#f0f921\"]], \"type\": \"histogram2d\"}], \"histogram2dcontour\": [{\"colorbar\": {\"outlinewidth\": 0, \"ticks\": \"\"}, \"colorscale\": [[0.0, \"#0d0887\"], [0.1111111111111111, \"#46039f\"], [0.2222222222222222, \"#7201a8\"], [0.3333333333333333, \"#9c179e\"], [0.4444444444444444, \"#bd3786\"], [0.5555555555555556, \"#d8576b\"], [0.6666666666666666, \"#ed7953\"], [0.7777777777777778, \"#fb9f3a\"], [0.8888888888888888, \"#fdca26\"], [1.0, \"#f0f921\"]], \"type\": \"histogram2dcontour\"}], \"mesh3d\": [{\"colorbar\": {\"outlinewidth\": 0, \"ticks\": \"\"}, \"type\": \"mesh3d\"}], \"parcoords\": [{\"line\": {\"colorbar\": {\"outlinewidth\": 0, \"ticks\": \"\"}}, \"type\": \"parcoords\"}], \"pie\": [{\"automargin\": true, \"type\": \"pie\"}], \"scatter\": [{\"marker\": {\"colorbar\": {\"outlinewidth\": 0, \"ticks\": \"\"}}, \"type\": \"scatter\"}], \"scatter3d\": [{\"line\": {\"colorbar\": {\"outlinewidth\": 0, \"ticks\": \"\"}}, \"marker\": {\"colorbar\": {\"outlinewidth\": 0, \"ticks\": \"\"}}, \"type\": \"scatter3d\"}], \"scattercarpet\": [{\"marker\": {\"colorbar\": {\"outlinewidth\": 0, \"ticks\": \"\"}}, \"type\": \"scattercarpet\"}], \"scattergeo\": [{\"marker\": {\"colorbar\": {\"outlinewidth\": 0, \"ticks\": \"\"}}, \"type\": \"scattergeo\"}], \"scattergl\": [{\"marker\": {\"colorbar\": {\"outlinewidth\": 0, \"ticks\": \"\"}}, \"type\": \"scattergl\"}], \"scattermapbox\": [{\"marker\": {\"colorbar\": {\"outlinewidth\": 0, \"ticks\": \"\"}}, \"type\": \"scattermapbox\"}], \"scatterpolar\": [{\"marker\": {\"colorbar\": {\"outlinewidth\": 0, \"ticks\": \"\"}}, \"type\": \"scatterpolar\"}], \"scatterpolargl\": [{\"marker\": {\"colorbar\": {\"outlinewidth\": 0, \"ticks\": \"\"}}, \"type\": \"scatterpolargl\"}], \"scatterternary\": [{\"marker\": {\"colorbar\": {\"outlinewidth\": 0, \"ticks\": \"\"}}, \"type\": \"scatterternary\"}], \"surface\": [{\"colorbar\": {\"outlinewidth\": 0, \"ticks\": \"\"}, \"colorscale\": [[0.0, \"#0d0887\"], [0.1111111111111111, \"#46039f\"], [0.2222222222222222, \"#7201a8\"], [0.3333333333333333, \"#9c179e\"], [0.4444444444444444, \"#bd3786\"], [0.5555555555555556, \"#d8576b\"], [0.6666666666666666, \"#ed7953\"], [0.7777777777777778, \"#fb9f3a\"], [0.8888888888888888, \"#fdca26\"], [1.0, \"#f0f921\"]], \"type\": \"surface\"}], \"table\": [{\"cells\": {\"fill\": {\"color\": \"#EBF0F8\"}, \"line\": {\"color\": \"white\"}}, \"header\": {\"fill\": {\"color\": \"#C8D4E3\"}, \"line\": {\"color\": \"white\"}}, \"type\": \"table\"}]}, \"layout\": {\"annotationdefaults\": {\"arrowcolor\": \"#2a3f5f\", \"arrowhead\": 0, \"arrowwidth\": 1}, \"coloraxis\": {\"colorbar\": {\"outlinewidth\": 0, \"ticks\": \"\"}}, \"colorscale\": {\"diverging\": [[0, \"#8e0152\"], [0.1, \"#c51b7d\"], [0.2, \"#de77ae\"], [0.3, \"#f1b6da\"], [0.4, \"#fde0ef\"], [0.5, \"#f7f7f7\"], [0.6, \"#e6f5d0\"], [0.7, \"#b8e186\"], [0.8, \"#7fbc41\"], [0.9, \"#4d9221\"], [1, \"#276419\"]], \"sequential\": [[0.0, \"#0d0887\"], [0.1111111111111111, \"#46039f\"], [0.2222222222222222, \"#7201a8\"], [0.3333333333333333, \"#9c179e\"], [0.4444444444444444, \"#bd3786\"], [0.5555555555555556, \"#d8576b\"], [0.6666666666666666, \"#ed7953\"], [0.7777777777777778, \"#fb9f3a\"], [0.8888888888888888, \"#fdca26\"], [1.0, \"#f0f921\"]], \"sequentialminus\": [[0.0, \"#0d0887\"], [0.1111111111111111, \"#46039f\"], [0.2222222222222222, \"#7201a8\"], [0.3333333333333333, \"#9c179e\"], [0.4444444444444444, \"#bd3786\"], [0.5555555555555556, \"#d8576b\"], [0.6666666666666666, \"#ed7953\"], [0.7777777777777778, \"#fb9f3a\"], [0.8888888888888888, \"#fdca26\"], [1.0, \"#f0f921\"]]}, \"colorway\": [\"#636efa\", \"#EF553B\", \"#00cc96\", \"#ab63fa\", \"#FFA15A\", \"#19d3f3\", \"#FF6692\", \"#B6E880\", \"#FF97FF\", \"#FECB52\"], \"font\": {\"color\": \"#2a3f5f\"}, \"geo\": {\"bgcolor\": \"white\", \"lakecolor\": \"white\", \"landcolor\": \"#E5ECF6\", \"showlakes\": true, \"showland\": true, \"subunitcolor\": \"white\"}, \"hoverlabel\": {\"align\": \"left\"}, \"hovermode\": \"closest\", \"mapbox\": {\"style\": \"light\"}, \"paper_bgcolor\": \"white\", \"plot_bgcolor\": \"#E5ECF6\", \"polar\": {\"angularaxis\": {\"gridcolor\": \"white\", \"linecolor\": \"white\", \"ticks\": \"\"}, \"bgcolor\": \"#E5ECF6\", \"radialaxis\": {\"gridcolor\": \"white\", \"linecolor\": \"white\", \"ticks\": \"\"}}, \"scene\": {\"xaxis\": {\"backgroundcolor\": \"#E5ECF6\", \"gridcolor\": \"white\", \"gridwidth\": 2, \"linecolor\": \"white\", \"showbackground\": true, \"ticks\": \"\", \"zerolinecolor\": \"white\"}, \"yaxis\": {\"backgroundcolor\": \"#E5ECF6\", \"gridcolor\": \"white\", \"gridwidth\": 2, \"linecolor\": \"white\", \"showbackground\": true, \"ticks\": \"\", \"zerolinecolor\": \"white\"}, \"zaxis\": {\"backgroundcolor\": \"#E5ECF6\", \"gridcolor\": \"white\", \"gridwidth\": 2, \"linecolor\": \"white\", \"showbackground\": true, \"ticks\": \"\", \"zerolinecolor\": \"white\"}}, \"shapedefaults\": {\"line\": {\"color\": \"#2a3f5f\"}}, \"ternary\": {\"aaxis\": {\"gridcolor\": \"white\", \"linecolor\": \"white\", \"ticks\": \"\"}, \"baxis\": {\"gridcolor\": \"white\", \"linecolor\": \"white\", \"ticks\": \"\"}, \"bgcolor\": \"#E5ECF6\", \"caxis\": {\"gridcolor\": \"white\", \"linecolor\": \"white\", \"ticks\": \"\"}}, \"title\": {\"x\": 0.05}, \"xaxis\": {\"automargin\": true, \"gridcolor\": \"white\", \"linecolor\": \"white\", \"ticks\": \"\", \"title\": {\"standoff\": 15}, \"zerolinecolor\": \"white\", \"zerolinewidth\": 2}, \"yaxis\": {\"automargin\": true, \"gridcolor\": \"white\", \"linecolor\": \"white\", \"ticks\": \"\", \"title\": {\"standoff\": 15}, \"zerolinecolor\": \"white\", \"zerolinewidth\": 2}}}, \"title\": {\"text\": \"Pertusiss WDHB by Ethnicity\"}, \"width\": 600, \"xaxis\": {\"tickangle\": 45, \"title\": {\"text\": \"Quarterly\"}, \"type\": \"category\"}, \"yaxis\": {\"tickformat\": \"%\", \"title\": {\"text\": \"Percentage\"}}},\n",
       "                        {\"responsive\": true}\n",
       "                    ).then(function(){\n",
       "                            \n",
       "var gd = document.getElementById('a84d2e16-a51c-4a7d-ba3e-bd538d7b903b');\n",
       "var x = new MutationObserver(function (mutations, observer) {{\n",
       "        var display = window.getComputedStyle(gd).display;\n",
       "        if (!display || display === 'none') {{\n",
       "            console.log([gd, 'removed!']);\n",
       "            Plotly.purge(gd);\n",
       "            observer.disconnect();\n",
       "        }}\n",
       "}});\n",
       "\n",
       "// Listen for the removal of the full notebook cells\n",
       "var notebookContainer = gd.closest('#notebook-container');\n",
       "if (notebookContainer) {{\n",
       "    x.observe(notebookContainer, {childList: true});\n",
       "}}\n",
       "\n",
       "// Listen for the clearing of the current output cell\n",
       "var outputEl = gd.closest('.output');\n",
       "if (outputEl) {{\n",
       "    x.observe(outputEl, {childList: true});\n",
       "}}\n",
       "\n",
       "                        })\n",
       "                };\n",
       "                });\n",
       "            </script>\n",
       "        </div>"
      ]
     },
     "metadata": {},
     "output_type": "display_data"
    }
   ],
   "source": [
    "import pandas as pd\n",
    "import matplotlib.pyplot as plt\n",
    "import plotly.graph_objects as go\n",
    "import numpy as np\n",
    "#DHBAll = pd.ExcelFile('G:/Funding Team/Planning/Health Information/HIAT/Michael Files/Antinatal Vaccination/April 2019 to March 2020/For Python.xlsx')\n",
    "#DHBPert = pd.read_excel(DHBAll, 'Pertussis Graphs', skiprows=5)\n",
    "WDHBEthnic = DHBPert[['Maori','Pacific','Asian', 'European_Other', 'Total']]\n",
    "WDHBEthnic=WDHBEthnic.round(3)\n",
    "WDHBEthnic=WDHBEthnic[:29]\n",
    "\n",
    "# Declare a list that is to be converted into a column \n",
    "Quarter = ['Q1_16', 'Q2_16', 'Q3_16', 'Q4_16','Q1_17', 'Q2_17', 'Q3_17', 'Q4_17','Q1_18', 'Q2_18', 'Q3_18', 'Q4_18','Q1_19', \n",
    "           'Q2_19', 'Q3_19', 'Q4_19','Q1_20', 'Q2_20', 'Q3_20', 'Q4_20',\n",
    "           'Q1_21', 'Q2_21', 'Q3_21', 'Q4_21','Q1_22', 'Q2_22', 'Q3_22', 'Q4_22', 'Q1_23'] \n",
    "# Using 'Address' as the column name \n",
    "# and equating it to the list \n",
    "WDHBEthnic['Quarter'] = Quarter \n",
    "WDHBEthnic=WDHBEthnic.dropna()\n",
    "random_x = WDHBEthnic[\"Quarter\"].tolist()\n",
    "# using to_numpy() \n",
    "random_y0 = WDHBEthnic['Maori'].tolist()   \n",
    "\n",
    "random_y1 = WDHBEthnic['Pacific'].tolist()  \n",
    "\n",
    "random_y2 = WDHBEthnic['Asian'].tolist()   \n",
    "random_y3 = WDHBEthnic['European_Other'].tolist() \n",
    "random_y4 = WDHBEthnic['Total'].tolist() \n",
    "\n",
    "import numpy as np\n",
    "\n",
    "# Create traces\n",
    "fig = go.Figure()\n",
    "fig.add_trace(go.Scatter(x=random_x, y=random_y0,\n",
    "                    mode='lines',\n",
    "                    name='Maori'))\n",
    "fig.add_trace(go.Scatter(x=random_x, y=random_y1,\n",
    "                    mode='lines+markers',\n",
    "                    name='Pacific'))\n",
    "fig.add_trace(go.Scatter(x=random_x, y=random_y2,\n",
    "                    mode='lines+markers',\n",
    "                    name='Asian'))\n",
    "fig.add_trace(go.Scatter(x=random_x, y=random_y3,\n",
    "                    mode='lines+markers',\n",
    "                    name='Others'))\n",
    "fig.add_trace(go.Scatter(x=random_x, y=random_y4,\n",
    "                    mode='lines+markers',\n",
    "                    name='Total'))\n",
    "# Edit the layout\n",
    "fig.update_layout(title='Pertusiss by Ethnicity',\n",
    "                   xaxis_title='Quarter',\n",
    "                   yaxis_title='Percentage')\n",
    "\n",
    "fig.update_layout(xaxis_type='category',\n",
    "                  title_text='Pertusiss WDHB by Ethnicity',\n",
    "                  xaxis_title='Quarterly',\n",
    "                  yaxis_title='Percentage')\n",
    "fig.update_xaxes(tickangle=45)\n",
    "fig.update_yaxes(tickformat=\"%\")\n",
    "fig.update_layout(showlegend=True)\n",
    "#fig.update_layout(legend_orientation=\"h\")\n",
    "fig.update_layout(\n",
    "    autosize=True,\n",
    "    width=600,\n",
    "    height=400,)\n",
    "fig.show()"
   ]
  },
  {
   "cell_type": "markdown",
   "metadata": {},
   "source": [
    "## Coverage by Primary Health Organisation (PHO)"
   ]
  },
  {
   "cell_type": "code",
   "execution_count": 35,
   "metadata": {},
   "outputs": [
    {
     "data": {
      "text/plain": [
       "'*Includes births in the 12 months to 31 March 2020'"
      ]
     },
     "execution_count": 35,
     "metadata": {},
     "output_type": "execute_result"
    }
   ],
   "source": [
    "sheet3[\"A23\"].value"
   ]
  },
  {
   "cell_type": "code",
   "execution_count": 36,
   "metadata": {
    "scrolled": false
   },
   "outputs": [
    {
     "data": {
      "text/plain": [
       "'*Current performance includes only PHO enrolled individuals as at March 2020'"
      ]
     },
     "execution_count": 36,
     "metadata": {},
     "output_type": "execute_result"
    }
   ],
   "source": [
    "sheet3[\"A24\"].value"
   ]
  },
  {
   "cell_type": "code",
   "execution_count": 37,
   "metadata": {},
   "outputs": [
    {
     "data": {
      "text/plain": [
       "'*Ethnicity is prioritised and is that recorded on the PHO register'"
      ]
     },
     "execution_count": 37,
     "metadata": {},
     "output_type": "execute_result"
    }
   ],
   "source": [
    "sheet3[\"A25\"].value"
   ]
  },
  {
   "cell_type": "code",
   "execution_count": 38,
   "metadata": {},
   "outputs": [
    {
     "data": {
      "text/plain": [
       "'*Domicile is as per that on March 2020 PHO register and might be different to that of the mother when the birth took place'"
      ]
     },
     "execution_count": 38,
     "metadata": {},
     "output_type": "execute_result"
    }
   ],
   "source": [
    "sheet3[\"A26\"].value"
   ]
  },
  {
   "cell_type": "code",
   "execution_count": 25,
   "metadata": {},
   "outputs": [
    {
     "data": {
      "text/plain": [
       "1.0"
      ]
     },
     "execution_count": 25,
     "metadata": {},
     "output_type": "execute_result"
    }
   ],
   "source": [
    "float\n",
    "float(1)\n"
   ]
  },
  {
   "cell_type": "code",
   "execution_count": 16,
   "metadata": {},
   "outputs": [
    {
     "data": {
      "text/html": [
       "<div>\n",
       "<style scoped>\n",
       "    .dataframe tbody tr th:only-of-type {\n",
       "        vertical-align: middle;\n",
       "    }\n",
       "\n",
       "    .dataframe tbody tr th {\n",
       "        vertical-align: top;\n",
       "    }\n",
       "\n",
       "    .dataframe thead th {\n",
       "        text-align: right;\n",
       "    }\n",
       "</style>\n",
       "<table border=\"1\" class=\"dataframe\">\n",
       "  <thead>\n",
       "    <tr style=\"text-align: right;\">\n",
       "      <th></th>\n",
       "      <th>Product</th>\n",
       "      <th>Quantity</th>\n",
       "    </tr>\n",
       "  </thead>\n",
       "  <tbody>\n",
       "    <tr>\n",
       "      <th>row 1</th>\n",
       "      <td>Apple pie</td>\n",
       "      <td>20</td>\n",
       "    </tr>\n",
       "    <tr>\n",
       "      <th>row 2</th>\n",
       "      <td>Lemon cake</td>\n",
       "      <td>30</td>\n",
       "    </tr>\n",
       "  </tbody>\n",
       "</table>\n",
       "</div>"
      ],
      "text/plain": [
       "          Product Quantity\n",
       "row 1   Apple pie       20\n",
       "row 2  Lemon cake       30"
      ]
     },
     "execution_count": 16,
     "metadata": {},
     "output_type": "execute_result"
    }
   ],
   "source": [
    "df.head()"
   ]
  },
  {
   "cell_type": "code",
   "execution_count": 28,
   "metadata": {},
   "outputs": [
    {
     "data": {
      "text/html": [
       "<div>\n",
       "<style scoped>\n",
       "    .dataframe tbody tr th:only-of-type {\n",
       "        vertical-align: middle;\n",
       "    }\n",
       "\n",
       "    .dataframe tbody tr th {\n",
       "        vertical-align: top;\n",
       "    }\n",
       "\n",
       "    .dataframe thead th {\n",
       "        text-align: right;\n",
       "    }\n",
       "</style>\n",
       "<table border=\"1\" class=\"dataframe\">\n",
       "  <thead>\n",
       "    <tr style=\"text-align: right;\">\n",
       "      <th></th>\n",
       "      <th>Age Group</th>\n",
       "      <th>gender</th>\n",
       "      <th>ethnicity</th>\n",
       "      <th>Count</th>\n",
       "    </tr>\n",
       "  </thead>\n",
       "  <tbody>\n",
       "    <tr>\n",
       "      <th>0</th>\n",
       "      <td>20-24</td>\n",
       "      <td>f</td>\n",
       "      <td>m</td>\n",
       "      <td>12</td>\n",
       "    </tr>\n",
       "    <tr>\n",
       "      <th>1</th>\n",
       "      <td>20-24</td>\n",
       "      <td>m</td>\n",
       "      <td>m</td>\n",
       "      <td>10</td>\n",
       "    </tr>\n",
       "    <tr>\n",
       "      <th>2</th>\n",
       "      <td>25-29</td>\n",
       "      <td>f</td>\n",
       "      <td>o</td>\n",
       "      <td>22</td>\n",
       "    </tr>\n",
       "    <tr>\n",
       "      <th>3</th>\n",
       "      <td>25-29</td>\n",
       "      <td>m</td>\n",
       "      <td>o</td>\n",
       "      <td>20</td>\n",
       "    </tr>\n",
       "  </tbody>\n",
       "</table>\n",
       "</div>"
      ],
      "text/plain": [
       "  Age Group gender ethnicity  Count\n",
       "0     20-24      f         m     12\n",
       "1     20-24      m         m     10\n",
       "2     25-29      f         o     22\n",
       "3     25-29      m         o     20"
      ]
     },
     "execution_count": 28,
     "metadata": {},
     "output_type": "execute_result"
    }
   ],
   "source": [
    "import pandas as pd\n",
    "df = pd.read_excel(\"F:/Seagate Backup Plus Drive/test2.xlsx\")\n",
    "#df = pd.DataFrame([['Apple pie', '20'], ['Lemon cake', '30']], index=['row 1', 'row 2'], columns=['Product', 'Quantity'])\n",
    "df"
   ]
  },
  {
   "cell_type": "code",
   "execution_count": null,
   "metadata": {},
   "outputs": [],
   "source": []
  },
  {
   "cell_type": "code",
   "execution_count": null,
   "metadata": {},
   "outputs": [],
   "source": []
  }
 ],
 "metadata": {
  "hide_input": false,
  "kernelspec": {
   "display_name": "Python 3",
   "language": "python",
   "name": "python3"
  },
  "language_info": {
   "codemirror_mode": {
    "name": "ipython",
    "version": 3
   },
   "file_extension": ".py",
   "mimetype": "text/x-python",
   "name": "python",
   "nbconvert_exporter": "python",
   "pygments_lexer": "ipython3",
   "version": "3.7.3"
  },
  "latex_envs": {
   "LaTeX_envs_menu_present": false,
   "autoclose": false,
   "autocomplete": true,
   "bibliofile": "biblio.bib",
   "cite_by": "apalike",
   "current_citInitial": 1,
   "eqLabelWithNumbers": false,
   "eqNumInitial": 1,
   "hotkeys": {
    "equation": "Ctrl-E",
    "itemize": "Ctrl-I"
   },
   "labels_anchors": false,
   "latex_user_defs": false,
   "report_style_numbering": false,
   "user_envs_cfg": false
  },
  "toc": {
   "base_numbering": 1,
   "nav_menu": {},
   "number_sections": true,
   "sideBar": true,
   "skip_h1_title": false,
   "title_cell": "Table of Contents",
   "title_sidebar": "Contents",
   "toc_cell": true,
   "toc_position": {},
   "toc_section_display": true,
   "toc_window_display": false
  }
 },
 "nbformat": 4,
 "nbformat_minor": 4
}
