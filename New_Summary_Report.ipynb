{
 "cells": [
  {
   "cell_type": "markdown",
   "metadata": {},
   "source": [
    "# <center>Pertussis Vaccination in Pregnancy</center>"
   ]
  },
  {
   "cell_type": "code",
   "execution_count": 3,
   "metadata": {},
   "outputs": [
    {
     "data": {
      "text/markdown": [
       "Coverage report to 31st of March 2020"
      ],
      "text/plain": [
       "<IPython.core.display.Markdown object>"
      ]
     },
     "metadata": {},
     "output_type": "display_data"
    }
   ],
   "source": [
    "import pandas as pd\n",
    "import matplotlib.pyplot as plt\n",
    "import plotly.graph_objects as go\n",
    "import numpy as np\n",
    "from openpyxl import load_workbook\n",
    "#workbook = load_workbook(filename=\"F:\\Seagate Backup Plus Drive/Test1.xlsx\")\n",
    "workbook = load_workbook(filename=\"G:\\Funding Team\\Planning\\Health Information\\HIAT\\Michael Files\\Antinatal Vaccination\\April 2019 to March 2020\\For Python.xlsx\")\n",
    "#sheet.active = 1\n",
    "sheet3 = workbook[\"Text\"]\n",
    "#sheet3['A1'].value\n",
    "from IPython.display import Markdown, display\n",
    "def printmd(string):\n",
    "    display(Markdown(string))\n",
    "printmd(sheet3['A1'].value)\n"
   ]
  },
  {
   "cell_type": "code",
   "execution_count": 5,
   "metadata": {},
   "outputs": [
    {
     "data": {
      "text/plain": [
       "'This following summary assesses pertussis vaccination coverage in women giving birth in the 12 months to the 31st of March 2020 with DHB level trends from January 2016.  National Health Index Numbers (NHI) of women giving birth in Auckland District Health Board (DHB), Counties Manukau DHB or Waitematā DHB hospitals were matched to completed vaccination data held on the National Immunisation Register (NIR).  A pertussis vaccination is counted as being received if the vaccination was given within 28 weeks prior to giving birth. Vaccinations that were given but not entered into the NIR will not be included also vaccinations given overseas or by providers outside of the Auckland Metro Region may also not be included.'"
      ]
     },
     "execution_count": 5,
     "metadata": {},
     "output_type": "execute_result"
    }
   ],
   "source": [
    "sheet3['A3'].value"
   ]
  },
  {
   "cell_type": "markdown",
   "metadata": {},
   "source": [
    "## Coverage by District Health Board"
   ]
  },
  {
   "cell_type": "code",
   "execution_count": 6,
   "metadata": {},
   "outputs": [
    {
     "data": {
      "text/plain": [
       "'The highest vaccination coverage rates (12 month period) are seen among Women domiciled in Auckland DHB (60.9%), followed by Waitematā DHB (54.8%) and Counties Manukau DHB (42.8%). The below graph is coverage by month of birth.'"
      ]
     },
     "execution_count": 6,
     "metadata": {},
     "output_type": "execute_result"
    }
   ],
   "source": [
    "sheet3['A5'].value"
   ]
  },
  {
   "cell_type": "code",
   "execution_count": 4,
   "metadata": {},
   "outputs": [
    {
     "data": {
      "text/html": [
       "        <script type=\"text/javascript\">\n",
       "        window.PlotlyConfig = {MathJaxConfig: 'local'};\n",
       "        if (window.MathJax) {MathJax.Hub.Config({SVG: {font: \"STIX-Web\"}});}\n",
       "        if (typeof require !== 'undefined') {\n",
       "        require.undef(\"plotly\");\n",
       "        requirejs.config({\n",
       "            paths: {\n",
       "                'plotly': ['https://cdn.plot.ly/plotly-latest.min']\n",
       "            }\n",
       "        });\n",
       "        require(['plotly'], function(Plotly) {\n",
       "            window._Plotly = Plotly;\n",
       "        });\n",
       "        }\n",
       "        </script>\n",
       "        "
      ]
     },
     "metadata": {},
     "output_type": "display_data"
    },
    {
     "data": {
      "application/vnd.plotly.v1+json": {
       "config": {
        "plotlyServerURL": "https://plotly.your-company.com"
       },
       "data": [
        {
         "mode": "lines+markers",
         "name": "Counties_Manukau",
         "type": "scatter",
         "x": [
          "Jan_16",
          "Feb_16",
          "Mar_16",
          "Apr_16",
          "May_16",
          "Jun_16",
          "Jul_16",
          "Aug_16",
          "Sep_16",
          "Oct_16",
          "Nov_16",
          "Dec_16",
          "Jan_17",
          "Feb_17",
          "Mar_17",
          "Apr_17",
          "May_17",
          "Jun_17",
          "Jul_17",
          "Aug_17",
          "Sep_17",
          "Oct_17",
          "Nov_17",
          "Dec_17",
          "Jan_18",
          "Feb_18",
          "Mar_18",
          "Apr_18",
          "May_18",
          "Jun_18",
          "Jul_18",
          "Aug_18",
          "Sep_18",
          "Oct_18",
          "Nov_18",
          "Dec_18",
          "Jan_19",
          "Feb_19",
          "Mar_19",
          "Apr_19",
          "May_19",
          "Jun_19",
          "Jul_19",
          "Aug_19",
          "Sep_19",
          "Oct_19",
          "Nov_19",
          "Dec_19",
          "Jan_20",
          "Feb_20",
          "Mar_20"
         ],
         "y": [
          0.117,
          0.109,
          0.123,
          0.142,
          0.18,
          0.193,
          0.186,
          0.24,
          0.229,
          0.252,
          0.226,
          0.188,
          0.206,
          0.168,
          0.231,
          0.253,
          0.308,
          0.313,
          0.344,
          0.311,
          0.313,
          0.27,
          0.292,
          0.253,
          0.315,
          0.329,
          0.343,
          0.395,
          0.395,
          0.375,
          0.415,
          0.363,
          0.383,
          0.418,
          0.399,
          0.399,
          0.393,
          0.366,
          0.395,
          0.475,
          0.418,
          0.422,
          0.415,
          0.435,
          0.475,
          0.43,
          0.43,
          0.393,
          0.396,
          0.396,
          0.445
         ]
        },
        {
         "mode": "lines+markers",
         "name": "Auckland",
         "type": "scatter",
         "x": [
          "Jan_16",
          "Feb_16",
          "Mar_16",
          "Apr_16",
          "May_16",
          "Jun_16",
          "Jul_16",
          "Aug_16",
          "Sep_16",
          "Oct_16",
          "Nov_16",
          "Dec_16",
          "Jan_17",
          "Feb_17",
          "Mar_17",
          "Apr_17",
          "May_17",
          "Jun_17",
          "Jul_17",
          "Aug_17",
          "Sep_17",
          "Oct_17",
          "Nov_17",
          "Dec_17",
          "Jan_18",
          "Feb_18",
          "Mar_18",
          "Apr_18",
          "May_18",
          "Jun_18",
          "Jul_18",
          "Aug_18",
          "Sep_18",
          "Oct_18",
          "Nov_18",
          "Dec_18",
          "Jan_19",
          "Feb_19",
          "Mar_19",
          "Apr_19",
          "May_19",
          "Jun_19",
          "Jul_19",
          "Aug_19",
          "Sep_19",
          "Oct_19",
          "Nov_19",
          "Dec_19",
          "Jan_20",
          "Feb_20",
          "Mar_20"
         ],
         "y": [
          0.231,
          0.259,
          0.286,
          0.331,
          0.355,
          0.36,
          0.391,
          0.393,
          0.44,
          0.443,
          0.436,
          0.425,
          0.462,
          0.376,
          0.415,
          0.416,
          0.487,
          0.501,
          0.493,
          0.508,
          0.456,
          0.499,
          0.529,
          0.519,
          0.491,
          0.523,
          0.489,
          0.511,
          0.545,
          0.587,
          0.555,
          0.545,
          0.54,
          0.535,
          0.538,
          0.529,
          0.533,
          0.519,
          0.564,
          0.615,
          0.644,
          0.623,
          0.605,
          0.622,
          0.63,
          0.582,
          0.59,
          0.606,
          0.598,
          0.607,
          0.59
         ]
        },
        {
         "mode": "lines+markers",
         "name": "Waitemata",
         "type": "scatter",
         "x": [
          "Jan_16",
          "Feb_16",
          "Mar_16",
          "Apr_16",
          "May_16",
          "Jun_16",
          "Jul_16",
          "Aug_16",
          "Sep_16",
          "Oct_16",
          "Nov_16",
          "Dec_16",
          "Jan_17",
          "Feb_17",
          "Mar_17",
          "Apr_17",
          "May_17",
          "Jun_17",
          "Jul_17",
          "Aug_17",
          "Sep_17",
          "Oct_17",
          "Nov_17",
          "Dec_17",
          "Jan_18",
          "Feb_18",
          "Mar_18",
          "Apr_18",
          "May_18",
          "Jun_18",
          "Jul_18",
          "Aug_18",
          "Sep_18",
          "Oct_18",
          "Nov_18",
          "Dec_18",
          "Jan_19",
          "Feb_19",
          "Mar_19",
          "Apr_19",
          "May_19",
          "Jun_19",
          "Jul_19",
          "Aug_19",
          "Sep_19",
          "Oct_19",
          "Nov_19",
          "Dec_19",
          "Jan_20",
          "Feb_20",
          "Mar_20"
         ],
         "y": [
          0.192,
          0.19,
          0.153,
          0.237,
          0.254,
          0.259,
          0.299,
          0.331,
          0.329,
          0.318,
          0.324,
          0.365,
          0.34,
          0.313,
          0.339,
          0.357,
          0.421,
          0.473,
          0.411,
          0.423,
          0.403,
          0.428,
          0.447,
          0.393,
          0.435,
          0.471,
          0.482,
          0.488,
          0.521,
          0.479,
          0.555,
          0.481,
          0.511,
          0.504,
          0.546,
          0.527,
          0.476,
          0.486,
          0.509,
          0.564,
          0.569,
          0.53,
          0.577,
          0.524,
          0.586,
          0.554,
          0.538,
          0.536,
          0.52,
          0.533,
          0.543
         ]
        }
       ],
       "layout": {
        "autosize": false,
        "height": 400,
        "showlegend": true,
        "template": {
         "data": {
          "bar": [
           {
            "error_x": {
             "color": "#2a3f5f"
            },
            "error_y": {
             "color": "#2a3f5f"
            },
            "marker": {
             "line": {
              "color": "#E5ECF6",
              "width": 0.5
             }
            },
            "type": "bar"
           }
          ],
          "barpolar": [
           {
            "marker": {
             "line": {
              "color": "#E5ECF6",
              "width": 0.5
             }
            },
            "type": "barpolar"
           }
          ],
          "carpet": [
           {
            "aaxis": {
             "endlinecolor": "#2a3f5f",
             "gridcolor": "white",
             "linecolor": "white",
             "minorgridcolor": "white",
             "startlinecolor": "#2a3f5f"
            },
            "baxis": {
             "endlinecolor": "#2a3f5f",
             "gridcolor": "white",
             "linecolor": "white",
             "minorgridcolor": "white",
             "startlinecolor": "#2a3f5f"
            },
            "type": "carpet"
           }
          ],
          "choropleth": [
           {
            "colorbar": {
             "outlinewidth": 0,
             "ticks": ""
            },
            "type": "choropleth"
           }
          ],
          "contour": [
           {
            "colorbar": {
             "outlinewidth": 0,
             "ticks": ""
            },
            "colorscale": [
             [
              0,
              "#0d0887"
             ],
             [
              0.1111111111111111,
              "#46039f"
             ],
             [
              0.2222222222222222,
              "#7201a8"
             ],
             [
              0.3333333333333333,
              "#9c179e"
             ],
             [
              0.4444444444444444,
              "#bd3786"
             ],
             [
              0.5555555555555556,
              "#d8576b"
             ],
             [
              0.6666666666666666,
              "#ed7953"
             ],
             [
              0.7777777777777778,
              "#fb9f3a"
             ],
             [
              0.8888888888888888,
              "#fdca26"
             ],
             [
              1,
              "#f0f921"
             ]
            ],
            "type": "contour"
           }
          ],
          "contourcarpet": [
           {
            "colorbar": {
             "outlinewidth": 0,
             "ticks": ""
            },
            "type": "contourcarpet"
           }
          ],
          "heatmap": [
           {
            "colorbar": {
             "outlinewidth": 0,
             "ticks": ""
            },
            "colorscale": [
             [
              0,
              "#0d0887"
             ],
             [
              0.1111111111111111,
              "#46039f"
             ],
             [
              0.2222222222222222,
              "#7201a8"
             ],
             [
              0.3333333333333333,
              "#9c179e"
             ],
             [
              0.4444444444444444,
              "#bd3786"
             ],
             [
              0.5555555555555556,
              "#d8576b"
             ],
             [
              0.6666666666666666,
              "#ed7953"
             ],
             [
              0.7777777777777778,
              "#fb9f3a"
             ],
             [
              0.8888888888888888,
              "#fdca26"
             ],
             [
              1,
              "#f0f921"
             ]
            ],
            "type": "heatmap"
           }
          ],
          "heatmapgl": [
           {
            "colorbar": {
             "outlinewidth": 0,
             "ticks": ""
            },
            "colorscale": [
             [
              0,
              "#0d0887"
             ],
             [
              0.1111111111111111,
              "#46039f"
             ],
             [
              0.2222222222222222,
              "#7201a8"
             ],
             [
              0.3333333333333333,
              "#9c179e"
             ],
             [
              0.4444444444444444,
              "#bd3786"
             ],
             [
              0.5555555555555556,
              "#d8576b"
             ],
             [
              0.6666666666666666,
              "#ed7953"
             ],
             [
              0.7777777777777778,
              "#fb9f3a"
             ],
             [
              0.8888888888888888,
              "#fdca26"
             ],
             [
              1,
              "#f0f921"
             ]
            ],
            "type": "heatmapgl"
           }
          ],
          "histogram": [
           {
            "marker": {
             "colorbar": {
              "outlinewidth": 0,
              "ticks": ""
             }
            },
            "type": "histogram"
           }
          ],
          "histogram2d": [
           {
            "colorbar": {
             "outlinewidth": 0,
             "ticks": ""
            },
            "colorscale": [
             [
              0,
              "#0d0887"
             ],
             [
              0.1111111111111111,
              "#46039f"
             ],
             [
              0.2222222222222222,
              "#7201a8"
             ],
             [
              0.3333333333333333,
              "#9c179e"
             ],
             [
              0.4444444444444444,
              "#bd3786"
             ],
             [
              0.5555555555555556,
              "#d8576b"
             ],
             [
              0.6666666666666666,
              "#ed7953"
             ],
             [
              0.7777777777777778,
              "#fb9f3a"
             ],
             [
              0.8888888888888888,
              "#fdca26"
             ],
             [
              1,
              "#f0f921"
             ]
            ],
            "type": "histogram2d"
           }
          ],
          "histogram2dcontour": [
           {
            "colorbar": {
             "outlinewidth": 0,
             "ticks": ""
            },
            "colorscale": [
             [
              0,
              "#0d0887"
             ],
             [
              0.1111111111111111,
              "#46039f"
             ],
             [
              0.2222222222222222,
              "#7201a8"
             ],
             [
              0.3333333333333333,
              "#9c179e"
             ],
             [
              0.4444444444444444,
              "#bd3786"
             ],
             [
              0.5555555555555556,
              "#d8576b"
             ],
             [
              0.6666666666666666,
              "#ed7953"
             ],
             [
              0.7777777777777778,
              "#fb9f3a"
             ],
             [
              0.8888888888888888,
              "#fdca26"
             ],
             [
              1,
              "#f0f921"
             ]
            ],
            "type": "histogram2dcontour"
           }
          ],
          "mesh3d": [
           {
            "colorbar": {
             "outlinewidth": 0,
             "ticks": ""
            },
            "type": "mesh3d"
           }
          ],
          "parcoords": [
           {
            "line": {
             "colorbar": {
              "outlinewidth": 0,
              "ticks": ""
             }
            },
            "type": "parcoords"
           }
          ],
          "pie": [
           {
            "automargin": true,
            "type": "pie"
           }
          ],
          "scatter": [
           {
            "marker": {
             "colorbar": {
              "outlinewidth": 0,
              "ticks": ""
             }
            },
            "type": "scatter"
           }
          ],
          "scatter3d": [
           {
            "line": {
             "colorbar": {
              "outlinewidth": 0,
              "ticks": ""
             }
            },
            "marker": {
             "colorbar": {
              "outlinewidth": 0,
              "ticks": ""
             }
            },
            "type": "scatter3d"
           }
          ],
          "scattercarpet": [
           {
            "marker": {
             "colorbar": {
              "outlinewidth": 0,
              "ticks": ""
             }
            },
            "type": "scattercarpet"
           }
          ],
          "scattergeo": [
           {
            "marker": {
             "colorbar": {
              "outlinewidth": 0,
              "ticks": ""
             }
            },
            "type": "scattergeo"
           }
          ],
          "scattergl": [
           {
            "marker": {
             "colorbar": {
              "outlinewidth": 0,
              "ticks": ""
             }
            },
            "type": "scattergl"
           }
          ],
          "scattermapbox": [
           {
            "marker": {
             "colorbar": {
              "outlinewidth": 0,
              "ticks": ""
             }
            },
            "type": "scattermapbox"
           }
          ],
          "scatterpolar": [
           {
            "marker": {
             "colorbar": {
              "outlinewidth": 0,
              "ticks": ""
             }
            },
            "type": "scatterpolar"
           }
          ],
          "scatterpolargl": [
           {
            "marker": {
             "colorbar": {
              "outlinewidth": 0,
              "ticks": ""
             }
            },
            "type": "scatterpolargl"
           }
          ],
          "scatterternary": [
           {
            "marker": {
             "colorbar": {
              "outlinewidth": 0,
              "ticks": ""
             }
            },
            "type": "scatterternary"
           }
          ],
          "surface": [
           {
            "colorbar": {
             "outlinewidth": 0,
             "ticks": ""
            },
            "colorscale": [
             [
              0,
              "#0d0887"
             ],
             [
              0.1111111111111111,
              "#46039f"
             ],
             [
              0.2222222222222222,
              "#7201a8"
             ],
             [
              0.3333333333333333,
              "#9c179e"
             ],
             [
              0.4444444444444444,
              "#bd3786"
             ],
             [
              0.5555555555555556,
              "#d8576b"
             ],
             [
              0.6666666666666666,
              "#ed7953"
             ],
             [
              0.7777777777777778,
              "#fb9f3a"
             ],
             [
              0.8888888888888888,
              "#fdca26"
             ],
             [
              1,
              "#f0f921"
             ]
            ],
            "type": "surface"
           }
          ],
          "table": [
           {
            "cells": {
             "fill": {
              "color": "#EBF0F8"
             },
             "line": {
              "color": "white"
             }
            },
            "header": {
             "fill": {
              "color": "#C8D4E3"
             },
             "line": {
              "color": "white"
             }
            },
            "type": "table"
           }
          ]
         },
         "layout": {
          "annotationdefaults": {
           "arrowcolor": "#2a3f5f",
           "arrowhead": 0,
           "arrowwidth": 1
          },
          "coloraxis": {
           "colorbar": {
            "outlinewidth": 0,
            "ticks": ""
           }
          },
          "colorscale": {
           "diverging": [
            [
             0,
             "#8e0152"
            ],
            [
             0.1,
             "#c51b7d"
            ],
            [
             0.2,
             "#de77ae"
            ],
            [
             0.3,
             "#f1b6da"
            ],
            [
             0.4,
             "#fde0ef"
            ],
            [
             0.5,
             "#f7f7f7"
            ],
            [
             0.6,
             "#e6f5d0"
            ],
            [
             0.7,
             "#b8e186"
            ],
            [
             0.8,
             "#7fbc41"
            ],
            [
             0.9,
             "#4d9221"
            ],
            [
             1,
             "#276419"
            ]
           ],
           "sequential": [
            [
             0,
             "#0d0887"
            ],
            [
             0.1111111111111111,
             "#46039f"
            ],
            [
             0.2222222222222222,
             "#7201a8"
            ],
            [
             0.3333333333333333,
             "#9c179e"
            ],
            [
             0.4444444444444444,
             "#bd3786"
            ],
            [
             0.5555555555555556,
             "#d8576b"
            ],
            [
             0.6666666666666666,
             "#ed7953"
            ],
            [
             0.7777777777777778,
             "#fb9f3a"
            ],
            [
             0.8888888888888888,
             "#fdca26"
            ],
            [
             1,
             "#f0f921"
            ]
           ],
           "sequentialminus": [
            [
             0,
             "#0d0887"
            ],
            [
             0.1111111111111111,
             "#46039f"
            ],
            [
             0.2222222222222222,
             "#7201a8"
            ],
            [
             0.3333333333333333,
             "#9c179e"
            ],
            [
             0.4444444444444444,
             "#bd3786"
            ],
            [
             0.5555555555555556,
             "#d8576b"
            ],
            [
             0.6666666666666666,
             "#ed7953"
            ],
            [
             0.7777777777777778,
             "#fb9f3a"
            ],
            [
             0.8888888888888888,
             "#fdca26"
            ],
            [
             1,
             "#f0f921"
            ]
           ]
          },
          "colorway": [
           "#636efa",
           "#EF553B",
           "#00cc96",
           "#ab63fa",
           "#FFA15A",
           "#19d3f3",
           "#FF6692",
           "#B6E880",
           "#FF97FF",
           "#FECB52"
          ],
          "font": {
           "color": "#2a3f5f"
          },
          "geo": {
           "bgcolor": "white",
           "lakecolor": "white",
           "landcolor": "#E5ECF6",
           "showlakes": true,
           "showland": true,
           "subunitcolor": "white"
          },
          "hoverlabel": {
           "align": "left"
          },
          "hovermode": "closest",
          "mapbox": {
           "style": "light"
          },
          "paper_bgcolor": "white",
          "plot_bgcolor": "#E5ECF6",
          "polar": {
           "angularaxis": {
            "gridcolor": "white",
            "linecolor": "white",
            "ticks": ""
           },
           "bgcolor": "#E5ECF6",
           "radialaxis": {
            "gridcolor": "white",
            "linecolor": "white",
            "ticks": ""
           }
          },
          "scene": {
           "xaxis": {
            "backgroundcolor": "#E5ECF6",
            "gridcolor": "white",
            "gridwidth": 2,
            "linecolor": "white",
            "showbackground": true,
            "ticks": "",
            "zerolinecolor": "white"
           },
           "yaxis": {
            "backgroundcolor": "#E5ECF6",
            "gridcolor": "white",
            "gridwidth": 2,
            "linecolor": "white",
            "showbackground": true,
            "ticks": "",
            "zerolinecolor": "white"
           },
           "zaxis": {
            "backgroundcolor": "#E5ECF6",
            "gridcolor": "white",
            "gridwidth": 2,
            "linecolor": "white",
            "showbackground": true,
            "ticks": "",
            "zerolinecolor": "white"
           }
          },
          "shapedefaults": {
           "line": {
            "color": "#2a3f5f"
           }
          },
          "ternary": {
           "aaxis": {
            "gridcolor": "white",
            "linecolor": "white",
            "ticks": ""
           },
           "baxis": {
            "gridcolor": "white",
            "linecolor": "white",
            "ticks": ""
           },
           "bgcolor": "#E5ECF6",
           "caxis": {
            "gridcolor": "white",
            "linecolor": "white",
            "ticks": ""
           }
          },
          "title": {
           "x": 0.05
          },
          "xaxis": {
           "automargin": true,
           "gridcolor": "white",
           "linecolor": "white",
           "ticks": "",
           "title": {
            "standoff": 15
           },
           "zerolinecolor": "white",
           "zerolinewidth": 2
          },
          "yaxis": {
           "automargin": true,
           "gridcolor": "white",
           "linecolor": "white",
           "ticks": "",
           "title": {
            "standoff": 15
           },
           "zerolinecolor": "white",
           "zerolinewidth": 2
          }
         }
        },
        "title": {
         "text": "Pertusiss by DHB"
        },
        "width": 670,
        "xaxis": {
         "tickangle": 45,
         "title": {
          "text": "Monthly"
         },
         "type": "category"
        },
        "yaxis": {
         "tickformat": "%",
         "title": {
          "text": "Percentage"
         }
        }
       }
      },
      "text/html": [
       "<div>\n",
       "        \n",
       "        \n",
       "            <div id=\"b053505f-e22a-451f-87ff-d557c30d9914\" class=\"plotly-graph-div\" style=\"height:400px; width:670px;\"></div>\n",
       "            <script type=\"text/javascript\">\n",
       "                require([\"plotly\"], function(Plotly) {\n",
       "                    window.PLOTLYENV=window.PLOTLYENV || {};\n",
       "                    \n",
       "                if (document.getElementById(\"b053505f-e22a-451f-87ff-d557c30d9914\")) {\n",
       "                    Plotly.newPlot(\n",
       "                        'b053505f-e22a-451f-87ff-d557c30d9914',\n",
       "                        [{\"mode\": \"lines+markers\", \"name\": \"Counties_Manukau\", \"type\": \"scatter\", \"x\": [\"Jan_16\", \"Feb_16\", \"Mar_16\", \"Apr_16\", \"May_16\", \"Jun_16\", \"Jul_16\", \"Aug_16\", \"Sep_16\", \"Oct_16\", \"Nov_16\", \"Dec_16\", \"Jan_17\", \"Feb_17\", \"Mar_17\", \"Apr_17\", \"May_17\", \"Jun_17\", \"Jul_17\", \"Aug_17\", \"Sep_17\", \"Oct_17\", \"Nov_17\", \"Dec_17\", \"Jan_18\", \"Feb_18\", \"Mar_18\", \"Apr_18\", \"May_18\", \"Jun_18\", \"Jul_18\", \"Aug_18\", \"Sep_18\", \"Oct_18\", \"Nov_18\", \"Dec_18\", \"Jan_19\", \"Feb_19\", \"Mar_19\", \"Apr_19\", \"May_19\", \"Jun_19\", \"Jul_19\", \"Aug_19\", \"Sep_19\", \"Oct_19\", \"Nov_19\", \"Dec_19\", \"Jan_20\", \"Feb_20\", \"Mar_20\"], \"y\": [0.117, 0.109, 0.123, 0.142, 0.18, 0.193, 0.186, 0.24, 0.229, 0.252, 0.226, 0.188, 0.206, 0.168, 0.231, 0.253, 0.308, 0.313, 0.344, 0.311, 0.313, 0.27, 0.292, 0.253, 0.315, 0.329, 0.343, 0.395, 0.395, 0.375, 0.415, 0.363, 0.383, 0.418, 0.399, 0.399, 0.393, 0.366, 0.395, 0.475, 0.418, 0.422, 0.415, 0.435, 0.475, 0.43, 0.43, 0.393, 0.396, 0.396, 0.445]}, {\"mode\": \"lines+markers\", \"name\": \"Auckland\", \"type\": \"scatter\", \"x\": [\"Jan_16\", \"Feb_16\", \"Mar_16\", \"Apr_16\", \"May_16\", \"Jun_16\", \"Jul_16\", \"Aug_16\", \"Sep_16\", \"Oct_16\", \"Nov_16\", \"Dec_16\", \"Jan_17\", \"Feb_17\", \"Mar_17\", \"Apr_17\", \"May_17\", \"Jun_17\", \"Jul_17\", \"Aug_17\", \"Sep_17\", \"Oct_17\", \"Nov_17\", \"Dec_17\", \"Jan_18\", \"Feb_18\", \"Mar_18\", \"Apr_18\", \"May_18\", \"Jun_18\", \"Jul_18\", \"Aug_18\", \"Sep_18\", \"Oct_18\", \"Nov_18\", \"Dec_18\", \"Jan_19\", \"Feb_19\", \"Mar_19\", \"Apr_19\", \"May_19\", \"Jun_19\", \"Jul_19\", \"Aug_19\", \"Sep_19\", \"Oct_19\", \"Nov_19\", \"Dec_19\", \"Jan_20\", \"Feb_20\", \"Mar_20\"], \"y\": [0.231, 0.259, 0.286, 0.331, 0.355, 0.36, 0.391, 0.393, 0.44, 0.443, 0.436, 0.425, 0.462, 0.376, 0.415, 0.416, 0.487, 0.501, 0.493, 0.508, 0.456, 0.499, 0.529, 0.519, 0.491, 0.523, 0.489, 0.511, 0.545, 0.587, 0.555, 0.545, 0.54, 0.535, 0.538, 0.529, 0.533, 0.519, 0.564, 0.615, 0.644, 0.623, 0.605, 0.622, 0.63, 0.582, 0.59, 0.606, 0.598, 0.607, 0.59]}, {\"mode\": \"lines+markers\", \"name\": \"Waitemata\", \"type\": \"scatter\", \"x\": [\"Jan_16\", \"Feb_16\", \"Mar_16\", \"Apr_16\", \"May_16\", \"Jun_16\", \"Jul_16\", \"Aug_16\", \"Sep_16\", \"Oct_16\", \"Nov_16\", \"Dec_16\", \"Jan_17\", \"Feb_17\", \"Mar_17\", \"Apr_17\", \"May_17\", \"Jun_17\", \"Jul_17\", \"Aug_17\", \"Sep_17\", \"Oct_17\", \"Nov_17\", \"Dec_17\", \"Jan_18\", \"Feb_18\", \"Mar_18\", \"Apr_18\", \"May_18\", \"Jun_18\", \"Jul_18\", \"Aug_18\", \"Sep_18\", \"Oct_18\", \"Nov_18\", \"Dec_18\", \"Jan_19\", \"Feb_19\", \"Mar_19\", \"Apr_19\", \"May_19\", \"Jun_19\", \"Jul_19\", \"Aug_19\", \"Sep_19\", \"Oct_19\", \"Nov_19\", \"Dec_19\", \"Jan_20\", \"Feb_20\", \"Mar_20\"], \"y\": [0.192, 0.19, 0.153, 0.237, 0.254, 0.259, 0.299, 0.331, 0.329, 0.318, 0.324, 0.365, 0.34, 0.313, 0.339, 0.357, 0.421, 0.473, 0.411, 0.423, 0.403, 0.428, 0.447, 0.393, 0.435, 0.471, 0.482, 0.488, 0.521, 0.479, 0.555, 0.481, 0.511, 0.504, 0.546, 0.527, 0.476, 0.486, 0.509, 0.564, 0.569, 0.53, 0.577, 0.524, 0.586, 0.554, 0.538, 0.536, 0.52, 0.533, 0.543]}],\n",
       "                        {\"autosize\": false, \"height\": 400, \"showlegend\": true, \"template\": {\"data\": {\"bar\": [{\"error_x\": {\"color\": \"#2a3f5f\"}, \"error_y\": {\"color\": \"#2a3f5f\"}, \"marker\": {\"line\": {\"color\": \"#E5ECF6\", \"width\": 0.5}}, \"type\": \"bar\"}], \"barpolar\": [{\"marker\": {\"line\": {\"color\": \"#E5ECF6\", \"width\": 0.5}}, \"type\": \"barpolar\"}], \"carpet\": [{\"aaxis\": {\"endlinecolor\": \"#2a3f5f\", \"gridcolor\": \"white\", \"linecolor\": \"white\", \"minorgridcolor\": \"white\", \"startlinecolor\": \"#2a3f5f\"}, \"baxis\": {\"endlinecolor\": \"#2a3f5f\", \"gridcolor\": \"white\", \"linecolor\": \"white\", \"minorgridcolor\": \"white\", \"startlinecolor\": \"#2a3f5f\"}, \"type\": \"carpet\"}], \"choropleth\": [{\"colorbar\": {\"outlinewidth\": 0, \"ticks\": \"\"}, \"type\": \"choropleth\"}], \"contour\": [{\"colorbar\": {\"outlinewidth\": 0, \"ticks\": \"\"}, \"colorscale\": [[0.0, \"#0d0887\"], [0.1111111111111111, \"#46039f\"], [0.2222222222222222, \"#7201a8\"], [0.3333333333333333, \"#9c179e\"], [0.4444444444444444, \"#bd3786\"], [0.5555555555555556, \"#d8576b\"], [0.6666666666666666, \"#ed7953\"], [0.7777777777777778, \"#fb9f3a\"], [0.8888888888888888, \"#fdca26\"], [1.0, \"#f0f921\"]], \"type\": \"contour\"}], \"contourcarpet\": [{\"colorbar\": {\"outlinewidth\": 0, \"ticks\": \"\"}, \"type\": \"contourcarpet\"}], \"heatmap\": [{\"colorbar\": {\"outlinewidth\": 0, \"ticks\": \"\"}, \"colorscale\": [[0.0, \"#0d0887\"], [0.1111111111111111, \"#46039f\"], [0.2222222222222222, \"#7201a8\"], [0.3333333333333333, \"#9c179e\"], [0.4444444444444444, \"#bd3786\"], [0.5555555555555556, \"#d8576b\"], [0.6666666666666666, \"#ed7953\"], [0.7777777777777778, \"#fb9f3a\"], [0.8888888888888888, \"#fdca26\"], [1.0, \"#f0f921\"]], \"type\": \"heatmap\"}], \"heatmapgl\": [{\"colorbar\": {\"outlinewidth\": 0, \"ticks\": \"\"}, \"colorscale\": [[0.0, \"#0d0887\"], [0.1111111111111111, \"#46039f\"], [0.2222222222222222, \"#7201a8\"], [0.3333333333333333, \"#9c179e\"], [0.4444444444444444, \"#bd3786\"], [0.5555555555555556, \"#d8576b\"], [0.6666666666666666, \"#ed7953\"], [0.7777777777777778, \"#fb9f3a\"], [0.8888888888888888, \"#fdca26\"], [1.0, \"#f0f921\"]], \"type\": \"heatmapgl\"}], \"histogram\": [{\"marker\": {\"colorbar\": {\"outlinewidth\": 0, \"ticks\": \"\"}}, \"type\": \"histogram\"}], \"histogram2d\": [{\"colorbar\": {\"outlinewidth\": 0, \"ticks\": \"\"}, \"colorscale\": [[0.0, \"#0d0887\"], [0.1111111111111111, \"#46039f\"], [0.2222222222222222, \"#7201a8\"], [0.3333333333333333, \"#9c179e\"], [0.4444444444444444, \"#bd3786\"], [0.5555555555555556, \"#d8576b\"], [0.6666666666666666, \"#ed7953\"], [0.7777777777777778, \"#fb9f3a\"], [0.8888888888888888, \"#fdca26\"], [1.0, \"#f0f921\"]], \"type\": \"histogram2d\"}], \"histogram2dcontour\": [{\"colorbar\": {\"outlinewidth\": 0, \"ticks\": \"\"}, \"colorscale\": [[0.0, \"#0d0887\"], [0.1111111111111111, \"#46039f\"], [0.2222222222222222, \"#7201a8\"], [0.3333333333333333, \"#9c179e\"], [0.4444444444444444, \"#bd3786\"], [0.5555555555555556, \"#d8576b\"], [0.6666666666666666, \"#ed7953\"], [0.7777777777777778, \"#fb9f3a\"], [0.8888888888888888, \"#fdca26\"], [1.0, \"#f0f921\"]], \"type\": \"histogram2dcontour\"}], \"mesh3d\": [{\"colorbar\": {\"outlinewidth\": 0, \"ticks\": \"\"}, \"type\": \"mesh3d\"}], \"parcoords\": [{\"line\": {\"colorbar\": {\"outlinewidth\": 0, \"ticks\": \"\"}}, \"type\": \"parcoords\"}], \"pie\": [{\"automargin\": true, \"type\": \"pie\"}], \"scatter\": [{\"marker\": {\"colorbar\": {\"outlinewidth\": 0, \"ticks\": \"\"}}, \"type\": \"scatter\"}], \"scatter3d\": [{\"line\": {\"colorbar\": {\"outlinewidth\": 0, \"ticks\": \"\"}}, \"marker\": {\"colorbar\": {\"outlinewidth\": 0, \"ticks\": \"\"}}, \"type\": \"scatter3d\"}], \"scattercarpet\": [{\"marker\": {\"colorbar\": {\"outlinewidth\": 0, \"ticks\": \"\"}}, \"type\": \"scattercarpet\"}], \"scattergeo\": [{\"marker\": {\"colorbar\": {\"outlinewidth\": 0, \"ticks\": \"\"}}, \"type\": \"scattergeo\"}], \"scattergl\": [{\"marker\": {\"colorbar\": {\"outlinewidth\": 0, \"ticks\": \"\"}}, \"type\": \"scattergl\"}], \"scattermapbox\": [{\"marker\": {\"colorbar\": {\"outlinewidth\": 0, \"ticks\": \"\"}}, \"type\": \"scattermapbox\"}], \"scatterpolar\": [{\"marker\": {\"colorbar\": {\"outlinewidth\": 0, \"ticks\": \"\"}}, \"type\": \"scatterpolar\"}], \"scatterpolargl\": [{\"marker\": {\"colorbar\": {\"outlinewidth\": 0, \"ticks\": \"\"}}, \"type\": \"scatterpolargl\"}], \"scatterternary\": [{\"marker\": {\"colorbar\": {\"outlinewidth\": 0, \"ticks\": \"\"}}, \"type\": \"scatterternary\"}], \"surface\": [{\"colorbar\": {\"outlinewidth\": 0, \"ticks\": \"\"}, \"colorscale\": [[0.0, \"#0d0887\"], [0.1111111111111111, \"#46039f\"], [0.2222222222222222, \"#7201a8\"], [0.3333333333333333, \"#9c179e\"], [0.4444444444444444, \"#bd3786\"], [0.5555555555555556, \"#d8576b\"], [0.6666666666666666, \"#ed7953\"], [0.7777777777777778, \"#fb9f3a\"], [0.8888888888888888, \"#fdca26\"], [1.0, \"#f0f921\"]], \"type\": \"surface\"}], \"table\": [{\"cells\": {\"fill\": {\"color\": \"#EBF0F8\"}, \"line\": {\"color\": \"white\"}}, \"header\": {\"fill\": {\"color\": \"#C8D4E3\"}, \"line\": {\"color\": \"white\"}}, \"type\": \"table\"}]}, \"layout\": {\"annotationdefaults\": {\"arrowcolor\": \"#2a3f5f\", \"arrowhead\": 0, \"arrowwidth\": 1}, \"coloraxis\": {\"colorbar\": {\"outlinewidth\": 0, \"ticks\": \"\"}}, \"colorscale\": {\"diverging\": [[0, \"#8e0152\"], [0.1, \"#c51b7d\"], [0.2, \"#de77ae\"], [0.3, \"#f1b6da\"], [0.4, \"#fde0ef\"], [0.5, \"#f7f7f7\"], [0.6, \"#e6f5d0\"], [0.7, \"#b8e186\"], [0.8, \"#7fbc41\"], [0.9, \"#4d9221\"], [1, \"#276419\"]], \"sequential\": [[0.0, \"#0d0887\"], [0.1111111111111111, \"#46039f\"], [0.2222222222222222, \"#7201a8\"], [0.3333333333333333, \"#9c179e\"], [0.4444444444444444, \"#bd3786\"], [0.5555555555555556, \"#d8576b\"], [0.6666666666666666, \"#ed7953\"], [0.7777777777777778, \"#fb9f3a\"], [0.8888888888888888, \"#fdca26\"], [1.0, \"#f0f921\"]], \"sequentialminus\": [[0.0, \"#0d0887\"], [0.1111111111111111, \"#46039f\"], [0.2222222222222222, \"#7201a8\"], [0.3333333333333333, \"#9c179e\"], [0.4444444444444444, \"#bd3786\"], [0.5555555555555556, \"#d8576b\"], [0.6666666666666666, \"#ed7953\"], [0.7777777777777778, \"#fb9f3a\"], [0.8888888888888888, \"#fdca26\"], [1.0, \"#f0f921\"]]}, \"colorway\": [\"#636efa\", \"#EF553B\", \"#00cc96\", \"#ab63fa\", \"#FFA15A\", \"#19d3f3\", \"#FF6692\", \"#B6E880\", \"#FF97FF\", \"#FECB52\"], \"font\": {\"color\": \"#2a3f5f\"}, \"geo\": {\"bgcolor\": \"white\", \"lakecolor\": \"white\", \"landcolor\": \"#E5ECF6\", \"showlakes\": true, \"showland\": true, \"subunitcolor\": \"white\"}, \"hoverlabel\": {\"align\": \"left\"}, \"hovermode\": \"closest\", \"mapbox\": {\"style\": \"light\"}, \"paper_bgcolor\": \"white\", \"plot_bgcolor\": \"#E5ECF6\", \"polar\": {\"angularaxis\": {\"gridcolor\": \"white\", \"linecolor\": \"white\", \"ticks\": \"\"}, \"bgcolor\": \"#E5ECF6\", \"radialaxis\": {\"gridcolor\": \"white\", \"linecolor\": \"white\", \"ticks\": \"\"}}, \"scene\": {\"xaxis\": {\"backgroundcolor\": \"#E5ECF6\", \"gridcolor\": \"white\", \"gridwidth\": 2, \"linecolor\": \"white\", \"showbackground\": true, \"ticks\": \"\", \"zerolinecolor\": \"white\"}, \"yaxis\": {\"backgroundcolor\": \"#E5ECF6\", \"gridcolor\": \"white\", \"gridwidth\": 2, \"linecolor\": \"white\", \"showbackground\": true, \"ticks\": \"\", \"zerolinecolor\": \"white\"}, \"zaxis\": {\"backgroundcolor\": \"#E5ECF6\", \"gridcolor\": \"white\", \"gridwidth\": 2, \"linecolor\": \"white\", \"showbackground\": true, \"ticks\": \"\", \"zerolinecolor\": \"white\"}}, \"shapedefaults\": {\"line\": {\"color\": \"#2a3f5f\"}}, \"ternary\": {\"aaxis\": {\"gridcolor\": \"white\", \"linecolor\": \"white\", \"ticks\": \"\"}, \"baxis\": {\"gridcolor\": \"white\", \"linecolor\": \"white\", \"ticks\": \"\"}, \"bgcolor\": \"#E5ECF6\", \"caxis\": {\"gridcolor\": \"white\", \"linecolor\": \"white\", \"ticks\": \"\"}}, \"title\": {\"x\": 0.05}, \"xaxis\": {\"automargin\": true, \"gridcolor\": \"white\", \"linecolor\": \"white\", \"ticks\": \"\", \"title\": {\"standoff\": 15}, \"zerolinecolor\": \"white\", \"zerolinewidth\": 2}, \"yaxis\": {\"automargin\": true, \"gridcolor\": \"white\", \"linecolor\": \"white\", \"ticks\": \"\", \"title\": {\"standoff\": 15}, \"zerolinecolor\": \"white\", \"zerolinewidth\": 2}}}, \"title\": {\"text\": \"Pertusiss by DHB\"}, \"width\": 670, \"xaxis\": {\"tickangle\": 45, \"title\": {\"text\": \"Monthly\"}, \"type\": \"category\"}, \"yaxis\": {\"tickformat\": \"%\", \"title\": {\"text\": \"Percentage\"}}},\n",
       "                        {\"responsive\": true}\n",
       "                    ).then(function(){\n",
       "                            \n",
       "var gd = document.getElementById('b053505f-e22a-451f-87ff-d557c30d9914');\n",
       "var x = new MutationObserver(function (mutations, observer) {{\n",
       "        var display = window.getComputedStyle(gd).display;\n",
       "        if (!display || display === 'none') {{\n",
       "            console.log([gd, 'removed!']);\n",
       "            Plotly.purge(gd);\n",
       "            observer.disconnect();\n",
       "        }}\n",
       "}});\n",
       "\n",
       "// Listen for the removal of the full notebook cells\n",
       "var notebookContainer = gd.closest('#notebook-container');\n",
       "if (notebookContainer) {{\n",
       "    x.observe(notebookContainer, {childList: true});\n",
       "}}\n",
       "\n",
       "// Listen for the clearing of the current output cell\n",
       "var outputEl = gd.closest('.output');\n",
       "if (outputEl) {{\n",
       "    x.observe(outputEl, {childList: true});\n",
       "}}\n",
       "\n",
       "                        })\n",
       "                };\n",
       "                });\n",
       "            </script>\n",
       "        </div>"
      ]
     },
     "metadata": {},
     "output_type": "display_data"
    }
   ],
   "source": [
    "import pandas as pd\n",
    "import matplotlib.pyplot as plt\n",
    "import plotly.graph_objects as go\n",
    "import numpy as np\n",
    "%matplotlib inline\n",
    "from plotly.offline import download_plotlyjs, init_notebook_mode, plot, iplot\n",
    "init_notebook_mode(connected=True)\n",
    "#Pertussis Tables\n",
    "#DHBAll = pd.read_excel('G:/Funding Team/Planning/Health Information/HIAT/Michael Files/Antinatal Vaccination\\April 2019 to March 2020/For Python.xlsx', \n",
    "                     #header=None, skiprows=7)\n",
    "DHBAll = pd.ExcelFile('G:/Funding Team/Planning/Health Information/HIAT/Michael Files/Antinatal Vaccination/April 2019 to March 2020/For Python.xlsx')\n",
    "DHBPert = pd.read_excel(DHBAll, 'Pertussis Graphs', skiprows=5)\n",
    "DHB3 = DHBPert[['Counties_Manukau','Auckland','Waitemata']]\n",
    "\n",
    "DHB3=DHB3.round(3)\n",
    "# Declare a list that is to be converted into a column \n",
    "Monthly = ['Jan_16', 'Feb_16', 'Mar_16', 'Apr_16','May_16', 'Jun_16', 'Jul_16', 'Aug_16','Sep_16', 'Oct_16', 'Nov_16', 'Dec_16',\n",
    "           'Jan_17', 'Feb_17', 'Mar_17', 'Apr_17','May_17', 'Jun_17', 'Jul_17', 'Aug_17','Sep_17', 'Oct_17', 'Nov_17', 'Dec_17',\n",
    "           'Jan_18', 'Feb_18', 'Mar_18', 'Apr_18','May_18', 'Jun_18', 'Jul_18', 'Aug_18','Sep_18', 'Oct_18', 'Nov_18', 'Dec_18',\n",
    "           'Jan_19', 'Feb_19', 'Mar_19', 'Apr_19','May_19', 'Jun_19', 'Jul_19', 'Aug_19','Sep_19', 'Oct_19', 'Nov_19', 'Dec_19',\n",
    "           'Jan_20', 'Feb_20', 'Mar_20', 'Apr_20','May_20', 'Jun_20', 'Jul_20', 'Aug_20','Sep_20', 'Oct_20', 'Nov_20', 'Dec_20'] \n",
    "\n",
    "# Using 'Address' as the column name \n",
    "# and equating it to the list \n",
    "DHB3['Monthly'] = Monthly \n",
    "DHB3=DHB3.dropna()\n",
    "random_x = DHB3[\"Monthly\"].tolist()\n",
    "# using to_numpy() \n",
    "random_y0 = DHB3['Counties_Manukau'].tolist()   \n",
    "\n",
    "random_y1 = DHB3['Auckland'].tolist()  \n",
    "\n",
    "random_y2 = DHB3['Waitemata'].tolist()   \n",
    "\n",
    "\n",
    "#import numpy as np\n",
    "\n",
    "# Create traces\n",
    "fig = go.Figure()\n",
    "fig.add_trace(go.Scatter(x=random_x, y=random_y0,\n",
    "                    mode='lines+markers',\n",
    "                    name='Counties_Manukau'))\n",
    "fig.add_trace(go.Scatter(x=random_x, y=random_y1,\n",
    "                    mode='lines+markers',\n",
    "                    name='Auckland'))\n",
    "fig.add_trace(go.Scatter(x=random_x, y=random_y2,\n",
    "                   mode='lines+markers',\n",
    "                    name='Waitemata'))\n",
    "\n",
    "# Edit the layout\n",
    "#fig.update_layout(title='Pertusiss by Ethnicity',\n",
    "                   #xaxis_title='Quarter',\n",
    "                   #yaxis_title='Percentage')\n",
    "\n",
    "fig.update_layout(xaxis_type='category',\n",
    "                  title_text='Pertusiss by DHB',\n",
    "                  xaxis_title='Monthly',\n",
    "                  yaxis_title='Percentage')\n",
    "fig.update_xaxes(tickangle=45)\n",
    "fig.update_yaxes(tickformat=\"%\")\n",
    "#fig.update_layout(legend_orientation=\"h\")\n",
    "fig.update_layout(showlegend=True)\n",
    "fig.update_layout(autosize=False,\n",
    "                 width=670,\n",
    "                 height=400,)\n",
    "fig.show()\n",
    "plt.show()\n"
   ]
  },
  {
   "cell_type": "code",
   "execution_count": 5,
   "metadata": {},
   "outputs": [],
   "source": [
    "## Coverage by DHB and Ethnicity (12 month period)"
   ]
  },
  {
   "cell_type": "code",
   "execution_count": 23,
   "metadata": {},
   "outputs": [
    {
     "data": {
      "text/plain": [
       "'In the twelve months to March 2020 vaccination coverage continued to vary by ethnicity. Coverage rates in Asian and European/Other are higher than those of Pacific and Māori. Auckland DHB has the highest coverage across all ethnicities, followed by Waitematā DHB and Counties Manukau DHB. Across all DHBs, Asian women in Auckland DHB had the highest coverage rate at 72.1%. '"
      ]
     },
     "execution_count": 23,
     "metadata": {},
     "output_type": "execute_result"
    }
   ],
   "source": [
    "sheet3[\"A7\"].value"
   ]
  },
  {
   "cell_type": "code",
   "execution_count": 24,
   "metadata": {},
   "outputs": [
    {
     "data": {
      "text/html": [
       "<style  type=\"text/css\" >\n",
       "    #T_4709a17e_ed74_11ea_a619_ecb1d74ca0c9 tr:hover {\n",
       "          background-color: #ffff99;\n",
       "    }    #T_4709a17e_ed74_11ea_a619_ecb1d74ca0c9 th {\n",
       "          font-size: 70%;\n",
       "          text-align: center;\n",
       "    }    #T_4709a17e_ed74_11ea_a619_ecb1d74ca0c9 caption {\n",
       "          caption-side: bottom;\n",
       "    }</style><table id=\"T_4709a17e_ed74_11ea_a619_ecb1d74ca0c9\" ><caption>Hover to highlight.</caption><thead>    <tr>        <th class=\"index_name level0\" >0</th>        <th class=\"col_heading level0 col0\" >DHB_Domicile</th>        <th class=\"col_heading level0 col1\" >Maori_(Prev)</th>        <th class=\"col_heading level0 col2\" >Māori_(Curr)</th>        <th class=\"col_heading level0 col3\" >Pacific_(Prev)</th>        <th class=\"col_heading level0 col4\" >Pacific_(Curr)</th>        <th class=\"col_heading level0 col5\" >Asian_(Prev)</th>        <th class=\"col_heading level0 col6\" >Asian_(Curr)</th>        <th class=\"col_heading level0 col7\" >Other_(Prev)</th>        <th class=\"col_heading level0 col8\" >Other_(Curr)</th>        <th class=\"col_heading level0 col9\" >Overall_(Prev)</th>        <th class=\"col_heading level0 col10\" >Overall_(Curr)</th>    </tr></thead><tbody>\n",
       "                <tr>\n",
       "                        <th id=\"T_4709a17e_ed74_11ea_a619_ecb1d74ca0c9level0_row0\" class=\"row_heading level0 row0\" >1</th>\n",
       "                        <td id=\"T_4709a17e_ed74_11ea_a619_ecb1d74ca0c9row0_col0\" class=\"data row0 col0\" >Auckland</td>\n",
       "                        <td id=\"T_4709a17e_ed74_11ea_a619_ecb1d74ca0c9row0_col1\" class=\"data row0 col1\" >32.2</td>\n",
       "                        <td id=\"T_4709a17e_ed74_11ea_a619_ecb1d74ca0c9row0_col2\" class=\"data row0 col2\" >33.9</td>\n",
       "                        <td id=\"T_4709a17e_ed74_11ea_a619_ecb1d74ca0c9row0_col3\" class=\"data row0 col3\" >42.7</td>\n",
       "                        <td id=\"T_4709a17e_ed74_11ea_a619_ecb1d74ca0c9row0_col4\" class=\"data row0 col4\" >44</td>\n",
       "                        <td id=\"T_4709a17e_ed74_11ea_a619_ecb1d74ca0c9row0_col5\" class=\"data row0 col5\" >70.8</td>\n",
       "                        <td id=\"T_4709a17e_ed74_11ea_a619_ecb1d74ca0c9row0_col6\" class=\"data row0 col6\" >72.1</td>\n",
       "                        <td id=\"T_4709a17e_ed74_11ea_a619_ecb1d74ca0c9row0_col7\" class=\"data row0 col7\" >62.6</td>\n",
       "                        <td id=\"T_4709a17e_ed74_11ea_a619_ecb1d74ca0c9row0_col8\" class=\"data row0 col8\" >63.7</td>\n",
       "                        <td id=\"T_4709a17e_ed74_11ea_a619_ecb1d74ca0c9row0_col9\" class=\"data row0 col9\" >59.6</td>\n",
       "                        <td id=\"T_4709a17e_ed74_11ea_a619_ecb1d74ca0c9row0_col10\" class=\"data row0 col10\" >60.9</td>\n",
       "            </tr>\n",
       "            <tr>\n",
       "                        <th id=\"T_4709a17e_ed74_11ea_a619_ecb1d74ca0c9level0_row1\" class=\"row_heading level0 row1\" >2</th>\n",
       "                        <td id=\"T_4709a17e_ed74_11ea_a619_ecb1d74ca0c9row1_col0\" class=\"data row1 col0\" >Counties_Manukau</td>\n",
       "                        <td id=\"T_4709a17e_ed74_11ea_a619_ecb1d74ca0c9row1_col1\" class=\"data row1 col1\" >23.1</td>\n",
       "                        <td id=\"T_4709a17e_ed74_11ea_a619_ecb1d74ca0c9row1_col2\" class=\"data row1 col2\" >24.1</td>\n",
       "                        <td id=\"T_4709a17e_ed74_11ea_a619_ecb1d74ca0c9row1_col3\" class=\"data row1 col3\" >34.2</td>\n",
       "                        <td id=\"T_4709a17e_ed74_11ea_a619_ecb1d74ca0c9row1_col4\" class=\"data row1 col4\" >35.3</td>\n",
       "                        <td id=\"T_4709a17e_ed74_11ea_a619_ecb1d74ca0c9row1_col5\" class=\"data row1 col5\" >57</td>\n",
       "                        <td id=\"T_4709a17e_ed74_11ea_a619_ecb1d74ca0c9row1_col6\" class=\"data row1 col6\" >58.9</td>\n",
       "                        <td id=\"T_4709a17e_ed74_11ea_a619_ecb1d74ca0c9row1_col7\" class=\"data row1 col7\" >47.6</td>\n",
       "                        <td id=\"T_4709a17e_ed74_11ea_a619_ecb1d74ca0c9row1_col8\" class=\"data row1 col8\" >48.5</td>\n",
       "                        <td id=\"T_4709a17e_ed74_11ea_a619_ecb1d74ca0c9row1_col9\" class=\"data row1 col9\" >41.5</td>\n",
       "                        <td id=\"T_4709a17e_ed74_11ea_a619_ecb1d74ca0c9row1_col10\" class=\"data row1 col10\" >42.8</td>\n",
       "            </tr>\n",
       "            <tr>\n",
       "                        <th id=\"T_4709a17e_ed74_11ea_a619_ecb1d74ca0c9level0_row2\" class=\"row_heading level0 row2\" >3</th>\n",
       "                        <td id=\"T_4709a17e_ed74_11ea_a619_ecb1d74ca0c9row2_col0\" class=\"data row2 col0\" >Waitematā</td>\n",
       "                        <td id=\"T_4709a17e_ed74_11ea_a619_ecb1d74ca0c9row2_col1\" class=\"data row2 col1\" >32.2</td>\n",
       "                        <td id=\"T_4709a17e_ed74_11ea_a619_ecb1d74ca0c9row2_col2\" class=\"data row2 col2\" >34.9</td>\n",
       "                        <td id=\"T_4709a17e_ed74_11ea_a619_ecb1d74ca0c9row2_col3\" class=\"data row2 col3\" >36</td>\n",
       "                        <td id=\"T_4709a17e_ed74_11ea_a619_ecb1d74ca0c9row2_col4\" class=\"data row2 col4\" >37.2</td>\n",
       "                        <td id=\"T_4709a17e_ed74_11ea_a619_ecb1d74ca0c9row2_col5\" class=\"data row2 col5\" >64.6</td>\n",
       "                        <td id=\"T_4709a17e_ed74_11ea_a619_ecb1d74ca0c9row2_col6\" class=\"data row2 col6\" >66.8</td>\n",
       "                        <td id=\"T_4709a17e_ed74_11ea_a619_ecb1d74ca0c9row2_col7\" class=\"data row2 col7\" >53</td>\n",
       "                        <td id=\"T_4709a17e_ed74_11ea_a619_ecb1d74ca0c9row2_col8\" class=\"data row2 col8\" >54.5</td>\n",
       "                        <td id=\"T_4709a17e_ed74_11ea_a619_ecb1d74ca0c9row2_col9\" class=\"data row2 col9\" >52.9</td>\n",
       "                        <td id=\"T_4709a17e_ed74_11ea_a619_ecb1d74ca0c9row2_col10\" class=\"data row2 col10\" >54.8</td>\n",
       "            </tr>\n",
       "            <tr>\n",
       "                        <th id=\"T_4709a17e_ed74_11ea_a619_ecb1d74ca0c9level0_row3\" class=\"row_heading level0 row3\" >4</th>\n",
       "                        <td id=\"T_4709a17e_ed74_11ea_a619_ecb1d74ca0c9row3_col0\" class=\"data row3 col0\" >Auckland Metro</td>\n",
       "                        <td id=\"T_4709a17e_ed74_11ea_a619_ecb1d74ca0c9row3_col1\" class=\"data row3 col1\" >27</td>\n",
       "                        <td id=\"T_4709a17e_ed74_11ea_a619_ecb1d74ca0c9row3_col2\" class=\"data row3 col2\" >28.8</td>\n",
       "                        <td id=\"T_4709a17e_ed74_11ea_a619_ecb1d74ca0c9row3_col3\" class=\"data row3 col3\" >36.2</td>\n",
       "                        <td id=\"T_4709a17e_ed74_11ea_a619_ecb1d74ca0c9row3_col4\" class=\"data row3 col4\" >37.4</td>\n",
       "                        <td id=\"T_4709a17e_ed74_11ea_a619_ecb1d74ca0c9row3_col5\" class=\"data row3 col5\" >63.6</td>\n",
       "                        <td id=\"T_4709a17e_ed74_11ea_a619_ecb1d74ca0c9row3_col6\" class=\"data row3 col6\" >65.5</td>\n",
       "                        <td id=\"T_4709a17e_ed74_11ea_a619_ecb1d74ca0c9row3_col7\" class=\"data row3 col7\" >54.3</td>\n",
       "                        <td id=\"T_4709a17e_ed74_11ea_a619_ecb1d74ca0c9row3_col8\" class=\"data row3 col8\" >55.6</td>\n",
       "                        <td id=\"T_4709a17e_ed74_11ea_a619_ecb1d74ca0c9row3_col9\" class=\"data row3 col9\" >50</td>\n",
       "                        <td id=\"T_4709a17e_ed74_11ea_a619_ecb1d74ca0c9row3_col10\" class=\"data row3 col10\" >51.6</td>\n",
       "            </tr>\n",
       "    </tbody></table>"
      ],
      "text/plain": [
       "<pandas.io.formats.style.Styler at 0x94024a8>"
      ]
     },
     "execution_count": 24,
     "metadata": {},
     "output_type": "execute_result"
    }
   ],
   "source": [
    "DHBTab = pd.read_excel(DHBAll, 'Pertussis Tables', skiprows=5)\n",
    "DHBTabDHB=DHBTab.iloc[0:5, 1:12]\n",
    "DHBTabDHB.columns = DHBTabDHB.iloc[0]\n",
    "DHBTabDHB=DHBTabDHB.drop(DHBTabDHB.index[0])\n",
    "#DHBTabDHB.rename(columns=DHBTabDHB.iloc[0]).drop(DHBTabDHB.index[1])\n",
    "DHBTabDHB = DHBTabDHB.astype({\"Maori_(Prev)\": float, \"Māori_(Curr)\": float, \"Pacific_(Prev)\": float,\n",
    "                             \"Pacific_(Curr)\": float, \"Asian_(Prev)\": float, \"Asian_(Curr)\": float,\n",
    "                             \"Other_(Prev)\": float, \"Other_(Curr)\": float, \"Overall_(Prev)\": float,\n",
    "                             \"Overall_(Curr)\": float})\n",
    "#DHBTabDHB.dtypes\n",
    "DHBTabDHB.iloc[:,1:] = DHBTabDHB.iloc[:,1:] * 100\n",
    "DHBTabDHB.style.hide_index()\n",
    "from IPython.display import HTML\n",
    "#DHBTabDHB.set_index('DHB_Domicile')\n",
    "def hover(hover_color=\"#ffff99\"):\n",
    "    return dict(selector=\"tr:hover\",\n",
    "                props=[(\"background-color\", \"%s\" % hover_color)])\n",
    "\n",
    "styles = [\n",
    "    hover(),\n",
    "    dict(selector=\"th\", props=[(\"font-size\", \"70%\"),\n",
    "                               (\"text-align\", \"center\")]),\n",
    "    dict(selector=\"caption\", props=[(\"caption-side\", \"bottom\")])\n",
    "]\n",
    "html = (DHBTabDHB.style.set_table_styles(styles)\n",
    "          .set_caption(\"Hover to highlight.\"))\n",
    "html\n",
    "#DHBTabDHB.set_index('DHB_Domicile')\n",
    "#DHBTabDHB.head()\n",
    "#DHBTab.head()"
   ]
  },
  {
   "cell_type": "code",
   "execution_count": 25,
   "metadata": {},
   "outputs": [
    {
     "data": {
      "text/plain": [
       "'*Includes births in the 12 months to 31 March 202'"
      ]
     },
     "execution_count": 25,
     "metadata": {},
     "output_type": "execute_result"
    }
   ],
   "source": [
    "sheet3[\"A9\"].value"
   ]
  },
  {
   "cell_type": "code",
   "execution_count": 26,
   "metadata": {},
   "outputs": [
    {
     "data": {
      "text/plain": [
       "'*Current performance includes only PHO enrolled individuals as at March 2020'"
      ]
     },
     "execution_count": 26,
     "metadata": {},
     "output_type": "execute_result"
    }
   ],
   "source": [
    "sheet3[\"A10\"].value"
   ]
  },
  {
   "cell_type": "code",
   "execution_count": 27,
   "metadata": {},
   "outputs": [
    {
     "data": {
      "text/plain": [
       "'*Ethnicity is prioritised and is that recorded on the PHO register'"
      ]
     },
     "execution_count": 27,
     "metadata": {},
     "output_type": "execute_result"
    }
   ],
   "source": [
    "sheet3[\"A11\"].value"
   ]
  },
  {
   "cell_type": "code",
   "execution_count": 28,
   "metadata": {},
   "outputs": [
    {
     "data": {
      "text/plain": [
       "'*Domicile is as per that on March 2020 PHO register and might be different to that of the mother when the birth took place'"
      ]
     },
     "execution_count": 28,
     "metadata": {},
     "output_type": "execute_result"
    }
   ],
   "source": [
    "sheet3[\"A12\"].value"
   ]
  },
  {
   "cell_type": "code",
   "execution_count": 29,
   "metadata": {},
   "outputs": [
    {
     "data": {
      "text/html": [
       "<script>\n",
       "code_show=true; \n",
       "function code_toggle() {\n",
       " if (code_show){\n",
       " $('div.input').hide();\n",
       " } else {\n",
       " $('div.input').show();\n",
       " }\n",
       " code_show = !code_show\n",
       "} \n",
       "$( document ).ready(code_toggle);\n",
       "</script>\n",
       "The raw code for this IPython notebook is by default hidden for easier reading.\n",
       "To toggle on/off the raw code, click <a href=\"javascript:code_toggle()\">here</a>."
      ],
      "text/plain": [
       "<IPython.core.display.HTML object>"
      ]
     },
     "execution_count": 29,
     "metadata": {},
     "output_type": "execute_result"
    }
   ],
   "source": [
    "from IPython.display import HTML\n",
    "HTML('''<script>\n",
    "code_show=true; \n",
    "function code_toggle() {\n",
    " if (code_show){\n",
    " $('div.input').hide();\n",
    " } else {\n",
    " $('div.input').show();\n",
    " }\n",
    " code_show = !code_show\n",
    "} \n",
    "$( document ).ready(code_toggle);\n",
    "</script>\n",
    "The raw code for this IPython notebook is by default hidden for easier reading.\n",
    "To toggle on/off the raw code, click <a href=\"javascript:code_toggle()\">here</a>.''')"
   ]
  },
  {
   "cell_type": "markdown",
   "metadata": {},
   "source": [
    "## Coverage by DHB and Ethnicity (Quarterly Trends)"
   ]
  },
  {
   "cell_type": "code",
   "execution_count": 30,
   "metadata": {},
   "outputs": [
    {
     "data": {
      "application/vnd.plotly.v1+json": {
       "config": {
        "plotlyServerURL": "https://plot.ly"
       },
       "data": [
        {
         "mode": "lines",
         "name": "Maori",
         "type": "scatter",
         "x": [
          "Q1_16",
          "Q2_16",
          "Q3_16",
          "Q4_16",
          "Q1_17",
          "Q2_17",
          "Q3_17",
          "Q4_17",
          "Q1_18",
          "Q2_18",
          "Q3_18",
          "Q4_18",
          "Q1_19",
          "Q2_19",
          "Q3_19",
          "Q4_19",
          "Q1_20"
         ],
         "y": [
          0.085,
          0.117,
          0.115,
          0.195,
          0.114,
          0.2,
          0.247,
          0.193,
          0.285,
          0.246,
          0.337,
          0.297,
          0.246,
          0.436,
          0.351,
          0.284,
          0.315
         ]
        },
        {
         "mode": "lines+markers",
         "name": "Pacific",
         "type": "scatter",
         "x": [
          "Q1_16",
          "Q2_16",
          "Q3_16",
          "Q4_16",
          "Q1_17",
          "Q2_17",
          "Q3_17",
          "Q4_17",
          "Q1_18",
          "Q2_18",
          "Q3_18",
          "Q4_18",
          "Q1_19",
          "Q2_19",
          "Q3_19",
          "Q4_19",
          "Q1_20"
         ],
         "y": [
          0.061,
          0.104,
          0.22,
          0.153,
          0.1,
          0.283,
          0.206,
          0.19,
          0.283,
          0.26,
          0.353,
          0.306,
          0.274,
          0.386,
          0.408,
          0.363,
          0.322
         ]
        },
        {
         "mode": "lines+markers",
         "name": "Asian",
         "type": "scatter",
         "x": [
          "Q1_16",
          "Q2_16",
          "Q3_16",
          "Q4_16",
          "Q1_17",
          "Q2_17",
          "Q3_17",
          "Q4_17",
          "Q1_18",
          "Q2_18",
          "Q3_18",
          "Q4_18",
          "Q1_19",
          "Q2_19",
          "Q3_19",
          "Q4_19",
          "Q1_20"
         ],
         "y": [
          0.2,
          0.264,
          0.333,
          0.398,
          0.428,
          0.514,
          0.491,
          0.521,
          0.514,
          0.603,
          0.61,
          0.653,
          0.613,
          0.69,
          0.69,
          0.637,
          0.643
         ]
        },
        {
         "mode": "lines+markers",
         "name": "Others",
         "type": "scatter",
         "x": [
          "Q1_16",
          "Q2_16",
          "Q3_16",
          "Q4_16",
          "Q1_17",
          "Q2_17",
          "Q3_17",
          "Q4_17",
          "Q1_18",
          "Q2_18",
          "Q3_18",
          "Q4_18",
          "Q1_19",
          "Q2_19",
          "Q3_19",
          "Q4_19",
          "Q1_20"
         ],
         "y": [
          0.209,
          0.298,
          0.366,
          0.364,
          0.349,
          0.435,
          0.444,
          0.464,
          0.513,
          0.536,
          0.531,
          0.533,
          0.495,
          0.55,
          0.536,
          0.529,
          0.541
         ]
        },
        {
         "mode": "lines+markers",
         "name": "Total",
         "type": "scatter",
         "x": [
          "Q1_16",
          "Q2_16",
          "Q3_16",
          "Q4_16",
          "Q1_17",
          "Q2_17",
          "Q3_17",
          "Q4_17",
          "Q1_18",
          "Q2_18",
          "Q3_18",
          "Q4_18",
          "Q1_19",
          "Q2_19",
          "Q3_19",
          "Q4_19",
          "Q1_20"
         ],
         "y": [
          0.182,
          0.255,
          0.325,
          0.344,
          0.331,
          0.416,
          0.412,
          0.424,
          0.463,
          0.496,
          0.515,
          0.525,
          0.491,
          0.57,
          0.558,
          0.527,
          0.531
         ]
        }
       ],
       "layout": {
        "autosize": true,
        "height": 400,
        "showlegend": true,
        "template": {
         "data": {
          "bar": [
           {
            "error_x": {
             "color": "#2a3f5f"
            },
            "error_y": {
             "color": "#2a3f5f"
            },
            "marker": {
             "line": {
              "color": "#E5ECF6",
              "width": 0.5
             }
            },
            "type": "bar"
           }
          ],
          "barpolar": [
           {
            "marker": {
             "line": {
              "color": "#E5ECF6",
              "width": 0.5
             }
            },
            "type": "barpolar"
           }
          ],
          "carpet": [
           {
            "aaxis": {
             "endlinecolor": "#2a3f5f",
             "gridcolor": "white",
             "linecolor": "white",
             "minorgridcolor": "white",
             "startlinecolor": "#2a3f5f"
            },
            "baxis": {
             "endlinecolor": "#2a3f5f",
             "gridcolor": "white",
             "linecolor": "white",
             "minorgridcolor": "white",
             "startlinecolor": "#2a3f5f"
            },
            "type": "carpet"
           }
          ],
          "choropleth": [
           {
            "colorbar": {
             "outlinewidth": 0,
             "ticks": ""
            },
            "type": "choropleth"
           }
          ],
          "contour": [
           {
            "colorbar": {
             "outlinewidth": 0,
             "ticks": ""
            },
            "colorscale": [
             [
              0,
              "#0d0887"
             ],
             [
              0.1111111111111111,
              "#46039f"
             ],
             [
              0.2222222222222222,
              "#7201a8"
             ],
             [
              0.3333333333333333,
              "#9c179e"
             ],
             [
              0.4444444444444444,
              "#bd3786"
             ],
             [
              0.5555555555555556,
              "#d8576b"
             ],
             [
              0.6666666666666666,
              "#ed7953"
             ],
             [
              0.7777777777777778,
              "#fb9f3a"
             ],
             [
              0.8888888888888888,
              "#fdca26"
             ],
             [
              1,
              "#f0f921"
             ]
            ],
            "type": "contour"
           }
          ],
          "contourcarpet": [
           {
            "colorbar": {
             "outlinewidth": 0,
             "ticks": ""
            },
            "type": "contourcarpet"
           }
          ],
          "heatmap": [
           {
            "colorbar": {
             "outlinewidth": 0,
             "ticks": ""
            },
            "colorscale": [
             [
              0,
              "#0d0887"
             ],
             [
              0.1111111111111111,
              "#46039f"
             ],
             [
              0.2222222222222222,
              "#7201a8"
             ],
             [
              0.3333333333333333,
              "#9c179e"
             ],
             [
              0.4444444444444444,
              "#bd3786"
             ],
             [
              0.5555555555555556,
              "#d8576b"
             ],
             [
              0.6666666666666666,
              "#ed7953"
             ],
             [
              0.7777777777777778,
              "#fb9f3a"
             ],
             [
              0.8888888888888888,
              "#fdca26"
             ],
             [
              1,
              "#f0f921"
             ]
            ],
            "type": "heatmap"
           }
          ],
          "heatmapgl": [
           {
            "colorbar": {
             "outlinewidth": 0,
             "ticks": ""
            },
            "colorscale": [
             [
              0,
              "#0d0887"
             ],
             [
              0.1111111111111111,
              "#46039f"
             ],
             [
              0.2222222222222222,
              "#7201a8"
             ],
             [
              0.3333333333333333,
              "#9c179e"
             ],
             [
              0.4444444444444444,
              "#bd3786"
             ],
             [
              0.5555555555555556,
              "#d8576b"
             ],
             [
              0.6666666666666666,
              "#ed7953"
             ],
             [
              0.7777777777777778,
              "#fb9f3a"
             ],
             [
              0.8888888888888888,
              "#fdca26"
             ],
             [
              1,
              "#f0f921"
             ]
            ],
            "type": "heatmapgl"
           }
          ],
          "histogram": [
           {
            "marker": {
             "colorbar": {
              "outlinewidth": 0,
              "ticks": ""
             }
            },
            "type": "histogram"
           }
          ],
          "histogram2d": [
           {
            "colorbar": {
             "outlinewidth": 0,
             "ticks": ""
            },
            "colorscale": [
             [
              0,
              "#0d0887"
             ],
             [
              0.1111111111111111,
              "#46039f"
             ],
             [
              0.2222222222222222,
              "#7201a8"
             ],
             [
              0.3333333333333333,
              "#9c179e"
             ],
             [
              0.4444444444444444,
              "#bd3786"
             ],
             [
              0.5555555555555556,
              "#d8576b"
             ],
             [
              0.6666666666666666,
              "#ed7953"
             ],
             [
              0.7777777777777778,
              "#fb9f3a"
             ],
             [
              0.8888888888888888,
              "#fdca26"
             ],
             [
              1,
              "#f0f921"
             ]
            ],
            "type": "histogram2d"
           }
          ],
          "histogram2dcontour": [
           {
            "colorbar": {
             "outlinewidth": 0,
             "ticks": ""
            },
            "colorscale": [
             [
              0,
              "#0d0887"
             ],
             [
              0.1111111111111111,
              "#46039f"
             ],
             [
              0.2222222222222222,
              "#7201a8"
             ],
             [
              0.3333333333333333,
              "#9c179e"
             ],
             [
              0.4444444444444444,
              "#bd3786"
             ],
             [
              0.5555555555555556,
              "#d8576b"
             ],
             [
              0.6666666666666666,
              "#ed7953"
             ],
             [
              0.7777777777777778,
              "#fb9f3a"
             ],
             [
              0.8888888888888888,
              "#fdca26"
             ],
             [
              1,
              "#f0f921"
             ]
            ],
            "type": "histogram2dcontour"
           }
          ],
          "mesh3d": [
           {
            "colorbar": {
             "outlinewidth": 0,
             "ticks": ""
            },
            "type": "mesh3d"
           }
          ],
          "parcoords": [
           {
            "line": {
             "colorbar": {
              "outlinewidth": 0,
              "ticks": ""
             }
            },
            "type": "parcoords"
           }
          ],
          "pie": [
           {
            "automargin": true,
            "type": "pie"
           }
          ],
          "scatter": [
           {
            "marker": {
             "colorbar": {
              "outlinewidth": 0,
              "ticks": ""
             }
            },
            "type": "scatter"
           }
          ],
          "scatter3d": [
           {
            "line": {
             "colorbar": {
              "outlinewidth": 0,
              "ticks": ""
             }
            },
            "marker": {
             "colorbar": {
              "outlinewidth": 0,
              "ticks": ""
             }
            },
            "type": "scatter3d"
           }
          ],
          "scattercarpet": [
           {
            "marker": {
             "colorbar": {
              "outlinewidth": 0,
              "ticks": ""
             }
            },
            "type": "scattercarpet"
           }
          ],
          "scattergeo": [
           {
            "marker": {
             "colorbar": {
              "outlinewidth": 0,
              "ticks": ""
             }
            },
            "type": "scattergeo"
           }
          ],
          "scattergl": [
           {
            "marker": {
             "colorbar": {
              "outlinewidth": 0,
              "ticks": ""
             }
            },
            "type": "scattergl"
           }
          ],
          "scattermapbox": [
           {
            "marker": {
             "colorbar": {
              "outlinewidth": 0,
              "ticks": ""
             }
            },
            "type": "scattermapbox"
           }
          ],
          "scatterpolar": [
           {
            "marker": {
             "colorbar": {
              "outlinewidth": 0,
              "ticks": ""
             }
            },
            "type": "scatterpolar"
           }
          ],
          "scatterpolargl": [
           {
            "marker": {
             "colorbar": {
              "outlinewidth": 0,
              "ticks": ""
             }
            },
            "type": "scatterpolargl"
           }
          ],
          "scatterternary": [
           {
            "marker": {
             "colorbar": {
              "outlinewidth": 0,
              "ticks": ""
             }
            },
            "type": "scatterternary"
           }
          ],
          "surface": [
           {
            "colorbar": {
             "outlinewidth": 0,
             "ticks": ""
            },
            "colorscale": [
             [
              0,
              "#0d0887"
             ],
             [
              0.1111111111111111,
              "#46039f"
             ],
             [
              0.2222222222222222,
              "#7201a8"
             ],
             [
              0.3333333333333333,
              "#9c179e"
             ],
             [
              0.4444444444444444,
              "#bd3786"
             ],
             [
              0.5555555555555556,
              "#d8576b"
             ],
             [
              0.6666666666666666,
              "#ed7953"
             ],
             [
              0.7777777777777778,
              "#fb9f3a"
             ],
             [
              0.8888888888888888,
              "#fdca26"
             ],
             [
              1,
              "#f0f921"
             ]
            ],
            "type": "surface"
           }
          ],
          "table": [
           {
            "cells": {
             "fill": {
              "color": "#EBF0F8"
             },
             "line": {
              "color": "white"
             }
            },
            "header": {
             "fill": {
              "color": "#C8D4E3"
             },
             "line": {
              "color": "white"
             }
            },
            "type": "table"
           }
          ]
         },
         "layout": {
          "annotationdefaults": {
           "arrowcolor": "#2a3f5f",
           "arrowhead": 0,
           "arrowwidth": 1
          },
          "coloraxis": {
           "colorbar": {
            "outlinewidth": 0,
            "ticks": ""
           }
          },
          "colorscale": {
           "diverging": [
            [
             0,
             "#8e0152"
            ],
            [
             0.1,
             "#c51b7d"
            ],
            [
             0.2,
             "#de77ae"
            ],
            [
             0.3,
             "#f1b6da"
            ],
            [
             0.4,
             "#fde0ef"
            ],
            [
             0.5,
             "#f7f7f7"
            ],
            [
             0.6,
             "#e6f5d0"
            ],
            [
             0.7,
             "#b8e186"
            ],
            [
             0.8,
             "#7fbc41"
            ],
            [
             0.9,
             "#4d9221"
            ],
            [
             1,
             "#276419"
            ]
           ],
           "sequential": [
            [
             0,
             "#0d0887"
            ],
            [
             0.1111111111111111,
             "#46039f"
            ],
            [
             0.2222222222222222,
             "#7201a8"
            ],
            [
             0.3333333333333333,
             "#9c179e"
            ],
            [
             0.4444444444444444,
             "#bd3786"
            ],
            [
             0.5555555555555556,
             "#d8576b"
            ],
            [
             0.6666666666666666,
             "#ed7953"
            ],
            [
             0.7777777777777778,
             "#fb9f3a"
            ],
            [
             0.8888888888888888,
             "#fdca26"
            ],
            [
             1,
             "#f0f921"
            ]
           ],
           "sequentialminus": [
            [
             0,
             "#0d0887"
            ],
            [
             0.1111111111111111,
             "#46039f"
            ],
            [
             0.2222222222222222,
             "#7201a8"
            ],
            [
             0.3333333333333333,
             "#9c179e"
            ],
            [
             0.4444444444444444,
             "#bd3786"
            ],
            [
             0.5555555555555556,
             "#d8576b"
            ],
            [
             0.6666666666666666,
             "#ed7953"
            ],
            [
             0.7777777777777778,
             "#fb9f3a"
            ],
            [
             0.8888888888888888,
             "#fdca26"
            ],
            [
             1,
             "#f0f921"
            ]
           ]
          },
          "colorway": [
           "#636efa",
           "#EF553B",
           "#00cc96",
           "#ab63fa",
           "#FFA15A",
           "#19d3f3",
           "#FF6692",
           "#B6E880",
           "#FF97FF",
           "#FECB52"
          ],
          "font": {
           "color": "#2a3f5f"
          },
          "geo": {
           "bgcolor": "white",
           "lakecolor": "white",
           "landcolor": "#E5ECF6",
           "showlakes": true,
           "showland": true,
           "subunitcolor": "white"
          },
          "hoverlabel": {
           "align": "left"
          },
          "hovermode": "closest",
          "mapbox": {
           "style": "light"
          },
          "paper_bgcolor": "white",
          "plot_bgcolor": "#E5ECF6",
          "polar": {
           "angularaxis": {
            "gridcolor": "white",
            "linecolor": "white",
            "ticks": ""
           },
           "bgcolor": "#E5ECF6",
           "radialaxis": {
            "gridcolor": "white",
            "linecolor": "white",
            "ticks": ""
           }
          },
          "scene": {
           "xaxis": {
            "backgroundcolor": "#E5ECF6",
            "gridcolor": "white",
            "gridwidth": 2,
            "linecolor": "white",
            "showbackground": true,
            "ticks": "",
            "zerolinecolor": "white"
           },
           "yaxis": {
            "backgroundcolor": "#E5ECF6",
            "gridcolor": "white",
            "gridwidth": 2,
            "linecolor": "white",
            "showbackground": true,
            "ticks": "",
            "zerolinecolor": "white"
           },
           "zaxis": {
            "backgroundcolor": "#E5ECF6",
            "gridcolor": "white",
            "gridwidth": 2,
            "linecolor": "white",
            "showbackground": true,
            "ticks": "",
            "zerolinecolor": "white"
           }
          },
          "shapedefaults": {
           "line": {
            "color": "#2a3f5f"
           }
          },
          "ternary": {
           "aaxis": {
            "gridcolor": "white",
            "linecolor": "white",
            "ticks": ""
           },
           "baxis": {
            "gridcolor": "white",
            "linecolor": "white",
            "ticks": ""
           },
           "bgcolor": "#E5ECF6",
           "caxis": {
            "gridcolor": "white",
            "linecolor": "white",
            "ticks": ""
           }
          },
          "title": {
           "x": 0.05
          },
          "xaxis": {
           "automargin": true,
           "gridcolor": "white",
           "linecolor": "white",
           "ticks": "",
           "title": {
            "standoff": 15
           },
           "zerolinecolor": "white",
           "zerolinewidth": 2
          },
          "yaxis": {
           "automargin": true,
           "gridcolor": "white",
           "linecolor": "white",
           "ticks": "",
           "title": {
            "standoff": 15
           },
           "zerolinecolor": "white",
           "zerolinewidth": 2
          }
         }
        },
        "title": {
         "text": "Pertusiss WDHB by Ethnicity"
        },
        "width": 600,
        "xaxis": {
         "tickangle": 45,
         "title": {
          "text": "Quarterly"
         },
         "type": "category"
        },
        "yaxis": {
         "tickformat": "%",
         "title": {
          "text": "Percentage"
         }
        }
       }
      },
      "text/html": [
       "<div>\n",
       "        \n",
       "        \n",
       "            <div id=\"2f4bedeb-4d3d-4b1d-a139-84c83e0e8878\" class=\"plotly-graph-div\" style=\"height:400px; width:600px;\"></div>\n",
       "            <script type=\"text/javascript\">\n",
       "                require([\"plotly\"], function(Plotly) {\n",
       "                    window.PLOTLYENV=window.PLOTLYENV || {};\n",
       "                    \n",
       "                if (document.getElementById(\"2f4bedeb-4d3d-4b1d-a139-84c83e0e8878\")) {\n",
       "                    Plotly.newPlot(\n",
       "                        '2f4bedeb-4d3d-4b1d-a139-84c83e0e8878',\n",
       "                        [{\"mode\": \"lines\", \"name\": \"Maori\", \"type\": \"scatter\", \"x\": [\"Q1_16\", \"Q2_16\", \"Q3_16\", \"Q4_16\", \"Q1_17\", \"Q2_17\", \"Q3_17\", \"Q4_17\", \"Q1_18\", \"Q2_18\", \"Q3_18\", \"Q4_18\", \"Q1_19\", \"Q2_19\", \"Q3_19\", \"Q4_19\", \"Q1_20\"], \"y\": [0.085, 0.117, 0.115, 0.195, 0.114, 0.2, 0.247, 0.193, 0.285, 0.246, 0.337, 0.297, 0.246, 0.436, 0.351, 0.284, 0.315]}, {\"mode\": \"lines+markers\", \"name\": \"Pacific\", \"type\": \"scatter\", \"x\": [\"Q1_16\", \"Q2_16\", \"Q3_16\", \"Q4_16\", \"Q1_17\", \"Q2_17\", \"Q3_17\", \"Q4_17\", \"Q1_18\", \"Q2_18\", \"Q3_18\", \"Q4_18\", \"Q1_19\", \"Q2_19\", \"Q3_19\", \"Q4_19\", \"Q1_20\"], \"y\": [0.061, 0.104, 0.22, 0.153, 0.1, 0.283, 0.206, 0.19, 0.283, 0.26, 0.353, 0.306, 0.274, 0.386, 0.408, 0.363, 0.322]}, {\"mode\": \"lines+markers\", \"name\": \"Asian\", \"type\": \"scatter\", \"x\": [\"Q1_16\", \"Q2_16\", \"Q3_16\", \"Q4_16\", \"Q1_17\", \"Q2_17\", \"Q3_17\", \"Q4_17\", \"Q1_18\", \"Q2_18\", \"Q3_18\", \"Q4_18\", \"Q1_19\", \"Q2_19\", \"Q3_19\", \"Q4_19\", \"Q1_20\"], \"y\": [0.2, 0.264, 0.333, 0.398, 0.428, 0.514, 0.491, 0.521, 0.514, 0.603, 0.61, 0.653, 0.613, 0.69, 0.69, 0.637, 0.643]}, {\"mode\": \"lines+markers\", \"name\": \"Others\", \"type\": \"scatter\", \"x\": [\"Q1_16\", \"Q2_16\", \"Q3_16\", \"Q4_16\", \"Q1_17\", \"Q2_17\", \"Q3_17\", \"Q4_17\", \"Q1_18\", \"Q2_18\", \"Q3_18\", \"Q4_18\", \"Q1_19\", \"Q2_19\", \"Q3_19\", \"Q4_19\", \"Q1_20\"], \"y\": [0.209, 0.298, 0.366, 0.364, 0.349, 0.435, 0.444, 0.464, 0.513, 0.536, 0.531, 0.533, 0.495, 0.55, 0.536, 0.529, 0.541]}, {\"mode\": \"lines+markers\", \"name\": \"Total\", \"type\": \"scatter\", \"x\": [\"Q1_16\", \"Q2_16\", \"Q3_16\", \"Q4_16\", \"Q1_17\", \"Q2_17\", \"Q3_17\", \"Q4_17\", \"Q1_18\", \"Q2_18\", \"Q3_18\", \"Q4_18\", \"Q1_19\", \"Q2_19\", \"Q3_19\", \"Q4_19\", \"Q1_20\"], \"y\": [0.182, 0.255, 0.325, 0.344, 0.331, 0.416, 0.412, 0.424, 0.463, 0.496, 0.515, 0.525, 0.491, 0.57, 0.558, 0.527, 0.531]}],\n",
       "                        {\"autosize\": true, \"height\": 400, \"showlegend\": true, \"template\": {\"data\": {\"bar\": [{\"error_x\": {\"color\": \"#2a3f5f\"}, \"error_y\": {\"color\": \"#2a3f5f\"}, \"marker\": {\"line\": {\"color\": \"#E5ECF6\", \"width\": 0.5}}, \"type\": \"bar\"}], \"barpolar\": [{\"marker\": {\"line\": {\"color\": \"#E5ECF6\", \"width\": 0.5}}, \"type\": \"barpolar\"}], \"carpet\": [{\"aaxis\": {\"endlinecolor\": \"#2a3f5f\", \"gridcolor\": \"white\", \"linecolor\": \"white\", \"minorgridcolor\": \"white\", \"startlinecolor\": \"#2a3f5f\"}, \"baxis\": {\"endlinecolor\": \"#2a3f5f\", \"gridcolor\": \"white\", \"linecolor\": \"white\", \"minorgridcolor\": \"white\", \"startlinecolor\": \"#2a3f5f\"}, \"type\": \"carpet\"}], \"choropleth\": [{\"colorbar\": {\"outlinewidth\": 0, \"ticks\": \"\"}, \"type\": \"choropleth\"}], \"contour\": [{\"colorbar\": {\"outlinewidth\": 0, \"ticks\": \"\"}, \"colorscale\": [[0.0, \"#0d0887\"], [0.1111111111111111, \"#46039f\"], [0.2222222222222222, \"#7201a8\"], [0.3333333333333333, \"#9c179e\"], [0.4444444444444444, \"#bd3786\"], [0.5555555555555556, \"#d8576b\"], [0.6666666666666666, \"#ed7953\"], [0.7777777777777778, \"#fb9f3a\"], [0.8888888888888888, \"#fdca26\"], [1.0, \"#f0f921\"]], \"type\": \"contour\"}], \"contourcarpet\": [{\"colorbar\": {\"outlinewidth\": 0, \"ticks\": \"\"}, \"type\": \"contourcarpet\"}], \"heatmap\": [{\"colorbar\": {\"outlinewidth\": 0, \"ticks\": \"\"}, \"colorscale\": [[0.0, \"#0d0887\"], [0.1111111111111111, \"#46039f\"], [0.2222222222222222, \"#7201a8\"], [0.3333333333333333, \"#9c179e\"], [0.4444444444444444, \"#bd3786\"], [0.5555555555555556, \"#d8576b\"], [0.6666666666666666, \"#ed7953\"], [0.7777777777777778, \"#fb9f3a\"], [0.8888888888888888, \"#fdca26\"], [1.0, \"#f0f921\"]], \"type\": \"heatmap\"}], \"heatmapgl\": [{\"colorbar\": {\"outlinewidth\": 0, \"ticks\": \"\"}, \"colorscale\": [[0.0, \"#0d0887\"], [0.1111111111111111, \"#46039f\"], [0.2222222222222222, \"#7201a8\"], [0.3333333333333333, \"#9c179e\"], [0.4444444444444444, \"#bd3786\"], [0.5555555555555556, \"#d8576b\"], [0.6666666666666666, \"#ed7953\"], [0.7777777777777778, \"#fb9f3a\"], [0.8888888888888888, \"#fdca26\"], [1.0, \"#f0f921\"]], \"type\": \"heatmapgl\"}], \"histogram\": [{\"marker\": {\"colorbar\": {\"outlinewidth\": 0, \"ticks\": \"\"}}, \"type\": \"histogram\"}], \"histogram2d\": [{\"colorbar\": {\"outlinewidth\": 0, \"ticks\": \"\"}, \"colorscale\": [[0.0, \"#0d0887\"], [0.1111111111111111, \"#46039f\"], [0.2222222222222222, \"#7201a8\"], [0.3333333333333333, \"#9c179e\"], [0.4444444444444444, \"#bd3786\"], [0.5555555555555556, \"#d8576b\"], [0.6666666666666666, \"#ed7953\"], [0.7777777777777778, \"#fb9f3a\"], [0.8888888888888888, \"#fdca26\"], [1.0, \"#f0f921\"]], \"type\": \"histogram2d\"}], \"histogram2dcontour\": [{\"colorbar\": {\"outlinewidth\": 0, \"ticks\": \"\"}, \"colorscale\": [[0.0, \"#0d0887\"], [0.1111111111111111, \"#46039f\"], [0.2222222222222222, \"#7201a8\"], [0.3333333333333333, \"#9c179e\"], [0.4444444444444444, \"#bd3786\"], [0.5555555555555556, \"#d8576b\"], [0.6666666666666666, \"#ed7953\"], [0.7777777777777778, \"#fb9f3a\"], [0.8888888888888888, \"#fdca26\"], [1.0, \"#f0f921\"]], \"type\": \"histogram2dcontour\"}], \"mesh3d\": [{\"colorbar\": {\"outlinewidth\": 0, \"ticks\": \"\"}, \"type\": \"mesh3d\"}], \"parcoords\": [{\"line\": {\"colorbar\": {\"outlinewidth\": 0, \"ticks\": \"\"}}, \"type\": \"parcoords\"}], \"pie\": [{\"automargin\": true, \"type\": \"pie\"}], \"scatter\": [{\"marker\": {\"colorbar\": {\"outlinewidth\": 0, \"ticks\": \"\"}}, \"type\": \"scatter\"}], \"scatter3d\": [{\"line\": {\"colorbar\": {\"outlinewidth\": 0, \"ticks\": \"\"}}, \"marker\": {\"colorbar\": {\"outlinewidth\": 0, \"ticks\": \"\"}}, \"type\": \"scatter3d\"}], \"scattercarpet\": [{\"marker\": {\"colorbar\": {\"outlinewidth\": 0, \"ticks\": \"\"}}, \"type\": \"scattercarpet\"}], \"scattergeo\": [{\"marker\": {\"colorbar\": {\"outlinewidth\": 0, \"ticks\": \"\"}}, \"type\": \"scattergeo\"}], \"scattergl\": [{\"marker\": {\"colorbar\": {\"outlinewidth\": 0, \"ticks\": \"\"}}, \"type\": \"scattergl\"}], \"scattermapbox\": [{\"marker\": {\"colorbar\": {\"outlinewidth\": 0, \"ticks\": \"\"}}, \"type\": \"scattermapbox\"}], \"scatterpolar\": [{\"marker\": {\"colorbar\": {\"outlinewidth\": 0, \"ticks\": \"\"}}, \"type\": \"scatterpolar\"}], \"scatterpolargl\": [{\"marker\": {\"colorbar\": {\"outlinewidth\": 0, \"ticks\": \"\"}}, \"type\": \"scatterpolargl\"}], \"scatterternary\": [{\"marker\": {\"colorbar\": {\"outlinewidth\": 0, \"ticks\": \"\"}}, \"type\": \"scatterternary\"}], \"surface\": [{\"colorbar\": {\"outlinewidth\": 0, \"ticks\": \"\"}, \"colorscale\": [[0.0, \"#0d0887\"], [0.1111111111111111, \"#46039f\"], [0.2222222222222222, \"#7201a8\"], [0.3333333333333333, \"#9c179e\"], [0.4444444444444444, \"#bd3786\"], [0.5555555555555556, \"#d8576b\"], [0.6666666666666666, \"#ed7953\"], [0.7777777777777778, \"#fb9f3a\"], [0.8888888888888888, \"#fdca26\"], [1.0, \"#f0f921\"]], \"type\": \"surface\"}], \"table\": [{\"cells\": {\"fill\": {\"color\": \"#EBF0F8\"}, \"line\": {\"color\": \"white\"}}, \"header\": {\"fill\": {\"color\": \"#C8D4E3\"}, \"line\": {\"color\": \"white\"}}, \"type\": \"table\"}]}, \"layout\": {\"annotationdefaults\": {\"arrowcolor\": \"#2a3f5f\", \"arrowhead\": 0, \"arrowwidth\": 1}, \"coloraxis\": {\"colorbar\": {\"outlinewidth\": 0, \"ticks\": \"\"}}, \"colorscale\": {\"diverging\": [[0, \"#8e0152\"], [0.1, \"#c51b7d\"], [0.2, \"#de77ae\"], [0.3, \"#f1b6da\"], [0.4, \"#fde0ef\"], [0.5, \"#f7f7f7\"], [0.6, \"#e6f5d0\"], [0.7, \"#b8e186\"], [0.8, \"#7fbc41\"], [0.9, \"#4d9221\"], [1, \"#276419\"]], \"sequential\": [[0.0, \"#0d0887\"], [0.1111111111111111, \"#46039f\"], [0.2222222222222222, \"#7201a8\"], [0.3333333333333333, \"#9c179e\"], [0.4444444444444444, \"#bd3786\"], [0.5555555555555556, \"#d8576b\"], [0.6666666666666666, \"#ed7953\"], [0.7777777777777778, \"#fb9f3a\"], [0.8888888888888888, \"#fdca26\"], [1.0, \"#f0f921\"]], \"sequentialminus\": [[0.0, \"#0d0887\"], [0.1111111111111111, \"#46039f\"], [0.2222222222222222, \"#7201a8\"], [0.3333333333333333, \"#9c179e\"], [0.4444444444444444, \"#bd3786\"], [0.5555555555555556, \"#d8576b\"], [0.6666666666666666, \"#ed7953\"], [0.7777777777777778, \"#fb9f3a\"], [0.8888888888888888, \"#fdca26\"], [1.0, \"#f0f921\"]]}, \"colorway\": [\"#636efa\", \"#EF553B\", \"#00cc96\", \"#ab63fa\", \"#FFA15A\", \"#19d3f3\", \"#FF6692\", \"#B6E880\", \"#FF97FF\", \"#FECB52\"], \"font\": {\"color\": \"#2a3f5f\"}, \"geo\": {\"bgcolor\": \"white\", \"lakecolor\": \"white\", \"landcolor\": \"#E5ECF6\", \"showlakes\": true, \"showland\": true, \"subunitcolor\": \"white\"}, \"hoverlabel\": {\"align\": \"left\"}, \"hovermode\": \"closest\", \"mapbox\": {\"style\": \"light\"}, \"paper_bgcolor\": \"white\", \"plot_bgcolor\": \"#E5ECF6\", \"polar\": {\"angularaxis\": {\"gridcolor\": \"white\", \"linecolor\": \"white\", \"ticks\": \"\"}, \"bgcolor\": \"#E5ECF6\", \"radialaxis\": {\"gridcolor\": \"white\", \"linecolor\": \"white\", \"ticks\": \"\"}}, \"scene\": {\"xaxis\": {\"backgroundcolor\": \"#E5ECF6\", \"gridcolor\": \"white\", \"gridwidth\": 2, \"linecolor\": \"white\", \"showbackground\": true, \"ticks\": \"\", \"zerolinecolor\": \"white\"}, \"yaxis\": {\"backgroundcolor\": \"#E5ECF6\", \"gridcolor\": \"white\", \"gridwidth\": 2, \"linecolor\": \"white\", \"showbackground\": true, \"ticks\": \"\", \"zerolinecolor\": \"white\"}, \"zaxis\": {\"backgroundcolor\": \"#E5ECF6\", \"gridcolor\": \"white\", \"gridwidth\": 2, \"linecolor\": \"white\", \"showbackground\": true, \"ticks\": \"\", \"zerolinecolor\": \"white\"}}, \"shapedefaults\": {\"line\": {\"color\": \"#2a3f5f\"}}, \"ternary\": {\"aaxis\": {\"gridcolor\": \"white\", \"linecolor\": \"white\", \"ticks\": \"\"}, \"baxis\": {\"gridcolor\": \"white\", \"linecolor\": \"white\", \"ticks\": \"\"}, \"bgcolor\": \"#E5ECF6\", \"caxis\": {\"gridcolor\": \"white\", \"linecolor\": \"white\", \"ticks\": \"\"}}, \"title\": {\"x\": 0.05}, \"xaxis\": {\"automargin\": true, \"gridcolor\": \"white\", \"linecolor\": \"white\", \"ticks\": \"\", \"title\": {\"standoff\": 15}, \"zerolinecolor\": \"white\", \"zerolinewidth\": 2}, \"yaxis\": {\"automargin\": true, \"gridcolor\": \"white\", \"linecolor\": \"white\", \"ticks\": \"\", \"title\": {\"standoff\": 15}, \"zerolinecolor\": \"white\", \"zerolinewidth\": 2}}}, \"title\": {\"text\": \"Pertusiss WDHB by Ethnicity\"}, \"width\": 600, \"xaxis\": {\"tickangle\": 45, \"title\": {\"text\": \"Quarterly\"}, \"type\": \"category\"}, \"yaxis\": {\"tickformat\": \"%\", \"title\": {\"text\": \"Percentage\"}}},\n",
       "                        {\"responsive\": true}\n",
       "                    ).then(function(){\n",
       "                            \n",
       "var gd = document.getElementById('2f4bedeb-4d3d-4b1d-a139-84c83e0e8878');\n",
       "var x = new MutationObserver(function (mutations, observer) {{\n",
       "        var display = window.getComputedStyle(gd).display;\n",
       "        if (!display || display === 'none') {{\n",
       "            console.log([gd, 'removed!']);\n",
       "            Plotly.purge(gd);\n",
       "            observer.disconnect();\n",
       "        }}\n",
       "}});\n",
       "\n",
       "// Listen for the removal of the full notebook cells\n",
       "var notebookContainer = gd.closest('#notebook-container');\n",
       "if (notebookContainer) {{\n",
       "    x.observe(notebookContainer, {childList: true});\n",
       "}}\n",
       "\n",
       "// Listen for the clearing of the current output cell\n",
       "var outputEl = gd.closest('.output');\n",
       "if (outputEl) {{\n",
       "    x.observe(outputEl, {childList: true});\n",
       "}}\n",
       "\n",
       "                        })\n",
       "                };\n",
       "                });\n",
       "            </script>\n",
       "        </div>"
      ]
     },
     "metadata": {},
     "output_type": "display_data"
    }
   ],
   "source": [
    "import pandas as pd\n",
    "import matplotlib.pyplot as plt\n",
    "import plotly.graph_objects as go\n",
    "import numpy as np\n",
    "#DHBAll = pd.ExcelFile('G:/Funding Team/Planning/Health Information/HIAT/Michael Files/Antinatal Vaccination/April 2019 to March 2020/For Python.xlsx')\n",
    "#DHBPert = pd.read_excel(DHBAll, 'Pertussis Graphs', skiprows=5)\n",
    "WDHBEthnic = DHBPert[['Maori','Pacific','Asian', 'European_Other', 'Total']]\n",
    "WDHBEthnic=WDHBEthnic.round(3)\n",
    "WDHBEthnic=WDHBEthnic[:29]\n",
    "\n",
    "# Declare a list that is to be converted into a column \n",
    "Quarter = ['Q1_16', 'Q2_16', 'Q3_16', 'Q4_16','Q1_17', 'Q2_17', 'Q3_17', 'Q4_17','Q1_18', 'Q2_18', 'Q3_18', 'Q4_18','Q1_19', \n",
    "           'Q2_19', 'Q3_19', 'Q4_19','Q1_20', 'Q2_20', 'Q3_20', 'Q4_20',\n",
    "           'Q1_21', 'Q2_21', 'Q3_21', 'Q4_21','Q1_22', 'Q2_22', 'Q3_22', 'Q4_22', 'Q1_23'] \n",
    "# Using 'Address' as the column name \n",
    "# and equating it to the list \n",
    "WDHBEthnic['Quarter'] = Quarter \n",
    "WDHBEthnic=WDHBEthnic.dropna()\n",
    "random_x = WDHBEthnic[\"Quarter\"].tolist()\n",
    "# using to_numpy() \n",
    "random_y0 = WDHBEthnic['Maori'].tolist()   \n",
    "\n",
    "random_y1 = WDHBEthnic['Pacific'].tolist()  \n",
    "\n",
    "random_y2 = WDHBEthnic['Asian'].tolist()   \n",
    "random_y3 = WDHBEthnic['European_Other'].tolist() \n",
    "random_y4 = WDHBEthnic['Total'].tolist() \n",
    "\n",
    "import numpy as np\n",
    "\n",
    "# Create traces\n",
    "fig = go.Figure()\n",
    "fig.add_trace(go.Scatter(x=random_x, y=random_y0,\n",
    "                    mode='lines',\n",
    "                    name='Maori'))\n",
    "fig.add_trace(go.Scatter(x=random_x, y=random_y1,\n",
    "                    mode='lines+markers',\n",
    "                    name='Pacific'))\n",
    "fig.add_trace(go.Scatter(x=random_x, y=random_y2,\n",
    "                    mode='lines+markers',\n",
    "                    name='Asian'))\n",
    "fig.add_trace(go.Scatter(x=random_x, y=random_y3,\n",
    "                    mode='lines+markers',\n",
    "                    name='Others'))\n",
    "fig.add_trace(go.Scatter(x=random_x, y=random_y4,\n",
    "                    mode='lines+markers',\n",
    "                    name='Total'))\n",
    "# Edit the layout\n",
    "fig.update_layout(title='Pertusiss by Ethnicity',\n",
    "                   xaxis_title='Quarter',\n",
    "                   yaxis_title='Percentage')\n",
    "\n",
    "fig.update_layout(xaxis_type='category',\n",
    "                  title_text='Pertusiss WDHB by Ethnicity',\n",
    "                  xaxis_title='Quarterly',\n",
    "                  yaxis_title='Percentage')\n",
    "fig.update_xaxes(tickangle=45)\n",
    "fig.update_yaxes(tickformat=\"%\")\n",
    "fig.update_layout(showlegend=True)\n",
    "#fig.update_layout(legend_orientation=\"h\")\n",
    "fig.update_layout(\n",
    "    autosize=True,\n",
    "    width=600,\n",
    "    height=400,)\n",
    "fig.show()"
   ]
  },
  {
   "cell_type": "code",
   "execution_count": 31,
   "metadata": {},
   "outputs": [
    {
     "data": {
      "application/vnd.plotly.v1+json": {
       "config": {
        "plotlyServerURL": "https://plot.ly"
       },
       "data": [
        {
         "mode": "lines",
         "name": "Maori",
         "type": "scatter",
         "x": [
          "Q1_16",
          "Q2_16",
          "Q3_16",
          "Q4_16",
          "Q1_17",
          "Q2_17",
          "Q3_17",
          "Q4_17",
          "Q1_18",
          "Q2_18",
          "Q3_18",
          "Q4_18",
          "Q1_19",
          "Q2_19",
          "Q3_19",
          "Q4_19",
          "Q1_20"
         ],
         "y": [
          0.057,
          0.09,
          0.136,
          0.092,
          0.091,
          0.126,
          0.182,
          0.161,
          0.171,
          0.207,
          0.212,
          0.2,
          0.176,
          0.246,
          0.233,
          0.229,
          0.191
         ]
        },
        {
         "mode": "lines+markers",
         "name": "Pacific",
         "type": "scatter",
         "x": [
          "Q1_16",
          "Q2_16",
          "Q3_16",
          "Q4_16",
          "Q1_17",
          "Q2_17",
          "Q3_17",
          "Q4_17",
          "Q1_18",
          "Q2_18",
          "Q3_18",
          "Q4_18",
          "Q1_19",
          "Q2_19",
          "Q3_19",
          "Q4_19",
          "Q1_20"
         ],
         "y": [
          0.063,
          0.119,
          0.167,
          0.154,
          0.111,
          0.21,
          0.195,
          0.167,
          0.244,
          0.292,
          0.294,
          0.286,
          0.336,
          0.383,
          0.359,
          0.317,
          0.348
         ]
        },
        {
         "mode": "lines+markers",
         "name": "Asian",
         "type": "scatter",
         "x": [
          "Q1_16",
          "Q2_16",
          "Q3_16",
          "Q4_16",
          "Q1_17",
          "Q2_17",
          "Q3_17",
          "Q4_17",
          "Q1_18",
          "Q2_18",
          "Q3_18",
          "Q4_18",
          "Q1_19",
          "Q2_19",
          "Q3_19",
          "Q4_19",
          "Q1_20"
         ],
         "y": [
          0.144,
          0.245,
          0.287,
          0.316,
          0.312,
          0.429,
          0.486,
          0.404,
          0.466,
          0.566,
          0.568,
          0.598,
          0.54,
          0.581,
          0.587,
          0.582,
          0.587
         ]
        },
        {
         "mode": "lines+markers",
         "name": "Others",
         "type": "scatter",
         "x": [
          "Q1_16",
          "Q2_16",
          "Q3_16",
          "Q4_16",
          "Q1_17",
          "Q2_17",
          "Q3_17",
          "Q4_17",
          "Q1_18",
          "Q2_18",
          "Q3_18",
          "Q4_18",
          "Q1_19",
          "Q2_19",
          "Q3_19",
          "Q4_19",
          "Q1_20"
         ],
         "y": [
          0.185,
          0.228,
          0.284,
          0.288,
          0.281,
          0.391,
          0.421,
          0.349,
          0.427,
          0.489,
          0.458,
          0.449,
          0.431,
          0.482,
          0.482,
          0.459,
          0.475
         ]
        },
        {
         "mode": "lines+markers",
         "name": "Total",
         "type": "scatter",
         "x": [
          "Q1_16",
          "Q2_16",
          "Q3_16",
          "Q4_16",
          "Q1_17",
          "Q2_17",
          "Q3_17",
          "Q4_17",
          "Q1_18",
          "Q2_18",
          "Q3_18",
          "Q4_18",
          "Q1_19",
          "Q2_19",
          "Q3_19",
          "Q4_19",
          "Q1_20"
         ],
         "y": [
          0.118,
          0.178,
          0.225,
          0.228,
          0.202,
          0.291,
          0.323,
          0.272,
          0.329,
          0.389,
          0.387,
          0.405,
          0.385,
          0.433,
          0.432,
          0.41,
          0.413
         ]
        }
       ],
       "layout": {
        "autosize": false,
        "height": 400,
        "showlegend": true,
        "template": {
         "data": {
          "bar": [
           {
            "error_x": {
             "color": "#2a3f5f"
            },
            "error_y": {
             "color": "#2a3f5f"
            },
            "marker": {
             "line": {
              "color": "#E5ECF6",
              "width": 0.5
             }
            },
            "type": "bar"
           }
          ],
          "barpolar": [
           {
            "marker": {
             "line": {
              "color": "#E5ECF6",
              "width": 0.5
             }
            },
            "type": "barpolar"
           }
          ],
          "carpet": [
           {
            "aaxis": {
             "endlinecolor": "#2a3f5f",
             "gridcolor": "white",
             "linecolor": "white",
             "minorgridcolor": "white",
             "startlinecolor": "#2a3f5f"
            },
            "baxis": {
             "endlinecolor": "#2a3f5f",
             "gridcolor": "white",
             "linecolor": "white",
             "minorgridcolor": "white",
             "startlinecolor": "#2a3f5f"
            },
            "type": "carpet"
           }
          ],
          "choropleth": [
           {
            "colorbar": {
             "outlinewidth": 0,
             "ticks": ""
            },
            "type": "choropleth"
           }
          ],
          "contour": [
           {
            "colorbar": {
             "outlinewidth": 0,
             "ticks": ""
            },
            "colorscale": [
             [
              0,
              "#0d0887"
             ],
             [
              0.1111111111111111,
              "#46039f"
             ],
             [
              0.2222222222222222,
              "#7201a8"
             ],
             [
              0.3333333333333333,
              "#9c179e"
             ],
             [
              0.4444444444444444,
              "#bd3786"
             ],
             [
              0.5555555555555556,
              "#d8576b"
             ],
             [
              0.6666666666666666,
              "#ed7953"
             ],
             [
              0.7777777777777778,
              "#fb9f3a"
             ],
             [
              0.8888888888888888,
              "#fdca26"
             ],
             [
              1,
              "#f0f921"
             ]
            ],
            "type": "contour"
           }
          ],
          "contourcarpet": [
           {
            "colorbar": {
             "outlinewidth": 0,
             "ticks": ""
            },
            "type": "contourcarpet"
           }
          ],
          "heatmap": [
           {
            "colorbar": {
             "outlinewidth": 0,
             "ticks": ""
            },
            "colorscale": [
             [
              0,
              "#0d0887"
             ],
             [
              0.1111111111111111,
              "#46039f"
             ],
             [
              0.2222222222222222,
              "#7201a8"
             ],
             [
              0.3333333333333333,
              "#9c179e"
             ],
             [
              0.4444444444444444,
              "#bd3786"
             ],
             [
              0.5555555555555556,
              "#d8576b"
             ],
             [
              0.6666666666666666,
              "#ed7953"
             ],
             [
              0.7777777777777778,
              "#fb9f3a"
             ],
             [
              0.8888888888888888,
              "#fdca26"
             ],
             [
              1,
              "#f0f921"
             ]
            ],
            "type": "heatmap"
           }
          ],
          "heatmapgl": [
           {
            "colorbar": {
             "outlinewidth": 0,
             "ticks": ""
            },
            "colorscale": [
             [
              0,
              "#0d0887"
             ],
             [
              0.1111111111111111,
              "#46039f"
             ],
             [
              0.2222222222222222,
              "#7201a8"
             ],
             [
              0.3333333333333333,
              "#9c179e"
             ],
             [
              0.4444444444444444,
              "#bd3786"
             ],
             [
              0.5555555555555556,
              "#d8576b"
             ],
             [
              0.6666666666666666,
              "#ed7953"
             ],
             [
              0.7777777777777778,
              "#fb9f3a"
             ],
             [
              0.8888888888888888,
              "#fdca26"
             ],
             [
              1,
              "#f0f921"
             ]
            ],
            "type": "heatmapgl"
           }
          ],
          "histogram": [
           {
            "marker": {
             "colorbar": {
              "outlinewidth": 0,
              "ticks": ""
             }
            },
            "type": "histogram"
           }
          ],
          "histogram2d": [
           {
            "colorbar": {
             "outlinewidth": 0,
             "ticks": ""
            },
            "colorscale": [
             [
              0,
              "#0d0887"
             ],
             [
              0.1111111111111111,
              "#46039f"
             ],
             [
              0.2222222222222222,
              "#7201a8"
             ],
             [
              0.3333333333333333,
              "#9c179e"
             ],
             [
              0.4444444444444444,
              "#bd3786"
             ],
             [
              0.5555555555555556,
              "#d8576b"
             ],
             [
              0.6666666666666666,
              "#ed7953"
             ],
             [
              0.7777777777777778,
              "#fb9f3a"
             ],
             [
              0.8888888888888888,
              "#fdca26"
             ],
             [
              1,
              "#f0f921"
             ]
            ],
            "type": "histogram2d"
           }
          ],
          "histogram2dcontour": [
           {
            "colorbar": {
             "outlinewidth": 0,
             "ticks": ""
            },
            "colorscale": [
             [
              0,
              "#0d0887"
             ],
             [
              0.1111111111111111,
              "#46039f"
             ],
             [
              0.2222222222222222,
              "#7201a8"
             ],
             [
              0.3333333333333333,
              "#9c179e"
             ],
             [
              0.4444444444444444,
              "#bd3786"
             ],
             [
              0.5555555555555556,
              "#d8576b"
             ],
             [
              0.6666666666666666,
              "#ed7953"
             ],
             [
              0.7777777777777778,
              "#fb9f3a"
             ],
             [
              0.8888888888888888,
              "#fdca26"
             ],
             [
              1,
              "#f0f921"
             ]
            ],
            "type": "histogram2dcontour"
           }
          ],
          "mesh3d": [
           {
            "colorbar": {
             "outlinewidth": 0,
             "ticks": ""
            },
            "type": "mesh3d"
           }
          ],
          "parcoords": [
           {
            "line": {
             "colorbar": {
              "outlinewidth": 0,
              "ticks": ""
             }
            },
            "type": "parcoords"
           }
          ],
          "pie": [
           {
            "automargin": true,
            "type": "pie"
           }
          ],
          "scatter": [
           {
            "marker": {
             "colorbar": {
              "outlinewidth": 0,
              "ticks": ""
             }
            },
            "type": "scatter"
           }
          ],
          "scatter3d": [
           {
            "line": {
             "colorbar": {
              "outlinewidth": 0,
              "ticks": ""
             }
            },
            "marker": {
             "colorbar": {
              "outlinewidth": 0,
              "ticks": ""
             }
            },
            "type": "scatter3d"
           }
          ],
          "scattercarpet": [
           {
            "marker": {
             "colorbar": {
              "outlinewidth": 0,
              "ticks": ""
             }
            },
            "type": "scattercarpet"
           }
          ],
          "scattergeo": [
           {
            "marker": {
             "colorbar": {
              "outlinewidth": 0,
              "ticks": ""
             }
            },
            "type": "scattergeo"
           }
          ],
          "scattergl": [
           {
            "marker": {
             "colorbar": {
              "outlinewidth": 0,
              "ticks": ""
             }
            },
            "type": "scattergl"
           }
          ],
          "scattermapbox": [
           {
            "marker": {
             "colorbar": {
              "outlinewidth": 0,
              "ticks": ""
             }
            },
            "type": "scattermapbox"
           }
          ],
          "scatterpolar": [
           {
            "marker": {
             "colorbar": {
              "outlinewidth": 0,
              "ticks": ""
             }
            },
            "type": "scatterpolar"
           }
          ],
          "scatterpolargl": [
           {
            "marker": {
             "colorbar": {
              "outlinewidth": 0,
              "ticks": ""
             }
            },
            "type": "scatterpolargl"
           }
          ],
          "scatterternary": [
           {
            "marker": {
             "colorbar": {
              "outlinewidth": 0,
              "ticks": ""
             }
            },
            "type": "scatterternary"
           }
          ],
          "surface": [
           {
            "colorbar": {
             "outlinewidth": 0,
             "ticks": ""
            },
            "colorscale": [
             [
              0,
              "#0d0887"
             ],
             [
              0.1111111111111111,
              "#46039f"
             ],
             [
              0.2222222222222222,
              "#7201a8"
             ],
             [
              0.3333333333333333,
              "#9c179e"
             ],
             [
              0.4444444444444444,
              "#bd3786"
             ],
             [
              0.5555555555555556,
              "#d8576b"
             ],
             [
              0.6666666666666666,
              "#ed7953"
             ],
             [
              0.7777777777777778,
              "#fb9f3a"
             ],
             [
              0.8888888888888888,
              "#fdca26"
             ],
             [
              1,
              "#f0f921"
             ]
            ],
            "type": "surface"
           }
          ],
          "table": [
           {
            "cells": {
             "fill": {
              "color": "#EBF0F8"
             },
             "line": {
              "color": "white"
             }
            },
            "header": {
             "fill": {
              "color": "#C8D4E3"
             },
             "line": {
              "color": "white"
             }
            },
            "type": "table"
           }
          ]
         },
         "layout": {
          "annotationdefaults": {
           "arrowcolor": "#2a3f5f",
           "arrowhead": 0,
           "arrowwidth": 1
          },
          "coloraxis": {
           "colorbar": {
            "outlinewidth": 0,
            "ticks": ""
           }
          },
          "colorscale": {
           "diverging": [
            [
             0,
             "#8e0152"
            ],
            [
             0.1,
             "#c51b7d"
            ],
            [
             0.2,
             "#de77ae"
            ],
            [
             0.3,
             "#f1b6da"
            ],
            [
             0.4,
             "#fde0ef"
            ],
            [
             0.5,
             "#f7f7f7"
            ],
            [
             0.6,
             "#e6f5d0"
            ],
            [
             0.7,
             "#b8e186"
            ],
            [
             0.8,
             "#7fbc41"
            ],
            [
             0.9,
             "#4d9221"
            ],
            [
             1,
             "#276419"
            ]
           ],
           "sequential": [
            [
             0,
             "#0d0887"
            ],
            [
             0.1111111111111111,
             "#46039f"
            ],
            [
             0.2222222222222222,
             "#7201a8"
            ],
            [
             0.3333333333333333,
             "#9c179e"
            ],
            [
             0.4444444444444444,
             "#bd3786"
            ],
            [
             0.5555555555555556,
             "#d8576b"
            ],
            [
             0.6666666666666666,
             "#ed7953"
            ],
            [
             0.7777777777777778,
             "#fb9f3a"
            ],
            [
             0.8888888888888888,
             "#fdca26"
            ],
            [
             1,
             "#f0f921"
            ]
           ],
           "sequentialminus": [
            [
             0,
             "#0d0887"
            ],
            [
             0.1111111111111111,
             "#46039f"
            ],
            [
             0.2222222222222222,
             "#7201a8"
            ],
            [
             0.3333333333333333,
             "#9c179e"
            ],
            [
             0.4444444444444444,
             "#bd3786"
            ],
            [
             0.5555555555555556,
             "#d8576b"
            ],
            [
             0.6666666666666666,
             "#ed7953"
            ],
            [
             0.7777777777777778,
             "#fb9f3a"
            ],
            [
             0.8888888888888888,
             "#fdca26"
            ],
            [
             1,
             "#f0f921"
            ]
           ]
          },
          "colorway": [
           "#636efa",
           "#EF553B",
           "#00cc96",
           "#ab63fa",
           "#FFA15A",
           "#19d3f3",
           "#FF6692",
           "#B6E880",
           "#FF97FF",
           "#FECB52"
          ],
          "font": {
           "color": "#2a3f5f"
          },
          "geo": {
           "bgcolor": "white",
           "lakecolor": "white",
           "landcolor": "#E5ECF6",
           "showlakes": true,
           "showland": true,
           "subunitcolor": "white"
          },
          "hoverlabel": {
           "align": "left"
          },
          "hovermode": "closest",
          "mapbox": {
           "style": "light"
          },
          "paper_bgcolor": "white",
          "plot_bgcolor": "#E5ECF6",
          "polar": {
           "angularaxis": {
            "gridcolor": "white",
            "linecolor": "white",
            "ticks": ""
           },
           "bgcolor": "#E5ECF6",
           "radialaxis": {
            "gridcolor": "white",
            "linecolor": "white",
            "ticks": ""
           }
          },
          "scene": {
           "xaxis": {
            "backgroundcolor": "#E5ECF6",
            "gridcolor": "white",
            "gridwidth": 2,
            "linecolor": "white",
            "showbackground": true,
            "ticks": "",
            "zerolinecolor": "white"
           },
           "yaxis": {
            "backgroundcolor": "#E5ECF6",
            "gridcolor": "white",
            "gridwidth": 2,
            "linecolor": "white",
            "showbackground": true,
            "ticks": "",
            "zerolinecolor": "white"
           },
           "zaxis": {
            "backgroundcolor": "#E5ECF6",
            "gridcolor": "white",
            "gridwidth": 2,
            "linecolor": "white",
            "showbackground": true,
            "ticks": "",
            "zerolinecolor": "white"
           }
          },
          "shapedefaults": {
           "line": {
            "color": "#2a3f5f"
           }
          },
          "ternary": {
           "aaxis": {
            "gridcolor": "white",
            "linecolor": "white",
            "ticks": ""
           },
           "baxis": {
            "gridcolor": "white",
            "linecolor": "white",
            "ticks": ""
           },
           "bgcolor": "#E5ECF6",
           "caxis": {
            "gridcolor": "white",
            "linecolor": "white",
            "ticks": ""
           }
          },
          "title": {
           "x": 0.05
          },
          "xaxis": {
           "automargin": true,
           "gridcolor": "white",
           "linecolor": "white",
           "ticks": "",
           "title": {
            "standoff": 15
           },
           "zerolinecolor": "white",
           "zerolinewidth": 2
          },
          "yaxis": {
           "automargin": true,
           "gridcolor": "white",
           "linecolor": "white",
           "ticks": "",
           "title": {
            "standoff": 15
           },
           "zerolinecolor": "white",
           "zerolinewidth": 2
          }
         }
        },
        "title": {
         "text": "Pertusiss CMDHB by Ethnicity"
        },
        "width": 600,
        "xaxis": {
         "tickangle": 45,
         "title": {
          "text": "Quarterly"
         },
         "type": "category"
        },
        "yaxis": {
         "tickformat": "%",
         "title": {
          "text": "Percentage"
         }
        }
       }
      },
      "text/html": [
       "<div>\n",
       "        \n",
       "        \n",
       "            <div id=\"4d1f6374-1e0d-466e-b48b-699e41646960\" class=\"plotly-graph-div\" style=\"height:400px; width:600px;\"></div>\n",
       "            <script type=\"text/javascript\">\n",
       "                require([\"plotly\"], function(Plotly) {\n",
       "                    window.PLOTLYENV=window.PLOTLYENV || {};\n",
       "                    \n",
       "                if (document.getElementById(\"4d1f6374-1e0d-466e-b48b-699e41646960\")) {\n",
       "                    Plotly.newPlot(\n",
       "                        '4d1f6374-1e0d-466e-b48b-699e41646960',\n",
       "                        [{\"mode\": \"lines\", \"name\": \"Maori\", \"type\": \"scatter\", \"x\": [\"Q1_16\", \"Q2_16\", \"Q3_16\", \"Q4_16\", \"Q1_17\", \"Q2_17\", \"Q3_17\", \"Q4_17\", \"Q1_18\", \"Q2_18\", \"Q3_18\", \"Q4_18\", \"Q1_19\", \"Q2_19\", \"Q3_19\", \"Q4_19\", \"Q1_20\"], \"y\": [0.057, 0.09, 0.136, 0.092, 0.091, 0.126, 0.182, 0.161, 0.171, 0.207, 0.212, 0.2, 0.176, 0.246, 0.233, 0.229, 0.191]}, {\"mode\": \"lines+markers\", \"name\": \"Pacific\", \"type\": \"scatter\", \"x\": [\"Q1_16\", \"Q2_16\", \"Q3_16\", \"Q4_16\", \"Q1_17\", \"Q2_17\", \"Q3_17\", \"Q4_17\", \"Q1_18\", \"Q2_18\", \"Q3_18\", \"Q4_18\", \"Q1_19\", \"Q2_19\", \"Q3_19\", \"Q4_19\", \"Q1_20\"], \"y\": [0.063, 0.119, 0.167, 0.154, 0.111, 0.21, 0.195, 0.167, 0.244, 0.292, 0.294, 0.286, 0.336, 0.383, 0.359, 0.317, 0.348]}, {\"mode\": \"lines+markers\", \"name\": \"Asian\", \"type\": \"scatter\", \"x\": [\"Q1_16\", \"Q2_16\", \"Q3_16\", \"Q4_16\", \"Q1_17\", \"Q2_17\", \"Q3_17\", \"Q4_17\", \"Q1_18\", \"Q2_18\", \"Q3_18\", \"Q4_18\", \"Q1_19\", \"Q2_19\", \"Q3_19\", \"Q4_19\", \"Q1_20\"], \"y\": [0.144, 0.245, 0.287, 0.316, 0.312, 0.429, 0.486, 0.404, 0.466, 0.566, 0.568, 0.598, 0.54, 0.581, 0.587, 0.582, 0.587]}, {\"mode\": \"lines+markers\", \"name\": \"Others\", \"type\": \"scatter\", \"x\": [\"Q1_16\", \"Q2_16\", \"Q3_16\", \"Q4_16\", \"Q1_17\", \"Q2_17\", \"Q3_17\", \"Q4_17\", \"Q1_18\", \"Q2_18\", \"Q3_18\", \"Q4_18\", \"Q1_19\", \"Q2_19\", \"Q3_19\", \"Q4_19\", \"Q1_20\"], \"y\": [0.185, 0.228, 0.284, 0.288, 0.281, 0.391, 0.421, 0.349, 0.427, 0.489, 0.458, 0.449, 0.431, 0.482, 0.482, 0.459, 0.475]}, {\"mode\": \"lines+markers\", \"name\": \"Total\", \"type\": \"scatter\", \"x\": [\"Q1_16\", \"Q2_16\", \"Q3_16\", \"Q4_16\", \"Q1_17\", \"Q2_17\", \"Q3_17\", \"Q4_17\", \"Q1_18\", \"Q2_18\", \"Q3_18\", \"Q4_18\", \"Q1_19\", \"Q2_19\", \"Q3_19\", \"Q4_19\", \"Q1_20\"], \"y\": [0.118, 0.178, 0.225, 0.228, 0.202, 0.291, 0.323, 0.272, 0.329, 0.389, 0.387, 0.405, 0.385, 0.433, 0.432, 0.41, 0.413]}],\n",
       "                        {\"autosize\": false, \"height\": 400, \"showlegend\": true, \"template\": {\"data\": {\"bar\": [{\"error_x\": {\"color\": \"#2a3f5f\"}, \"error_y\": {\"color\": \"#2a3f5f\"}, \"marker\": {\"line\": {\"color\": \"#E5ECF6\", \"width\": 0.5}}, \"type\": \"bar\"}], \"barpolar\": [{\"marker\": {\"line\": {\"color\": \"#E5ECF6\", \"width\": 0.5}}, \"type\": \"barpolar\"}], \"carpet\": [{\"aaxis\": {\"endlinecolor\": \"#2a3f5f\", \"gridcolor\": \"white\", \"linecolor\": \"white\", \"minorgridcolor\": \"white\", \"startlinecolor\": \"#2a3f5f\"}, \"baxis\": {\"endlinecolor\": \"#2a3f5f\", \"gridcolor\": \"white\", \"linecolor\": \"white\", \"minorgridcolor\": \"white\", \"startlinecolor\": \"#2a3f5f\"}, \"type\": \"carpet\"}], \"choropleth\": [{\"colorbar\": {\"outlinewidth\": 0, \"ticks\": \"\"}, \"type\": \"choropleth\"}], \"contour\": [{\"colorbar\": {\"outlinewidth\": 0, \"ticks\": \"\"}, \"colorscale\": [[0.0, \"#0d0887\"], [0.1111111111111111, \"#46039f\"], [0.2222222222222222, \"#7201a8\"], [0.3333333333333333, \"#9c179e\"], [0.4444444444444444, \"#bd3786\"], [0.5555555555555556, \"#d8576b\"], [0.6666666666666666, \"#ed7953\"], [0.7777777777777778, \"#fb9f3a\"], [0.8888888888888888, \"#fdca26\"], [1.0, \"#f0f921\"]], \"type\": \"contour\"}], \"contourcarpet\": [{\"colorbar\": {\"outlinewidth\": 0, \"ticks\": \"\"}, \"type\": \"contourcarpet\"}], \"heatmap\": [{\"colorbar\": {\"outlinewidth\": 0, \"ticks\": \"\"}, \"colorscale\": [[0.0, \"#0d0887\"], [0.1111111111111111, \"#46039f\"], [0.2222222222222222, \"#7201a8\"], [0.3333333333333333, \"#9c179e\"], [0.4444444444444444, \"#bd3786\"], [0.5555555555555556, \"#d8576b\"], [0.6666666666666666, \"#ed7953\"], [0.7777777777777778, \"#fb9f3a\"], [0.8888888888888888, \"#fdca26\"], [1.0, \"#f0f921\"]], \"type\": \"heatmap\"}], \"heatmapgl\": [{\"colorbar\": {\"outlinewidth\": 0, \"ticks\": \"\"}, \"colorscale\": [[0.0, \"#0d0887\"], [0.1111111111111111, \"#46039f\"], [0.2222222222222222, \"#7201a8\"], [0.3333333333333333, \"#9c179e\"], [0.4444444444444444, \"#bd3786\"], [0.5555555555555556, \"#d8576b\"], [0.6666666666666666, \"#ed7953\"], [0.7777777777777778, \"#fb9f3a\"], [0.8888888888888888, \"#fdca26\"], [1.0, \"#f0f921\"]], \"type\": \"heatmapgl\"}], \"histogram\": [{\"marker\": {\"colorbar\": {\"outlinewidth\": 0, \"ticks\": \"\"}}, \"type\": \"histogram\"}], \"histogram2d\": [{\"colorbar\": {\"outlinewidth\": 0, \"ticks\": \"\"}, \"colorscale\": [[0.0, \"#0d0887\"], [0.1111111111111111, \"#46039f\"], [0.2222222222222222, \"#7201a8\"], [0.3333333333333333, \"#9c179e\"], [0.4444444444444444, \"#bd3786\"], [0.5555555555555556, \"#d8576b\"], [0.6666666666666666, \"#ed7953\"], [0.7777777777777778, \"#fb9f3a\"], [0.8888888888888888, \"#fdca26\"], [1.0, \"#f0f921\"]], \"type\": \"histogram2d\"}], \"histogram2dcontour\": [{\"colorbar\": {\"outlinewidth\": 0, \"ticks\": \"\"}, \"colorscale\": [[0.0, \"#0d0887\"], [0.1111111111111111, \"#46039f\"], [0.2222222222222222, \"#7201a8\"], [0.3333333333333333, \"#9c179e\"], [0.4444444444444444, \"#bd3786\"], [0.5555555555555556, \"#d8576b\"], [0.6666666666666666, \"#ed7953\"], [0.7777777777777778, \"#fb9f3a\"], [0.8888888888888888, \"#fdca26\"], [1.0, \"#f0f921\"]], \"type\": \"histogram2dcontour\"}], \"mesh3d\": [{\"colorbar\": {\"outlinewidth\": 0, \"ticks\": \"\"}, \"type\": \"mesh3d\"}], \"parcoords\": [{\"line\": {\"colorbar\": {\"outlinewidth\": 0, \"ticks\": \"\"}}, \"type\": \"parcoords\"}], \"pie\": [{\"automargin\": true, \"type\": \"pie\"}], \"scatter\": [{\"marker\": {\"colorbar\": {\"outlinewidth\": 0, \"ticks\": \"\"}}, \"type\": \"scatter\"}], \"scatter3d\": [{\"line\": {\"colorbar\": {\"outlinewidth\": 0, \"ticks\": \"\"}}, \"marker\": {\"colorbar\": {\"outlinewidth\": 0, \"ticks\": \"\"}}, \"type\": \"scatter3d\"}], \"scattercarpet\": [{\"marker\": {\"colorbar\": {\"outlinewidth\": 0, \"ticks\": \"\"}}, \"type\": \"scattercarpet\"}], \"scattergeo\": [{\"marker\": {\"colorbar\": {\"outlinewidth\": 0, \"ticks\": \"\"}}, \"type\": \"scattergeo\"}], \"scattergl\": [{\"marker\": {\"colorbar\": {\"outlinewidth\": 0, \"ticks\": \"\"}}, \"type\": \"scattergl\"}], \"scattermapbox\": [{\"marker\": {\"colorbar\": {\"outlinewidth\": 0, \"ticks\": \"\"}}, \"type\": \"scattermapbox\"}], \"scatterpolar\": [{\"marker\": {\"colorbar\": {\"outlinewidth\": 0, \"ticks\": \"\"}}, \"type\": \"scatterpolar\"}], \"scatterpolargl\": [{\"marker\": {\"colorbar\": {\"outlinewidth\": 0, \"ticks\": \"\"}}, \"type\": \"scatterpolargl\"}], \"scatterternary\": [{\"marker\": {\"colorbar\": {\"outlinewidth\": 0, \"ticks\": \"\"}}, \"type\": \"scatterternary\"}], \"surface\": [{\"colorbar\": {\"outlinewidth\": 0, \"ticks\": \"\"}, \"colorscale\": [[0.0, \"#0d0887\"], [0.1111111111111111, \"#46039f\"], [0.2222222222222222, \"#7201a8\"], [0.3333333333333333, \"#9c179e\"], [0.4444444444444444, \"#bd3786\"], [0.5555555555555556, \"#d8576b\"], [0.6666666666666666, \"#ed7953\"], [0.7777777777777778, \"#fb9f3a\"], [0.8888888888888888, \"#fdca26\"], [1.0, \"#f0f921\"]], \"type\": \"surface\"}], \"table\": [{\"cells\": {\"fill\": {\"color\": \"#EBF0F8\"}, \"line\": {\"color\": \"white\"}}, \"header\": {\"fill\": {\"color\": \"#C8D4E3\"}, \"line\": {\"color\": \"white\"}}, \"type\": \"table\"}]}, \"layout\": {\"annotationdefaults\": {\"arrowcolor\": \"#2a3f5f\", \"arrowhead\": 0, \"arrowwidth\": 1}, \"coloraxis\": {\"colorbar\": {\"outlinewidth\": 0, \"ticks\": \"\"}}, \"colorscale\": {\"diverging\": [[0, \"#8e0152\"], [0.1, \"#c51b7d\"], [0.2, \"#de77ae\"], [0.3, \"#f1b6da\"], [0.4, \"#fde0ef\"], [0.5, \"#f7f7f7\"], [0.6, \"#e6f5d0\"], [0.7, \"#b8e186\"], [0.8, \"#7fbc41\"], [0.9, \"#4d9221\"], [1, \"#276419\"]], \"sequential\": [[0.0, \"#0d0887\"], [0.1111111111111111, \"#46039f\"], [0.2222222222222222, \"#7201a8\"], [0.3333333333333333, \"#9c179e\"], [0.4444444444444444, \"#bd3786\"], [0.5555555555555556, \"#d8576b\"], [0.6666666666666666, \"#ed7953\"], [0.7777777777777778, \"#fb9f3a\"], [0.8888888888888888, \"#fdca26\"], [1.0, \"#f0f921\"]], \"sequentialminus\": [[0.0, \"#0d0887\"], [0.1111111111111111, \"#46039f\"], [0.2222222222222222, \"#7201a8\"], [0.3333333333333333, \"#9c179e\"], [0.4444444444444444, \"#bd3786\"], [0.5555555555555556, \"#d8576b\"], [0.6666666666666666, \"#ed7953\"], [0.7777777777777778, \"#fb9f3a\"], [0.8888888888888888, \"#fdca26\"], [1.0, \"#f0f921\"]]}, \"colorway\": [\"#636efa\", \"#EF553B\", \"#00cc96\", \"#ab63fa\", \"#FFA15A\", \"#19d3f3\", \"#FF6692\", \"#B6E880\", \"#FF97FF\", \"#FECB52\"], \"font\": {\"color\": \"#2a3f5f\"}, \"geo\": {\"bgcolor\": \"white\", \"lakecolor\": \"white\", \"landcolor\": \"#E5ECF6\", \"showlakes\": true, \"showland\": true, \"subunitcolor\": \"white\"}, \"hoverlabel\": {\"align\": \"left\"}, \"hovermode\": \"closest\", \"mapbox\": {\"style\": \"light\"}, \"paper_bgcolor\": \"white\", \"plot_bgcolor\": \"#E5ECF6\", \"polar\": {\"angularaxis\": {\"gridcolor\": \"white\", \"linecolor\": \"white\", \"ticks\": \"\"}, \"bgcolor\": \"#E5ECF6\", \"radialaxis\": {\"gridcolor\": \"white\", \"linecolor\": \"white\", \"ticks\": \"\"}}, \"scene\": {\"xaxis\": {\"backgroundcolor\": \"#E5ECF6\", \"gridcolor\": \"white\", \"gridwidth\": 2, \"linecolor\": \"white\", \"showbackground\": true, \"ticks\": \"\", \"zerolinecolor\": \"white\"}, \"yaxis\": {\"backgroundcolor\": \"#E5ECF6\", \"gridcolor\": \"white\", \"gridwidth\": 2, \"linecolor\": \"white\", \"showbackground\": true, \"ticks\": \"\", \"zerolinecolor\": \"white\"}, \"zaxis\": {\"backgroundcolor\": \"#E5ECF6\", \"gridcolor\": \"white\", \"gridwidth\": 2, \"linecolor\": \"white\", \"showbackground\": true, \"ticks\": \"\", \"zerolinecolor\": \"white\"}}, \"shapedefaults\": {\"line\": {\"color\": \"#2a3f5f\"}}, \"ternary\": {\"aaxis\": {\"gridcolor\": \"white\", \"linecolor\": \"white\", \"ticks\": \"\"}, \"baxis\": {\"gridcolor\": \"white\", \"linecolor\": \"white\", \"ticks\": \"\"}, \"bgcolor\": \"#E5ECF6\", \"caxis\": {\"gridcolor\": \"white\", \"linecolor\": \"white\", \"ticks\": \"\"}}, \"title\": {\"x\": 0.05}, \"xaxis\": {\"automargin\": true, \"gridcolor\": \"white\", \"linecolor\": \"white\", \"ticks\": \"\", \"title\": {\"standoff\": 15}, \"zerolinecolor\": \"white\", \"zerolinewidth\": 2}, \"yaxis\": {\"automargin\": true, \"gridcolor\": \"white\", \"linecolor\": \"white\", \"ticks\": \"\", \"title\": {\"standoff\": 15}, \"zerolinecolor\": \"white\", \"zerolinewidth\": 2}}}, \"title\": {\"text\": \"Pertusiss CMDHB by Ethnicity\"}, \"width\": 600, \"xaxis\": {\"tickangle\": 45, \"title\": {\"text\": \"Quarterly\"}, \"type\": \"category\"}, \"yaxis\": {\"tickformat\": \"%\", \"title\": {\"text\": \"Percentage\"}}},\n",
       "                        {\"responsive\": true}\n",
       "                    ).then(function(){\n",
       "                            \n",
       "var gd = document.getElementById('4d1f6374-1e0d-466e-b48b-699e41646960');\n",
       "var x = new MutationObserver(function (mutations, observer) {{\n",
       "        var display = window.getComputedStyle(gd).display;\n",
       "        if (!display || display === 'none') {{\n",
       "            console.log([gd, 'removed!']);\n",
       "            Plotly.purge(gd);\n",
       "            observer.disconnect();\n",
       "        }}\n",
       "}});\n",
       "\n",
       "// Listen for the removal of the full notebook cells\n",
       "var notebookContainer = gd.closest('#notebook-container');\n",
       "if (notebookContainer) {{\n",
       "    x.observe(notebookContainer, {childList: true});\n",
       "}}\n",
       "\n",
       "// Listen for the clearing of the current output cell\n",
       "var outputEl = gd.closest('.output');\n",
       "if (outputEl) {{\n",
       "    x.observe(outputEl, {childList: true});\n",
       "}}\n",
       "\n",
       "                        })\n",
       "                };\n",
       "                });\n",
       "            </script>\n",
       "        </div>"
      ]
     },
     "metadata": {},
     "output_type": "display_data"
    }
   ],
   "source": [
    "import pandas as pd\n",
    "import matplotlib.pyplot as plt\n",
    "import plotly.graph_objects as go\n",
    "import numpy as np\n",
    "#DHBAll = pd.ExcelFile('G:/Funding Team/Planning/Health Information/HIAT/Michael Files/Antinatal Vaccination/April 2019 to March 2020/For Python.xlsx')\n",
    "#DHBPert = pd.read_excel(DHBAll, 'Pertussis Graphs', skiprows=5)\n",
    "CMDHBEthnic = DHBPert[['Maori.1','Pacific.1','Asian.1', 'European_Other.1', 'Total.1']]\n",
    "CMDHBEthnic=CMDHBEthnic.round(3)\n",
    "CMDHBEthnic=CMDHBEthnic[:29]\n",
    "\n",
    "# Declare a list that is to be converted into a column \n",
    "Quarter = ['Q1_16', 'Q2_16', 'Q3_16', 'Q4_16','Q1_17', 'Q2_17', 'Q3_17', 'Q4_17','Q1_18', 'Q2_18', 'Q3_18', 'Q4_18','Q1_19', \n",
    "           'Q2_19', 'Q3_19', 'Q4_19','Q1_20', 'Q2_20', 'Q3_20', 'Q4_20',\n",
    "           'Q1_21', 'Q2_21', 'Q3_21', 'Q4_21','Q1_22', 'Q2_22', 'Q3_22', 'Q4_22', 'Q1_23'] \n",
    "# Using 'Address' as the column name \n",
    "# and equating it to the list \n",
    "CMDHBEthnic['Quarter'] = Quarter \n",
    "CMDHBEthnic=CMDHBEthnic.dropna()\n",
    "random_x = CMDHBEthnic[\"Quarter\"].tolist()\n",
    "# using to_numpy() \n",
    "random_y0 = CMDHBEthnic['Maori.1'].tolist()   \n",
    "\n",
    "random_y1 = CMDHBEthnic['Pacific.1'].tolist()  \n",
    "\n",
    "random_y2 = CMDHBEthnic['Asian.1'].tolist()   \n",
    "random_y3 = CMDHBEthnic['European_Other.1'].tolist() \n",
    "random_y4 = CMDHBEthnic['Total.1'].tolist() \n",
    "\n",
    "import numpy as np\n",
    "\n",
    "# Create traces\n",
    "fig = go.Figure()\n",
    "fig.add_trace(go.Scatter(x=random_x, y=random_y0,\n",
    "                    mode='lines',\n",
    "                    name='Maori'))\n",
    "fig.add_trace(go.Scatter(x=random_x, y=random_y1,\n",
    "                    mode='lines+markers',\n",
    "                    name='Pacific'))\n",
    "fig.add_trace(go.Scatter(x=random_x, y=random_y2,\n",
    "                    mode='lines+markers',\n",
    "                    name='Asian'))\n",
    "fig.add_trace(go.Scatter(x=random_x, y=random_y3,\n",
    "                    mode='lines+markers',\n",
    "                    name='Others'))\n",
    "fig.add_trace(go.Scatter(x=random_x, y=random_y4,\n",
    "                    mode='lines+markers',\n",
    "                    name='Total'))\n",
    "# Edit the layout\n",
    "fig.update_layout(title='Pertusiss by Ethnicity',\n",
    "                   xaxis_title='Quarter',\n",
    "                   yaxis_title='Percentage')\n",
    "\n",
    "fig.update_layout(xaxis_type='category',\n",
    "                  title_text='Pertusiss CMDHB by Ethnicity',\n",
    "                  xaxis_title='Quarterly',\n",
    "                  yaxis_title='Percentage')\n",
    "fig.update_xaxes(tickangle=45)\n",
    "fig.update_yaxes(tickformat=\"%\")\n",
    "fig.update_layout(showlegend=True)\n",
    "#fig.update_layout(legend_orientation=\"h\")\n",
    "fig.update_layout(\n",
    "    autosize=False,\n",
    "    width=600,\n",
    "    height=400,)\n",
    "fig.show()"
   ]
  },
  {
   "cell_type": "code",
   "execution_count": 3,
   "metadata": {},
   "outputs": [
    {
     "ename": "NameError",
     "evalue": "name 'DHBPert' is not defined",
     "output_type": "error",
     "traceback": [
      "\u001b[1;31m---------------------------------------------------------------------------\u001b[0m",
      "\u001b[1;31mNameError\u001b[0m                                 Traceback (most recent call last)",
      "\u001b[1;32m<ipython-input-3-b74753d7184f>\u001b[0m in \u001b[0;36m<module>\u001b[1;34m\u001b[0m\n\u001b[0;32m      5\u001b[0m \u001b[1;31m#DHBAll = pd.ExcelFile('G:/Funding Team/Planning/Health Information/HIAT/Michael Files/Antinatal Vaccination/April 2019 to March 2020/For Python.xlsx')\u001b[0m\u001b[1;33m\u001b[0m\u001b[1;33m\u001b[0m\u001b[1;33m\u001b[0m\u001b[0m\n\u001b[0;32m      6\u001b[0m \u001b[1;31m#DHBPert = pd.read_excel(DHBAll, 'Pertussis Graphs', skiprows=5)\u001b[0m\u001b[1;33m\u001b[0m\u001b[1;33m\u001b[0m\u001b[1;33m\u001b[0m\u001b[0m\n\u001b[1;32m----> 7\u001b[1;33m \u001b[0mADHBEthnic\u001b[0m \u001b[1;33m=\u001b[0m \u001b[0mDHBPert\u001b[0m\u001b[1;33m[\u001b[0m\u001b[1;33m[\u001b[0m\u001b[1;34m'Maori.2'\u001b[0m\u001b[1;33m,\u001b[0m\u001b[1;34m'Pacific.2'\u001b[0m\u001b[1;33m,\u001b[0m\u001b[1;34m'Asian.2'\u001b[0m\u001b[1;33m,\u001b[0m \u001b[1;34m'European_Other.2'\u001b[0m\u001b[1;33m,\u001b[0m \u001b[1;34m'Total.2'\u001b[0m\u001b[1;33m]\u001b[0m\u001b[1;33m]\u001b[0m\u001b[1;33m\u001b[0m\u001b[1;33m\u001b[0m\u001b[0m\n\u001b[0m\u001b[0;32m      8\u001b[0m \u001b[0mADHBEthnic\u001b[0m\u001b[1;33m=\u001b[0m\u001b[0mADHBEthnic\u001b[0m\u001b[1;33m.\u001b[0m\u001b[0mround\u001b[0m\u001b[1;33m(\u001b[0m\u001b[1;36m3\u001b[0m\u001b[1;33m)\u001b[0m\u001b[1;33m\u001b[0m\u001b[1;33m\u001b[0m\u001b[0m\n\u001b[0;32m      9\u001b[0m \u001b[0mADHBEthnic\u001b[0m\u001b[1;33m=\u001b[0m\u001b[0mADHBEthnic\u001b[0m\u001b[1;33m[\u001b[0m\u001b[1;33m:\u001b[0m\u001b[1;36m29\u001b[0m\u001b[1;33m]\u001b[0m\u001b[1;33m\u001b[0m\u001b[1;33m\u001b[0m\u001b[0m\n",
      "\u001b[1;31mNameError\u001b[0m: name 'DHBPert' is not defined"
     ]
    }
   ],
   "source": [
    "import pandas as pd\n",
    "import matplotlib.pyplot as plt\n",
    "import plotly.graph_objects as go\n",
    "import numpy as np\n",
    "#DHBAll = pd.ExcelFile('G:/Funding Team/Planning/Health Information/HIAT/Michael Files/Antinatal Vaccination/April 2019 to March 2020/For Python.xlsx')\n",
    "#DHBPert = pd.read_excel(DHBAll, 'Pertussis Graphs', skiprows=5)\n",
    "ADHBEthnic = DHBPert[['Maori.2','Pacific.2','Asian.2', 'European_Other.2', 'Total.2']]\n",
    "ADHBEthnic=ADHBEthnic.round(3)\n",
    "ADHBEthnic=ADHBEthnic[:29]\n",
    "\n",
    "# Declare a list that is to be converted into a column \n",
    "Quarter = ['Q1_16', 'Q2_16', 'Q3_16', 'Q4_16','Q1_17', 'Q2_17', 'Q3_17', 'Q4_17','Q1_18', 'Q2_18', 'Q3_18', 'Q4_18','Q1_19', \n",
    "           'Q2_19', 'Q3_19', 'Q4_19','Q1_20', 'Q2_20', 'Q3_20', 'Q4_20',\n",
    "           'Q1_21', 'Q2_21', 'Q3_21', 'Q4_21','Q1_22', 'Q2_22', 'Q3_22', 'Q4_22', 'Q1_23'] \n",
    "# Using 'Address' as the column name \n",
    "# and equating it to the list \n",
    "ADHBEthnic['Quarter'] = Quarter \n",
    "ADHBEthnic=ADHBEthnic.dropna()\n",
    "random_x = ADHBEthnic[\"Quarter\"].tolist()\n",
    "# using to_numpy() \n",
    "random_y0 = ADHBEthnic['Maori.2'].tolist()   \n",
    "\n",
    "random_y1 = ADHBEthnic['Pacific.2'].tolist()  \n",
    "\n",
    "random_y2 = ADHBEthnic['Asian.2'].tolist()   \n",
    "random_y3 = ADHBEthnic['European_Other.2'].tolist() \n",
    "random_y4 = ADHBEthnic['Total.2'].tolist() \n",
    "\n",
    "import numpy as np\n",
    "\n",
    "# Create traces\n",
    "fig = go.Figure()\n",
    "fig.add_trace(go.Scatter(x=random_x, y=random_y0,\n",
    "                    mode='lines',\n",
    "                    name='Maori'))\n",
    "fig.add_trace(go.Scatter(x=random_x, y=random_y1,\n",
    "                    mode='lines+markers',\n",
    "                    name='Pacific'))\n",
    "fig.add_trace(go.Scatter(x=random_x, y=random_y2,\n",
    "                    mode='lines+markers',\n",
    "                    name='Asian'))\n",
    "fig.add_trace(go.Scatter(x=random_x, y=random_y3,\n",
    "                    mode='lines+markers',\n",
    "                    name='Others'))\n",
    "fig.add_trace(go.Scatter(x=random_x, y=random_y4,\n",
    "                    mode='lines+markers',\n",
    "                    name='Total'))\n",
    "# Edit the layout\n",
    "fig.update_layout(title='Pertusiss by Ethnicity',\n",
    "                   xaxis_title='Quarter',\n",
    "                   yaxis_title='Percentage')\n",
    "\n",
    "fig.update_layout(xaxis_type='category',\n",
    "                  title_text='Pertusiss ADHB by Ethnicity',\n",
    "                  xaxis_title='Quarterly',\n",
    "                  yaxis_title='Percentage')\n",
    "fig.update_xaxes(tickangle=45)\n",
    "fig.update_yaxes(tickformat=\"%\")\n",
    "fig.update_layout(showlegend=True)\n",
    "#fig.update_layout(legend_orientation=\"h\")\n",
    "fig.update_layout(\n",
    "    autosize=False,\n",
    "    width=600,\n",
    "    height=400,)\n",
    "fig.show()"
   ]
  },
  {
   "cell_type": "markdown",
   "metadata": {},
   "source": [
    "## Coverage by Primary Health Organisation (PHO)"
   ]
  },
  {
   "cell_type": "code",
   "execution_count": 33,
   "metadata": {},
   "outputs": [
    {
     "data": {
      "text/plain": [
       "'At a PHO level, Auckland PHO (68.0%) and Comprehensive Care (60.6%) had the highest coverage rates. All PHO’s had an increase in coverage compared to the previous 12 months period to December 2019.'"
      ]
     },
     "execution_count": 33,
     "metadata": {},
     "output_type": "execute_result"
    }
   ],
   "source": [
    "sheet3[\"A22\"].value"
   ]
  },
  {
   "cell_type": "code",
   "execution_count": 34,
   "metadata": {},
   "outputs": [
    {
     "data": {
      "text/html": [
       "<style  type=\"text/css\" >\n",
       "    #T_96a1340c_ed74_11ea_87da_ecb1d74ca0c9 tr:hover {\n",
       "          background-color: #ffff99;\n",
       "    }    #T_96a1340c_ed74_11ea_87da_ecb1d74ca0c9 th {\n",
       "          font-size: 80%;\n",
       "          text-align: center;\n",
       "    }    #T_96a1340c_ed74_11ea_87da_ecb1d74ca0c9 caption {\n",
       "          caption-side: bottom;\n",
       "    }</style><table id=\"T_96a1340c_ed74_11ea_87da_ecb1d74ca0c9\" ><caption>Hover to highlight.</caption><thead>    <tr>        <th class=\"index_name level0\" >0</th>        <th class=\"col_heading level0 col0\" >PHO</th>        <th class=\"col_heading level0 col1\" >Overall_(Previous)</th>        <th class=\"col_heading level0 col2\" >Overall_(Current)</th>        <th class=\"col_heading level0 col3\" >ADHB_(Practices)</th>        <th class=\"col_heading level0 col4\" >CMDHB_(Practices)</th>        <th class=\"col_heading level0 col5\" >WDHB_(Practices)</th>    </tr></thead><tbody>\n",
       "                <tr>\n",
       "                        <th id=\"T_96a1340c_ed74_11ea_87da_ecb1d74ca0c9level0_row0\" class=\"row_heading level0 row0\" >1</th>\n",
       "                        <td id=\"T_96a1340c_ed74_11ea_87da_ecb1d74ca0c9row0_col0\" class=\"data row0 col0\" >Alliance_Health_Plus_Trust</td>\n",
       "                        <td id=\"T_96a1340c_ed74_11ea_87da_ecb1d74ca0c9row0_col1\" class=\"data row0 col1\" >41.7</td>\n",
       "                        <td id=\"T_96a1340c_ed74_11ea_87da_ecb1d74ca0c9row0_col2\" class=\"data row0 col2\" >43.6</td>\n",
       "                        <td id=\"T_96a1340c_ed74_11ea_87da_ecb1d74ca0c9row0_col3\" class=\"data row0 col3\" >53.5</td>\n",
       "                        <td id=\"T_96a1340c_ed74_11ea_87da_ecb1d74ca0c9row0_col4\" class=\"data row0 col4\" >39.3</td>\n",
       "                        <td id=\"T_96a1340c_ed74_11ea_87da_ecb1d74ca0c9row0_col5\" class=\"data row0 col5\" >41.8</td>\n",
       "            </tr>\n",
       "            <tr>\n",
       "                        <th id=\"T_96a1340c_ed74_11ea_87da_ecb1d74ca0c9level0_row1\" class=\"row_heading level0 row1\" >2</th>\n",
       "                        <td id=\"T_96a1340c_ed74_11ea_87da_ecb1d74ca0c9row1_col0\" class=\"data row1 col0\" >Auckland_PHO_Limited</td>\n",
       "                        <td id=\"T_96a1340c_ed74_11ea_87da_ecb1d74ca0c9row1_col1\" class=\"data row1 col1\" >66.1</td>\n",
       "                        <td id=\"T_96a1340c_ed74_11ea_87da_ecb1d74ca0c9row1_col2\" class=\"data row1 col2\" >68</td>\n",
       "                        <td id=\"T_96a1340c_ed74_11ea_87da_ecb1d74ca0c9row1_col3\" class=\"data row1 col3\" >68</td>\n",
       "                        <td id=\"T_96a1340c_ed74_11ea_87da_ecb1d74ca0c9row1_col4\" class=\"data row1 col4\" >nan</td>\n",
       "                        <td id=\"T_96a1340c_ed74_11ea_87da_ecb1d74ca0c9row1_col5\" class=\"data row1 col5\" >nan</td>\n",
       "            </tr>\n",
       "            <tr>\n",
       "                        <th id=\"T_96a1340c_ed74_11ea_87da_ecb1d74ca0c9level0_row2\" class=\"row_heading level0 row2\" >3</th>\n",
       "                        <td id=\"T_96a1340c_ed74_11ea_87da_ecb1d74ca0c9row2_col0\" class=\"data row2 col0\" >Comprehensive_Care</td>\n",
       "                        <td id=\"T_96a1340c_ed74_11ea_87da_ecb1d74ca0c9row2_col1\" class=\"data row2 col1\" >58.5</td>\n",
       "                        <td id=\"T_96a1340c_ed74_11ea_87da_ecb1d74ca0c9row2_col2\" class=\"data row2 col2\" >60.6</td>\n",
       "                        <td id=\"T_96a1340c_ed74_11ea_87da_ecb1d74ca0c9row2_col3\" class=\"data row2 col3\" >nan</td>\n",
       "                        <td id=\"T_96a1340c_ed74_11ea_87da_ecb1d74ca0c9row2_col4\" class=\"data row2 col4\" >nan</td>\n",
       "                        <td id=\"T_96a1340c_ed74_11ea_87da_ecb1d74ca0c9row2_col5\" class=\"data row2 col5\" >60.6</td>\n",
       "            </tr>\n",
       "            <tr>\n",
       "                        <th id=\"T_96a1340c_ed74_11ea_87da_ecb1d74ca0c9level0_row3\" class=\"row_heading level0 row3\" >4</th>\n",
       "                        <td id=\"T_96a1340c_ed74_11ea_87da_ecb1d74ca0c9row3_col0\" class=\"data row3 col0\" >East_Health_Trust</td>\n",
       "                        <td id=\"T_96a1340c_ed74_11ea_87da_ecb1d74ca0c9row3_col1\" class=\"data row3 col1\" >55.9</td>\n",
       "                        <td id=\"T_96a1340c_ed74_11ea_87da_ecb1d74ca0c9row3_col2\" class=\"data row3 col2\" >58.8</td>\n",
       "                        <td id=\"T_96a1340c_ed74_11ea_87da_ecb1d74ca0c9row3_col3\" class=\"data row3 col3\" >nan</td>\n",
       "                        <td id=\"T_96a1340c_ed74_11ea_87da_ecb1d74ca0c9row3_col4\" class=\"data row3 col4\" >58.8</td>\n",
       "                        <td id=\"T_96a1340c_ed74_11ea_87da_ecb1d74ca0c9row3_col5\" class=\"data row3 col5\" >nan</td>\n",
       "            </tr>\n",
       "            <tr>\n",
       "                        <th id=\"T_96a1340c_ed74_11ea_87da_ecb1d74ca0c9level0_row4\" class=\"row_heading level0 row4\" >5</th>\n",
       "                        <td id=\"T_96a1340c_ed74_11ea_87da_ecb1d74ca0c9row4_col0\" class=\"data row4 col0\" >National_Hauora_Coalition_Limited</td>\n",
       "                        <td id=\"T_96a1340c_ed74_11ea_87da_ecb1d74ca0c9row4_col1\" class=\"data row4 col1\" >50.3</td>\n",
       "                        <td id=\"T_96a1340c_ed74_11ea_87da_ecb1d74ca0c9row4_col2\" class=\"data row4 col2\" >52.1</td>\n",
       "                        <td id=\"T_96a1340c_ed74_11ea_87da_ecb1d74ca0c9row4_col3\" class=\"data row4 col3\" >56.5</td>\n",
       "                        <td id=\"T_96a1340c_ed74_11ea_87da_ecb1d74ca0c9row4_col4\" class=\"data row4 col4\" >37.6</td>\n",
       "                        <td id=\"T_96a1340c_ed74_11ea_87da_ecb1d74ca0c9row4_col5\" class=\"data row4 col5\" >54.4</td>\n",
       "            </tr>\n",
       "            <tr>\n",
       "                        <th id=\"T_96a1340c_ed74_11ea_87da_ecb1d74ca0c9level0_row5\" class=\"row_heading level0 row5\" >6</th>\n",
       "                        <td id=\"T_96a1340c_ed74_11ea_87da_ecb1d74ca0c9row5_col0\" class=\"data row5 col0\" >Procare_Networks_Limited</td>\n",
       "                        <td id=\"T_96a1340c_ed74_11ea_87da_ecb1d74ca0c9row5_col1\" class=\"data row5 col1\" >50.8</td>\n",
       "                        <td id=\"T_96a1340c_ed74_11ea_87da_ecb1d74ca0c9row5_col2\" class=\"data row5 col2\" >52.1</td>\n",
       "                        <td id=\"T_96a1340c_ed74_11ea_87da_ecb1d74ca0c9row5_col3\" class=\"data row5 col3\" >61.5</td>\n",
       "                        <td id=\"T_96a1340c_ed74_11ea_87da_ecb1d74ca0c9row5_col4\" class=\"data row5 col4\" >40.6</td>\n",
       "                        <td id=\"T_96a1340c_ed74_11ea_87da_ecb1d74ca0c9row5_col5\" class=\"data row5 col5\" >51.2</td>\n",
       "            </tr>\n",
       "            <tr>\n",
       "                        <th id=\"T_96a1340c_ed74_11ea_87da_ecb1d74ca0c9level0_row6\" class=\"row_heading level0 row6\" >7</th>\n",
       "                        <td id=\"T_96a1340c_ed74_11ea_87da_ecb1d74ca0c9row6_col0\" class=\"data row6 col0\" >Total_Healthcare_Charitable_Trust</td>\n",
       "                        <td id=\"T_96a1340c_ed74_11ea_87da_ecb1d74ca0c9row6_col1\" class=\"data row6 col1\" >42.7</td>\n",
       "                        <td id=\"T_96a1340c_ed74_11ea_87da_ecb1d74ca0c9row6_col2\" class=\"data row6 col2\" >44</td>\n",
       "                        <td id=\"T_96a1340c_ed74_11ea_87da_ecb1d74ca0c9row6_col3\" class=\"data row6 col3\" >58</td>\n",
       "                        <td id=\"T_96a1340c_ed74_11ea_87da_ecb1d74ca0c9row6_col4\" class=\"data row6 col4\" >37.2</td>\n",
       "                        <td id=\"T_96a1340c_ed74_11ea_87da_ecb1d74ca0c9row6_col5\" class=\"data row6 col5\" >43.5</td>\n",
       "            </tr>\n",
       "    </tbody></table>"
      ],
      "text/plain": [
       "<pandas.io.formats.style.Styler at 0x93d24e0>"
      ]
     },
     "execution_count": 34,
     "metadata": {},
     "output_type": "execute_result"
    }
   ],
   "source": [
    "PHOTab = pd.read_excel(DHBAll, 'Pertussis Tables',skiprows=18)\n",
    "#PHOTab.head()\n",
    "\n",
    "PHOTabPHO=PHOTab.iloc[0:8, 1:7]\n",
    "#PHOTabPHO.head(10)\n",
    "PHOTabPHO.columns = PHOTabPHO.iloc[0]\n",
    "PHOTabPHO=PHOTabPHO.drop(PHOTabPHO.index[0])\n",
    "\n",
    "PHOTabPHO = PHOTabPHO.astype({\"Overall_(Previous)\": float, \"Overall_(Current)\": float, \"ADHB_(Practices)\": float,\"CMDHB_(Practices)\": float, \"WDHB_(Practices)\": float})\n",
    "#PHOTabPHO.dtypes\n",
    "PHOTabPHO.iloc[:,1:] = PHOTabPHO.iloc[:,1:] * 100\n",
    "PHOTabPHO.style.hide_index()\n",
    "\n",
    "from IPython.display import HTML\n",
    "\n",
    "def hover(hover_color=\"#ffff99\"):\n",
    "    return dict(selector=\"tr:hover\",\n",
    "                props=[(\"background-color\", \"%s\" % hover_color)])\n",
    "\n",
    "styles = [\n",
    "    hover(),\n",
    "    dict(selector=\"th\", props=[(\"font-size\", \"80%\"),\n",
    "                               (\"text-align\", \"center\")]),\n",
    "    dict(selector=\"caption\", props=[(\"caption-side\", \"bottom\")])\n",
    "]\n",
    "html = (PHOTabPHO.style.set_table_styles(styles)\n",
    "          .set_caption(\"Hover to highlight.\"))\n",
    "html\n",
    "#PHOTabPHO.head(14)\n",
    "#DHBTab.head()"
   ]
  },
  {
   "cell_type": "code",
   "execution_count": 35,
   "metadata": {},
   "outputs": [
    {
     "data": {
      "text/plain": [
       "'*Includes births in the 12 months to 31 March 2020'"
      ]
     },
     "execution_count": 35,
     "metadata": {},
     "output_type": "execute_result"
    }
   ],
   "source": [
    "sheet3[\"A23\"].value"
   ]
  },
  {
   "cell_type": "code",
   "execution_count": 36,
   "metadata": {
    "scrolled": false
   },
   "outputs": [
    {
     "data": {
      "text/plain": [
       "'*Current performance includes only PHO enrolled individuals as at March 2020'"
      ]
     },
     "execution_count": 36,
     "metadata": {},
     "output_type": "execute_result"
    }
   ],
   "source": [
    "sheet3[\"A24\"].value"
   ]
  },
  {
   "cell_type": "code",
   "execution_count": 37,
   "metadata": {},
   "outputs": [
    {
     "data": {
      "text/plain": [
       "'*Ethnicity is prioritised and is that recorded on the PHO register'"
      ]
     },
     "execution_count": 37,
     "metadata": {},
     "output_type": "execute_result"
    }
   ],
   "source": [
    "sheet3[\"A25\"].value"
   ]
  },
  {
   "cell_type": "code",
   "execution_count": 38,
   "metadata": {},
   "outputs": [
    {
     "data": {
      "text/plain": [
       "'*Domicile is as per that on March 2020 PHO register and might be different to that of the mother when the birth took place'"
      ]
     },
     "execution_count": 38,
     "metadata": {},
     "output_type": "execute_result"
    }
   ],
   "source": [
    "sheet3[\"A26\"].value"
   ]
  },
  {
   "cell_type": "code",
   "execution_count": 5,
   "metadata": {},
   "outputs": [
    {
     "data": {
      "text/markdown": [
       "This following summary assesses pertussis vaccination coverage in women giving birth in the 12 months to the 31st of March 2020 with DHB level trends from January 2016.  National Health Index Numbers (NHI) of women giving birth in Auckland District Health Board (DHB), Counties Manukau DHB or Waitematā DHB hospitals were matched to completed vaccination data held on the National Immunisation Register (NIR).  A pertussis vaccination is counted as being received if the vaccination was given within 28 weeks prior to giving birth. Vaccinations that were given but not entered into the NIR will not be included also vaccinations given overseas or by providers outside of the Auckland Metro Region may also not be included."
      ],
      "text/plain": [
       "<IPython.core.display.Markdown object>"
      ]
     },
     "metadata": {},
     "output_type": "display_data"
    }
   ],
   "source": [
    "import pandas as pd\n",
    "import matplotlib.pyplot as plt\n",
    "import plotly.graph_objects as go\n",
    "import numpy as np\n",
    "from openpyxl import load_workbook\n",
    "#workbook = load_workbook(filename=\"F:\\Seagate Backup Plus Drive/Test1.xlsx\")\n",
    "workbook = load_workbook(filename=\"G:\\Funding Team\\Planning\\Health Information\\HIAT\\Michael Files\\Antinatal Vaccination\\April 2019 to March 2020\\For Python.xlsx\")\n",
    "#sheet.active = 1\n",
    "sheet = workbook[\"Pertussis Tables\"]\n",
    "#workbook.sheetnames\n",
    "#sheet.active = 1\n",
    "#sheet = workbook.active\n",
    "#sheet.active = 1\n",
    "\n",
    "#sheet['M1'].value\n",
    "\n",
    "from IPython.display import Markdown, display\n",
    "def printmd(string):\n",
    "    display(Markdown(string))\n",
    "printmd(sheet3['A3'].value)"
   ]
  },
  {
   "cell_type": "code",
   "execution_count": 23,
   "metadata": {},
   "outputs": [],
   "source": [
    "#chnage size of the display\n",
    "#from IPython.core.display import display, HTML\n",
    "#display(HTML(\"<style>.container { width:100% !important; }</style>\"))\n",
    "#display(HTML(\"<style>.output_result { max-width:100% !important; }</style>\"))\n",
    "#display(HTML(\"<style>.prompt { display:none !important; }</style>\"))"
   ]
  },
  {
   "cell_type": "code",
   "execution_count": 2,
   "metadata": {
    "scrolled": true
   },
   "outputs": [
    {
     "data": {
      "text/plain": [
       "Text(0.06, 0.5, 'Note')"
      ]
     },
     "execution_count": 2,
     "metadata": {},
     "output_type": "execute_result"
    }
   ],
   "source": [
    "# libraries and data\n",
    "import matplotlib.pyplot as plt\n",
    "import numpy as np\n",
    "import pandas as pd\n",
    " \n",
    "# Make a data frame\n",
    "df=pd.DataFrame({'x': range(1,11), 'y1': np.random.randn(10), 'y2': np.random.randn(10)+range(1,11), 'y3': np.random.randn(10)+range(11,21), 'y4': np.random.randn(10)+range(6,16), 'y5': np.random.randn(10)+range(4,14)+(0,0,0,0,0,0,0,-3,-8,-6), 'y6': np.random.randn(10)+range(2,12), 'y7': np.random.randn(10)+range(5,15), 'y8': np.random.randn(10)+range(4,14), 'y9': np.random.randn(10)+range(4,14) })\n",
    " \n",
    "# Initialize the figure\n",
    "plt.style.use('seaborn-darkgrid')\n",
    " \n",
    "# create a color palette\n",
    "palette = plt.get_cmap('Set1')\n",
    " \n",
    "# multiple line plot\n",
    "num=0\n",
    "for column in df.drop('x', axis=1):\n",
    "    num+=1\n",
    " \n",
    "    # Find the right spot on the plot\n",
    "    plt.subplot(3,3, num)\n",
    " \n",
    "    # Plot the lineplot\n",
    "    plt.plot(df['x'], df[column], marker='', color=palette(num), linewidth=1.9, alpha=0.9, label=column)\n",
    " \n",
    "    # Same limits for everybody!\n",
    "    plt.xlim(0,10)\n",
    "    plt.ylim(-2,22)\n",
    " \n",
    "    # Not ticks everywhere\n",
    "    if num in range(7) :\n",
    "        plt.tick_params(labelbottom='off')\n",
    "    if num not in [1,4,7] :\n",
    "        plt.tick_params(labelleft='off')\n",
    " \n",
    "    # Add title\n",
    "    plt.title(column, loc='left', fontsize=12, fontweight=0, color=palette(num) )\n",
    " \n",
    "# general title\n",
    "plt.suptitle(\"How the 9 students improved\\nthese past few days?\", fontsize=13, fontweight=0, color='black', style='italic', y=1.02)\n",
    " \n",
    "# Axis title\n",
    "plt.text(0.5, 0.02, 'Time', ha='center', va='center')\n",
    "plt.text(0.06, 0.5, 'Note', ha='center', va='center', rotation='vertical')\n"
   ]
  },
  {
   "cell_type": "code",
   "execution_count": 25,
   "metadata": {},
   "outputs": [
    {
     "data": {
      "text/plain": [
       "1.0"
      ]
     },
     "execution_count": 25,
     "metadata": {},
     "output_type": "execute_result"
    }
   ],
   "source": [
    "float\n",
    "float(1)\n"
   ]
  },
  {
   "cell_type": "code",
   "execution_count": 41,
   "metadata": {},
   "outputs": [
    {
     "data": {
      "text/html": [
       "<a href=\"https:///1drv.ms/u/s!AsBZm0xIdgPArU8EVBtXQ8jFhzwI?e=AwBaUM\">Pivot Table</a>\n"
      ],
      "text/plain": [
       "<IPython.core.display.HTML object>"
      ]
     },
     "metadata": {},
     "output_type": "display_data"
    }
   ],
   "source": [
    "%%html\n",
    "<a href=\"https:///1drv.ms/u/s!AsBZm0xIdgPArU8EVBtXQ8jFhzwI?e=AwBaUM\">Pivot Table</a>"
   ]
  },
  {
   "cell_type": "code",
   "execution_count": 2,
   "metadata": {},
   "outputs": [],
   "source": [
    "from IPython.display import HTML\n",
    "import json\n",
    "import pandas as pd"
   ]
  },
  {
   "cell_type": "code",
   "execution_count": 3,
   "metadata": {},
   "outputs": [],
   "source": [
    "def pivot(webdatarocks_json_object):\n",
    "    \n",
    "    code = '''\n",
    "      <link href=\"https://cdn.webdatarocks.com/latest/webdatarocks.min.css\" rel=\"stylesheet\"/>\n",
    "      <script src=\"https://cdn.webdatarocks.com/latest/webdatarocks.toolbar.min.js\"></script>\n",
    "      <script src=\"https://cdn.webdatarocks.com/latest/webdatarocks.js\"></script>\n",
    "      <h1>Table1</h1>\n",
    "      <div id=\"pivot-container1\"></div>\n",
    "      <script>\n",
    "      new WebDataRocks({0});\n",
    "      </script>\n",
    "      '''.format(webdatarocks_json_object)\n",
    "    return HTML(code)"
   ]
  },
  {
   "cell_type": "code",
   "execution_count": 5,
   "metadata": {},
   "outputs": [
    {
     "data": {
      "text/html": [
       "\n",
       "      <link href=\"https://cdn.webdatarocks.com/latest/webdatarocks.min.css\" rel=\"stylesheet\"/>\n",
       "      <script src=\"https://cdn.webdatarocks.com/latest/webdatarocks.toolbar.min.js\"></script>\n",
       "      <script src=\"https://cdn.webdatarocks.com/latest/webdatarocks.js\"></script>\n",
       "      <h1>Table1</h1>\n",
       "      <div id=\"pivot-container1\"></div>\n",
       "      <script>\n",
       "      new WebDataRocks({\"container\": \"#pivot-container1\", \"width\": \"50%\", \"height\": 200, \"toolbar\": true, \"report\": {\"dataSource\": {\"type\": \"json\", \"data\": [{\"Product\": \"Apple pie\", \"Quantity\": \"20\"}, {\"Product\": \"Lemon cake\", \"Quantity\": \"30\"}]}, \"slice\": {\"rows\": [{\"uniqueName\": \"Product\"}], \"columns\": [{\"uniqueName\": \"[Measures]\"}], \"measures\": [{\"uniqueName\": \"Quantity\", \"aggregation\": \"sum\"}]}}});\n",
       "      </script>\n",
       "      "
      ],
      "text/plain": [
       "<IPython.core.display.HTML object>"
      ]
     },
     "execution_count": 5,
     "metadata": {},
     "output_type": "execute_result"
    }
   ],
   "source": [
    "import pandas as pd\n",
    "df = pd.DataFrame([['Apple pie', '20'], ['Lemon cake', '30']], index=['row 1', 'row 2'], columns=['Product', 'Quantity'])\n",
    "json_data = df.to_json(orient='records')\n",
    "\n",
    "\n",
    "\n",
    "# Define WebDataRocks\n",
    "\n",
    "webdatarocks = {\n",
    "    \"container\": \"#pivot-container1\",\n",
    "    \"width\": \"50%\",\n",
    "    \"height\": 200,\n",
    "    \"toolbar\": True,\n",
    "    \"report\": {\n",
    "        \"dataSource\": {\n",
    "            \"type\": \"json\",\n",
    "            \"data\": json.loads(json_data)\n",
    "        },\n",
    "        \"slice\": {\n",
    "            \"rows\": [\n",
    "                {\n",
    "                    \"uniqueName\": \"Product\"\n",
    "                }\n",
    "            ],\n",
    "            \"columns\": [\n",
    "                {\n",
    "                    \"uniqueName\": \"[Measures]\"\n",
    "                }\n",
    "            ],\n",
    "            \"measures\": [\n",
    "                {\n",
    "                    \"uniqueName\": \"Quantity\",\n",
    "                    \"aggregation\": \"sum\"\n",
    "                }\n",
    "            ]\n",
    "        }\n",
    "    }\n",
    "}\n",
    "\n",
    "\n",
    "# convert into JSON:\n",
    "webdatarocks_json_object = json.dumps(webdatarocks)\n",
    "\n",
    "# display:\n",
    "pivot(webdatarocks_json_object)"
   ]
  },
  {
   "cell_type": "code",
   "execution_count": 16,
   "metadata": {},
   "outputs": [
    {
     "data": {
      "text/html": [
       "<div>\n",
       "<style scoped>\n",
       "    .dataframe tbody tr th:only-of-type {\n",
       "        vertical-align: middle;\n",
       "    }\n",
       "\n",
       "    .dataframe tbody tr th {\n",
       "        vertical-align: top;\n",
       "    }\n",
       "\n",
       "    .dataframe thead th {\n",
       "        text-align: right;\n",
       "    }\n",
       "</style>\n",
       "<table border=\"1\" class=\"dataframe\">\n",
       "  <thead>\n",
       "    <tr style=\"text-align: right;\">\n",
       "      <th></th>\n",
       "      <th>Product</th>\n",
       "      <th>Quantity</th>\n",
       "    </tr>\n",
       "  </thead>\n",
       "  <tbody>\n",
       "    <tr>\n",
       "      <th>row 1</th>\n",
       "      <td>Apple pie</td>\n",
       "      <td>20</td>\n",
       "    </tr>\n",
       "    <tr>\n",
       "      <th>row 2</th>\n",
       "      <td>Lemon cake</td>\n",
       "      <td>30</td>\n",
       "    </tr>\n",
       "  </tbody>\n",
       "</table>\n",
       "</div>"
      ],
      "text/plain": [
       "          Product Quantity\n",
       "row 1   Apple pie       20\n",
       "row 2  Lemon cake       30"
      ]
     },
     "execution_count": 16,
     "metadata": {},
     "output_type": "execute_result"
    }
   ],
   "source": [
    "df.head()"
   ]
  },
  {
   "cell_type": "code",
   "execution_count": 11,
   "metadata": {},
   "outputs": [
    {
     "data": {
      "text/html": [
       "\n",
       "        <iframe\n",
       "            width=\"100%\"\n",
       "            height=\"500\"\n",
       "            src=\"pivottablejs.html\"\n",
       "            frameborder=\"0\"\n",
       "            allowfullscreen\n",
       "        ></iframe>\n",
       "        "
      ],
      "text/plain": [
       "<IPython.lib.display.IFrame at 0xae0b438>"
      ]
     },
     "execution_count": 11,
     "metadata": {},
     "output_type": "execute_result"
    }
   ],
   "source": [
    "import pandas as pd\n",
    "df = pd.read_excel(\"F:/Seagate Backup Plus Drive/test2.xlsx\")\n",
    "\n",
    "from pivottablejs import pivot_ui\n",
    "pivot_ui(df)\n",
    "#pivot_ui(df, outfile_path=\"F:/Seagate Backup Plus Drive/test3.html\")\n",
    "#print (df.to_html())\n"
   ]
  },
  {
   "cell_type": "code",
   "execution_count": 12,
   "metadata": {},
   "outputs": [
    {
     "ename": "SyntaxError",
     "evalue": "invalid syntax (<ipython-input-12-90dd789c8da8>, line 1)",
     "output_type": "error",
     "traceback": [
      "\u001b[1;36m  File \u001b[1;32m\"<ipython-input-12-90dd789c8da8>\"\u001b[1;36m, line \u001b[1;32m1\u001b[0m\n\u001b[1;33m    <!DOCTYPE html>\u001b[0m\n\u001b[1;37m    ^\u001b[0m\n\u001b[1;31mSyntaxError\u001b[0m\u001b[1;31m:\u001b[0m invalid syntax\n"
     ]
    }
   ],
   "source": [
    "<!DOCTYPE html>\n",
    "<html lang=\"en\">\n",
    "<head>\n",
    "    <meta charset=\"UTF-8\">\n",
    "    <title>JS Pivot</title>\n",
    "    <link rel='stylesheet' href='https://cdnjs.cloudflare.com/ajax/libs/pivottable/2.23.0/pivot.min.css'>\n",
    "    <script src='https://cdnjs.cloudflare.com/ajax/libs/jquery/3.4.1/jquery.min.js'></script>\n",
    "    <script src='https://cdnjs.cloudflare.com/ajax/libs/jqueryui/1.12.1/jquery-ui.min.js'></script>\n",
    "    <script src='https://cdnjs.cloudflare.com/ajax/libs/pivottable/2.23.0/pivot.min.js'></script>\n",
    "    <script src='https://cdn.plot.ly/plotly-basic-latest.min.js'></script>\n",
    "    <script src='https://cdnjs.cloudflare.com/ajax/libs/pivottable/2.22.0/plotly_renderers.min.js'></script>\n",
    "\n",
    "</head>\n",
    "<body>\n",
    "<div style=\"margin: 1em;\" id=\"output\"></div>\n",
    "\n",
    "<script>\n",
    "    var salesPivotData = [\n",
    "        {\n",
    "            \"Region\": \"Australia and Oceania\",\n",
    "            \"Country\": \"Kiribati\",\n",
    "            \"Item Type\": \"Cereal\",\n",
    "            \"Sales Channel\": \"Offline\",\n",
    "            \"Order Priority\": \"L\",\n",
    "            \"Order Date\": \"7/24/2012\",\n",
    "            \"Order ID\": 905392587,\n",
    "            \"Ship Date\": \"8/16/2012\",\n",
    "            \"Units Sold\": 4641,\n",
    "            \"Unit Price\": 205.7,\n",
    "            \"Unit Cost\": 117.11,\n",
    "            \"Total Revenue\": 954653.7,\n",
    "            \"Total Cost\": 543507.51,\n",
    "            \"Total Profit\": 411146.19 },\n",
    "\n",
    "        {\n",
    "            \"Region\": \"Asia\",\n",
    "            \"Country\": \"Cambodia\",\n",
    "            \"Item Type\": \"Snacks\",\n",
    "            \"Sales Channel\": \"Online\",\n",
    "            \"Order Priority\": \"C\",\n",
    "            \"Order Date\": \"3/25/2012\",\n",
    "            \"Order ID\": 990708720,\n",
    "            \"Ship Date\": \"5/4/2012\",\n",
    "            \"Units Sold\": 1581,\n",
    "            \"Unit Price\": 152.58,\n",
    "            \"Unit Cost\": 97.44,\n",
    "            \"Total Revenue\": 241228.98,\n",
    "            \"Total Cost\": 154052.64,\n",
    "            \"Total Profit\": 87176.34 },\n",
    "    ];\n",
    "\n",
    "\n",
    "    $(\"#output\").pivotUI(\n",
    "        salesPivotData, {\n",
    "            rows: [\"Country\"],\n",
    "            cols: [],\n",
    "               renderers: $.extend(\n",
    "                   $.pivotUtilities.renderers,\n",
    "                   $.pivotUtilities.plotly_renderers,\n",
    "\n",
    "               )\n",
    "        });\n",
    "</script>\n",
    "</body>\n",
    "</html>"
   ]
  },
  {
   "cell_type": "code",
   "execution_count": 13,
   "metadata": {},
   "outputs": [
    {
     "data": {
      "text/html": [
       "<div>\n",
       "<style scoped>\n",
       "    .dataframe tbody tr th:only-of-type {\n",
       "        vertical-align: middle;\n",
       "    }\n",
       "\n",
       "    .dataframe tbody tr th {\n",
       "        vertical-align: top;\n",
       "    }\n",
       "\n",
       "    .dataframe thead th {\n",
       "        text-align: right;\n",
       "    }\n",
       "</style>\n",
       "<table border=\"1\" class=\"dataframe\">\n",
       "  <thead>\n",
       "    <tr style=\"text-align: right;\">\n",
       "      <th></th>\n",
       "      <th>Age Group</th>\n",
       "      <th>gender</th>\n",
       "      <th>ethnicity</th>\n",
       "      <th>Count</th>\n",
       "    </tr>\n",
       "  </thead>\n",
       "  <tbody>\n",
       "    <tr>\n",
       "      <th>0</th>\n",
       "      <td>20-24</td>\n",
       "      <td>f</td>\n",
       "      <td>m</td>\n",
       "      <td>12</td>\n",
       "    </tr>\n",
       "    <tr>\n",
       "      <th>1</th>\n",
       "      <td>20-24</td>\n",
       "      <td>m</td>\n",
       "      <td>m</td>\n",
       "      <td>10</td>\n",
       "    </tr>\n",
       "    <tr>\n",
       "      <th>2</th>\n",
       "      <td>25-29</td>\n",
       "      <td>f</td>\n",
       "      <td>o</td>\n",
       "      <td>22</td>\n",
       "    </tr>\n",
       "    <tr>\n",
       "      <th>3</th>\n",
       "      <td>25-29</td>\n",
       "      <td>m</td>\n",
       "      <td>o</td>\n",
       "      <td>20</td>\n",
       "    </tr>\n",
       "  </tbody>\n",
       "</table>\n",
       "</div>"
      ],
      "text/plain": [
       "  Age Group gender ethnicity  Count\n",
       "0     20-24      f         m     12\n",
       "1     20-24      m         m     10\n",
       "2     25-29      f         o     22\n",
       "3     25-29      m         o     20"
      ]
     },
     "execution_count": 13,
     "metadata": {},
     "output_type": "execute_result"
    }
   ],
   "source": [
    "import pandas as pd\n",
    "df = pd.read_excel(\"F:/Seagate Backup Plus Drive/test2.xlsx\")\n",
    "#df = pd.DataFrame([['Apple pie', '20'], ['Lemon cake', '30']], index=['row 1', 'row 2'], columns=['Product', 'Quantity'])\n",
    "df"
   ]
  },
  {
   "cell_type": "code",
   "execution_count": 1,
   "metadata": {},
   "outputs": [
    {
     "ename": "ImportError",
     "evalue": "\nThe plotly.plotly module is deprecated,\nplease install the chart-studio package and use the\nchart_studio.plotly module instead. \n",
     "output_type": "error",
     "traceback": [
      "\u001b[1;31m---------------------------------------------------------------------------\u001b[0m",
      "\u001b[1;31mImportError\u001b[0m                               Traceback (most recent call last)",
      "\u001b[1;32m<ipython-input-1-18ad7972aee5>\u001b[0m in \u001b[0;36m<module>\u001b[1;34m\u001b[0m\n\u001b[1;32m----> 1\u001b[1;33m \u001b[1;32mimport\u001b[0m \u001b[0mplotly\u001b[0m\u001b[1;33m.\u001b[0m\u001b[0mplotly\u001b[0m \u001b[1;32mas\u001b[0m \u001b[0mpy\u001b[0m\u001b[1;33m\u001b[0m\u001b[1;33m\u001b[0m\u001b[0m\n\u001b[0m\u001b[0;32m      2\u001b[0m \u001b[1;32mimport\u001b[0m \u001b[0mplotly\u001b[0m\u001b[1;33m.\u001b[0m\u001b[0mgraph_objs\u001b[0m \u001b[1;32mas\u001b[0m \u001b[0mgo\u001b[0m\u001b[1;33m\u001b[0m\u001b[1;33m\u001b[0m\u001b[0m\n\u001b[0;32m      3\u001b[0m \u001b[0mplotly\u001b[0m\u001b[1;33m.\u001b[0m\u001b[0mtools\u001b[0m\u001b[1;33m.\u001b[0m\u001b[0mset_credentials_file\u001b[0m\u001b[1;33m(\u001b[0m\u001b[0musername\u001b[0m\u001b[1;33m=\u001b[0m\u001b[1;34m'your_name'\u001b[0m\u001b[1;33m,\u001b[0m \u001b[0mapi_key\u001b[0m\u001b[1;33m=\u001b[0m\u001b[1;34m'your_keys'\u001b[0m\u001b[1;33m)\u001b[0m\u001b[1;33m\u001b[0m\u001b[1;33m\u001b[0m\u001b[0m\n\u001b[0;32m      4\u001b[0m \u001b[1;33m\u001b[0m\u001b[0m\n\u001b[0;32m      5\u001b[0m trace0 = go.Scatter(\n",
      "\u001b[1;32m~\\AppData\\Local\\Continuum\\anaconda3\\lib\\site-packages\\plotly\\plotly\\__init__.py\u001b[0m in \u001b[0;36m<module>\u001b[1;34m\u001b[0m\n\u001b[0;32m      2\u001b[0m \u001b[1;32mfrom\u001b[0m \u001b[0m_plotly_future_\u001b[0m \u001b[1;32mimport\u001b[0m \u001b[0m_chart_studio_error\u001b[0m\u001b[1;33m\u001b[0m\u001b[1;33m\u001b[0m\u001b[0m\n\u001b[0;32m      3\u001b[0m \u001b[1;33m\u001b[0m\u001b[0m\n\u001b[1;32m----> 4\u001b[1;33m \u001b[0m_chart_studio_error\u001b[0m\u001b[1;33m(\u001b[0m\u001b[1;34m\"plotly\"\u001b[0m\u001b[1;33m)\u001b[0m\u001b[1;33m\u001b[0m\u001b[1;33m\u001b[0m\u001b[0m\n\u001b[0m",
      "\u001b[1;32m~\\AppData\\Local\\Continuum\\anaconda3\\lib\\site-packages\\_plotly_future_\\__init__.py\u001b[0m in \u001b[0;36m_chart_studio_error\u001b[1;34m(submodule)\u001b[0m\n\u001b[0;32m     47\u001b[0m \u001b[0mchart_studio\u001b[0m\u001b[1;33m.\u001b[0m\u001b[1;33m{\u001b[0m\u001b[0msubmodule\u001b[0m\u001b[1;33m}\u001b[0m \u001b[0mmodule\u001b[0m \u001b[0minstead\u001b[0m\u001b[1;33m.\u001b[0m\u001b[1;33m\u001b[0m\u001b[1;33m\u001b[0m\u001b[0m\n\u001b[0;32m     48\u001b[0m \"\"\".format(\n\u001b[1;32m---> 49\u001b[1;33m             \u001b[0msubmodule\u001b[0m\u001b[1;33m=\u001b[0m\u001b[0msubmodule\u001b[0m\u001b[1;33m\u001b[0m\u001b[1;33m\u001b[0m\u001b[0m\n\u001b[0m\u001b[0;32m     50\u001b[0m         )\n\u001b[0;32m     51\u001b[0m     )\n",
      "\u001b[1;31mImportError\u001b[0m: \nThe plotly.plotly module is deprecated,\nplease install the chart-studio package and use the\nchart_studio.plotly module instead. \n"
     ]
    }
   ],
   "source": []
  },
  {
   "cell_type": "code",
   "execution_count": null,
   "metadata": {},
   "outputs": [],
   "source": []
  },
  {
   "cell_type": "code",
   "execution_count": null,
   "metadata": {},
   "outputs": [],
   "source": []
  }
 ],
 "metadata": {
  "hide_input": false,
  "kernelspec": {
   "display_name": "Python 3",
   "language": "python",
   "name": "python3"
  },
  "language_info": {
   "codemirror_mode": {
    "name": "ipython",
    "version": 3
   },
   "file_extension": ".py",
   "mimetype": "text/x-python",
   "name": "python",
   "nbconvert_exporter": "python",
   "pygments_lexer": "ipython3",
   "version": "3.7.3"
  },
  "latex_envs": {
   "LaTeX_envs_menu_present": false,
   "autoclose": false,
   "autocomplete": true,
   "bibliofile": "biblio.bib",
   "cite_by": "apalike",
   "current_citInitial": 1,
   "eqLabelWithNumbers": false,
   "eqNumInitial": 1,
   "hotkeys": {
    "equation": "Ctrl-E",
    "itemize": "Ctrl-I"
   },
   "labels_anchors": false,
   "latex_user_defs": false,
   "report_style_numbering": false,
   "user_envs_cfg": false
  },
  "toc": {
   "base_numbering": 1,
   "nav_menu": {},
   "number_sections": true,
   "sideBar": true,
   "skip_h1_title": false,
   "title_cell": "Table of Contents",
   "title_sidebar": "Contents",
   "toc_cell": true,
   "toc_position": {},
   "toc_section_display": true,
   "toc_window_display": false
  }
 },
 "nbformat": 4,
 "nbformat_minor": 4
}
